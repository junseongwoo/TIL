{
 "metadata": {
  "language_info": {
   "codemirror_mode": {
    "name": "ipython",
    "version": 3
   },
   "file_extension": ".py",
   "mimetype": "text/x-python",
   "name": "python",
   "nbconvert_exporter": "python",
   "pygments_lexer": "ipython3",
   "version": "3.9.5"
  },
  "orig_nbformat": 4,
  "kernelspec": {
   "name": "python3",
   "display_name": "Python 3.9.5 64-bit ('venv': venv)"
  },
  "interpreter": {
   "hash": "7bb547a71273723496801ba8d5c67702ef0837f2b218b3f175a648afb4e114e5"
  }
 },
 "nbformat": 4,
 "nbformat_minor": 2,
 "cells": [
  {
   "source": [
    "## cnn_cifar10.ipynb"
   ],
   "cell_type": "markdown",
   "metadata": {}
  },
  {
   "cell_type": "code",
   "execution_count": 1,
   "metadata": {},
   "outputs": [],
   "source": [
    "import torch\n",
    "import torch.nn as nn\n",
    "import numpy as np\n",
    "import matplotlib.pyplot as plt"
   ]
  },
  {
   "cell_type": "code",
   "execution_count": 2,
   "metadata": {},
   "outputs": [],
   "source": [
    "import torchvision"
   ]
  },
  {
   "cell_type": "code",
   "execution_count": 7,
   "metadata": {},
   "outputs": [
    {
     "output_type": "stream",
     "name": "stdout",
     "text": [
      "Downloading https://www.cs.toronto.edu/~kriz/cifar-10-python.tar.gz to ./data\\cifar-10-python.tar.gz\n",
      "170499072it [01:08, 2494761.15it/s]                               \n",
      "Extracting ./data\\cifar-10-python.tar.gz to ./data\n"
     ]
    }
   ],
   "source": [
    "trainset = torchvision.datasets.CIFAR10(\n",
    "    root = \"./data\",\n",
    "    train = True,\n",
    "    download= True,\n",
    "    transform = torchvision.transforms.ToTensor()\n",
    ")"
   ]
  },
  {
   "cell_type": "code",
   "execution_count": 8,
   "metadata": {},
   "outputs": [],
   "source": [
    "classes = (\n",
    "    \"airplane\",\n",
    "    \"automobile\",\n",
    "    \"bird\",\n",
    "    \"cat\",\n",
    "    \"deer\",\n",
    "    \"dog\",\n",
    "    \"frog\",\n",
    "    \"horse\",\n",
    "    \"ship\",\n",
    "    \"truck\"\n",
    ")"
   ]
  },
  {
   "cell_type": "code",
   "execution_count": 9,
   "metadata": {},
   "outputs": [
    {
     "output_type": "execute_result",
     "data": {
      "text/plain": [
       "torchvision.datasets.cifar.CIFAR10"
      ]
     },
     "metadata": {},
     "execution_count": 9
    }
   ],
   "source": [
    "type(trainset)"
   ]
  },
  {
   "cell_type": "code",
   "execution_count": 10,
   "metadata": {},
   "outputs": [],
   "source": [
    "trainloader = torch.utils.data.DataLoader(trainset)"
   ]
  },
  {
   "cell_type": "code",
   "execution_count": 11,
   "metadata": {},
   "outputs": [
    {
     "output_type": "execute_result",
     "data": {
      "text/plain": [
       "torch.utils.data.dataloader.DataLoader"
      ]
     },
     "metadata": {},
     "execution_count": 11
    }
   ],
   "source": [
    "type(trainloader)"
   ]
  },
  {
   "cell_type": "code",
   "execution_count": 12,
   "metadata": {},
   "outputs": [
    {
     "output_type": "execute_result",
     "data": {
      "text/plain": [
       "torch.utils.data.dataloader._SingleProcessDataLoaderIter"
      ]
     },
     "metadata": {},
     "execution_count": 12
    }
   ],
   "source": [
    "data_iter = iter(trainloader)\n",
    "type(data_iter)"
   ]
  },
  {
   "cell_type": "code",
   "execution_count": 30,
   "metadata": {},
   "outputs": [
    {
     "output_type": "stream",
     "name": "stdout",
     "text": [
      "torch.Size([1, 3, 32, 32])\n9\n"
     ]
    }
   ],
   "source": [
    "images, labels = data_iter.next()\n",
    "print(images.shape)\n",
    "print(labels.item())"
   ]
  },
  {
   "cell_type": "code",
   "execution_count": 18,
   "metadata": {},
   "outputs": [],
   "source": [
    "# (1, 3, 32, 32)\n",
    "# 1 : Batch Size\n",
    "# 3 : channel in input\n",
    "# 32, 32 : image의 크기"
   ]
  },
  {
   "cell_type": "code",
   "execution_count": 31,
   "metadata": {},
   "outputs": [
    {
     "output_type": "execute_result",
     "data": {
      "text/plain": [
       "'truck'"
      ]
     },
     "metadata": {},
     "execution_count": 31
    }
   ],
   "source": [
    "classes[labels.item()]"
   ]
  },
  {
   "cell_type": "code",
   "execution_count": 49,
   "metadata": {},
   "outputs": [
    {
     "output_type": "stream",
     "name": "stdout",
     "text": [
      "torch.Size([4, 3, 32, 32])\n"
     ]
    }
   ],
   "source": [
    "trainloader = torch.utils.data.DataLoader(\n",
    "    trainset,\n",
    "    batch_size = 4,\n",
    "    shuffle = True\n",
    ")\n",
    "\n",
    "data_iter = iter(trainloader)\n",
    "images, labels = data_iter.next()\n",
    "print(images.shape)"
   ]
  },
  {
   "cell_type": "code",
   "execution_count": 50,
   "metadata": {},
   "outputs": [
    {
     "output_type": "execute_result",
     "data": {
      "text/plain": [
       "tensor([6, 4, 0, 3])"
      ]
     },
     "metadata": {},
     "execution_count": 50
    }
   ],
   "source": [
    "labels"
   ]
  },
  {
   "cell_type": "code",
   "execution_count": 51,
   "metadata": {},
   "outputs": [
    {
     "output_type": "execute_result",
     "data": {
      "text/plain": [
       "torch.Size([3, 32, 32])"
      ]
     },
     "metadata": {},
     "execution_count": 51
    }
   ],
   "source": [
    "image_data = images[0]\n",
    "image_data.shape"
   ]
  },
  {
   "cell_type": "code",
   "execution_count": 42,
   "metadata": {},
   "outputs": [
    {
     "output_type": "execute_result",
     "data": {
      "text/plain": [
       "torch.Tensor"
      ]
     },
     "metadata": {},
     "execution_count": 42
    }
   ],
   "source": [
    "type(image_data)"
   ]
  },
  {
   "cell_type": "code",
   "execution_count": 43,
   "metadata": {},
   "outputs": [
    {
     "output_type": "execute_result",
     "data": {
      "text/plain": [
       "tensor([[[0.5373, 0.5451, 0.5529,  ..., 0.6627, 0.6275, 0.6275],\n",
       "         [0.5216, 0.5255, 0.5255,  ..., 0.6039, 0.5843, 0.6000],\n",
       "         [0.5255, 0.5294, 0.5294,  ..., 0.6078, 0.6039, 0.5725],\n",
       "         ...,\n",
       "         [0.7765, 0.7725, 0.7490,  ..., 0.5333, 0.5412, 0.5490],\n",
       "         [0.7647, 0.7529, 0.7412,  ..., 0.5451, 0.5529, 0.5608],\n",
       "         [0.7373, 0.7529, 0.7725,  ..., 0.5647, 0.5686, 0.5686]],\n",
       "\n",
       "        [[0.5412, 0.5490, 0.5569,  ..., 0.6745, 0.6392, 0.6431],\n",
       "         [0.5255, 0.5294, 0.5294,  ..., 0.6157, 0.5961, 0.6118],\n",
       "         [0.5255, 0.5294, 0.5294,  ..., 0.6235, 0.6157, 0.5843],\n",
       "         ...,\n",
       "         [0.8078, 0.8039, 0.7765,  ..., 0.5333, 0.5451, 0.5529],\n",
       "         [0.7922, 0.7804, 0.7608,  ..., 0.5490, 0.5569, 0.5647],\n",
       "         [0.7647, 0.7804, 0.8000,  ..., 0.5686, 0.5725, 0.5725]],\n",
       "\n",
       "        [[0.5137, 0.5216, 0.5294,  ..., 0.5922, 0.5608, 0.5608],\n",
       "         [0.5059, 0.5098, 0.5098,  ..., 0.5373, 0.5294, 0.5451],\n",
       "         [0.5137, 0.5176, 0.5176,  ..., 0.5373, 0.5373, 0.5137],\n",
       "         ...,\n",
       "         [0.6431, 0.6392, 0.6275,  ..., 0.5098, 0.5176, 0.5255],\n",
       "         [0.6314, 0.6235, 0.6235,  ..., 0.5255, 0.5333, 0.5333],\n",
       "         [0.6039, 0.6196, 0.6471,  ..., 0.5451, 0.5451, 0.5412]]])"
      ]
     },
     "metadata": {},
     "execution_count": 43
    }
   ],
   "source": [
    "image_data"
   ]
  },
  {
   "cell_type": "code",
   "execution_count": 52,
   "metadata": {},
   "outputs": [],
   "source": [
    "np_image = image_data.numpy()"
   ]
  },
  {
   "cell_type": "code",
   "execution_count": 53,
   "metadata": {},
   "outputs": [
    {
     "output_type": "execute_result",
     "data": {
      "text/plain": [
       "(3, 32, 32)"
      ]
     },
     "metadata": {},
     "execution_count": 53
    }
   ],
   "source": [
    "np_image.shape"
   ]
  },
  {
   "cell_type": "code",
   "execution_count": 55,
   "metadata": {},
   "outputs": [],
   "source": [
    "np_image = np.transpose(np_image, (1, 2, 0))"
   ]
  },
  {
   "cell_type": "code",
   "execution_count": 56,
   "metadata": {},
   "outputs": [
    {
     "output_type": "execute_result",
     "data": {
      "text/plain": [
       "(32, 32, 3)"
      ]
     },
     "metadata": {},
     "execution_count": 56
    }
   ],
   "source": [
    "np_image.shape"
   ]
  },
  {
   "cell_type": "code",
   "execution_count": 57,
   "metadata": {},
   "outputs": [
    {
     "output_type": "display_data",
     "data": {
      "text/plain": "<Figure size 144x144 with 1 Axes>",
      "image/svg+xml": "<?xml version=\"1.0\" encoding=\"utf-8\" standalone=\"no\"?>\r\n<!DOCTYPE svg PUBLIC \"-//W3C//DTD SVG 1.1//EN\"\r\n  \"http://www.w3.org/Graphics/SVG/1.1/DTD/svg11.dtd\">\r\n<svg height=\"141.898594pt\" version=\"1.1\" viewBox=\"0 0 142.845 141.898594\" width=\"142.845pt\" xmlns=\"http://www.w3.org/2000/svg\" xmlns:xlink=\"http://www.w3.org/1999/xlink\">\r\n <metadata>\r\n  <rdf:RDF xmlns:cc=\"http://creativecommons.org/ns#\" xmlns:dc=\"http://purl.org/dc/elements/1.1/\" xmlns:rdf=\"http://www.w3.org/1999/02/22-rdf-syntax-ns#\">\r\n   <cc:Work>\r\n    <dc:type rdf:resource=\"http://purl.org/dc/dcmitype/StillImage\"/>\r\n    <dc:date>2021-06-26T15:30:14.530501</dc:date>\r\n    <dc:format>image/svg+xml</dc:format>\r\n    <dc:creator>\r\n     <cc:Agent>\r\n      <dc:title>Matplotlib v3.4.2, https://matplotlib.org/</dc:title>\r\n     </cc:Agent>\r\n    </dc:creator>\r\n   </cc:Work>\r\n  </rdf:RDF>\r\n </metadata>\r\n <defs>\r\n  <style type=\"text/css\">*{stroke-linecap:butt;stroke-linejoin:round;}</style>\r\n </defs>\r\n <g id=\"figure_1\">\r\n  <g id=\"patch_1\">\r\n   <path d=\"M 0 141.898594 \r\nL 142.845 141.898594 \r\nL 142.845 0 \r\nL 0 0 \r\nz\r\n\" style=\"fill:none;\"/>\r\n  </g>\r\n  <g id=\"axes_1\">\r\n   <g id=\"patch_2\">\r\n    <path d=\"M 26.925 118.020469 \r\nL 135.645 118.020469 \r\nL 135.645 9.300469 \r\nL 26.925 9.300469 \r\nz\r\n\" style=\"fill:#ffffff;\"/>\r\n   </g>\r\n   <g clip-path=\"url(#pc0b7c901c5)\">\r\n    <image height=\"109\" id=\"imagec9ab661b37\" transform=\"scale(1 -1)translate(0 -109)\" width=\"109\" x=\"26.925\" xlink:href=\"data:image/png;base64,\r\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\" y=\"-9.020469\"/>\r\n   </g>\r\n   <g id=\"matplotlib.axis_1\">\r\n    <g id=\"xtick_1\">\r\n     <g id=\"line2d_1\">\r\n      <defs>\r\n       <path d=\"M 0 0 \r\nL 0 3.5 \r\n\" id=\"m65f1666f57\" style=\"stroke:#000000;stroke-width:0.8;\"/>\r\n      </defs>\r\n      <g>\r\n       <use style=\"stroke:#000000;stroke-width:0.8;\" x=\"28.62375\" xlink:href=\"#m65f1666f57\" y=\"118.020469\"/>\r\n      </g>\r\n     </g>\r\n     <g id=\"text_1\">\r\n      <!-- 0 -->\r\n      <g transform=\"translate(25.4425 132.618906)scale(0.1 -0.1)\">\r\n       <defs>\r\n        <path d=\"M 2034 4250 \r\nQ 1547 4250 1301 3770 \r\nQ 1056 3291 1056 2328 \r\nQ 1056 1369 1301 889 \r\nQ 1547 409 2034 409 \r\nQ 2525 409 2770 889 \r\nQ 3016 1369 3016 2328 \r\nQ 3016 3291 2770 3770 \r\nQ 2525 4250 2034 4250 \r\nz\r\nM 2034 4750 \r\nQ 2819 4750 3233 4129 \r\nQ 3647 3509 3647 2328 \r\nQ 3647 1150 3233 529 \r\nQ 2819 -91 2034 -91 \r\nQ 1250 -91 836 529 \r\nQ 422 1150 422 2328 \r\nQ 422 3509 836 4129 \r\nQ 1250 4750 2034 4750 \r\nz\r\n\" id=\"DejaVuSans-30\" transform=\"scale(0.015625)\"/>\r\n       </defs>\r\n       <use xlink:href=\"#DejaVuSans-30\"/>\r\n      </g>\r\n     </g>\r\n    </g>\r\n    <g id=\"xtick_2\">\r\n     <g id=\"line2d_2\">\r\n      <g>\r\n       <use style=\"stroke:#000000;stroke-width:0.8;\" x=\"96.57375\" xlink:href=\"#m65f1666f57\" y=\"118.020469\"/>\r\n      </g>\r\n     </g>\r\n     <g id=\"text_2\">\r\n      <!-- 20 -->\r\n      <g transform=\"translate(90.21125 132.618906)scale(0.1 -0.1)\">\r\n       <defs>\r\n        <path d=\"M 1228 531 \r\nL 3431 531 \r\nL 3431 0 \r\nL 469 0 \r\nL 469 531 \r\nQ 828 903 1448 1529 \r\nQ 2069 2156 2228 2338 \r\nQ 2531 2678 2651 2914 \r\nQ 2772 3150 2772 3378 \r\nQ 2772 3750 2511 3984 \r\nQ 2250 4219 1831 4219 \r\nQ 1534 4219 1204 4116 \r\nQ 875 4013 500 3803 \r\nL 500 4441 \r\nQ 881 4594 1212 4672 \r\nQ 1544 4750 1819 4750 \r\nQ 2544 4750 2975 4387 \r\nQ 3406 4025 3406 3419 \r\nQ 3406 3131 3298 2873 \r\nQ 3191 2616 2906 2266 \r\nQ 2828 2175 2409 1742 \r\nQ 1991 1309 1228 531 \r\nz\r\n\" id=\"DejaVuSans-32\" transform=\"scale(0.015625)\"/>\r\n       </defs>\r\n       <use xlink:href=\"#DejaVuSans-32\"/>\r\n       <use x=\"63.623047\" xlink:href=\"#DejaVuSans-30\"/>\r\n      </g>\r\n     </g>\r\n    </g>\r\n   </g>\r\n   <g id=\"matplotlib.axis_2\">\r\n    <g id=\"ytick_1\">\r\n     <g id=\"line2d_3\">\r\n      <defs>\r\n       <path d=\"M 0 0 \r\nL -3.5 0 \r\n\" id=\"mcdc47f769e\" style=\"stroke:#000000;stroke-width:0.8;\"/>\r\n      </defs>\r\n      <g>\r\n       <use style=\"stroke:#000000;stroke-width:0.8;\" x=\"26.925\" xlink:href=\"#mcdc47f769e\" y=\"10.999219\"/>\r\n      </g>\r\n     </g>\r\n     <g id=\"text_3\">\r\n      <!-- 0 -->\r\n      <g transform=\"translate(13.5625 14.798437)scale(0.1 -0.1)\">\r\n       <use xlink:href=\"#DejaVuSans-30\"/>\r\n      </g>\r\n     </g>\r\n    </g>\r\n    <g id=\"ytick_2\">\r\n     <g id=\"line2d_4\">\r\n      <g>\r\n       <use style=\"stroke:#000000;stroke-width:0.8;\" x=\"26.925\" xlink:href=\"#mcdc47f769e\" y=\"44.974219\"/>\r\n      </g>\r\n     </g>\r\n     <g id=\"text_4\">\r\n      <!-- 10 -->\r\n      <g transform=\"translate(7.2 48.773437)scale(0.1 -0.1)\">\r\n       <defs>\r\n        <path d=\"M 794 531 \r\nL 1825 531 \r\nL 1825 4091 \r\nL 703 3866 \r\nL 703 4441 \r\nL 1819 4666 \r\nL 2450 4666 \r\nL 2450 531 \r\nL 3481 531 \r\nL 3481 0 \r\nL 794 0 \r\nL 794 531 \r\nz\r\n\" id=\"DejaVuSans-31\" transform=\"scale(0.015625)\"/>\r\n       </defs>\r\n       <use xlink:href=\"#DejaVuSans-31\"/>\r\n       <use x=\"63.623047\" xlink:href=\"#DejaVuSans-30\"/>\r\n      </g>\r\n     </g>\r\n    </g>\r\n    <g id=\"ytick_3\">\r\n     <g id=\"line2d_5\">\r\n      <g>\r\n       <use style=\"stroke:#000000;stroke-width:0.8;\" x=\"26.925\" xlink:href=\"#mcdc47f769e\" y=\"78.949219\"/>\r\n      </g>\r\n     </g>\r\n     <g id=\"text_5\">\r\n      <!-- 20 -->\r\n      <g transform=\"translate(7.2 82.748437)scale(0.1 -0.1)\">\r\n       <use xlink:href=\"#DejaVuSans-32\"/>\r\n       <use x=\"63.623047\" xlink:href=\"#DejaVuSans-30\"/>\r\n      </g>\r\n     </g>\r\n    </g>\r\n    <g id=\"ytick_4\">\r\n     <g id=\"line2d_6\">\r\n      <g>\r\n       <use style=\"stroke:#000000;stroke-width:0.8;\" x=\"26.925\" xlink:href=\"#mcdc47f769e\" y=\"112.924219\"/>\r\n      </g>\r\n     </g>\r\n     <g id=\"text_6\">\r\n      <!-- 30 -->\r\n      <g transform=\"translate(7.2 116.723437)scale(0.1 -0.1)\">\r\n       <defs>\r\n        <path d=\"M 2597 2516 \r\nQ 3050 2419 3304 2112 \r\nQ 3559 1806 3559 1356 \r\nQ 3559 666 3084 287 \r\nQ 2609 -91 1734 -91 \r\nQ 1441 -91 1130 -33 \r\nQ 819 25 488 141 \r\nL 488 750 \r\nQ 750 597 1062 519 \r\nQ 1375 441 1716 441 \r\nQ 2309 441 2620 675 \r\nQ 2931 909 2931 1356 \r\nQ 2931 1769 2642 2001 \r\nQ 2353 2234 1838 2234 \r\nL 1294 2234 \r\nL 1294 2753 \r\nL 1863 2753 \r\nQ 2328 2753 2575 2939 \r\nQ 2822 3125 2822 3475 \r\nQ 2822 3834 2567 4026 \r\nQ 2313 4219 1838 4219 \r\nQ 1578 4219 1281 4162 \r\nQ 984 4106 628 3988 \r\nL 628 4550 \r\nQ 988 4650 1302 4700 \r\nQ 1616 4750 1894 4750 \r\nQ 2613 4750 3031 4423 \r\nQ 3450 4097 3450 3541 \r\nQ 3450 3153 3228 2886 \r\nQ 3006 2619 2597 2516 \r\nz\r\n\" id=\"DejaVuSans-33\" transform=\"scale(0.015625)\"/>\r\n       </defs>\r\n       <use xlink:href=\"#DejaVuSans-33\"/>\r\n       <use x=\"63.623047\" xlink:href=\"#DejaVuSans-30\"/>\r\n      </g>\r\n     </g>\r\n    </g>\r\n   </g>\r\n   <g id=\"patch_3\">\r\n    <path d=\"M 26.925 118.020469 \r\nL 26.925 9.300469 \r\n\" style=\"fill:none;stroke:#000000;stroke-linecap:square;stroke-linejoin:miter;stroke-width:0.8;\"/>\r\n   </g>\r\n   <g id=\"patch_4\">\r\n    <path d=\"M 135.645 118.020469 \r\nL 135.645 9.300469 \r\n\" style=\"fill:none;stroke:#000000;stroke-linecap:square;stroke-linejoin:miter;stroke-width:0.8;\"/>\r\n   </g>\r\n   <g id=\"patch_5\">\r\n    <path d=\"M 26.925 118.020469 \r\nL 135.645 118.020469 \r\n\" style=\"fill:none;stroke:#000000;stroke-linecap:square;stroke-linejoin:miter;stroke-width:0.8;\"/>\r\n   </g>\r\n   <g id=\"patch_6\">\r\n    <path d=\"M 26.925 9.300469 \r\nL 135.645 9.300469 \r\n\" style=\"fill:none;stroke:#000000;stroke-linecap:square;stroke-linejoin:miter;stroke-width:0.8;\"/>\r\n   </g>\r\n  </g>\r\n </g>\r\n <defs>\r\n  <clipPath id=\"pc0b7c901c5\">\r\n   <rect height=\"108.72\" width=\"108.72\" x=\"26.925\" y=\"9.300469\"/>\r\n  </clipPath>\r\n </defs>\r\n</svg>\r\n",
      "image/png": "[encoded data removed]"
     },
     "metadata": {
      "needs_background": "light"
     }
    }
   ],
   "source": [
    "plt.figure(figsize = (2, 2))\n",
    "plt.imshow(np_image)\n",
    "plt.show()"
   ]
  },
  {
   "cell_type": "code",
   "execution_count": 58,
   "metadata": {},
   "outputs": [
    {
     "output_type": "stream",
     "name": "stdout",
     "text": [
      "frog\n"
     ]
    }
   ],
   "source": [
    "print(classes[labels[0].item()])"
   ]
  },
  {
   "cell_type": "code",
   "execution_count": 62,
   "metadata": {},
   "outputs": [],
   "source": [
    "def image_show(image_data, label):\n",
    "    np_image = image_data.numpy()\n",
    "    np_image = np.transpose(np_image, (1, 2, 0))\n",
    "    plt.figure(figsize = (2, 2))\n",
    "    plt.imshow(np_image)\n",
    "    plt.title(label)\n",
    "    plt.show()"
   ]
  },
  {
   "cell_type": "code",
   "execution_count": 63,
   "metadata": {},
   "outputs": [
    {
     "output_type": "display_data",
     "data": {
      "text/plain": "<Figure size 144x144 with 1 Axes>",
      "image/svg+xml": "<?xml version=\"1.0\" encoding=\"utf-8\" standalone=\"no\"?>\r\n<!DOCTYPE svg PUBLIC \"-//W3C//DTD SVG 1.1//EN\"\r\n  \"http://www.w3.org/Graphics/SVG/1.1/DTD/svg11.dtd\">\r\n<svg height=\"154.91625pt\" version=\"1.1\" viewBox=\"0 0 142.845 154.91625\" width=\"142.845pt\" xmlns=\"http://www.w3.org/2000/svg\" xmlns:xlink=\"http://www.w3.org/1999/xlink\">\r\n <metadata>\r\n  <rdf:RDF xmlns:cc=\"http://creativecommons.org/ns#\" xmlns:dc=\"http://purl.org/dc/elements/1.1/\" xmlns:rdf=\"http://www.w3.org/1999/02/22-rdf-syntax-ns#\">\r\n   <cc:Work>\r\n    <dc:type rdf:resource=\"http://purl.org/dc/dcmitype/StillImage\"/>\r\n    <dc:date>2021-06-26T15:33:21.085412</dc:date>\r\n    <dc:format>image/svg+xml</dc:format>\r\n    <dc:creator>\r\n     <cc:Agent>\r\n      <dc:title>Matplotlib v3.4.2, https://matplotlib.org/</dc:title>\r\n     </cc:Agent>\r\n    </dc:creator>\r\n   </cc:Work>\r\n  </rdf:RDF>\r\n </metadata>\r\n <defs>\r\n  <style type=\"text/css\">*{stroke-linecap:butt;stroke-linejoin:round;}</style>\r\n </defs>\r\n <g id=\"figure_1\">\r\n  <g id=\"patch_1\">\r\n   <path d=\"M 0 154.91625 \r\nL 142.845 154.91625 \r\nL 142.845 0 \r\nL 0 0 \r\nz\r\n\" style=\"fill:none;\"/>\r\n  </g>\r\n  <g id=\"axes_1\">\r\n   <g id=\"patch_2\">\r\n    <path d=\"M 26.925 131.038125 \r\nL 135.645 131.038125 \r\nL 135.645 22.318125 \r\nL 26.925 22.318125 \r\nz\r\n\" style=\"fill:#ffffff;\"/>\r\n   </g>\r\n   <g clip-path=\"url(#p8652f09265)\">\r\n    <image height=\"109\" id=\"imagea88fed56fb\" transform=\"scale(1 -1)translate(0 -109)\" width=\"109\" x=\"26.925\" xlink:href=\"data:image/png;base64,\r\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\" y=\"-22.038125\"/>\r\n   </g>\r\n   <g id=\"matplotlib.axis_1\">\r\n    <g id=\"xtick_1\">\r\n     <g id=\"line2d_1\">\r\n      <defs>\r\n       <path d=\"M 0 0 \r\nL 0 3.5 \r\n\" id=\"m936ffbdb3a\" style=\"stroke:#000000;stroke-width:0.8;\"/>\r\n      </defs>\r\n      <g>\r\n       <use style=\"stroke:#000000;stroke-width:0.8;\" x=\"28.62375\" xlink:href=\"#m936ffbdb3a\" y=\"131.038125\"/>\r\n      </g>\r\n     </g>\r\n     <g id=\"text_1\">\r\n      <!-- 0 -->\r\n      <g transform=\"translate(25.4425 145.636562)scale(0.1 -0.1)\">\r\n       <defs>\r\n        <path d=\"M 2034 4250 \r\nQ 1547 4250 1301 3770 \r\nQ 1056 3291 1056 2328 \r\nQ 1056 1369 1301 889 \r\nQ 1547 409 2034 409 \r\nQ 2525 409 2770 889 \r\nQ 3016 1369 3016 2328 \r\nQ 3016 3291 2770 3770 \r\nQ 2525 4250 2034 4250 \r\nz\r\nM 2034 4750 \r\nQ 2819 4750 3233 4129 \r\nQ 3647 3509 3647 2328 \r\nQ 3647 1150 3233 529 \r\nQ 2819 -91 2034 -91 \r\nQ 1250 -91 836 529 \r\nQ 422 1150 422 2328 \r\nQ 422 3509 836 4129 \r\nQ 1250 4750 2034 4750 \r\nz\r\n\" id=\"DejaVuSans-30\" transform=\"scale(0.015625)\"/>\r\n       </defs>\r\n       <use xlink:href=\"#DejaVuSans-30\"/>\r\n      </g>\r\n     </g>\r\n    </g>\r\n    <g id=\"xtick_2\">\r\n     <g id=\"line2d_2\">\r\n      <g>\r\n       <use style=\"stroke:#000000;stroke-width:0.8;\" x=\"96.57375\" xlink:href=\"#m936ffbdb3a\" y=\"131.038125\"/>\r\n      </g>\r\n     </g>\r\n     <g id=\"text_2\">\r\n      <!-- 20 -->\r\n      <g transform=\"translate(90.21125 145.636562)scale(0.1 -0.1)\">\r\n       <defs>\r\n        <path d=\"M 1228 531 \r\nL 3431 531 \r\nL 3431 0 \r\nL 469 0 \r\nL 469 531 \r\nQ 828 903 1448 1529 \r\nQ 2069 2156 2228 2338 \r\nQ 2531 2678 2651 2914 \r\nQ 2772 3150 2772 3378 \r\nQ 2772 3750 2511 3984 \r\nQ 2250 4219 1831 4219 \r\nQ 1534 4219 1204 4116 \r\nQ 875 4013 500 3803 \r\nL 500 4441 \r\nQ 881 4594 1212 4672 \r\nQ 1544 4750 1819 4750 \r\nQ 2544 4750 2975 4387 \r\nQ 3406 4025 3406 3419 \r\nQ 3406 3131 3298 2873 \r\nQ 3191 2616 2906 2266 \r\nQ 2828 2175 2409 1742 \r\nQ 1991 1309 1228 531 \r\nz\r\n\" id=\"DejaVuSans-32\" transform=\"scale(0.015625)\"/>\r\n       </defs>\r\n       <use xlink:href=\"#DejaVuSans-32\"/>\r\n       <use x=\"63.623047\" xlink:href=\"#DejaVuSans-30\"/>\r\n      </g>\r\n     </g>\r\n    </g>\r\n   </g>\r\n   <g id=\"matplotlib.axis_2\">\r\n    <g id=\"ytick_1\">\r\n     <g id=\"line2d_3\">\r\n      <defs>\r\n       <path d=\"M 0 0 \r\nL -3.5 0 \r\n\" id=\"m07c12daed3\" style=\"stroke:#000000;stroke-width:0.8;\"/>\r\n      </defs>\r\n      <g>\r\n       <use style=\"stroke:#000000;stroke-width:0.8;\" x=\"26.925\" xlink:href=\"#m07c12daed3\" y=\"24.016875\"/>\r\n      </g>\r\n     </g>\r\n     <g id=\"text_3\">\r\n      <!-- 0 -->\r\n      <g transform=\"translate(13.5625 27.816094)scale(0.1 -0.1)\">\r\n       <use xlink:href=\"#DejaVuSans-30\"/>\r\n      </g>\r\n     </g>\r\n    </g>\r\n    <g id=\"ytick_2\">\r\n     <g id=\"line2d_4\">\r\n      <g>\r\n       <use style=\"stroke:#000000;stroke-width:0.8;\" x=\"26.925\" xlink:href=\"#m07c12daed3\" y=\"57.991875\"/>\r\n      </g>\r\n     </g>\r\n     <g id=\"text_4\">\r\n      <!-- 10 -->\r\n      <g transform=\"translate(7.2 61.791094)scale(0.1 -0.1)\">\r\n       <defs>\r\n        <path d=\"M 794 531 \r\nL 1825 531 \r\nL 1825 4091 \r\nL 703 3866 \r\nL 703 4441 \r\nL 1819 4666 \r\nL 2450 4666 \r\nL 2450 531 \r\nL 3481 531 \r\nL 3481 0 \r\nL 794 0 \r\nL 794 531 \r\nz\r\n\" id=\"DejaVuSans-31\" transform=\"scale(0.015625)\"/>\r\n       </defs>\r\n       <use xlink:href=\"#DejaVuSans-31\"/>\r\n       <use x=\"63.623047\" xlink:href=\"#DejaVuSans-30\"/>\r\n      </g>\r\n     </g>\r\n    </g>\r\n    <g id=\"ytick_3\">\r\n     <g id=\"line2d_5\">\r\n      <g>\r\n       <use style=\"stroke:#000000;stroke-width:0.8;\" x=\"26.925\" xlink:href=\"#m07c12daed3\" y=\"91.966875\"/>\r\n      </g>\r\n     </g>\r\n     <g id=\"text_5\">\r\n      <!-- 20 -->\r\n      <g transform=\"translate(7.2 95.766094)scale(0.1 -0.1)\">\r\n       <use xlink:href=\"#DejaVuSans-32\"/>\r\n       <use x=\"63.623047\" xlink:href=\"#DejaVuSans-30\"/>\r\n      </g>\r\n     </g>\r\n    </g>\r\n    <g id=\"ytick_4\">\r\n     <g id=\"line2d_6\">\r\n      <g>\r\n       <use style=\"stroke:#000000;stroke-width:0.8;\" x=\"26.925\" xlink:href=\"#m07c12daed3\" y=\"125.941875\"/>\r\n      </g>\r\n     </g>\r\n     <g id=\"text_6\">\r\n      <!-- 30 -->\r\n      <g transform=\"translate(7.2 129.741094)scale(0.1 -0.1)\">\r\n       <defs>\r\n        <path d=\"M 2597 2516 \r\nQ 3050 2419 3304 2112 \r\nQ 3559 1806 3559 1356 \r\nQ 3559 666 3084 287 \r\nQ 2609 -91 1734 -91 \r\nQ 1441 -91 1130 -33 \r\nQ 819 25 488 141 \r\nL 488 750 \r\nQ 750 597 1062 519 \r\nQ 1375 441 1716 441 \r\nQ 2309 441 2620 675 \r\nQ 2931 909 2931 1356 \r\nQ 2931 1769 2642 2001 \r\nQ 2353 2234 1838 2234 \r\nL 1294 2234 \r\nL 1294 2753 \r\nL 1863 2753 \r\nQ 2328 2753 2575 2939 \r\nQ 2822 3125 2822 3475 \r\nQ 2822 3834 2567 4026 \r\nQ 2313 4219 1838 4219 \r\nQ 1578 4219 1281 4162 \r\nQ 984 4106 628 3988 \r\nL 628 4550 \r\nQ 988 4650 1302 4700 \r\nQ 1616 4750 1894 4750 \r\nQ 2613 4750 3031 4423 \r\nQ 3450 4097 3450 3541 \r\nQ 3450 3153 3228 2886 \r\nQ 3006 2619 2597 2516 \r\nz\r\n\" id=\"DejaVuSans-33\" transform=\"scale(0.015625)\"/>\r\n       </defs>\r\n       <use xlink:href=\"#DejaVuSans-33\"/>\r\n       <use x=\"63.623047\" xlink:href=\"#DejaVuSans-30\"/>\r\n      </g>\r\n     </g>\r\n    </g>\r\n   </g>\r\n   <g id=\"patch_3\">\r\n    <path d=\"M 26.925 131.038125 \r\nL 26.925 22.318125 \r\n\" style=\"fill:none;stroke:#000000;stroke-linecap:square;stroke-linejoin:miter;stroke-width:0.8;\"/>\r\n   </g>\r\n   <g id=\"patch_4\">\r\n    <path d=\"M 135.645 131.038125 \r\nL 135.645 22.318125 \r\n\" style=\"fill:none;stroke:#000000;stroke-linecap:square;stroke-linejoin:miter;stroke-width:0.8;\"/>\r\n   </g>\r\n   <g id=\"patch_5\">\r\n    <path d=\"M 26.925 131.038125 \r\nL 135.645 131.038125 \r\n\" style=\"fill:none;stroke:#000000;stroke-linecap:square;stroke-linejoin:miter;stroke-width:0.8;\"/>\r\n   </g>\r\n   <g id=\"patch_6\">\r\n    <path d=\"M 26.925 22.318125 \r\nL 135.645 22.318125 \r\n\" style=\"fill:none;stroke:#000000;stroke-linecap:square;stroke-linejoin:miter;stroke-width:0.8;\"/>\r\n   </g>\r\n   <g id=\"text_7\">\r\n    <!-- deer -->\r\n    <g transform=\"translate(67.625625 16.318125)scale(0.12 -0.12)\">\r\n     <defs>\r\n      <path d=\"M 2906 2969 \r\nL 2906 4863 \r\nL 3481 4863 \r\nL 3481 0 \r\nL 2906 0 \r\nL 2906 525 \r\nQ 2725 213 2448 61 \r\nQ 2172 -91 1784 -91 \r\nQ 1150 -91 751 415 \r\nQ 353 922 353 1747 \r\nQ 353 2572 751 3078 \r\nQ 1150 3584 1784 3584 \r\nQ 2172 3584 2448 3432 \r\nQ 2725 3281 2906 2969 \r\nz\r\nM 947 1747 \r\nQ 947 1113 1208 752 \r\nQ 1469 391 1925 391 \r\nQ 2381 391 2643 752 \r\nQ 2906 1113 2906 1747 \r\nQ 2906 2381 2643 2742 \r\nQ 2381 3103 1925 3103 \r\nQ 1469 3103 1208 2742 \r\nQ 947 2381 947 1747 \r\nz\r\n\" id=\"DejaVuSans-64\" transform=\"scale(0.015625)\"/>\r\n      <path d=\"M 3597 1894 \r\nL 3597 1613 \r\nL 953 1613 \r\nQ 991 1019 1311 708 \r\nQ 1631 397 2203 397 \r\nQ 2534 397 2845 478 \r\nQ 3156 559 3463 722 \r\nL 3463 178 \r\nQ 3153 47 2828 -22 \r\nQ 2503 -91 2169 -91 \r\nQ 1331 -91 842 396 \r\nQ 353 884 353 1716 \r\nQ 353 2575 817 3079 \r\nQ 1281 3584 2069 3584 \r\nQ 2775 3584 3186 3129 \r\nQ 3597 2675 3597 1894 \r\nz\r\nM 3022 2063 \r\nQ 3016 2534 2758 2815 \r\nQ 2500 3097 2075 3097 \r\nQ 1594 3097 1305 2825 \r\nQ 1016 2553 972 2059 \r\nL 3022 2063 \r\nz\r\n\" id=\"DejaVuSans-65\" transform=\"scale(0.015625)\"/>\r\n      <path d=\"M 2631 2963 \r\nQ 2534 3019 2420 3045 \r\nQ 2306 3072 2169 3072 \r\nQ 1681 3072 1420 2755 \r\nQ 1159 2438 1159 1844 \r\nL 1159 0 \r\nL 581 0 \r\nL 581 3500 \r\nL 1159 3500 \r\nL 1159 2956 \r\nQ 1341 3275 1631 3429 \r\nQ 1922 3584 2338 3584 \r\nQ 2397 3584 2469 3576 \r\nQ 2541 3569 2628 3553 \r\nL 2631 2963 \r\nz\r\n\" id=\"DejaVuSans-72\" transform=\"scale(0.015625)\"/>\r\n     </defs>\r\n     <use xlink:href=\"#DejaVuSans-64\"/>\r\n     <use x=\"63.476562\" xlink:href=\"#DejaVuSans-65\"/>\r\n     <use x=\"125\" xlink:href=\"#DejaVuSans-65\"/>\r\n     <use x=\"186.523438\" xlink:href=\"#DejaVuSans-72\"/>\r\n    </g>\r\n   </g>\r\n  </g>\r\n </g>\r\n <defs>\r\n  <clipPath id=\"p8652f09265\">\r\n   <rect height=\"108.72\" width=\"108.72\" x=\"26.925\" y=\"22.318125\"/>\r\n  </clipPath>\r\n </defs>\r\n</svg>\r\n",
      "image/png": "[encoded data removed]"
     },
     "metadata": {
      "needs_background": "light"
     }
    }
   ],
   "source": [
    "image_show(images[1], classes[labels[1].item()])"
   ]
  },
  {
   "cell_type": "code",
   "execution_count": 77,
   "metadata": {},
   "outputs": [],
   "source": [
    "# First Convolution Layer\n",
    "class FirstCNN(nn.Module):\n",
    "    def __init__(self):\n",
    "        super(FirstCNN, self).__init__()\n",
    "        self.conv1 = nn.Conv2d(3, 5, 3) # (입력 채널의 수, 출력 채널의 수, 커널 사이즈) kernel size 3 => (3, 3)의 matrix\n",
    "\n",
    "    def forward(self, x):\n",
    "        y = self.conv1(x)\n",
    "        return y"
   ]
  },
  {
   "cell_type": "code",
   "execution_count": 78,
   "metadata": {},
   "outputs": [],
   "source": [
    "cnn = FirstCNN()"
   ]
  },
  {
   "cell_type": "code",
   "execution_count": 79,
   "metadata": {},
   "outputs": [],
   "source": [
    "out = cnn(images)"
   ]
  },
  {
   "cell_type": "code",
   "execution_count": 80,
   "metadata": {},
   "outputs": [
    {
     "output_type": "stream",
     "name": "stdout",
     "text": [
      "torch.Size([4, 5, 30, 30])\n"
     ]
    }
   ],
   "source": [
    "print(out.shape)"
   ]
  },
  {
   "cell_type": "code",
   "execution_count": 68,
   "metadata": {},
   "outputs": [],
   "source": [
    "# (4, 10, 30, 30)\n",
    "# 4: 이미지의 갯수 batch_size\n",
    "# 10 : 출력 채널의 수\n",
    "# (30, 30) : 결과 이미지의 크기\n",
    "# default padding = (0, 0), stride = (1, 1)"
   ]
  },
  {
   "cell_type": "code",
   "execution_count": 81,
   "metadata": {},
   "outputs": [
    {
     "output_type": "execute_result",
     "data": {
      "text/plain": [
       "torch.Tensor"
      ]
     },
     "metadata": {},
     "execution_count": 81
    }
   ],
   "source": [
    "type(out)"
   ]
  },
  {
   "cell_type": "code",
   "execution_count": 82,
   "metadata": {},
   "outputs": [
    {
     "output_type": "execute_result",
     "data": {
      "text/plain": [
       "torch.Size([4, 5, 30, 30])"
      ]
     },
     "metadata": {},
     "execution_count": 82
    }
   ],
   "source": [
    "out.shape"
   ]
  },
  {
   "cell_type": "code",
   "execution_count": 83,
   "metadata": {},
   "outputs": [
    {
     "output_type": "execute_result",
     "data": {
      "text/plain": [
       "torch.Size([30, 30])"
      ]
     },
     "metadata": {},
     "execution_count": 83
    }
   ],
   "source": [
    "sample = out[0, 0, :, :]\n",
    "sample.shape"
   ]
  },
  {
   "cell_type": "code",
   "execution_count": 84,
   "metadata": {},
   "outputs": [
    {
     "output_type": "display_data",
     "data": {
      "text/plain": "<Figure size 144x144 with 1 Axes>",
      "image/svg+xml": "<?xml version=\"1.0\" encoding=\"utf-8\" standalone=\"no\"?>\r\n<!DOCTYPE svg PUBLIC \"-//W3C//DTD SVG 1.1//EN\"\r\n  \"http://www.w3.org/Graphics/SVG/1.1/DTD/svg11.dtd\">\r\n<svg height=\"141.785344pt\" version=\"1.1\" viewBox=\"0 0 142.845 141.785344\" width=\"142.845pt\" xmlns=\"http://www.w3.org/2000/svg\" xmlns:xlink=\"http://www.w3.org/1999/xlink\">\r\n <metadata>\r\n  <rdf:RDF xmlns:cc=\"http://creativecommons.org/ns#\" xmlns:dc=\"http://purl.org/dc/elements/1.1/\" xmlns:rdf=\"http://www.w3.org/1999/02/22-rdf-syntax-ns#\">\r\n   <cc:Work>\r\n    <dc:type rdf:resource=\"http://purl.org/dc/dcmitype/StillImage\"/>\r\n    <dc:date>2021-06-26T15:42:42.622210</dc:date>\r\n    <dc:format>image/svg+xml</dc:format>\r\n    <dc:creator>\r\n     <cc:Agent>\r\n      <dc:title>Matplotlib v3.4.2, https://matplotlib.org/</dc:title>\r\n     </cc:Agent>\r\n    </dc:creator>\r\n   </cc:Work>\r\n  </rdf:RDF>\r\n </metadata>\r\n <defs>\r\n  <style type=\"text/css\">*{stroke-linecap:butt;stroke-linejoin:round;}</style>\r\n </defs>\r\n <g id=\"figure_1\">\r\n  <g id=\"patch_1\">\r\n   <path d=\"M 0 141.785344 \r\nL 142.845 141.785344 \r\nL 142.845 0 \r\nL 0 0 \r\nz\r\n\" style=\"fill:none;\"/>\r\n  </g>\r\n  <g id=\"axes_1\">\r\n   <g id=\"patch_2\">\r\n    <path d=\"M 26.925 117.907219 \r\nL 135.645 117.907219 \r\nL 135.645 9.187219 \r\nL 26.925 9.187219 \r\nz\r\n\" style=\"fill:#ffffff;\"/>\r\n   </g>\r\n   <g clip-path=\"url(#pe848408d0b)\">\r\n    <image height=\"109\" id=\"imagec66cb617ea\" transform=\"scale(1 -1)translate(0 -109)\" width=\"109\" x=\"26.925\" xlink:href=\"data:image/png;base64,\r\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\" y=\"-8.907219\"/>\r\n   </g>\r\n   <g id=\"matplotlib.axis_1\">\r\n    <g id=\"xtick_1\">\r\n     <g id=\"line2d_1\">\r\n      <defs>\r\n       <path d=\"M 0 0 \r\nL 0 3.5 \r\n\" id=\"m10979c77fe\" style=\"stroke:#000000;stroke-width:0.8;\"/>\r\n      </defs>\r\n      <g>\r\n       <use style=\"stroke:#000000;stroke-width:0.8;\" x=\"28.737\" xlink:href=\"#m10979c77fe\" y=\"117.907219\"/>\r\n      </g>\r\n     </g>\r\n     <g id=\"text_1\">\r\n      <!-- 0 -->\r\n      <g transform=\"translate(25.55575 132.505656)scale(0.1 -0.1)\">\r\n       <defs>\r\n        <path d=\"M 2034 4250 \r\nQ 1547 4250 1301 3770 \r\nQ 1056 3291 1056 2328 \r\nQ 1056 1369 1301 889 \r\nQ 1547 409 2034 409 \r\nQ 2525 409 2770 889 \r\nQ 3016 1369 3016 2328 \r\nQ 3016 3291 2770 3770 \r\nQ 2525 4250 2034 4250 \r\nz\r\nM 2034 4750 \r\nQ 2819 4750 3233 4129 \r\nQ 3647 3509 3647 2328 \r\nQ 3647 1150 3233 529 \r\nQ 2819 -91 2034 -91 \r\nQ 1250 -91 836 529 \r\nQ 422 1150 422 2328 \r\nQ 422 3509 836 4129 \r\nQ 1250 4750 2034 4750 \r\nz\r\n\" id=\"DejaVuSans-30\" transform=\"scale(0.015625)\"/>\r\n       </defs>\r\n       <use xlink:href=\"#DejaVuSans-30\"/>\r\n      </g>\r\n     </g>\r\n    </g>\r\n    <g id=\"xtick_2\">\r\n     <g id=\"line2d_2\">\r\n      <g>\r\n       <use style=\"stroke:#000000;stroke-width:0.8;\" x=\"64.977\" xlink:href=\"#m10979c77fe\" y=\"117.907219\"/>\r\n      </g>\r\n     </g>\r\n     <g id=\"text_2\">\r\n      <!-- 10 -->\r\n      <g transform=\"translate(58.6145 132.505656)scale(0.1 -0.1)\">\r\n       <defs>\r\n        <path d=\"M 794 531 \r\nL 1825 531 \r\nL 1825 4091 \r\nL 703 3866 \r\nL 703 4441 \r\nL 1819 4666 \r\nL 2450 4666 \r\nL 2450 531 \r\nL 3481 531 \r\nL 3481 0 \r\nL 794 0 \r\nL 794 531 \r\nz\r\n\" id=\"DejaVuSans-31\" transform=\"scale(0.015625)\"/>\r\n       </defs>\r\n       <use xlink:href=\"#DejaVuSans-31\"/>\r\n       <use x=\"63.623047\" xlink:href=\"#DejaVuSans-30\"/>\r\n      </g>\r\n     </g>\r\n    </g>\r\n    <g id=\"xtick_3\">\r\n     <g id=\"line2d_3\">\r\n      <g>\r\n       <use style=\"stroke:#000000;stroke-width:0.8;\" x=\"101.217\" xlink:href=\"#m10979c77fe\" y=\"117.907219\"/>\r\n      </g>\r\n     </g>\r\n     <g id=\"text_3\">\r\n      <!-- 20 -->\r\n      <g transform=\"translate(94.8545 132.505656)scale(0.1 -0.1)\">\r\n       <defs>\r\n        <path d=\"M 1228 531 \r\nL 3431 531 \r\nL 3431 0 \r\nL 469 0 \r\nL 469 531 \r\nQ 828 903 1448 1529 \r\nQ 2069 2156 2228 2338 \r\nQ 2531 2678 2651 2914 \r\nQ 2772 3150 2772 3378 \r\nQ 2772 3750 2511 3984 \r\nQ 2250 4219 1831 4219 \r\nQ 1534 4219 1204 4116 \r\nQ 875 4013 500 3803 \r\nL 500 4441 \r\nQ 881 4594 1212 4672 \r\nQ 1544 4750 1819 4750 \r\nQ 2544 4750 2975 4387 \r\nQ 3406 4025 3406 3419 \r\nQ 3406 3131 3298 2873 \r\nQ 3191 2616 2906 2266 \r\nQ 2828 2175 2409 1742 \r\nQ 1991 1309 1228 531 \r\nz\r\n\" id=\"DejaVuSans-32\" transform=\"scale(0.015625)\"/>\r\n       </defs>\r\n       <use xlink:href=\"#DejaVuSans-32\"/>\r\n       <use x=\"63.623047\" xlink:href=\"#DejaVuSans-30\"/>\r\n      </g>\r\n     </g>\r\n    </g>\r\n   </g>\r\n   <g id=\"matplotlib.axis_2\">\r\n    <g id=\"ytick_1\">\r\n     <g id=\"line2d_4\">\r\n      <defs>\r\n       <path d=\"M 0 0 \r\nL -3.5 0 \r\n\" id=\"mf99ab46946\" style=\"stroke:#000000;stroke-width:0.8;\"/>\r\n      </defs>\r\n      <g>\r\n       <use style=\"stroke:#000000;stroke-width:0.8;\" x=\"26.925\" xlink:href=\"#mf99ab46946\" y=\"10.999219\"/>\r\n      </g>\r\n     </g>\r\n     <g id=\"text_4\">\r\n      <!-- 0 -->\r\n      <g transform=\"translate(13.5625 14.798437)scale(0.1 -0.1)\">\r\n       <use xlink:href=\"#DejaVuSans-30\"/>\r\n      </g>\r\n     </g>\r\n    </g>\r\n    <g id=\"ytick_2\">\r\n     <g id=\"line2d_5\">\r\n      <g>\r\n       <use style=\"stroke:#000000;stroke-width:0.8;\" x=\"26.925\" xlink:href=\"#mf99ab46946\" y=\"47.239219\"/>\r\n      </g>\r\n     </g>\r\n     <g id=\"text_5\">\r\n      <!-- 10 -->\r\n      <g transform=\"translate(7.2 51.038437)scale(0.1 -0.1)\">\r\n       <use xlink:href=\"#DejaVuSans-31\"/>\r\n       <use x=\"63.623047\" xlink:href=\"#DejaVuSans-30\"/>\r\n      </g>\r\n     </g>\r\n    </g>\r\n    <g id=\"ytick_3\">\r\n     <g id=\"line2d_6\">\r\n      <g>\r\n       <use style=\"stroke:#000000;stroke-width:0.8;\" x=\"26.925\" xlink:href=\"#mf99ab46946\" y=\"83.479219\"/>\r\n      </g>\r\n     </g>\r\n     <g id=\"text_6\">\r\n      <!-- 20 -->\r\n      <g transform=\"translate(7.2 87.278437)scale(0.1 -0.1)\">\r\n       <use xlink:href=\"#DejaVuSans-32\"/>\r\n       <use x=\"63.623047\" xlink:href=\"#DejaVuSans-30\"/>\r\n      </g>\r\n     </g>\r\n    </g>\r\n   </g>\r\n   <g id=\"patch_3\">\r\n    <path d=\"M 26.925 117.907219 \r\nL 26.925 9.187219 \r\n\" style=\"fill:none;stroke:#000000;stroke-linecap:square;stroke-linejoin:miter;stroke-width:0.8;\"/>\r\n   </g>\r\n   <g id=\"patch_4\">\r\n    <path d=\"M 135.645 117.907219 \r\nL 135.645 9.187219 \r\n\" style=\"fill:none;stroke:#000000;stroke-linecap:square;stroke-linejoin:miter;stroke-width:0.8;\"/>\r\n   </g>\r\n   <g id=\"patch_5\">\r\n    <path d=\"M 26.925 117.907219 \r\nL 135.645 117.907219 \r\n\" style=\"fill:none;stroke:#000000;stroke-linecap:square;stroke-linejoin:miter;stroke-width:0.8;\"/>\r\n   </g>\r\n   <g id=\"patch_6\">\r\n    <path d=\"M 26.925 9.187219 \r\nL 135.645 9.187219 \r\n\" style=\"fill:none;stroke:#000000;stroke-linecap:square;stroke-linejoin:miter;stroke-width:0.8;\"/>\r\n   </g>\r\n  </g>\r\n </g>\r\n <defs>\r\n  <clipPath id=\"pe848408d0b\">\r\n   <rect height=\"108.72\" width=\"108.72\" x=\"26.925\" y=\"9.187219\"/>\r\n  </clipPath>\r\n </defs>\r\n</svg>\r\n",
      "image/png": "[encoded data removed]"
     },
     "metadata": {
      "needs_background": "light"
     }
    }
   ],
   "source": [
    "plt.figure(figsize = (2, 2))\n",
    "plt.imshow(sample.detach().numpy())\n",
    "plt.show()"
   ]
  },
  {
   "cell_type": "code",
   "execution_count": 85,
   "metadata": {},
   "outputs": [
    {
     "output_type": "display_data",
     "data": {
      "text/plain": "<Figure size 144x144 with 1 Axes>",
      "image/svg+xml": "<?xml version=\"1.0\" encoding=\"utf-8\" standalone=\"no\"?>\r\n<!DOCTYPE svg PUBLIC \"-//W3C//DTD SVG 1.1//EN\"\r\n  \"http://www.w3.org/Graphics/SVG/1.1/DTD/svg11.dtd\">\r\n<svg height=\"141.785344pt\" version=\"1.1\" viewBox=\"0 0 142.845 141.785344\" width=\"142.845pt\" xmlns=\"http://www.w3.org/2000/svg\" xmlns:xlink=\"http://www.w3.org/1999/xlink\">\r\n <metadata>\r\n  <rdf:RDF xmlns:cc=\"http://creativecommons.org/ns#\" xmlns:dc=\"http://purl.org/dc/elements/1.1/\" xmlns:rdf=\"http://www.w3.org/1999/02/22-rdf-syntax-ns#\">\r\n   <cc:Work>\r\n    <dc:type rdf:resource=\"http://purl.org/dc/dcmitype/StillImage\"/>\r\n    <dc:date>2021-06-26T15:42:43.995332</dc:date>\r\n    <dc:format>image/svg+xml</dc:format>\r\n    <dc:creator>\r\n     <cc:Agent>\r\n      <dc:title>Matplotlib v3.4.2, https://matplotlib.org/</dc:title>\r\n     </cc:Agent>\r\n    </dc:creator>\r\n   </cc:Work>\r\n  </rdf:RDF>\r\n </metadata>\r\n <defs>\r\n  <style type=\"text/css\">*{stroke-linecap:butt;stroke-linejoin:round;}</style>\r\n </defs>\r\n <g id=\"figure_1\">\r\n  <g id=\"patch_1\">\r\n   <path d=\"M 0 141.785344 \r\nL 142.845 141.785344 \r\nL 142.845 0 \r\nL 0 0 \r\nz\r\n\" style=\"fill:none;\"/>\r\n  </g>\r\n  <g id=\"axes_1\">\r\n   <g id=\"patch_2\">\r\n    <path d=\"M 26.925 117.907219 \r\nL 135.645 117.907219 \r\nL 135.645 9.187219 \r\nL 26.925 9.187219 \r\nz\r\n\" style=\"fill:#ffffff;\"/>\r\n   </g>\r\n   <g clip-path=\"url(#pbd05c0b77b)\">\r\n    <image height=\"109\" id=\"image18b1330bdd\" transform=\"scale(1 -1)translate(0 -109)\" width=\"109\" x=\"26.925\" xlink:href=\"data:image/png;base64,\r\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\" y=\"-8.907219\"/>\r\n   </g>\r\n   <g id=\"matplotlib.axis_1\">\r\n    <g id=\"xtick_1\">\r\n     <g id=\"line2d_1\">\r\n      <defs>\r\n       <path d=\"M 0 0 \r\nL 0 3.5 \r\n\" id=\"m328956dbd3\" style=\"stroke:#000000;stroke-width:0.8;\"/>\r\n      </defs>\r\n      <g>\r\n       <use style=\"stroke:#000000;stroke-width:0.8;\" x=\"28.737\" xlink:href=\"#m328956dbd3\" y=\"117.907219\"/>\r\n      </g>\r\n     </g>\r\n     <g id=\"text_1\">\r\n      <!-- 0 -->\r\n      <g transform=\"translate(25.55575 132.505656)scale(0.1 -0.1)\">\r\n       <defs>\r\n        <path d=\"M 2034 4250 \r\nQ 1547 4250 1301 3770 \r\nQ 1056 3291 1056 2328 \r\nQ 1056 1369 1301 889 \r\nQ 1547 409 2034 409 \r\nQ 2525 409 2770 889 \r\nQ 3016 1369 3016 2328 \r\nQ 3016 3291 2770 3770 \r\nQ 2525 4250 2034 4250 \r\nz\r\nM 2034 4750 \r\nQ 2819 4750 3233 4129 \r\nQ 3647 3509 3647 2328 \r\nQ 3647 1150 3233 529 \r\nQ 2819 -91 2034 -91 \r\nQ 1250 -91 836 529 \r\nQ 422 1150 422 2328 \r\nQ 422 3509 836 4129 \r\nQ 1250 4750 2034 4750 \r\nz\r\n\" id=\"DejaVuSans-30\" transform=\"scale(0.015625)\"/>\r\n       </defs>\r\n       <use xlink:href=\"#DejaVuSans-30\"/>\r\n      </g>\r\n     </g>\r\n    </g>\r\n    <g id=\"xtick_2\">\r\n     <g id=\"line2d_2\">\r\n      <g>\r\n       <use style=\"stroke:#000000;stroke-width:0.8;\" x=\"64.977\" xlink:href=\"#m328956dbd3\" y=\"117.907219\"/>\r\n      </g>\r\n     </g>\r\n     <g id=\"text_2\">\r\n      <!-- 10 -->\r\n      <g transform=\"translate(58.6145 132.505656)scale(0.1 -0.1)\">\r\n       <defs>\r\n        <path d=\"M 794 531 \r\nL 1825 531 \r\nL 1825 4091 \r\nL 703 3866 \r\nL 703 4441 \r\nL 1819 4666 \r\nL 2450 4666 \r\nL 2450 531 \r\nL 3481 531 \r\nL 3481 0 \r\nL 794 0 \r\nL 794 531 \r\nz\r\n\" id=\"DejaVuSans-31\" transform=\"scale(0.015625)\"/>\r\n       </defs>\r\n       <use xlink:href=\"#DejaVuSans-31\"/>\r\n       <use x=\"63.623047\" xlink:href=\"#DejaVuSans-30\"/>\r\n      </g>\r\n     </g>\r\n    </g>\r\n    <g id=\"xtick_3\">\r\n     <g id=\"line2d_3\">\r\n      <g>\r\n       <use style=\"stroke:#000000;stroke-width:0.8;\" x=\"101.217\" xlink:href=\"#m328956dbd3\" y=\"117.907219\"/>\r\n      </g>\r\n     </g>\r\n     <g id=\"text_3\">\r\n      <!-- 20 -->\r\n      <g transform=\"translate(94.8545 132.505656)scale(0.1 -0.1)\">\r\n       <defs>\r\n        <path d=\"M 1228 531 \r\nL 3431 531 \r\nL 3431 0 \r\nL 469 0 \r\nL 469 531 \r\nQ 828 903 1448 1529 \r\nQ 2069 2156 2228 2338 \r\nQ 2531 2678 2651 2914 \r\nQ 2772 3150 2772 3378 \r\nQ 2772 3750 2511 3984 \r\nQ 2250 4219 1831 4219 \r\nQ 1534 4219 1204 4116 \r\nQ 875 4013 500 3803 \r\nL 500 4441 \r\nQ 881 4594 1212 4672 \r\nQ 1544 4750 1819 4750 \r\nQ 2544 4750 2975 4387 \r\nQ 3406 4025 3406 3419 \r\nQ 3406 3131 3298 2873 \r\nQ 3191 2616 2906 2266 \r\nQ 2828 2175 2409 1742 \r\nQ 1991 1309 1228 531 \r\nz\r\n\" id=\"DejaVuSans-32\" transform=\"scale(0.015625)\"/>\r\n       </defs>\r\n       <use xlink:href=\"#DejaVuSans-32\"/>\r\n       <use x=\"63.623047\" xlink:href=\"#DejaVuSans-30\"/>\r\n      </g>\r\n     </g>\r\n    </g>\r\n   </g>\r\n   <g id=\"matplotlib.axis_2\">\r\n    <g id=\"ytick_1\">\r\n     <g id=\"line2d_4\">\r\n      <defs>\r\n       <path d=\"M 0 0 \r\nL -3.5 0 \r\n\" id=\"mc27a091d49\" style=\"stroke:#000000;stroke-width:0.8;\"/>\r\n      </defs>\r\n      <g>\r\n       <use style=\"stroke:#000000;stroke-width:0.8;\" x=\"26.925\" xlink:href=\"#mc27a091d49\" y=\"10.999219\"/>\r\n      </g>\r\n     </g>\r\n     <g id=\"text_4\">\r\n      <!-- 0 -->\r\n      <g transform=\"translate(13.5625 14.798437)scale(0.1 -0.1)\">\r\n       <use xlink:href=\"#DejaVuSans-30\"/>\r\n      </g>\r\n     </g>\r\n    </g>\r\n    <g id=\"ytick_2\">\r\n     <g id=\"line2d_5\">\r\n      <g>\r\n       <use style=\"stroke:#000000;stroke-width:0.8;\" x=\"26.925\" xlink:href=\"#mc27a091d49\" y=\"47.239219\"/>\r\n      </g>\r\n     </g>\r\n     <g id=\"text_5\">\r\n      <!-- 10 -->\r\n      <g transform=\"translate(7.2 51.038437)scale(0.1 -0.1)\">\r\n       <use xlink:href=\"#DejaVuSans-31\"/>\r\n       <use x=\"63.623047\" xlink:href=\"#DejaVuSans-30\"/>\r\n      </g>\r\n     </g>\r\n    </g>\r\n    <g id=\"ytick_3\">\r\n     <g id=\"line2d_6\">\r\n      <g>\r\n       <use style=\"stroke:#000000;stroke-width:0.8;\" x=\"26.925\" xlink:href=\"#mc27a091d49\" y=\"83.479219\"/>\r\n      </g>\r\n     </g>\r\n     <g id=\"text_6\">\r\n      <!-- 20 -->\r\n      <g transform=\"translate(7.2 87.278437)scale(0.1 -0.1)\">\r\n       <use xlink:href=\"#DejaVuSans-32\"/>\r\n       <use x=\"63.623047\" xlink:href=\"#DejaVuSans-30\"/>\r\n      </g>\r\n     </g>\r\n    </g>\r\n   </g>\r\n   <g id=\"patch_3\">\r\n    <path d=\"M 26.925 117.907219 \r\nL 26.925 9.187219 \r\n\" style=\"fill:none;stroke:#000000;stroke-linecap:square;stroke-linejoin:miter;stroke-width:0.8;\"/>\r\n   </g>\r\n   <g id=\"patch_4\">\r\n    <path d=\"M 135.645 117.907219 \r\nL 135.645 9.187219 \r\n\" style=\"fill:none;stroke:#000000;stroke-linecap:square;stroke-linejoin:miter;stroke-width:0.8;\"/>\r\n   </g>\r\n   <g id=\"patch_5\">\r\n    <path d=\"M 26.925 117.907219 \r\nL 135.645 117.907219 \r\n\" style=\"fill:none;stroke:#000000;stroke-linecap:square;stroke-linejoin:miter;stroke-width:0.8;\"/>\r\n   </g>\r\n   <g id=\"patch_6\">\r\n    <path d=\"M 26.925 9.187219 \r\nL 135.645 9.187219 \r\n\" style=\"fill:none;stroke:#000000;stroke-linecap:square;stroke-linejoin:miter;stroke-width:0.8;\"/>\r\n   </g>\r\n  </g>\r\n </g>\r\n <defs>\r\n  <clipPath id=\"pbd05c0b77b\">\r\n   <rect height=\"108.72\" width=\"108.72\" x=\"26.925\" y=\"9.187219\"/>\r\n  </clipPath>\r\n </defs>\r\n</svg>\r\n",
      "image/png": "[encoded data removed]"
     },
     "metadata": {
      "needs_background": "light"
     }
    }
   ],
   "source": [
    "sample = out[0, 1, :, :]\n",
    "plt.figure(figsize = (2, 2))\n",
    "plt.imshow(sample.detach().numpy())\n",
    "plt.show()"
   ]
  },
  {
   "cell_type": "code",
   "execution_count": 87,
   "metadata": {},
   "outputs": [
    {
     "output_type": "display_data",
     "data": {
      "text/plain": "<Figure size 144x144 with 1 Axes>",
      "image/svg+xml": "<?xml version=\"1.0\" encoding=\"utf-8\" standalone=\"no\"?>\r\n<!DOCTYPE svg PUBLIC \"-//W3C//DTD SVG 1.1//EN\"\r\n  \"http://www.w3.org/Graphics/SVG/1.1/DTD/svg11.dtd\">\r\n<svg height=\"141.785344pt\" version=\"1.1\" viewBox=\"0 0 142.845 141.785344\" width=\"142.845pt\" xmlns=\"http://www.w3.org/2000/svg\" xmlns:xlink=\"http://www.w3.org/1999/xlink\">\r\n <metadata>\r\n  <rdf:RDF xmlns:cc=\"http://creativecommons.org/ns#\" xmlns:dc=\"http://purl.org/dc/elements/1.1/\" xmlns:rdf=\"http://www.w3.org/1999/02/22-rdf-syntax-ns#\">\r\n   <cc:Work>\r\n    <dc:type rdf:resource=\"http://purl.org/dc/dcmitype/StillImage\"/>\r\n    <dc:date>2021-06-26T15:42:49.065651</dc:date>\r\n    <dc:format>image/svg+xml</dc:format>\r\n    <dc:creator>\r\n     <cc:Agent>\r\n      <dc:title>Matplotlib v3.4.2, https://matplotlib.org/</dc:title>\r\n     </cc:Agent>\r\n    </dc:creator>\r\n   </cc:Work>\r\n  </rdf:RDF>\r\n </metadata>\r\n <defs>\r\n  <style type=\"text/css\">*{stroke-linecap:butt;stroke-linejoin:round;}</style>\r\n </defs>\r\n <g id=\"figure_1\">\r\n  <g id=\"patch_1\">\r\n   <path d=\"M 0 141.785344 \r\nL 142.845 141.785344 \r\nL 142.845 0 \r\nL 0 0 \r\nz\r\n\" style=\"fill:none;\"/>\r\n  </g>\r\n  <g id=\"axes_1\">\r\n   <g id=\"patch_2\">\r\n    <path d=\"M 26.925 117.907219 \r\nL 135.645 117.907219 \r\nL 135.645 9.187219 \r\nL 26.925 9.187219 \r\nz\r\n\" style=\"fill:#ffffff;\"/>\r\n   </g>\r\n   <g clip-path=\"url(#pb4c8acbe89)\">\r\n    <image height=\"109\" id=\"imagede0af7a2cd\" transform=\"scale(1 -1)translate(0 -109)\" width=\"109\" x=\"26.925\" xlink:href=\"data:image/png;base64,\r\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\" y=\"-8.907219\"/>\r\n   </g>\r\n   <g id=\"matplotlib.axis_1\">\r\n    <g id=\"xtick_1\">\r\n     <g id=\"line2d_1\">\r\n      <defs>\r\n       <path d=\"M 0 0 \r\nL 0 3.5 \r\n\" id=\"m08291a5794\" style=\"stroke:#000000;stroke-width:0.8;\"/>\r\n      </defs>\r\n      <g>\r\n       <use style=\"stroke:#000000;stroke-width:0.8;\" x=\"28.737\" xlink:href=\"#m08291a5794\" y=\"117.907219\"/>\r\n      </g>\r\n     </g>\r\n     <g id=\"text_1\">\r\n      <!-- 0 -->\r\n      <g transform=\"translate(25.55575 132.505656)scale(0.1 -0.1)\">\r\n       <defs>\r\n        <path d=\"M 2034 4250 \r\nQ 1547 4250 1301 3770 \r\nQ 1056 3291 1056 2328 \r\nQ 1056 1369 1301 889 \r\nQ 1547 409 2034 409 \r\nQ 2525 409 2770 889 \r\nQ 3016 1369 3016 2328 \r\nQ 3016 3291 2770 3770 \r\nQ 2525 4250 2034 4250 \r\nz\r\nM 2034 4750 \r\nQ 2819 4750 3233 4129 \r\nQ 3647 3509 3647 2328 \r\nQ 3647 1150 3233 529 \r\nQ 2819 -91 2034 -91 \r\nQ 1250 -91 836 529 \r\nQ 422 1150 422 2328 \r\nQ 422 3509 836 4129 \r\nQ 1250 4750 2034 4750 \r\nz\r\n\" id=\"DejaVuSans-30\" transform=\"scale(0.015625)\"/>\r\n       </defs>\r\n       <use xlink:href=\"#DejaVuSans-30\"/>\r\n      </g>\r\n     </g>\r\n    </g>\r\n    <g id=\"xtick_2\">\r\n     <g id=\"line2d_2\">\r\n      <g>\r\n       <use style=\"stroke:#000000;stroke-width:0.8;\" x=\"64.977\" xlink:href=\"#m08291a5794\" y=\"117.907219\"/>\r\n      </g>\r\n     </g>\r\n     <g id=\"text_2\">\r\n      <!-- 10 -->\r\n      <g transform=\"translate(58.6145 132.505656)scale(0.1 -0.1)\">\r\n       <defs>\r\n        <path d=\"M 794 531 \r\nL 1825 531 \r\nL 1825 4091 \r\nL 703 3866 \r\nL 703 4441 \r\nL 1819 4666 \r\nL 2450 4666 \r\nL 2450 531 \r\nL 3481 531 \r\nL 3481 0 \r\nL 794 0 \r\nL 794 531 \r\nz\r\n\" id=\"DejaVuSans-31\" transform=\"scale(0.015625)\"/>\r\n       </defs>\r\n       <use xlink:href=\"#DejaVuSans-31\"/>\r\n       <use x=\"63.623047\" xlink:href=\"#DejaVuSans-30\"/>\r\n      </g>\r\n     </g>\r\n    </g>\r\n    <g id=\"xtick_3\">\r\n     <g id=\"line2d_3\">\r\n      <g>\r\n       <use style=\"stroke:#000000;stroke-width:0.8;\" x=\"101.217\" xlink:href=\"#m08291a5794\" y=\"117.907219\"/>\r\n      </g>\r\n     </g>\r\n     <g id=\"text_3\">\r\n      <!-- 20 -->\r\n      <g transform=\"translate(94.8545 132.505656)scale(0.1 -0.1)\">\r\n       <defs>\r\n        <path d=\"M 1228 531 \r\nL 3431 531 \r\nL 3431 0 \r\nL 469 0 \r\nL 469 531 \r\nQ 828 903 1448 1529 \r\nQ 2069 2156 2228 2338 \r\nQ 2531 2678 2651 2914 \r\nQ 2772 3150 2772 3378 \r\nQ 2772 3750 2511 3984 \r\nQ 2250 4219 1831 4219 \r\nQ 1534 4219 1204 4116 \r\nQ 875 4013 500 3803 \r\nL 500 4441 \r\nQ 881 4594 1212 4672 \r\nQ 1544 4750 1819 4750 \r\nQ 2544 4750 2975 4387 \r\nQ 3406 4025 3406 3419 \r\nQ 3406 3131 3298 2873 \r\nQ 3191 2616 2906 2266 \r\nQ 2828 2175 2409 1742 \r\nQ 1991 1309 1228 531 \r\nz\r\n\" id=\"DejaVuSans-32\" transform=\"scale(0.015625)\"/>\r\n       </defs>\r\n       <use xlink:href=\"#DejaVuSans-32\"/>\r\n       <use x=\"63.623047\" xlink:href=\"#DejaVuSans-30\"/>\r\n      </g>\r\n     </g>\r\n    </g>\r\n   </g>\r\n   <g id=\"matplotlib.axis_2\">\r\n    <g id=\"ytick_1\">\r\n     <g id=\"line2d_4\">\r\n      <defs>\r\n       <path d=\"M 0 0 \r\nL -3.5 0 \r\n\" id=\"m6397630b14\" style=\"stroke:#000000;stroke-width:0.8;\"/>\r\n      </defs>\r\n      <g>\r\n       <use style=\"stroke:#000000;stroke-width:0.8;\" x=\"26.925\" xlink:href=\"#m6397630b14\" y=\"10.999219\"/>\r\n      </g>\r\n     </g>\r\n     <g id=\"text_4\">\r\n      <!-- 0 -->\r\n      <g transform=\"translate(13.5625 14.798437)scale(0.1 -0.1)\">\r\n       <use xlink:href=\"#DejaVuSans-30\"/>\r\n      </g>\r\n     </g>\r\n    </g>\r\n    <g id=\"ytick_2\">\r\n     <g id=\"line2d_5\">\r\n      <g>\r\n       <use style=\"stroke:#000000;stroke-width:0.8;\" x=\"26.925\" xlink:href=\"#m6397630b14\" y=\"47.239219\"/>\r\n      </g>\r\n     </g>\r\n     <g id=\"text_5\">\r\n      <!-- 10 -->\r\n      <g transform=\"translate(7.2 51.038437)scale(0.1 -0.1)\">\r\n       <use xlink:href=\"#DejaVuSans-31\"/>\r\n       <use x=\"63.623047\" xlink:href=\"#DejaVuSans-30\"/>\r\n      </g>\r\n     </g>\r\n    </g>\r\n    <g id=\"ytick_3\">\r\n     <g id=\"line2d_6\">\r\n      <g>\r\n       <use style=\"stroke:#000000;stroke-width:0.8;\" x=\"26.925\" xlink:href=\"#m6397630b14\" y=\"83.479219\"/>\r\n      </g>\r\n     </g>\r\n     <g id=\"text_6\">\r\n      <!-- 20 -->\r\n      <g transform=\"translate(7.2 87.278437)scale(0.1 -0.1)\">\r\n       <use xlink:href=\"#DejaVuSans-32\"/>\r\n       <use x=\"63.623047\" xlink:href=\"#DejaVuSans-30\"/>\r\n      </g>\r\n     </g>\r\n    </g>\r\n   </g>\r\n   <g id=\"patch_3\">\r\n    <path d=\"M 26.925 117.907219 \r\nL 26.925 9.187219 \r\n\" style=\"fill:none;stroke:#000000;stroke-linecap:square;stroke-linejoin:miter;stroke-width:0.8;\"/>\r\n   </g>\r\n   <g id=\"patch_4\">\r\n    <path d=\"M 135.645 117.907219 \r\nL 135.645 9.187219 \r\n\" style=\"fill:none;stroke:#000000;stroke-linecap:square;stroke-linejoin:miter;stroke-width:0.8;\"/>\r\n   </g>\r\n   <g id=\"patch_5\">\r\n    <path d=\"M 26.925 117.907219 \r\nL 135.645 117.907219 \r\n\" style=\"fill:none;stroke:#000000;stroke-linecap:square;stroke-linejoin:miter;stroke-width:0.8;\"/>\r\n   </g>\r\n   <g id=\"patch_6\">\r\n    <path d=\"M 26.925 9.187219 \r\nL 135.645 9.187219 \r\n\" style=\"fill:none;stroke:#000000;stroke-linecap:square;stroke-linejoin:miter;stroke-width:0.8;\"/>\r\n   </g>\r\n  </g>\r\n </g>\r\n <defs>\r\n  <clipPath id=\"pb4c8acbe89\">\r\n   <rect height=\"108.72\" width=\"108.72\" x=\"26.925\" y=\"9.187219\"/>\r\n  </clipPath>\r\n </defs>\r\n</svg>\r\n",
      "image/png": "[encoded data removed]"
     },
     "metadata": {
      "needs_background": "light"
     }
    }
   ],
   "source": [
    "sample = out[0, 4, :, :]\n",
    "plt.figure(figsize = (2, 2))\n",
    "plt.imshow(sample.detach().numpy())\n",
    "plt.show()"
   ]
  },
  {
   "cell_type": "code",
   "execution_count": 88,
   "metadata": {},
   "outputs": [],
   "source": [
    "class FirstCNN(nn.Module):\n",
    "    def __init__(self):\n",
    "        super(FirstCNN, self).__init__()\n",
    "        self.conv1 = nn.Conv2d(3, 10, 3, \n",
    "            padding = (1, 1)\n",
    "        ) # (입력 채널의 수, 출력 채널의 수, 커널 사이즈) kernel size 3 => (3, 3)의 matrix\n",
    "\n",
    "    def forward(self, x):\n",
    "        y = self.conv1(x)\n",
    "        return y"
   ]
  },
  {
   "cell_type": "code",
   "execution_count": 89,
   "metadata": {},
   "outputs": [],
   "source": [
    "cnn = FirstCNN()"
   ]
  },
  {
   "cell_type": "code",
   "execution_count": 90,
   "metadata": {},
   "outputs": [],
   "source": [
    "out = cnn(images)"
   ]
  },
  {
   "cell_type": "code",
   "execution_count": 91,
   "metadata": {},
   "outputs": [
    {
     "output_type": "execute_result",
     "data": {
      "text/plain": [
       "torch.Size([4, 10, 32, 32])"
      ]
     },
     "metadata": {},
     "execution_count": 91
    }
   ],
   "source": [
    "out.shape"
   ]
  },
  {
   "cell_type": "code",
   "execution_count": 92,
   "metadata": {},
   "outputs": [
    {
     "output_type": "execute_result",
     "data": {
      "text/plain": [
       "torch.Size([32, 32])"
      ]
     },
     "metadata": {},
     "execution_count": 92
    }
   ],
   "source": [
    "sample = out[0, 0, :, :]\n",
    "sample.shape"
   ]
  },
  {
   "cell_type": "code",
   "execution_count": 93,
   "metadata": {},
   "outputs": [
    {
     "output_type": "display_data",
     "data": {
      "text/plain": "<Figure size 144x144 with 1 Axes>",
      "image/svg+xml": "<?xml version=\"1.0\" encoding=\"utf-8\" standalone=\"no\"?>\r\n<!DOCTYPE svg PUBLIC \"-//W3C//DTD SVG 1.1//EN\"\r\n  \"http://www.w3.org/Graphics/SVG/1.1/DTD/svg11.dtd\">\r\n<svg height=\"141.898594pt\" version=\"1.1\" viewBox=\"0 0 142.845 141.898594\" width=\"142.845pt\" xmlns=\"http://www.w3.org/2000/svg\" xmlns:xlink=\"http://www.w3.org/1999/xlink\">\r\n <metadata>\r\n  <rdf:RDF xmlns:cc=\"http://creativecommons.org/ns#\" xmlns:dc=\"http://purl.org/dc/elements/1.1/\" xmlns:rdf=\"http://www.w3.org/1999/02/22-rdf-syntax-ns#\">\r\n   <cc:Work>\r\n    <dc:type rdf:resource=\"http://purl.org/dc/dcmitype/StillImage\"/>\r\n    <dc:date>2021-06-26T15:44:38.331084</dc:date>\r\n    <dc:format>image/svg+xml</dc:format>\r\n    <dc:creator>\r\n     <cc:Agent>\r\n      <dc:title>Matplotlib v3.4.2, https://matplotlib.org/</dc:title>\r\n     </cc:Agent>\r\n    </dc:creator>\r\n   </cc:Work>\r\n  </rdf:RDF>\r\n </metadata>\r\n <defs>\r\n  <style type=\"text/css\">*{stroke-linecap:butt;stroke-linejoin:round;}</style>\r\n </defs>\r\n <g id=\"figure_1\">\r\n  <g id=\"patch_1\">\r\n   <path d=\"M 0 141.898594 \r\nL 142.845 141.898594 \r\nL 142.845 0 \r\nL 0 0 \r\nz\r\n\" style=\"fill:none;\"/>\r\n  </g>\r\n  <g id=\"axes_1\">\r\n   <g id=\"patch_2\">\r\n    <path d=\"M 26.925 118.020469 \r\nL 135.645 118.020469 \r\nL 135.645 9.300469 \r\nL 26.925 9.300469 \r\nz\r\n\" style=\"fill:#ffffff;\"/>\r\n   </g>\r\n   <g clip-path=\"url(#p4c8aefc956)\">\r\n    <image height=\"109\" id=\"image947c55a675\" transform=\"scale(1 -1)translate(0 -109)\" width=\"109\" x=\"26.925\" xlink:href=\"data:image/png;base64,\r\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\" y=\"-9.020469\"/>\r\n   </g>\r\n   <g id=\"matplotlib.axis_1\">\r\n    <g id=\"xtick_1\">\r\n     <g id=\"line2d_1\">\r\n      <defs>\r\n       <path d=\"M 0 0 \r\nL 0 3.5 \r\n\" id=\"mc255a0dbf6\" style=\"stroke:#000000;stroke-width:0.8;\"/>\r\n      </defs>\r\n      <g>\r\n       <use style=\"stroke:#000000;stroke-width:0.8;\" x=\"28.62375\" xlink:href=\"#mc255a0dbf6\" y=\"118.020469\"/>\r\n      </g>\r\n     </g>\r\n     <g id=\"text_1\">\r\n      <!-- 0 -->\r\n      <g transform=\"translate(25.4425 132.618906)scale(0.1 -0.1)\">\r\n       <defs>\r\n        <path d=\"M 2034 4250 \r\nQ 1547 4250 1301 3770 \r\nQ 1056 3291 1056 2328 \r\nQ 1056 1369 1301 889 \r\nQ 1547 409 2034 409 \r\nQ 2525 409 2770 889 \r\nQ 3016 1369 3016 2328 \r\nQ 3016 3291 2770 3770 \r\nQ 2525 4250 2034 4250 \r\nz\r\nM 2034 4750 \r\nQ 2819 4750 3233 4129 \r\nQ 3647 3509 3647 2328 \r\nQ 3647 1150 3233 529 \r\nQ 2819 -91 2034 -91 \r\nQ 1250 -91 836 529 \r\nQ 422 1150 422 2328 \r\nQ 422 3509 836 4129 \r\nQ 1250 4750 2034 4750 \r\nz\r\n\" id=\"DejaVuSans-30\" transform=\"scale(0.015625)\"/>\r\n       </defs>\r\n       <use xlink:href=\"#DejaVuSans-30\"/>\r\n      </g>\r\n     </g>\r\n    </g>\r\n    <g id=\"xtick_2\">\r\n     <g id=\"line2d_2\">\r\n      <g>\r\n       <use style=\"stroke:#000000;stroke-width:0.8;\" x=\"96.57375\" xlink:href=\"#mc255a0dbf6\" y=\"118.020469\"/>\r\n      </g>\r\n     </g>\r\n     <g id=\"text_2\">\r\n      <!-- 20 -->\r\n      <g transform=\"translate(90.21125 132.618906)scale(0.1 -0.1)\">\r\n       <defs>\r\n        <path d=\"M 1228 531 \r\nL 3431 531 \r\nL 3431 0 \r\nL 469 0 \r\nL 469 531 \r\nQ 828 903 1448 1529 \r\nQ 2069 2156 2228 2338 \r\nQ 2531 2678 2651 2914 \r\nQ 2772 3150 2772 3378 \r\nQ 2772 3750 2511 3984 \r\nQ 2250 4219 1831 4219 \r\nQ 1534 4219 1204 4116 \r\nQ 875 4013 500 3803 \r\nL 500 4441 \r\nQ 881 4594 1212 4672 \r\nQ 1544 4750 1819 4750 \r\nQ 2544 4750 2975 4387 \r\nQ 3406 4025 3406 3419 \r\nQ 3406 3131 3298 2873 \r\nQ 3191 2616 2906 2266 \r\nQ 2828 2175 2409 1742 \r\nQ 1991 1309 1228 531 \r\nz\r\n\" id=\"DejaVuSans-32\" transform=\"scale(0.015625)\"/>\r\n       </defs>\r\n       <use xlink:href=\"#DejaVuSans-32\"/>\r\n       <use x=\"63.623047\" xlink:href=\"#DejaVuSans-30\"/>\r\n      </g>\r\n     </g>\r\n    </g>\r\n   </g>\r\n   <g id=\"matplotlib.axis_2\">\r\n    <g id=\"ytick_1\">\r\n     <g id=\"line2d_3\">\r\n      <defs>\r\n       <path d=\"M 0 0 \r\nL -3.5 0 \r\n\" id=\"mdae225f609\" style=\"stroke:#000000;stroke-width:0.8;\"/>\r\n      </defs>\r\n      <g>\r\n       <use style=\"stroke:#000000;stroke-width:0.8;\" x=\"26.925\" xlink:href=\"#mdae225f609\" y=\"10.999219\"/>\r\n      </g>\r\n     </g>\r\n     <g id=\"text_3\">\r\n      <!-- 0 -->\r\n      <g transform=\"translate(13.5625 14.798437)scale(0.1 -0.1)\">\r\n       <use xlink:href=\"#DejaVuSans-30\"/>\r\n      </g>\r\n     </g>\r\n    </g>\r\n    <g id=\"ytick_2\">\r\n     <g id=\"line2d_4\">\r\n      <g>\r\n       <use style=\"stroke:#000000;stroke-width:0.8;\" x=\"26.925\" xlink:href=\"#mdae225f609\" y=\"44.974219\"/>\r\n      </g>\r\n     </g>\r\n     <g id=\"text_4\">\r\n      <!-- 10 -->\r\n      <g transform=\"translate(7.2 48.773437)scale(0.1 -0.1)\">\r\n       <defs>\r\n        <path d=\"M 794 531 \r\nL 1825 531 \r\nL 1825 4091 \r\nL 703 3866 \r\nL 703 4441 \r\nL 1819 4666 \r\nL 2450 4666 \r\nL 2450 531 \r\nL 3481 531 \r\nL 3481 0 \r\nL 794 0 \r\nL 794 531 \r\nz\r\n\" id=\"DejaVuSans-31\" transform=\"scale(0.015625)\"/>\r\n       </defs>\r\n       <use xlink:href=\"#DejaVuSans-31\"/>\r\n       <use x=\"63.623047\" xlink:href=\"#DejaVuSans-30\"/>\r\n      </g>\r\n     </g>\r\n    </g>\r\n    <g id=\"ytick_3\">\r\n     <g id=\"line2d_5\">\r\n      <g>\r\n       <use style=\"stroke:#000000;stroke-width:0.8;\" x=\"26.925\" xlink:href=\"#mdae225f609\" y=\"78.949219\"/>\r\n      </g>\r\n     </g>\r\n     <g id=\"text_5\">\r\n      <!-- 20 -->\r\n      <g transform=\"translate(7.2 82.748437)scale(0.1 -0.1)\">\r\n       <use xlink:href=\"#DejaVuSans-32\"/>\r\n       <use x=\"63.623047\" xlink:href=\"#DejaVuSans-30\"/>\r\n      </g>\r\n     </g>\r\n    </g>\r\n    <g id=\"ytick_4\">\r\n     <g id=\"line2d_6\">\r\n      <g>\r\n       <use style=\"stroke:#000000;stroke-width:0.8;\" x=\"26.925\" xlink:href=\"#mdae225f609\" y=\"112.924219\"/>\r\n      </g>\r\n     </g>\r\n     <g id=\"text_6\">\r\n      <!-- 30 -->\r\n      <g transform=\"translate(7.2 116.723437)scale(0.1 -0.1)\">\r\n       <defs>\r\n        <path d=\"M 2597 2516 \r\nQ 3050 2419 3304 2112 \r\nQ 3559 1806 3559 1356 \r\nQ 3559 666 3084 287 \r\nQ 2609 -91 1734 -91 \r\nQ 1441 -91 1130 -33 \r\nQ 819 25 488 141 \r\nL 488 750 \r\nQ 750 597 1062 519 \r\nQ 1375 441 1716 441 \r\nQ 2309 441 2620 675 \r\nQ 2931 909 2931 1356 \r\nQ 2931 1769 2642 2001 \r\nQ 2353 2234 1838 2234 \r\nL 1294 2234 \r\nL 1294 2753 \r\nL 1863 2753 \r\nQ 2328 2753 2575 2939 \r\nQ 2822 3125 2822 3475 \r\nQ 2822 3834 2567 4026 \r\nQ 2313 4219 1838 4219 \r\nQ 1578 4219 1281 4162 \r\nQ 984 4106 628 3988 \r\nL 628 4550 \r\nQ 988 4650 1302 4700 \r\nQ 1616 4750 1894 4750 \r\nQ 2613 4750 3031 4423 \r\nQ 3450 4097 3450 3541 \r\nQ 3450 3153 3228 2886 \r\nQ 3006 2619 2597 2516 \r\nz\r\n\" id=\"DejaVuSans-33\" transform=\"scale(0.015625)\"/>\r\n       </defs>\r\n       <use xlink:href=\"#DejaVuSans-33\"/>\r\n       <use x=\"63.623047\" xlink:href=\"#DejaVuSans-30\"/>\r\n      </g>\r\n     </g>\r\n    </g>\r\n   </g>\r\n   <g id=\"patch_3\">\r\n    <path d=\"M 26.925 118.020469 \r\nL 26.925 9.300469 \r\n\" style=\"fill:none;stroke:#000000;stroke-linecap:square;stroke-linejoin:miter;stroke-width:0.8;\"/>\r\n   </g>\r\n   <g id=\"patch_4\">\r\n    <path d=\"M 135.645 118.020469 \r\nL 135.645 9.300469 \r\n\" style=\"fill:none;stroke:#000000;stroke-linecap:square;stroke-linejoin:miter;stroke-width:0.8;\"/>\r\n   </g>\r\n   <g id=\"patch_5\">\r\n    <path d=\"M 26.925 118.020469 \r\nL 135.645 118.020469 \r\n\" style=\"fill:none;stroke:#000000;stroke-linecap:square;stroke-linejoin:miter;stroke-width:0.8;\"/>\r\n   </g>\r\n   <g id=\"patch_6\">\r\n    <path d=\"M 26.925 9.300469 \r\nL 135.645 9.300469 \r\n\" style=\"fill:none;stroke:#000000;stroke-linecap:square;stroke-linejoin:miter;stroke-width:0.8;\"/>\r\n   </g>\r\n  </g>\r\n </g>\r\n <defs>\r\n  <clipPath id=\"p4c8aefc956\">\r\n   <rect height=\"108.72\" width=\"108.72\" x=\"26.925\" y=\"9.300469\"/>\r\n  </clipPath>\r\n </defs>\r\n</svg>\r\n",
      "image/png": "[encoded data removed]"
     },
     "metadata": {
      "needs_background": "light"
     }
    }
   ],
   "source": [
    "plt.figure(figsize = (2, 2))\n",
    "plt.imshow(sample.detach().numpy())\n",
    "plt.show()"
   ]
  },
  {
   "cell_type": "code",
   "execution_count": 98,
   "metadata": {},
   "outputs": [],
   "source": [
    "class FirstCNN(nn.Module):\n",
    "    def __init__(self):\n",
    "        super(FirstCNN, self).__init__()\n",
    "        self.conv1 = nn.Conv2d(3, 10, 3, \n",
    "            # padding = (1, 1),\n",
    "            stride = (2, 2)\n",
    "        ) # (입력 채널의 수, 출력 채널의 수, 커널 사이즈) kernel size 3 => (3, 3)의 matrix\n",
    "\n",
    "    def forward(self, x):\n",
    "        y = self.conv1(x)\n",
    "        return y"
   ]
  },
  {
   "cell_type": "code",
   "execution_count": 99,
   "metadata": {},
   "outputs": [
    {
     "output_type": "execute_result",
     "data": {
      "text/plain": [
       "torch.Size([4, 10, 15, 15])"
      ]
     },
     "metadata": {},
     "execution_count": 99
    }
   ],
   "source": [
    "cnn = FirstCNN()\n",
    "out = cnn(images)\n",
    "out.shape"
   ]
  },
  {
   "cell_type": "code",
   "execution_count": 100,
   "metadata": {},
   "outputs": [
    {
     "output_type": "execute_result",
     "data": {
      "text/plain": [
       "torch.Size([15, 15])"
      ]
     },
     "metadata": {},
     "execution_count": 100
    }
   ],
   "source": [
    "sample = out[0, 0, :, :]\n",
    "sample.shape\n"
   ]
  },
  {
   "cell_type": "code",
   "execution_count": 101,
   "metadata": {},
   "outputs": [
    {
     "output_type": "display_data",
     "data": {
      "text/plain": "<Figure size 144x144 with 1 Axes>",
      "image/svg+xml": "<?xml version=\"1.0\" encoding=\"utf-8\" standalone=\"no\"?>\r\n<!DOCTYPE svg PUBLIC \"-//W3C//DTD SVG 1.1//EN\"\r\n  \"http://www.w3.org/Graphics/SVG/1.1/DTD/svg11.dtd\">\r\n<svg height=\"139.973344pt\" version=\"1.1\" viewBox=\"0 0 142.845 139.973344\" width=\"142.845pt\" xmlns=\"http://www.w3.org/2000/svg\" xmlns:xlink=\"http://www.w3.org/1999/xlink\">\r\n <metadata>\r\n  <rdf:RDF xmlns:cc=\"http://creativecommons.org/ns#\" xmlns:dc=\"http://purl.org/dc/elements/1.1/\" xmlns:rdf=\"http://www.w3.org/1999/02/22-rdf-syntax-ns#\">\r\n   <cc:Work>\r\n    <dc:type rdf:resource=\"http://purl.org/dc/dcmitype/StillImage\"/>\r\n    <dc:date>2021-06-26T15:47:23.532238</dc:date>\r\n    <dc:format>image/svg+xml</dc:format>\r\n    <dc:creator>\r\n     <cc:Agent>\r\n      <dc:title>Matplotlib v3.4.2, https://matplotlib.org/</dc:title>\r\n     </cc:Agent>\r\n    </dc:creator>\r\n   </cc:Work>\r\n  </rdf:RDF>\r\n </metadata>\r\n <defs>\r\n  <style type=\"text/css\">*{stroke-linecap:butt;stroke-linejoin:round;}</style>\r\n </defs>\r\n <g id=\"figure_1\">\r\n  <g id=\"patch_1\">\r\n   <path d=\"M 0 139.973344 \r\nL 142.845 139.973344 \r\nL 142.845 0 \r\nL 0 0 \r\nz\r\n\" style=\"fill:none;\"/>\r\n  </g>\r\n  <g id=\"axes_1\">\r\n   <g id=\"patch_2\">\r\n    <path d=\"M 26.925 116.095219 \r\nL 135.645 116.095219 \r\nL 135.645 7.375219 \r\nL 26.925 7.375219 \r\nz\r\n\" style=\"fill:#ffffff;\"/>\r\n   </g>\r\n   <g clip-path=\"url(#p4d2e7ba11a)\">\r\n    <image height=\"109\" id=\"image0f5a7aa150\" transform=\"scale(1 -1)translate(0 -109)\" width=\"109\" x=\"26.925\" xlink:href=\"data:image/png;base64,\r\niVBORw0KGgoAAAANSUhEUgAAAG0AAABtCAYAAACr+O9WAAAFaUlEQVR4nO2dy2ucVRjG35n55ut8k0kyuUySmjY1sSQ2tZbYlgYXbgSLiIqCC5du3Cq4FHQpVNzoqoKQfREE3SmISrxSbU0b0hhNmFxMM7kNk8ncJ/4Fzxtw5SPPb/twcmbmlwPnfOe854u98v3rRwb4aXEURWZmlv3lBMyK51swOwrbMEvuBG6fjb4mzC6O52HWPIrDbH7lIbfPTPYQZrGve9y2iNIj+PcxMxud/Btm+JuI/yySRoikESJphEgaIZJGSGzkxnU45Q97qm7jxN0MzI4SuF28jrPG4wdun40iXmZYOwajWANnT0z96fZ5ax4vfXKn9mGWTOBpfehkZmavnZ6FmUYaIZJGiKQRImmESBohkkaIpBESJPfwgiq5gtdhZmbRFlzi2RFeFtnhSWc95bQzM7s0uQyzdIAXgL99+hjM5gvjbp+Jc3hrpj9dhtlzg3Mwm478teHt6gjMNNIIkTRCJI0QSSNE0giRNEKCRq4Bw0QldBs303h+nv0DT79j7STM9ro73D7zGXz66eepmzB7+QW8pXPY9L/nU/1LMJu5Nw2zjz97HmYf9eHlkplZswPnGmmESBohkkaIpBEiaYRIGiHBpYkVGM51+oUJ+yU8VW5GOKvm8HQ2te0/5q99lYPZm0OXYXa/MID/5nKn22d4BZ+cenHid5h9nsA7C0GAi1DMzIa7SjDTSCNE0giRNEIkjRBJI0TSCAnWD7phmEn7BRi7TjFEvRtP65u9eGdh6EencsPMtl/Fh2w2Kvi7VDbxIaW4dwrJzO4uD8OsdhrXiHd14N+v+Gu/2+fZa3/BTCONEEkjRNIIkTRCJI0QSSNE0giJjcy8BxdUE2c23cbjXVswW3jjPO509jbMom8G3T43DrpgNpVbg1mhitdp9bZ/H9e9ZbxFFUs4p6qcwv0w7dwWYGbtFh5PGmmESBohkkaIpBEiaYRIGiFBehFvr6wtnHEb50OcJ6/gdm99gqfm737rNDSzqLcCs7Zz5W3TuaxrMIVPPpmZbQ8WYfbs8DzMZm49CbP2kl/PbqN4C0ojjRBJI0TSCJE0QiSNEEkjJDb2/gfwMXUcH5oyM7Oxm3gqvPI2nmLXa/ip+tXRFbfPjTI+cVWq4aKPvV3n6t5D/yl/0rkW2Lue98KjqzBbmPXfLtKKVHP9v0LSCJE0QiSNEEkjRNIICfru4Klledh3WhtIw6zzC3yV0vV3bsDsw/Wn3T7z9/HBn/QaXmb07uLvWe3zCzAaO/jqp+wmbrv13cMwa190u7R2Gtd5a6QRImmESBohkkaIpBEiaYRIGiHB1jO4ECC56rwV0MzKQ3gtll3Cp6a8tzvcyZ9y+xyfwW8yLFzGxRne2xGPI17HazHnAJhLH75Sy8zMKgP4t9VII0TSCJE0QiSNEEkjRNIICXpm8bS+1uNvWRSu4u2Dnjl8lOvLa7geu/OlyO2zPIJPXFX6nZfpObfPhn79hSW8F6038JZPO+F8Hv8FGJZ+gD+wRhohkkaIpBEiaYRIGiGSRkhQHsbT0syqPy9tpfBceGsaP3EPS/iNE8kDv8/DHP4/q/fiaXK0idtFBf9tFLVu/Bu1Ujir41oRaxxTch0W8d/VSCNE0giRNEIkjRBJI0TSCAncx83+Q35L7eDMq9eu9OP/lcw63jkwMyufxMuM6IEzTXY+z/7ZYwpNzuFDSpFzQ2rsBzznb1wou302lnFxi0YaIZJGiKQRImmESBohkkaIpBESZBfxOi1Z9rdJimN4zdQK/13Rgvc3zcyiAv5MsRbu88Q+3n6pOqe4zMziaymYhZP42tpUHvfZu+AXt5ScOhSNNEIkjRBJI0TSCJE0QiSNkH8AwE8136GusTUAAAAASUVORK5CYII=\" y=\"-7.095219\"/>\r\n   </g>\r\n   <g id=\"matplotlib.axis_1\">\r\n    <g id=\"xtick_1\">\r\n     <g id=\"line2d_1\">\r\n      <defs>\r\n       <path d=\"M 0 0 \r\nL 0 3.5 \r\n\" id=\"m41fc21625f\" style=\"stroke:#000000;stroke-width:0.8;\"/>\r\n      </defs>\r\n      <g>\r\n       <use style=\"stroke:#000000;stroke-width:0.8;\" x=\"30.549\" xlink:href=\"#m41fc21625f\" y=\"116.095219\"/>\r\n      </g>\r\n     </g>\r\n     <g id=\"text_1\">\r\n      <!-- 0 -->\r\n      <g transform=\"translate(27.36775 130.693656)scale(0.1 -0.1)\">\r\n       <defs>\r\n        <path d=\"M 2034 4250 \r\nQ 1547 4250 1301 3770 \r\nQ 1056 3291 1056 2328 \r\nQ 1056 1369 1301 889 \r\nQ 1547 409 2034 409 \r\nQ 2525 409 2770 889 \r\nQ 3016 1369 3016 2328 \r\nQ 3016 3291 2770 3770 \r\nQ 2525 4250 2034 4250 \r\nz\r\nM 2034 4750 \r\nQ 2819 4750 3233 4129 \r\nQ 3647 3509 3647 2328 \r\nQ 3647 1150 3233 529 \r\nQ 2819 -91 2034 -91 \r\nQ 1250 -91 836 529 \r\nQ 422 1150 422 2328 \r\nQ 422 3509 836 4129 \r\nQ 1250 4750 2034 4750 \r\nz\r\n\" id=\"DejaVuSans-30\" transform=\"scale(0.015625)\"/>\r\n       </defs>\r\n       <use xlink:href=\"#DejaVuSans-30\"/>\r\n      </g>\r\n     </g>\r\n    </g>\r\n    <g id=\"xtick_2\">\r\n     <g id=\"line2d_2\">\r\n      <g>\r\n       <use style=\"stroke:#000000;stroke-width:0.8;\" x=\"66.789\" xlink:href=\"#m41fc21625f\" y=\"116.095219\"/>\r\n      </g>\r\n     </g>\r\n     <g id=\"text_2\">\r\n      <!-- 5 -->\r\n      <g transform=\"translate(63.60775 130.693656)scale(0.1 -0.1)\">\r\n       <defs>\r\n        <path d=\"M 691 4666 \r\nL 3169 4666 \r\nL 3169 4134 \r\nL 1269 4134 \r\nL 1269 2991 \r\nQ 1406 3038 1543 3061 \r\nQ 1681 3084 1819 3084 \r\nQ 2600 3084 3056 2656 \r\nQ 3513 2228 3513 1497 \r\nQ 3513 744 3044 326 \r\nQ 2575 -91 1722 -91 \r\nQ 1428 -91 1123 -41 \r\nQ 819 9 494 109 \r\nL 494 744 \r\nQ 775 591 1075 516 \r\nQ 1375 441 1709 441 \r\nQ 2250 441 2565 725 \r\nQ 2881 1009 2881 1497 \r\nQ 2881 1984 2565 2268 \r\nQ 2250 2553 1709 2553 \r\nQ 1456 2553 1204 2497 \r\nQ 953 2441 691 2322 \r\nL 691 4666 \r\nz\r\n\" id=\"DejaVuSans-35\" transform=\"scale(0.015625)\"/>\r\n       </defs>\r\n       <use xlink:href=\"#DejaVuSans-35\"/>\r\n      </g>\r\n     </g>\r\n    </g>\r\n    <g id=\"xtick_3\">\r\n     <g id=\"line2d_3\">\r\n      <g>\r\n       <use style=\"stroke:#000000;stroke-width:0.8;\" x=\"103.029\" xlink:href=\"#m41fc21625f\" y=\"116.095219\"/>\r\n      </g>\r\n     </g>\r\n     <g id=\"text_3\">\r\n      <!-- 10 -->\r\n      <g transform=\"translate(96.6665 130.693656)scale(0.1 -0.1)\">\r\n       <defs>\r\n        <path d=\"M 794 531 \r\nL 1825 531 \r\nL 1825 4091 \r\nL 703 3866 \r\nL 703 4441 \r\nL 1819 4666 \r\nL 2450 4666 \r\nL 2450 531 \r\nL 3481 531 \r\nL 3481 0 \r\nL 794 0 \r\nL 794 531 \r\nz\r\n\" id=\"DejaVuSans-31\" transform=\"scale(0.015625)\"/>\r\n       </defs>\r\n       <use xlink:href=\"#DejaVuSans-31\"/>\r\n       <use x=\"63.623047\" xlink:href=\"#DejaVuSans-30\"/>\r\n      </g>\r\n     </g>\r\n    </g>\r\n   </g>\r\n   <g id=\"matplotlib.axis_2\">\r\n    <g id=\"ytick_1\">\r\n     <g id=\"line2d_4\">\r\n      <defs>\r\n       <path d=\"M 0 0 \r\nL -3.5 0 \r\n\" id=\"mdd1bc3a535\" style=\"stroke:#000000;stroke-width:0.8;\"/>\r\n      </defs>\r\n      <g>\r\n       <use style=\"stroke:#000000;stroke-width:0.8;\" x=\"26.925\" xlink:href=\"#mdd1bc3a535\" y=\"10.999219\"/>\r\n      </g>\r\n     </g>\r\n     <g id=\"text_4\">\r\n      <!-- 0 -->\r\n      <g transform=\"translate(13.5625 14.798437)scale(0.1 -0.1)\">\r\n       <use xlink:href=\"#DejaVuSans-30\"/>\r\n      </g>\r\n     </g>\r\n    </g>\r\n    <g id=\"ytick_2\">\r\n     <g id=\"line2d_5\">\r\n      <g>\r\n       <use style=\"stroke:#000000;stroke-width:0.8;\" x=\"26.925\" xlink:href=\"#mdd1bc3a535\" y=\"47.239219\"/>\r\n      </g>\r\n     </g>\r\n     <g id=\"text_5\">\r\n      <!-- 5 -->\r\n      <g transform=\"translate(13.5625 51.038437)scale(0.1 -0.1)\">\r\n       <use xlink:href=\"#DejaVuSans-35\"/>\r\n      </g>\r\n     </g>\r\n    </g>\r\n    <g id=\"ytick_3\">\r\n     <g id=\"line2d_6\">\r\n      <g>\r\n       <use style=\"stroke:#000000;stroke-width:0.8;\" x=\"26.925\" xlink:href=\"#mdd1bc3a535\" y=\"83.479219\"/>\r\n      </g>\r\n     </g>\r\n     <g id=\"text_6\">\r\n      <!-- 10 -->\r\n      <g transform=\"translate(7.2 87.278437)scale(0.1 -0.1)\">\r\n       <use xlink:href=\"#DejaVuSans-31\"/>\r\n       <use x=\"63.623047\" xlink:href=\"#DejaVuSans-30\"/>\r\n      </g>\r\n     </g>\r\n    </g>\r\n   </g>\r\n   <g id=\"patch_3\">\r\n    <path d=\"M 26.925 116.095219 \r\nL 26.925 7.375219 \r\n\" style=\"fill:none;stroke:#000000;stroke-linecap:square;stroke-linejoin:miter;stroke-width:0.8;\"/>\r\n   </g>\r\n   <g id=\"patch_4\">\r\n    <path d=\"M 135.645 116.095219 \r\nL 135.645 7.375219 \r\n\" style=\"fill:none;stroke:#000000;stroke-linecap:square;stroke-linejoin:miter;stroke-width:0.8;\"/>\r\n   </g>\r\n   <g id=\"patch_5\">\r\n    <path d=\"M 26.925 116.095219 \r\nL 135.645 116.095219 \r\n\" style=\"fill:none;stroke:#000000;stroke-linecap:square;stroke-linejoin:miter;stroke-width:0.8;\"/>\r\n   </g>\r\n   <g id=\"patch_6\">\r\n    <path d=\"M 26.925 7.375219 \r\nL 135.645 7.375219 \r\n\" style=\"fill:none;stroke:#000000;stroke-linecap:square;stroke-linejoin:miter;stroke-width:0.8;\"/>\r\n   </g>\r\n  </g>\r\n </g>\r\n <defs>\r\n  <clipPath id=\"p4d2e7ba11a\">\r\n   <rect height=\"108.72\" width=\"108.72\" x=\"26.925\" y=\"7.375219\"/>\r\n  </clipPath>\r\n </defs>\r\n</svg>\r\n",
      "image/png": "[encoded data removed]"
     },
     "metadata": {
      "needs_background": "light"
     }
    }
   ],
   "source": [
    "plt.figure(figsize = (2, 2))\n",
    "plt.imshow(sample.detach().numpy())\n",
    "plt.show()"
   ]
  },
  {
   "cell_type": "code",
   "execution_count": 102,
   "metadata": {},
   "outputs": [],
   "source": [
    "# DeepCNN\n",
    "class DeepCNN(nn.Module):\n",
    "    def __init__(self):\n",
    "        super(DeepCNN, self).__init__()\n",
    "        self.model = nn.Sequential(\n",
    "            nn.Conv2d(3, 10, 3),\n",
    "            nn.Conv2d(10, 5, 3)\n",
    "        )\n",
    "\n",
    "    def forward(self, x):\n",
    "        y = self.model(x)\n",
    "        return y"
   ]
  },
  {
   "cell_type": "code",
   "execution_count": 103,
   "metadata": {},
   "outputs": [],
   "source": [
    "# DeepCNN 클래스에서\n",
    "# 1st CNN Layer : Kernel size = (3, 3) | output 채널의 수 = 10 | padding (0, 0) | stride = (1, 1)\n",
    "# 2st CNN Layer : Kernel size = (3, 3) | output 채널의 수 = 5 | padding (0, 0) | stride = (1, 1)"
   ]
  },
  {
   "cell_type": "code",
   "execution_count": 104,
   "metadata": {},
   "outputs": [
    {
     "output_type": "stream",
     "name": "stdout",
     "text": [
      "torch.Size([4, 5, 28, 28])\n"
     ]
    }
   ],
   "source": [
    "deep = DeepCNN()\n",
    "out = deep(images)\n",
    "print(out.shape)"
   ]
  },
  {
   "cell_type": "code",
   "execution_count": 105,
   "metadata": {},
   "outputs": [
    {
     "output_type": "display_data",
     "data": {
      "text/plain": "<Figure size 144x144 with 1 Axes>",
      "image/svg+xml": "<?xml version=\"1.0\" encoding=\"utf-8\" standalone=\"no\"?>\r\n<!DOCTYPE svg PUBLIC \"-//W3C//DTD SVG 1.1//EN\"\r\n  \"http://www.w3.org/Graphics/SVG/1.1/DTD/svg11.dtd\">\r\n<svg height=\"141.655915pt\" version=\"1.1\" viewBox=\"0 0 142.845 141.655915\" width=\"142.845pt\" xmlns=\"http://www.w3.org/2000/svg\" xmlns:xlink=\"http://www.w3.org/1999/xlink\">\r\n <metadata>\r\n  <rdf:RDF xmlns:cc=\"http://creativecommons.org/ns#\" xmlns:dc=\"http://purl.org/dc/elements/1.1/\" xmlns:rdf=\"http://www.w3.org/1999/02/22-rdf-syntax-ns#\">\r\n   <cc:Work>\r\n    <dc:type rdf:resource=\"http://purl.org/dc/dcmitype/StillImage\"/>\r\n    <dc:date>2021-06-26T15:52:48.210168</dc:date>\r\n    <dc:format>image/svg+xml</dc:format>\r\n    <dc:creator>\r\n     <cc:Agent>\r\n      <dc:title>Matplotlib v3.4.2, https://matplotlib.org/</dc:title>\r\n     </cc:Agent>\r\n    </dc:creator>\r\n   </cc:Work>\r\n  </rdf:RDF>\r\n </metadata>\r\n <defs>\r\n  <style type=\"text/css\">*{stroke-linecap:butt;stroke-linejoin:round;}</style>\r\n </defs>\r\n <g id=\"figure_1\">\r\n  <g id=\"patch_1\">\r\n   <path d=\"M 0 141.655915 \r\nL 142.845 141.655915 \r\nL 142.845 0 \r\nL 0 0 \r\nz\r\n\" style=\"fill:none;\"/>\r\n  </g>\r\n  <g id=\"axes_1\">\r\n   <g id=\"patch_2\">\r\n    <path d=\"M 26.925 117.77779 \r\nL 135.645 117.77779 \r\nL 135.645 9.05779 \r\nL 26.925 9.05779 \r\nz\r\n\" style=\"fill:#ffffff;\"/>\r\n   </g>\r\n   <g clip-path=\"url(#p36cf322047)\">\r\n    <image height=\"109\" id=\"imagee0a16cc9d8\" transform=\"scale(1 -1)translate(0 -109)\" width=\"109\" x=\"26.925\" xlink:href=\"data:image/png;base64,\r\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\" y=\"-8.77779\"/>\r\n   </g>\r\n   <g id=\"matplotlib.axis_1\">\r\n    <g id=\"xtick_1\">\r\n     <g id=\"line2d_1\">\r\n      <defs>\r\n       <path d=\"M 0 0 \r\nL 0 3.5 \r\n\" id=\"me54f52e3bf\" style=\"stroke:#000000;stroke-width:0.8;\"/>\r\n      </defs>\r\n      <g>\r\n       <use style=\"stroke:#000000;stroke-width:0.8;\" x=\"28.866429\" xlink:href=\"#me54f52e3bf\" y=\"117.77779\"/>\r\n      </g>\r\n     </g>\r\n     <g id=\"text_1\">\r\n      <!-- 0 -->\r\n      <g transform=\"translate(25.685179 132.376228)scale(0.1 -0.1)\">\r\n       <defs>\r\n        <path d=\"M 2034 4250 \r\nQ 1547 4250 1301 3770 \r\nQ 1056 3291 1056 2328 \r\nQ 1056 1369 1301 889 \r\nQ 1547 409 2034 409 \r\nQ 2525 409 2770 889 \r\nQ 3016 1369 3016 2328 \r\nQ 3016 3291 2770 3770 \r\nQ 2525 4250 2034 4250 \r\nz\r\nM 2034 4750 \r\nQ 2819 4750 3233 4129 \r\nQ 3647 3509 3647 2328 \r\nQ 3647 1150 3233 529 \r\nQ 2819 -91 2034 -91 \r\nQ 1250 -91 836 529 \r\nQ 422 1150 422 2328 \r\nQ 422 3509 836 4129 \r\nQ 1250 4750 2034 4750 \r\nz\r\n\" id=\"DejaVuSans-30\" transform=\"scale(0.015625)\"/>\r\n       </defs>\r\n       <use xlink:href=\"#DejaVuSans-30\"/>\r\n      </g>\r\n     </g>\r\n    </g>\r\n    <g id=\"xtick_2\">\r\n     <g id=\"line2d_2\">\r\n      <g>\r\n       <use style=\"stroke:#000000;stroke-width:0.8;\" x=\"67.695\" xlink:href=\"#me54f52e3bf\" y=\"117.77779\"/>\r\n      </g>\r\n     </g>\r\n     <g id=\"text_2\">\r\n      <!-- 10 -->\r\n      <g transform=\"translate(61.3325 132.376228)scale(0.1 -0.1)\">\r\n       <defs>\r\n        <path d=\"M 794 531 \r\nL 1825 531 \r\nL 1825 4091 \r\nL 703 3866 \r\nL 703 4441 \r\nL 1819 4666 \r\nL 2450 4666 \r\nL 2450 531 \r\nL 3481 531 \r\nL 3481 0 \r\nL 794 0 \r\nL 794 531 \r\nz\r\n\" id=\"DejaVuSans-31\" transform=\"scale(0.015625)\"/>\r\n       </defs>\r\n       <use xlink:href=\"#DejaVuSans-31\"/>\r\n       <use x=\"63.623047\" xlink:href=\"#DejaVuSans-30\"/>\r\n      </g>\r\n     </g>\r\n    </g>\r\n    <g id=\"xtick_3\">\r\n     <g id=\"line2d_3\">\r\n      <g>\r\n       <use style=\"stroke:#000000;stroke-width:0.8;\" x=\"106.523571\" xlink:href=\"#me54f52e3bf\" y=\"117.77779\"/>\r\n      </g>\r\n     </g>\r\n     <g id=\"text_3\">\r\n      <!-- 20 -->\r\n      <g transform=\"translate(100.161071 132.376228)scale(0.1 -0.1)\">\r\n       <defs>\r\n        <path d=\"M 1228 531 \r\nL 3431 531 \r\nL 3431 0 \r\nL 469 0 \r\nL 469 531 \r\nQ 828 903 1448 1529 \r\nQ 2069 2156 2228 2338 \r\nQ 2531 2678 2651 2914 \r\nQ 2772 3150 2772 3378 \r\nQ 2772 3750 2511 3984 \r\nQ 2250 4219 1831 4219 \r\nQ 1534 4219 1204 4116 \r\nQ 875 4013 500 3803 \r\nL 500 4441 \r\nQ 881 4594 1212 4672 \r\nQ 1544 4750 1819 4750 \r\nQ 2544 4750 2975 4387 \r\nQ 3406 4025 3406 3419 \r\nQ 3406 3131 3298 2873 \r\nQ 3191 2616 2906 2266 \r\nQ 2828 2175 2409 1742 \r\nQ 1991 1309 1228 531 \r\nz\r\n\" id=\"DejaVuSans-32\" transform=\"scale(0.015625)\"/>\r\n       </defs>\r\n       <use xlink:href=\"#DejaVuSans-32\"/>\r\n       <use x=\"63.623047\" xlink:href=\"#DejaVuSans-30\"/>\r\n      </g>\r\n     </g>\r\n    </g>\r\n   </g>\r\n   <g id=\"matplotlib.axis_2\">\r\n    <g id=\"ytick_1\">\r\n     <g id=\"line2d_4\">\r\n      <defs>\r\n       <path d=\"M 0 0 \r\nL -3.5 0 \r\n\" id=\"md6bc9b1c04\" style=\"stroke:#000000;stroke-width:0.8;\"/>\r\n      </defs>\r\n      <g>\r\n       <use style=\"stroke:#000000;stroke-width:0.8;\" x=\"26.925\" xlink:href=\"#md6bc9b1c04\" y=\"10.999219\"/>\r\n      </g>\r\n     </g>\r\n     <g id=\"text_4\">\r\n      <!-- 0 -->\r\n      <g transform=\"translate(13.5625 14.798437)scale(0.1 -0.1)\">\r\n       <use xlink:href=\"#DejaVuSans-30\"/>\r\n      </g>\r\n     </g>\r\n    </g>\r\n    <g id=\"ytick_2\">\r\n     <g id=\"line2d_5\">\r\n      <g>\r\n       <use style=\"stroke:#000000;stroke-width:0.8;\" x=\"26.925\" xlink:href=\"#md6bc9b1c04\" y=\"49.82779\"/>\r\n      </g>\r\n     </g>\r\n     <g id=\"text_5\">\r\n      <!-- 10 -->\r\n      <g transform=\"translate(7.2 53.627009)scale(0.1 -0.1)\">\r\n       <use xlink:href=\"#DejaVuSans-31\"/>\r\n       <use x=\"63.623047\" xlink:href=\"#DejaVuSans-30\"/>\r\n      </g>\r\n     </g>\r\n    </g>\r\n    <g id=\"ytick_3\">\r\n     <g id=\"line2d_6\">\r\n      <g>\r\n       <use style=\"stroke:#000000;stroke-width:0.8;\" x=\"26.925\" xlink:href=\"#md6bc9b1c04\" y=\"88.656362\"/>\r\n      </g>\r\n     </g>\r\n     <g id=\"text_6\">\r\n      <!-- 20 -->\r\n      <g transform=\"translate(7.2 92.45558)scale(0.1 -0.1)\">\r\n       <use xlink:href=\"#DejaVuSans-32\"/>\r\n       <use x=\"63.623047\" xlink:href=\"#DejaVuSans-30\"/>\r\n      </g>\r\n     </g>\r\n    </g>\r\n   </g>\r\n   <g id=\"patch_3\">\r\n    <path d=\"M 26.925 117.77779 \r\nL 26.925 9.05779 \r\n\" style=\"fill:none;stroke:#000000;stroke-linecap:square;stroke-linejoin:miter;stroke-width:0.8;\"/>\r\n   </g>\r\n   <g id=\"patch_4\">\r\n    <path d=\"M 135.645 117.77779 \r\nL 135.645 9.05779 \r\n\" style=\"fill:none;stroke:#000000;stroke-linecap:square;stroke-linejoin:miter;stroke-width:0.8;\"/>\r\n   </g>\r\n   <g id=\"patch_5\">\r\n    <path d=\"M 26.925 117.77779 \r\nL 135.645 117.77779 \r\n\" style=\"fill:none;stroke:#000000;stroke-linecap:square;stroke-linejoin:miter;stroke-width:0.8;\"/>\r\n   </g>\r\n   <g id=\"patch_6\">\r\n    <path d=\"M 26.925 9.05779 \r\nL 135.645 9.05779 \r\n\" style=\"fill:none;stroke:#000000;stroke-linecap:square;stroke-linejoin:miter;stroke-width:0.8;\"/>\r\n   </g>\r\n  </g>\r\n </g>\r\n <defs>\r\n  <clipPath id=\"p36cf322047\">\r\n   <rect height=\"108.72\" width=\"108.72\" x=\"26.925\" y=\"9.05779\"/>\r\n  </clipPath>\r\n </defs>\r\n</svg>\r\n",
      "image/png": "[encoded data removed]"
     },
     "metadata": {
      "needs_background": "light"
     }
    }
   ],
   "source": [
    "sample = out[0, 0, :, :]\n",
    "plt.figure(figsize = (2, 2))\n",
    "plt.imshow(sample.detach().numpy())\n",
    "plt.show()"
   ]
  },
  {
   "cell_type": "code",
   "execution_count": 106,
   "metadata": {},
   "outputs": [],
   "source": [
    "# PoolingCNN\n",
    "class avg_pool(nn.Module):\n",
    "    def __init__(self):\n",
    "        super(avg_pool, self).__init__()\n",
    "        self.model = nn.Sequential(\n",
    "            nn.Conv2d(3, 10, 3),\n",
    "            nn.Conv2d(10, 5, 3),\n",
    "            nn.AvgPool2d(2, stride = 2)\n",
    "        )\n",
    "\n",
    "    def forward(self, x):\n",
    "        y = self.model(x)\n",
    "        return y"
   ]
  },
  {
   "cell_type": "code",
   "execution_count": 107,
   "metadata": {},
   "outputs": [
    {
     "output_type": "stream",
     "name": "stdout",
     "text": [
      "torch.Size([4, 5, 14, 14])\n"
     ]
    }
   ],
   "source": [
    "avg = avg_pool()\n",
    "out = avg(images)\n",
    "print(out.shape)"
   ]
  },
  {
   "cell_type": "code",
   "execution_count": 108,
   "metadata": {},
   "outputs": [
    {
     "output_type": "display_data",
     "data": {
      "text/plain": "<Figure size 144x144 with 1 Axes>",
      "image/svg+xml": "<?xml version=\"1.0\" encoding=\"utf-8\" standalone=\"no\"?>\r\n<!DOCTYPE svg PUBLIC \"-//W3C//DTD SVG 1.1//EN\"\r\n  \"http://www.w3.org/Graphics/SVG/1.1/DTD/svg11.dtd\">\r\n<svg height=\"139.798125pt\" version=\"1.1\" viewBox=\"0 0 142.845 139.798125\" width=\"142.845pt\" xmlns=\"http://www.w3.org/2000/svg\" xmlns:xlink=\"http://www.w3.org/1999/xlink\">\r\n <metadata>\r\n  <rdf:RDF xmlns:cc=\"http://creativecommons.org/ns#\" xmlns:dc=\"http://purl.org/dc/elements/1.1/\" xmlns:rdf=\"http://www.w3.org/1999/02/22-rdf-syntax-ns#\">\r\n   <cc:Work>\r\n    <dc:type rdf:resource=\"http://purl.org/dc/dcmitype/StillImage\"/>\r\n    <dc:date>2021-06-26T15:55:30.609966</dc:date>\r\n    <dc:format>image/svg+xml</dc:format>\r\n    <dc:creator>\r\n     <cc:Agent>\r\n      <dc:title>Matplotlib v3.4.2, https://matplotlib.org/</dc:title>\r\n     </cc:Agent>\r\n    </dc:creator>\r\n   </cc:Work>\r\n  </rdf:RDF>\r\n </metadata>\r\n <defs>\r\n  <style type=\"text/css\">*{stroke-linecap:butt;stroke-linejoin:round;}</style>\r\n </defs>\r\n <g id=\"figure_1\">\r\n  <g id=\"patch_1\">\r\n   <path d=\"M 0 139.798125 \r\nL 142.845 139.798125 \r\nL 142.845 0 \r\nL 0 0 \r\nz\r\n\" style=\"fill:none;\"/>\r\n  </g>\r\n  <g id=\"axes_1\">\r\n   <g id=\"patch_2\">\r\n    <path d=\"M 26.925 115.92 \r\nL 135.645 115.92 \r\nL 135.645 7.2 \r\nL 26.925 7.2 \r\nz\r\n\" style=\"fill:#ffffff;\"/>\r\n   </g>\r\n   <g clip-path=\"url(#p92ee42f95a)\">\r\n    <image height=\"109\" id=\"image0192860814\" transform=\"scale(1 -1)translate(0 -109)\" width=\"109\" x=\"26.925\" xlink:href=\"data:image/png;base64,\r\niVBORw0KGgoAAAANSUhEUgAAAG0AAABtCAYAAACr+O9WAAAE/ElEQVR4nO2d/0vcdRzH3x/vc54zT+9mKpPzSy4Vzb5uzQljYwbbGE4WDIoFEUX1UwxWEVE/BDEiyEYziiwIgvopyNGwX2oi4nLUvhitxSyXY3NqXuqders77+wveD2vH3vC8/Hr81735fPgDffi9f68P17jyfc2HKB8qgjFLl1hZ6n6LKwNlK3DPDi5CX92NG9mdd/bmXPO+cdmYf5s3RjMnwrHYX70+l4zOxH7FtZ2f3cc5tiI+F8iaYRIGiGSRoikESJphEgaId62Z/pgn7Z8L36DbDkoj2ZgbeXmFZj31P0K88G/HjCz1bUQrN3RMA3zizMxmBePlOP8wN9mtpTE/Wc+j9eSVhohkkaIpBEiaYRIGiGSRoikEeKvbfEKvAS2cS6YsOujzQlYO/9HJczPuA6YJycjZvbKQTyzGujvhXn70UmYT8TCME+A3xZuWIa191XhWZ9WGiGSRoikESJphEgaIZJGiO+v4hdseLglWGuyt8klU3g8smfHbzAf/RPPhYoy9nf78o0eWLvUjbfYhYNpmL/aexrm+Q37u91I41bn2ko1zLXSCJE0QiSNEEkjRNIIkTRCJI0QP4snDC6YxPndP/pmtrALbxUbyzTB/MKej2A+nKoys9fTT8PawUPvw/zI+AswH1loh3lw0V4PmRp8i1flefuaOqeVRomkESJphEgaIZJGiKQRImmE+KnWO/AFoXE8E1uttedGna1TsPb8L3he9s1KA8y/nt1mZnkfb/3rn3sM5h21t2F+eW4rzDNVOTMrvxKEtdkyGGulMSJphEgaIZJGiKQRImmESBohfmAW92HFh+yjFZxz7uWtw2b21YFdsDZwAh9Zsb8U93l9Q0fMLNOMjy0cncazvC1RfJuWtxnvi/Ti9nVNtOJ52if7Poe5VhohkkaIpBEiaYRIGiGSRoikEeJ9/PtuOHh659xB+AYtz/1sZrcH22Dtm+1DMH/t7BMwdz64xyyH76srdLx8xUgJzJN712Cen7H3fIYa8WbS8lI849RKI0TSCJE0QiSNEEkjRNII8dN5vJ0rdiYA88n+TjO7+uiHsHb7yWMw73r8Ksynlu2jHWrL8ElvE9P4NPCu5y/CfOgKPiHPA8uhrXoO1l6+UQdzrTRCJI0QSSNE0giRNEIkjRBJI8TrfBI/fXfhcAq+QW7d9t7dcg3W/vAT7nUCBbap3R+7ZWaL6VJYmyvw5KRCfd7OCN7ed2p4v5l5WTw2Guj9FOZaaYRIGiGSRoikESJphEgaIZJGiB/vwD1D2V14O1dLpX0r1NnJFljbsxPPrMYGtsP8Ulc9zCFpPCdsfDAO8w9G98G8pMbeYvdw7U1Y2x7EPaJWGiGSRoikESJphEgaIZJGiKQR4jW/3QfnaSULuI9766UvzCxchGdxx0+9CPNEBz5Wwo/bR6EXF3jy79oyPn6+qX4e5jfjEZgjCh13kUwXw1wrjRBJI0TSCJE0QiSNEEkjxKv/7F34lz80g2+Fym2yy3PV+JS5yDj+a5uqwe2G/9CSma1fisDa4kcWYZ6YL3BkdxA/vddL2Ndto8Q+Sdw551we/26tNEIkjRBJI0TSCJE0QiSNEEkjxIcnuf0HQv/YPUUmj/uwTAT3I7m2FZzfsXshvEHOufREFOZV1/FToRbxw3fdPaftsdSt3fg2rGwF/mytNEIkjRBJI0TSCJE0QiSNEEkj5F+tTRf5rSaH8wAAAABJRU5ErkJggg==\" y=\"-6.92\"/>\r\n   </g>\r\n   <g id=\"matplotlib.axis_1\">\r\n    <g id=\"xtick_1\">\r\n     <g id=\"line2d_1\">\r\n      <defs>\r\n       <path d=\"M 0 0 \r\nL 0 3.5 \r\n\" id=\"m8a005b24eb\" style=\"stroke:#000000;stroke-width:0.8;\"/>\r\n      </defs>\r\n      <g>\r\n       <use style=\"stroke:#000000;stroke-width:0.8;\" x=\"30.807857\" xlink:href=\"#m8a005b24eb\" y=\"115.92\"/>\r\n      </g>\r\n     </g>\r\n     <g id=\"text_1\">\r\n      <!-- 0 -->\r\n      <g transform=\"translate(27.626607 130.518437)scale(0.1 -0.1)\">\r\n       <defs>\r\n        <path d=\"M 2034 4250 \r\nQ 1547 4250 1301 3770 \r\nQ 1056 3291 1056 2328 \r\nQ 1056 1369 1301 889 \r\nQ 1547 409 2034 409 \r\nQ 2525 409 2770 889 \r\nQ 3016 1369 3016 2328 \r\nQ 3016 3291 2770 3770 \r\nQ 2525 4250 2034 4250 \r\nz\r\nM 2034 4750 \r\nQ 2819 4750 3233 4129 \r\nQ 3647 3509 3647 2328 \r\nQ 3647 1150 3233 529 \r\nQ 2819 -91 2034 -91 \r\nQ 1250 -91 836 529 \r\nQ 422 1150 422 2328 \r\nQ 422 3509 836 4129 \r\nQ 1250 4750 2034 4750 \r\nz\r\n\" id=\"DejaVuSans-30\" transform=\"scale(0.015625)\"/>\r\n       </defs>\r\n       <use xlink:href=\"#DejaVuSans-30\"/>\r\n      </g>\r\n     </g>\r\n    </g>\r\n    <g id=\"xtick_2\">\r\n     <g id=\"line2d_2\">\r\n      <g>\r\n       <use style=\"stroke:#000000;stroke-width:0.8;\" x=\"69.636429\" xlink:href=\"#m8a005b24eb\" y=\"115.92\"/>\r\n      </g>\r\n     </g>\r\n     <g id=\"text_2\">\r\n      <!-- 5 -->\r\n      <g transform=\"translate(66.455179 130.518437)scale(0.1 -0.1)\">\r\n       <defs>\r\n        <path d=\"M 691 4666 \r\nL 3169 4666 \r\nL 3169 4134 \r\nL 1269 4134 \r\nL 1269 2991 \r\nQ 1406 3038 1543 3061 \r\nQ 1681 3084 1819 3084 \r\nQ 2600 3084 3056 2656 \r\nQ 3513 2228 3513 1497 \r\nQ 3513 744 3044 326 \r\nQ 2575 -91 1722 -91 \r\nQ 1428 -91 1123 -41 \r\nQ 819 9 494 109 \r\nL 494 744 \r\nQ 775 591 1075 516 \r\nQ 1375 441 1709 441 \r\nQ 2250 441 2565 725 \r\nQ 2881 1009 2881 1497 \r\nQ 2881 1984 2565 2268 \r\nQ 2250 2553 1709 2553 \r\nQ 1456 2553 1204 2497 \r\nQ 953 2441 691 2322 \r\nL 691 4666 \r\nz\r\n\" id=\"DejaVuSans-35\" transform=\"scale(0.015625)\"/>\r\n       </defs>\r\n       <use xlink:href=\"#DejaVuSans-35\"/>\r\n      </g>\r\n     </g>\r\n    </g>\r\n    <g id=\"xtick_3\">\r\n     <g id=\"line2d_3\">\r\n      <g>\r\n       <use style=\"stroke:#000000;stroke-width:0.8;\" x=\"108.465\" xlink:href=\"#m8a005b24eb\" y=\"115.92\"/>\r\n      </g>\r\n     </g>\r\n     <g id=\"text_3\">\r\n      <!-- 10 -->\r\n      <g transform=\"translate(102.1025 130.518437)scale(0.1 -0.1)\">\r\n       <defs>\r\n        <path d=\"M 794 531 \r\nL 1825 531 \r\nL 1825 4091 \r\nL 703 3866 \r\nL 703 4441 \r\nL 1819 4666 \r\nL 2450 4666 \r\nL 2450 531 \r\nL 3481 531 \r\nL 3481 0 \r\nL 794 0 \r\nL 794 531 \r\nz\r\n\" id=\"DejaVuSans-31\" transform=\"scale(0.015625)\"/>\r\n       </defs>\r\n       <use xlink:href=\"#DejaVuSans-31\"/>\r\n       <use x=\"63.623047\" xlink:href=\"#DejaVuSans-30\"/>\r\n      </g>\r\n     </g>\r\n    </g>\r\n   </g>\r\n   <g id=\"matplotlib.axis_2\">\r\n    <g id=\"ytick_1\">\r\n     <g id=\"line2d_4\">\r\n      <defs>\r\n       <path d=\"M 0 0 \r\nL -3.5 0 \r\n\" id=\"m7fbe01d090\" style=\"stroke:#000000;stroke-width:0.8;\"/>\r\n      </defs>\r\n      <g>\r\n       <use style=\"stroke:#000000;stroke-width:0.8;\" x=\"26.925\" xlink:href=\"#m7fbe01d090\" y=\"11.082857\"/>\r\n      </g>\r\n     </g>\r\n     <g id=\"text_4\">\r\n      <!-- 0 -->\r\n      <g transform=\"translate(13.5625 14.882076)scale(0.1 -0.1)\">\r\n       <use xlink:href=\"#DejaVuSans-30\"/>\r\n      </g>\r\n     </g>\r\n    </g>\r\n    <g id=\"ytick_2\">\r\n     <g id=\"line2d_5\">\r\n      <g>\r\n       <use style=\"stroke:#000000;stroke-width:0.8;\" x=\"26.925\" xlink:href=\"#m7fbe01d090\" y=\"49.911429\"/>\r\n      </g>\r\n     </g>\r\n     <g id=\"text_5\">\r\n      <!-- 5 -->\r\n      <g transform=\"translate(13.5625 53.710647)scale(0.1 -0.1)\">\r\n       <use xlink:href=\"#DejaVuSans-35\"/>\r\n      </g>\r\n     </g>\r\n    </g>\r\n    <g id=\"ytick_3\">\r\n     <g id=\"line2d_6\">\r\n      <g>\r\n       <use style=\"stroke:#000000;stroke-width:0.8;\" x=\"26.925\" xlink:href=\"#m7fbe01d090\" y=\"88.74\"/>\r\n      </g>\r\n     </g>\r\n     <g id=\"text_6\">\r\n      <!-- 10 -->\r\n      <g transform=\"translate(7.2 92.539219)scale(0.1 -0.1)\">\r\n       <use xlink:href=\"#DejaVuSans-31\"/>\r\n       <use x=\"63.623047\" xlink:href=\"#DejaVuSans-30\"/>\r\n      </g>\r\n     </g>\r\n    </g>\r\n   </g>\r\n   <g id=\"patch_3\">\r\n    <path d=\"M 26.925 115.92 \r\nL 26.925 7.2 \r\n\" style=\"fill:none;stroke:#000000;stroke-linecap:square;stroke-linejoin:miter;stroke-width:0.8;\"/>\r\n   </g>\r\n   <g id=\"patch_4\">\r\n    <path d=\"M 135.645 115.92 \r\nL 135.645 7.2 \r\n\" style=\"fill:none;stroke:#000000;stroke-linecap:square;stroke-linejoin:miter;stroke-width:0.8;\"/>\r\n   </g>\r\n   <g id=\"patch_5\">\r\n    <path d=\"M 26.925 115.92 \r\nL 135.645 115.92 \r\n\" style=\"fill:none;stroke:#000000;stroke-linecap:square;stroke-linejoin:miter;stroke-width:0.8;\"/>\r\n   </g>\r\n   <g id=\"patch_6\">\r\n    <path d=\"M 26.925 7.2 \r\nL 135.645 7.2 \r\n\" style=\"fill:none;stroke:#000000;stroke-linecap:square;stroke-linejoin:miter;stroke-width:0.8;\"/>\r\n   </g>\r\n  </g>\r\n </g>\r\n <defs>\r\n  <clipPath id=\"p92ee42f95a\">\r\n   <rect height=\"108.72\" width=\"108.72\" x=\"26.925\" y=\"7.2\"/>\r\n  </clipPath>\r\n </defs>\r\n</svg>\r\n",
      "image/png": "[encoded data removed]"
     },
     "metadata": {
      "needs_background": "light"
     }
    }
   ],
   "source": [
    "sample = out[0, 0, :, :]\n",
    "plt.figure(figsize = (2, 2))\n",
    "plt.imshow(sample.detach().numpy())\n",
    "plt.show()"
   ]
  },
  {
   "cell_type": "code",
   "execution_count": 111,
   "metadata": {},
   "outputs": [],
   "source": [
    "# Max Pool CNN\n",
    "class max_pool(nn.Module):\n",
    "    def __init__(self):\n",
    "        super(max_pool, self).__init__()\n",
    "        self.model = nn.Sequential(\n",
    "            nn.Conv2d(3, 10, 3),\n",
    "            nn.Conv2d(10, 5, 3),\n",
    "            nn.MaxPool2d(2, stride = 2)\n",
    "        )\n",
    "\n",
    "    def forward(self, x):\n",
    "        y = self.model(x)\n",
    "        return y"
   ]
  },
  {
   "cell_type": "code",
   "execution_count": 112,
   "metadata": {},
   "outputs": [
    {
     "output_type": "stream",
     "name": "stdout",
     "text": [
      "torch.Size([4, 5, 14, 14])\n",
      "c:\\20210626\\venv\\lib\\site-packages\\torch\\nn\\functional.py:718: UserWarning: Named tensors and all their associated APIs are an experimental feature and subject to change. Please do not use them for anything important until they are released as stable. (Triggered internally at  ..\\c10/core/TensorImpl.h:1156.)\n",
      "  return torch.max_pool2d(input, kernel_size, stride, padding, dilation, ceil_mode)\n"
     ]
    }
   ],
   "source": [
    "max_p = max_pool()\n",
    "out = max_p(images)\n",
    "print(out.shape)"
   ]
  },
  {
   "cell_type": "code",
   "execution_count": 113,
   "metadata": {},
   "outputs": [
    {
     "output_type": "display_data",
     "data": {
      "text/plain": "<Figure size 144x144 with 1 Axes>",
      "image/svg+xml": "<?xml version=\"1.0\" encoding=\"utf-8\" standalone=\"no\"?>\r\n<!DOCTYPE svg PUBLIC \"-//W3C//DTD SVG 1.1//EN\"\r\n  \"http://www.w3.org/Graphics/SVG/1.1/DTD/svg11.dtd\">\r\n<svg height=\"139.798125pt\" version=\"1.1\" viewBox=\"0 0 142.845 139.798125\" width=\"142.845pt\" xmlns=\"http://www.w3.org/2000/svg\" xmlns:xlink=\"http://www.w3.org/1999/xlink\">\r\n <metadata>\r\n  <rdf:RDF xmlns:cc=\"http://creativecommons.org/ns#\" xmlns:dc=\"http://purl.org/dc/elements/1.1/\" xmlns:rdf=\"http://www.w3.org/1999/02/22-rdf-syntax-ns#\">\r\n   <cc:Work>\r\n    <dc:type rdf:resource=\"http://purl.org/dc/dcmitype/StillImage\"/>\r\n    <dc:date>2021-06-26T15:57:25.373438</dc:date>\r\n    <dc:format>image/svg+xml</dc:format>\r\n    <dc:creator>\r\n     <cc:Agent>\r\n      <dc:title>Matplotlib v3.4.2, https://matplotlib.org/</dc:title>\r\n     </cc:Agent>\r\n    </dc:creator>\r\n   </cc:Work>\r\n  </rdf:RDF>\r\n </metadata>\r\n <defs>\r\n  <style type=\"text/css\">*{stroke-linecap:butt;stroke-linejoin:round;}</style>\r\n </defs>\r\n <g id=\"figure_1\">\r\n  <g id=\"patch_1\">\r\n   <path d=\"M 0 139.798125 \r\nL 142.845 139.798125 \r\nL 142.845 0 \r\nL 0 0 \r\nz\r\n\" style=\"fill:none;\"/>\r\n  </g>\r\n  <g id=\"axes_1\">\r\n   <g id=\"patch_2\">\r\n    <path d=\"M 26.925 115.92 \r\nL 135.645 115.92 \r\nL 135.645 7.2 \r\nL 26.925 7.2 \r\nz\r\n\" style=\"fill:#ffffff;\"/>\r\n   </g>\r\n   <g clip-path=\"url(#p0761ef9322)\">\r\n    <image height=\"109\" id=\"imagec5d52714d4\" transform=\"scale(1 -1)translate(0 -109)\" width=\"109\" x=\"26.925\" xlink:href=\"data:image/png;base64,\r\niVBORw0KGgoAAAANSUhEUgAAAG0AAABtCAYAAACr+O9WAAAEhklEQVR4nO2dy24TVxzGj8dnfIkvmNiQKwSoFFUqCAQSYs2aR2gXPAFILPoMXcCKDS/QdknXICTEAokNqlSoqkYoEYkiooTEd4/HnukT/L+zYNMv+n7bz+eMPT8faf46lylcffgkd4DZAkqda3zOzGx8LoJtRyvw0q71N752VrKz8bkCbNv+MId5lOLv1tvwMI+Hdvtigvuu7yYwx3dV/C+RNEIkjRBJI0TSCJE0QiSNEN/Yw/XK5Cz2Om7beYZLGRd3cS01Wsbt2x9nZlY9xH3PSzjvbRRhPm3C2KV1u//mNq7TosT+Xc5ppFEiaYRIGiGSRoikESJphEgaIb6/juuRLMYd5KB5qE4r4mkjNy/jfLhkX/z4mj3P55xz5UP8f/VDfO0LL/EH/EHPDk9A5pxz0xTGGmmESBohkkaIpBEiaYRIGiF+fB5PE4Qe+bPz9nN7aQc/s4emKIpTfO3a7tjMql8rsG0e4ZLAj3A+WsH9D2/WwLVXYNvQ8j2NNEIkjRBJI0TSCJE0QiSNEEkjxMd9vJQsC0yPJKB5HvhLHN7AeTzAHZS/2nM/oTorj/DvTuv42qFpp+a2vQzueBM3nnRw3xpphEgaIZJGiKQRImmESBohkkaIL+ByxqU1PLez9tyecGs/+ATbdqd4Tmrw2yrMe5ftMylCR1Kc/Qdv8Sqf4Nzl+L4MV+z7Ugh0Xd/BuUYaIZJGiKQRImmESBohkkaIpBHil99N4AcGq+B8Pufcm6fPzOz5sA7b/vz7TzBf28Vbfvrrdi3U2sIFaHGK66yjH/CCz9o+7r80sPPKMb72eBFvP9NII0TSCJE0QiSNEEkjRNIIkTRCfPcSXth44f4WzB/t3zSzF7/egW1bB7heObmCa6UzYG1hZX8A2yZL9v4x55yr7+E6LJrh746OJkyreKwki3guUCONEEkjRNIIkTRCJI0QSSPE9y/hx8v3Wxs4z+y8hWd9XBzYjtT+A7/WKQfL2PLNi7BtYY4f2UtdvM6tgJu7rGVPr/Qv43ve+aDTwk8dkkaIpBEiaYRIGiGSRoikEeLTJq6VKjt4CV26aR/f1/nLzpxzLnr9HubJ3VswP7weOC8DEdjiVT7BhdisitunTbsW8/i2uMqB3r576pA0QiSNEEkjRNIIkTRCJI0Qn9UC5yOs47cXNV/Z25niPz/CtsN7t2H+5Tbe8pM27GLLj/CcVTGQ5x7nkzau4/KinUeBo+v//RHXnxpphEgaIZJGiKQRImmESBohkkZI4btfHsOCI3TMXYbevlsKLA4M4NdGMJ/tL5hZNMF11nwhsJWpg+e04hjfmEnvG+b6Ir2K69QhaYRIGiGSRoikESJphATeTRR+5J8tgZPicvzYHTfwY/U08NiMXqAbKjcufv8F5gsxnj/ZPlqE+fLqsZklKb7tyds2zDXSCJE0QiSNEEkjRNIIkTRCJI0QH9ryk3QCRzNM0NwM7ns2xvuFSn38n0Jv951Xv21aaK97BubTHXwSeu+oaWZpA383j1cOaqQxImmESBohkkaIpBEiaYRIGiH/AREfFJZ/Ai8jAAAAAElFTkSuQmCC\" y=\"-6.92\"/>\r\n   </g>\r\n   <g id=\"matplotlib.axis_1\">\r\n    <g id=\"xtick_1\">\r\n     <g id=\"line2d_1\">\r\n      <defs>\r\n       <path d=\"M 0 0 \r\nL 0 3.5 \r\n\" id=\"me5cec76d46\" style=\"stroke:#000000;stroke-width:0.8;\"/>\r\n      </defs>\r\n      <g>\r\n       <use style=\"stroke:#000000;stroke-width:0.8;\" x=\"30.807857\" xlink:href=\"#me5cec76d46\" y=\"115.92\"/>\r\n      </g>\r\n     </g>\r\n     <g id=\"text_1\">\r\n      <!-- 0 -->\r\n      <g transform=\"translate(27.626607 130.518437)scale(0.1 -0.1)\">\r\n       <defs>\r\n        <path d=\"M 2034 4250 \r\nQ 1547 4250 1301 3770 \r\nQ 1056 3291 1056 2328 \r\nQ 1056 1369 1301 889 \r\nQ 1547 409 2034 409 \r\nQ 2525 409 2770 889 \r\nQ 3016 1369 3016 2328 \r\nQ 3016 3291 2770 3770 \r\nQ 2525 4250 2034 4250 \r\nz\r\nM 2034 4750 \r\nQ 2819 4750 3233 4129 \r\nQ 3647 3509 3647 2328 \r\nQ 3647 1150 3233 529 \r\nQ 2819 -91 2034 -91 \r\nQ 1250 -91 836 529 \r\nQ 422 1150 422 2328 \r\nQ 422 3509 836 4129 \r\nQ 1250 4750 2034 4750 \r\nz\r\n\" id=\"DejaVuSans-30\" transform=\"scale(0.015625)\"/>\r\n       </defs>\r\n       <use xlink:href=\"#DejaVuSans-30\"/>\r\n      </g>\r\n     </g>\r\n    </g>\r\n    <g id=\"xtick_2\">\r\n     <g id=\"line2d_2\">\r\n      <g>\r\n       <use style=\"stroke:#000000;stroke-width:0.8;\" x=\"69.636429\" xlink:href=\"#me5cec76d46\" y=\"115.92\"/>\r\n      </g>\r\n     </g>\r\n     <g id=\"text_2\">\r\n      <!-- 5 -->\r\n      <g transform=\"translate(66.455179 130.518437)scale(0.1 -0.1)\">\r\n       <defs>\r\n        <path d=\"M 691 4666 \r\nL 3169 4666 \r\nL 3169 4134 \r\nL 1269 4134 \r\nL 1269 2991 \r\nQ 1406 3038 1543 3061 \r\nQ 1681 3084 1819 3084 \r\nQ 2600 3084 3056 2656 \r\nQ 3513 2228 3513 1497 \r\nQ 3513 744 3044 326 \r\nQ 2575 -91 1722 -91 \r\nQ 1428 -91 1123 -41 \r\nQ 819 9 494 109 \r\nL 494 744 \r\nQ 775 591 1075 516 \r\nQ 1375 441 1709 441 \r\nQ 2250 441 2565 725 \r\nQ 2881 1009 2881 1497 \r\nQ 2881 1984 2565 2268 \r\nQ 2250 2553 1709 2553 \r\nQ 1456 2553 1204 2497 \r\nQ 953 2441 691 2322 \r\nL 691 4666 \r\nz\r\n\" id=\"DejaVuSans-35\" transform=\"scale(0.015625)\"/>\r\n       </defs>\r\n       <use xlink:href=\"#DejaVuSans-35\"/>\r\n      </g>\r\n     </g>\r\n    </g>\r\n    <g id=\"xtick_3\">\r\n     <g id=\"line2d_3\">\r\n      <g>\r\n       <use style=\"stroke:#000000;stroke-width:0.8;\" x=\"108.465\" xlink:href=\"#me5cec76d46\" y=\"115.92\"/>\r\n      </g>\r\n     </g>\r\n     <g id=\"text_3\">\r\n      <!-- 10 -->\r\n      <g transform=\"translate(102.1025 130.518437)scale(0.1 -0.1)\">\r\n       <defs>\r\n        <path d=\"M 794 531 \r\nL 1825 531 \r\nL 1825 4091 \r\nL 703 3866 \r\nL 703 4441 \r\nL 1819 4666 \r\nL 2450 4666 \r\nL 2450 531 \r\nL 3481 531 \r\nL 3481 0 \r\nL 794 0 \r\nL 794 531 \r\nz\r\n\" id=\"DejaVuSans-31\" transform=\"scale(0.015625)\"/>\r\n       </defs>\r\n       <use xlink:href=\"#DejaVuSans-31\"/>\r\n       <use x=\"63.623047\" xlink:href=\"#DejaVuSans-30\"/>\r\n      </g>\r\n     </g>\r\n    </g>\r\n   </g>\r\n   <g id=\"matplotlib.axis_2\">\r\n    <g id=\"ytick_1\">\r\n     <g id=\"line2d_4\">\r\n      <defs>\r\n       <path d=\"M 0 0 \r\nL -3.5 0 \r\n\" id=\"ma01a8bc7f2\" style=\"stroke:#000000;stroke-width:0.8;\"/>\r\n      </defs>\r\n      <g>\r\n       <use style=\"stroke:#000000;stroke-width:0.8;\" x=\"26.925\" xlink:href=\"#ma01a8bc7f2\" y=\"11.082857\"/>\r\n      </g>\r\n     </g>\r\n     <g id=\"text_4\">\r\n      <!-- 0 -->\r\n      <g transform=\"translate(13.5625 14.882076)scale(0.1 -0.1)\">\r\n       <use xlink:href=\"#DejaVuSans-30\"/>\r\n      </g>\r\n     </g>\r\n    </g>\r\n    <g id=\"ytick_2\">\r\n     <g id=\"line2d_5\">\r\n      <g>\r\n       <use style=\"stroke:#000000;stroke-width:0.8;\" x=\"26.925\" xlink:href=\"#ma01a8bc7f2\" y=\"49.911429\"/>\r\n      </g>\r\n     </g>\r\n     <g id=\"text_5\">\r\n      <!-- 5 -->\r\n      <g transform=\"translate(13.5625 53.710647)scale(0.1 -0.1)\">\r\n       <use xlink:href=\"#DejaVuSans-35\"/>\r\n      </g>\r\n     </g>\r\n    </g>\r\n    <g id=\"ytick_3\">\r\n     <g id=\"line2d_6\">\r\n      <g>\r\n       <use style=\"stroke:#000000;stroke-width:0.8;\" x=\"26.925\" xlink:href=\"#ma01a8bc7f2\" y=\"88.74\"/>\r\n      </g>\r\n     </g>\r\n     <g id=\"text_6\">\r\n      <!-- 10 -->\r\n      <g transform=\"translate(7.2 92.539219)scale(0.1 -0.1)\">\r\n       <use xlink:href=\"#DejaVuSans-31\"/>\r\n       <use x=\"63.623047\" xlink:href=\"#DejaVuSans-30\"/>\r\n      </g>\r\n     </g>\r\n    </g>\r\n   </g>\r\n   <g id=\"patch_3\">\r\n    <path d=\"M 26.925 115.92 \r\nL 26.925 7.2 \r\n\" style=\"fill:none;stroke:#000000;stroke-linecap:square;stroke-linejoin:miter;stroke-width:0.8;\"/>\r\n   </g>\r\n   <g id=\"patch_4\">\r\n    <path d=\"M 135.645 115.92 \r\nL 135.645 7.2 \r\n\" style=\"fill:none;stroke:#000000;stroke-linecap:square;stroke-linejoin:miter;stroke-width:0.8;\"/>\r\n   </g>\r\n   <g id=\"patch_5\">\r\n    <path d=\"M 26.925 115.92 \r\nL 135.645 115.92 \r\n\" style=\"fill:none;stroke:#000000;stroke-linecap:square;stroke-linejoin:miter;stroke-width:0.8;\"/>\r\n   </g>\r\n   <g id=\"patch_6\">\r\n    <path d=\"M 26.925 7.2 \r\nL 135.645 7.2 \r\n\" style=\"fill:none;stroke:#000000;stroke-linecap:square;stroke-linejoin:miter;stroke-width:0.8;\"/>\r\n   </g>\r\n  </g>\r\n </g>\r\n <defs>\r\n  <clipPath id=\"p0761ef9322\">\r\n   <rect height=\"108.72\" width=\"108.72\" x=\"26.925\" y=\"7.2\"/>\r\n  </clipPath>\r\n </defs>\r\n</svg>\r\n",
      "image/png": "[encoded data removed]"
     },
     "metadata": {
      "needs_background": "light"
     }
    }
   ],
   "source": [
    "sample = out[0, 0, :, :]\n",
    "plt.figure(figsize = (2, 2))\n",
    "plt.imshow(sample.detach().numpy())\n",
    "plt.show()"
   ]
  },
  {
   "cell_type": "code",
   "execution_count": null,
   "metadata": {},
   "outputs": [],
   "source": []
  }
 ]
}