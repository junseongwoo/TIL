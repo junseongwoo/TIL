{
 "metadata": {
  "language_info": {
   "codemirror_mode": {
    "name": "ipython",
    "version": 3
   },
   "file_extension": ".py",
   "mimetype": "text/x-python",
   "name": "python",
   "nbconvert_exporter": "python",
   "pygments_lexer": "ipython3",
   "version": "3.9.4"
  },
  "orig_nbformat": 2,
  "kernelspec": {
   "name": "python394jvsc74a57bd050e3ad976fc0c2ab77397741a67cf0050f2d0dbf5270ccb074c80a4c78d0bfcf",
   "display_name": "Python 3.9.4 64-bit ('venv_week2')"
  },
  "metadata": {
   "interpreter": {
    "hash": "fdeec1578e7a6e1bcfc543f31d8d667546e5ee1091dba2478b1a51fcd25c5d64"
   }
  }
 },
 "nbformat": 4,
 "nbformat_minor": 2,
 "cells": [
  {
   "cell_type": "code",
   "execution_count": 3,
   "metadata": {},
   "outputs": [],
   "source": [
    "# pillow의 ImageOps 모듈 // 이미지 처리를 함\n",
    "\n",
    "from PIL import Image, ImageOps\n",
    "\n",
    "def autocontrast(image_path, output_path, cutoff=0, ignore=None):\n",
    "    image = Image.open(image_path)\n",
    "    converted_image = ImageOps.autocontrast(image, cutoff, ignore)\n",
    "    converted_image.save(output_path)\n",
    "\n",
    "if __name__ == \"__main__\":\n",
    "    autocontrast(\"hummingbird.jpg\", \"autocontrast.jpg\", cutoff=0.8)"
   ]
  },
  {
   "cell_type": "code",
   "execution_count": null,
   "metadata": {},
   "outputs": [],
   "source": []
  }
 ]
}