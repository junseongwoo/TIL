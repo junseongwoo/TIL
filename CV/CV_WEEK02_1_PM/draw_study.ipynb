{
 "metadata": {
  "language_info": {
   "codemirror_mode": {
    "name": "ipython",
    "version": 3
   },
   "file_extension": ".py",
   "mimetype": "text/x-python",
   "name": "python",
   "nbconvert_exporter": "python",
   "pygments_lexer": "ipython3",
   "version": "3.9.4"
  },
  "orig_nbformat": 2,
  "kernelspec": {
   "name": "python394jvsc74a57bd050e3ad976fc0c2ab77397741a67cf0050f2d0dbf5270ccb074c80a4c78d0bfcf",
   "display_name": "Python 3.9.4 64-bit ('venv_week2')"
  },
  "metadata": {
   "interpreter": {
    "hash": "fdeec1578e7a6e1bcfc543f31d8d667546e5ee1091dba2478b1a51fcd25c5d64"
   }
  }
 },
 "nbformat": 4,
 "nbformat_minor": 2,
 "cells": [
  {
   "cell_type": "code",
   "execution_count": 3,
   "metadata": {},
   "outputs": [],
   "source": [
    "from PIL import Image, ImageDraw\n",
    "\n",
    "def pieslice(output_path):\n",
    "    image = Image.new(\"RGB\", (400, 400), \"white\") #도화지 만들기\n",
    "    draw = ImageDraw.Draw(image)                  # 도화지에 그리는 객체를 만듬\n",
    "\n",
    "    draw.pieslice((25, 50, 175, 200), start=30, end=250, fill=\"green\")\n",
    "\n",
    "    draw.pieslice((100, 150, 275, 300), start = 20, end=100, width = 5, fill=\"yellow\")\n",
    "\n",
    "    image.save(output_path)\n",
    "\n",
    "if __name__ == \"__main__\":\n",
    "    pieslice(\"pieslice.jpg\")"
   ]
  },
  {
   "cell_type": "code",
   "execution_count": 15,
   "metadata": {},
   "outputs": [],
   "source": [
    "from PIL import Image, ImageDraw\n",
    "\n",
    "## 점들 끼리 이어지게 만드는 것 = 폴리곤 \n",
    "def polygon(output_path):\n",
    "    image = Image.new(\"RGB\", (400, 400), \"gray\") #도화지 만들기\n",
    "    draw = ImageDraw.Draw(image)                  # 도화지에 그리는 객체를 만듬\n",
    "\n",
    "    draw.polygon(((100, 100), (200, 50), (125, 25), (300, 75)), fill=\"green\")\n",
    "\n",
    "    draw.polygon(((175, 100), (225, 50), (200, 25)), outline=\"black\")\n",
    "\n",
    "    image.save(output_path)\n",
    "\n",
    "if __name__ == \"__main__\":\n",
    "    polygon(\"polygon.jpg\")"
   ]
  },
  {
   "cell_type": "code",
   "execution_count": 17,
   "metadata": {},
   "outputs": [],
   "source": [
    "from PIL import Image, ImageDraw\n",
    "\n",
    "## 사각형 그리기\n",
    "def rectangle(output_path):\n",
    "    image = Image.new(\"RGB\", (400, 400), \"gray\") #도화지 만들기\n",
    "    draw = ImageDraw.Draw(image)                  # 도화지에 그리는 객체를 만듬\n",
    "\n",
    "    draw.rectangle((200, 100, 300, 200), fill=\"green\")\n",
    "\n",
    "    draw.rectangle((50, 50, 150, 150), outline=\"black\")\n",
    "\n",
    "    image.save(output_path)\n",
    "\n",
    "if __name__ == \"__main__\":\n",
    "    rectangle(\"reatangle.jpg\")"
   ]
  },
  {
   "cell_type": "code",
   "execution_count": null,
   "metadata": {},
   "outputs": [],
   "source": []
  }
 ]
}