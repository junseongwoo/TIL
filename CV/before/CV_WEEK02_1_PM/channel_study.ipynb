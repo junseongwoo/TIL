{
 "metadata": {
  "language_info": {
   "codemirror_mode": {
    "name": "ipython",
    "version": 3
   },
   "file_extension": ".py",
   "mimetype": "text/x-python",
   "name": "python",
   "nbconvert_exporter": "python",
   "pygments_lexer": "ipython3",
   "version": "3.9.4"
  },
  "orig_nbformat": 2,
  "kernelspec": {
   "name": "python394jvsc74a57bd050e3ad976fc0c2ab77397741a67cf0050f2d0dbf5270ccb074c80a4c78d0bfcf",
   "display_name": "Python 3.9.4 64-bit ('venv_week2')"
  },
  "metadata": {
   "interpreter": {
    "hash": "fdeec1578e7a6e1bcfc543f31d8d667546e5ee1091dba2478b1a51fcd25c5d64"
   }
  }
 },
 "nbformat": 4,
 "nbformat_minor": 2,
 "cells": [
  {
   "cell_type": "code",
   "execution_count": 6,
   "metadata": {},
   "outputs": [],
   "source": [
    "## Channel Operaton 줄여서 chops RGB, L 모드 수정해서 이미지에 효과 \n",
    "\n",
    "from PIL import Image, ImageChops\n",
    "\n",
    "def add_images(image_path_one, image_path_two, output_path, scale=3.0, offset=0):\n",
    "    image_one = Image.open(image_path_one)\n",
    "    image_two = Image.open(image_path_two)\n",
    "    image_three = ImageChops.add(image_one, image_two, scale= scale, offset= offset)\n",
    "    image_three.save(output_path)\n",
    "\n",
    "if __name__ == \"__main__\":\n",
    "    add_images(\"silver_falls.jpg\", \"silver_falls2.jpg\", \"added_images.jpg\")\n"
   ]
  },
  {
   "cell_type": "code",
   "execution_count": 8,
   "metadata": {},
   "outputs": [],
   "source": [
    "## darker\n",
    "\n",
    "from PIL import Image, ImageChops\n",
    "\n",
    "def darken_images(image_path_one, image_path_two, output_path):\n",
    "    image_one = Image.open(image_path_one)\n",
    "    image_two = Image.open(image_path_two)\n",
    "\n",
    "    ## 두 이미지의 값을 비교 함 = 픽셀을 다 비교해서 픽셀 중 어두운 곳을 적용한다.\n",
    "    image_three = ImageChops.darker(image_one, image_two) \n",
    "    image_three.save(output_path)\n",
    "\n",
    "if __name__ == \"__main__\":\n",
    "    darken_images(\"silver_falls.jpg\", \"silver_falls2.jpg\", \"darken_images.jpg\")\n"
   ]
  },
  {
   "cell_type": "code",
   "execution_count": 11,
   "metadata": {},
   "outputs": [],
   "source": [
    "## lighter\n",
    "\n",
    "from PIL import Image, ImageChops\n",
    "\n",
    "def lighten_images(image_path_one, image_path_two, output_path):\n",
    "    image_one = Image.open(image_path_one)\n",
    "    image_two = Image.open(image_path_two)\n",
    "\n",
    "    ## 두 이미지의 값을 비교 함 = 픽셀을 다 비교해서 픽셀 중 밝은 곳을 적용한다.\n",
    "    image_three = ImageChops.lighter(image_one, image_two) \n",
    "    image_three.save(output_path)\n",
    "\n",
    "if __name__ == \"__main__\":\n",
    "    lighten_images(\"silver_falls.jpg\", \"silver_falls2.jpg\", \"lighten_images.jpg\")"
   ]
  },
  {
   "cell_type": "code",
   "execution_count": 12,
   "metadata": {},
   "outputs": [],
   "source": [
    "## diff \n",
    "\n",
    "from PIL import Image, ImageChops\n",
    "\n",
    "def diff_images(image_path_one, image_path_two, output_path):\n",
    "    image_one = Image.open(image_path_one)\n",
    "    image_two = Image.open(image_path_two)\n",
    "\n",
    "    ## 두 이미지의 픽셀 차이가 있는 곳만! \n",
    "    image_three = ImageChops.difference(image_one, image_two) \n",
    "    image_three.save(output_path)\n",
    "\n",
    "if __name__ == \"__main__\":\n",
    "    diff_images(\"hummingbird.jpg\", \"hummingbird_watermarked.jpg\", \"diff_images.jpg\")\n"
   ]
  },
  {
   "cell_type": "code",
   "execution_count": 26,
   "metadata": {},
   "outputs": [
    {
     "output_type": "error",
     "ename": "TypeError",
     "evalue": "'Image' object is not callable",
     "traceback": [
      "\u001b[1;31m---------------------------------------------------------------------------\u001b[0m",
      "\u001b[1;31mTypeError\u001b[0m                                 Traceback (most recent call last)",
      "\u001b[1;32m<ipython-input-26-5779fa6e894a>\u001b[0m in \u001b[0;36m<module>\u001b[1;34m\u001b[0m\n\u001b[0;32m     10\u001b[0m \u001b[1;33m\u001b[0m\u001b[0m\n\u001b[0;32m     11\u001b[0m \u001b[1;32mif\u001b[0m \u001b[0m__name__\u001b[0m \u001b[1;33m==\u001b[0m \u001b[1;34m\"__main__\"\u001b[0m\u001b[1;33m:\u001b[0m\u001b[1;33m\u001b[0m\u001b[1;33m\u001b[0m\u001b[0m\n\u001b[1;32m---> 12\u001b[1;33m     \u001b[0minverter_images\u001b[0m\u001b[1;33m(\u001b[0m\u001b[1;34m\"hummingbird.jpg\"\u001b[0m\u001b[1;33m,\u001b[0m \u001b[1;34m\"inverter_images.jpg\"\u001b[0m\u001b[1;33m)\u001b[0m\u001b[1;33m\u001b[0m\u001b[1;33m\u001b[0m\u001b[0m\n\u001b[0m",
      "\u001b[1;32m<ipython-input-26-5779fa6e894a>\u001b[0m in \u001b[0;36minverter_images\u001b[1;34m(image_path, output_path)\u001b[0m\n\u001b[0;32m      7\u001b[0m \u001b[1;33m\u001b[0m\u001b[0m\n\u001b[0;32m      8\u001b[0m     \u001b[0minverter_image\u001b[0m \u001b[1;33m=\u001b[0m \u001b[0mImageChops\u001b[0m\u001b[1;33m.\u001b[0m\u001b[0minvert\u001b[0m\u001b[1;33m(\u001b[0m\u001b[0mimage\u001b[0m\u001b[1;33m)\u001b[0m\u001b[1;33m\u001b[0m\u001b[1;33m\u001b[0m\u001b[0m\n\u001b[1;32m----> 9\u001b[1;33m     \u001b[0minverter_image\u001b[0m\u001b[1;33m(\u001b[0m\u001b[0moutput_path\u001b[0m\u001b[1;33m)\u001b[0m\u001b[1;33m\u001b[0m\u001b[1;33m\u001b[0m\u001b[0m\n\u001b[0m\u001b[0;32m     10\u001b[0m \u001b[1;33m\u001b[0m\u001b[0m\n\u001b[0;32m     11\u001b[0m \u001b[1;32mif\u001b[0m \u001b[0m__name__\u001b[0m \u001b[1;33m==\u001b[0m \u001b[1;34m\"__main__\"\u001b[0m\u001b[1;33m:\u001b[0m\u001b[1;33m\u001b[0m\u001b[1;33m\u001b[0m\u001b[0m\n",
      "\u001b[1;31mTypeError\u001b[0m: 'Image' object is not callable"
     ]
    }
   ],
   "source": [
    "## inverter\n",
    "\n",
    "from PIL import Image, ImageChops\n",
    "\n",
    "def inverter_images(image_path, output_path):\n",
    "    image = Image.open(image_path)\n",
    "\n",
    "    inverter_image = ImageChops.invert(image) \n",
    "    inverter_image(output_path)\n",
    "\n",
    "if __name__ == \"__main__\":\n",
    "    inverter_images(\"hummingbird.jpg\", \"inverter_images.jpg\")"
   ]
  },
  {
   "cell_type": "code",
   "execution_count": 17,
   "metadata": {},
   "outputs": [],
   "source": [
    "## soft\n",
    "\n",
    "from PIL import Image, ImageChops\n",
    "\n",
    "def soft_lights(image_path_one, image_path_two, output_path):\n",
    "    image_one = Image.open(image_path_one)\n",
    "    image_two = Image.open(image_path_two)\n",
    "\n",
    "    ## 이미지1과 2를 연산해서 구함\n",
    "    image_three = ImageChops.soft_light(image_one, image_two) \n",
    "    image_three.save(output_path)\n",
    "\n",
    "if __name__ == \"__main__\":\n",
    "    soft_lights(\"silver_falls.jpg\", \"silver_falls2.jpg\", \"soft_light.jpg\")\n"
   ]
  },
  {
   "cell_type": "code",
   "execution_count": 18,
   "metadata": {},
   "outputs": [],
   "source": [
    "## hard_light\n",
    "\n",
    "from PIL import Image, ImageChops\n",
    "\n",
    "def hard_lights(image_path_one, image_path_two, output_path):\n",
    "    image_one = Image.open(image_path_one)\n",
    "    image_two = Image.open(image_path_two)\n",
    "\n",
    "    ## 이미지1과 2를 연산해서 구함\n",
    "    image_three = ImageChops.hard_light(image_one, image_two) \n",
    "    image_three.save(output_path)\n",
    "\n",
    "if __name__ == \"__main__\":\n",
    "    hard_lights(\"silver_falls.jpg\", \"silver_falls2.jpg\", \"hard_lights.jpg\")\n"
   ]
  },
  {
   "cell_type": "code",
   "execution_count": 19,
   "metadata": {},
   "outputs": [],
   "source": [
    "## overlay\n",
    "\n",
    "\n",
    "from PIL import Image, ImageChops\n",
    "\n",
    "def overlay(image_path_one, image_path_two, output_path):\n",
    "    image_one = Image.open(image_path_one)\n",
    "    image_two = Image.open(image_path_two)\n",
    "\n",
    "    ## 이미지1과 2를 연산해서 구함\n",
    "    image_three = ImageChops.overlay(image_one, image_two) \n",
    "    image_three.save(output_path)\n",
    "\n",
    "if __name__ == \"__main__\":\n",
    "    overlay(\"silver_falls.jpg\", \"silver_falls2.jpg\", \"overlay.jpg\")\n"
   ]
  },
  {
   "cell_type": "code",
   "execution_count": null,
   "metadata": {},
   "outputs": [],
   "source": []
  }
 ]
}