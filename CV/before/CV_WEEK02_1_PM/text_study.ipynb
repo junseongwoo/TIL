{
 "metadata": {
  "language_info": {
   "codemirror_mode": {
    "name": "ipython",
    "version": 3
   },
   "file_extension": ".py",
   "mimetype": "text/x-python",
   "name": "python",
   "nbconvert_exporter": "python",
   "pygments_lexer": "ipython3",
   "version": "3.9.4"
  },
  "orig_nbformat": 2,
  "kernelspec": {
   "name": "python394jvsc74a57bd050e3ad976fc0c2ab77397741a67cf0050f2d0dbf5270ccb074c80a4c78d0bfcf",
   "display_name": "Python 3.9.4 64-bit ('venv_week2')"
  },
  "metadata": {
   "interpreter": {
    "hash": "fdeec1578e7a6e1bcfc543f31d8d667546e5ee1091dba2478b1a51fcd25c5d64"
   }
  }
 },
 "nbformat": 4,
 "nbformat_minor": 2,
 "cells": [
  {
   "cell_type": "code",
   "execution_count": 1,
   "metadata": {},
   "outputs": [],
   "source": [
    "from PIL import Image, ImageDraw, ImageFont\n",
    "\n",
    "def text(output_path):\n",
    "    image = Image.new(\"RGB\", (200, 200), \"green\")\n",
    "    draw = ImageDraw.Draw(image)\n",
    "    draw.text((10,10), \"Hello\")\n",
    "    draw.text((10,25), \"CV Study\")\n",
    "    image.save(output_path)\n",
    "\n",
    "if __name__ == \"__main__\":\n",
    "    text(\"text.jpg\")"
   ]
  },
  {
   "cell_type": "code",
   "execution_count": 6,
   "metadata": {},
   "outputs": [],
   "source": [
    "from PIL import Image, ImageDraw, ImageFont\n",
    "\n",
    "def text(output_path):\n",
    "    image = Image.new(\"RGB\", (200, 200), \"green\")\n",
    "    draw = ImageDraw.Draw(image)\n",
    "    font = ImageFont.truetype(\"NanumGothic.ttf\")\n",
    "    draw.text((10,10), \"안녕하세요\", font=font)\n",
    "    draw.text((10,25), \"컴퓨터 비전\", font=font)\n",
    "    image.save(output_path)\n",
    "\n",
    "if __name__ == \"__main__\":\n",
    "    text(\"text_truetype.jpg\")"
   ]
  },
  {
   "cell_type": "code",
   "execution_count": 9,
   "metadata": {},
   "outputs": [],
   "source": [
    "from PIL import Image, ImageDraw, ImageFont\n",
    "\n",
    "def text(input_image_path, output_path):\n",
    "    image = Image.open(input_image_path)\n",
    "    draw = ImageDraw.Draw(image)\n",
    "    y = 10\n",
    "\n",
    "    for font_size in range(12, 75, 12):\n",
    "        font = ImageFont.truetype(\"NanumGothic.ttf\", size=font_size)\n",
    "        draw.text((10,y), f\"이미지에 글자 넣기 ({font_size=})\", font=font)\n",
    "        y += 35\n",
    "    image.save(output_path)\n",
    "\n",
    "if __name__ == \"__main__\":\n",
    "    text(\"hummingbird.jpg\", \"hummingbird_with_text.jpg\")"
   ]
  },
  {
   "cell_type": "code",
   "execution_count": null,
   "metadata": {},
   "outputs": [],
   "source": [
    "import glob ## 파이썬 스탠다드 모듈 // 지정한 곳에 모든 파일을 찾아줌 \n",
    "from PIL import Image, ImageDraw, ImageFont\n",
    "\n",
    "def truetype(input_image_path, output_path):\n",
    "    image - Image.open(input_image_path)\n",
    "    draw = ImageDraw.Draw(image)\n",
    "    y = 10\n",
    "    ttf_files = glob.glob(\".ttf\")\n",
    "\n",
    "    for ttf_file in ttf_files:\n",
    "        font = ImageFont.truetype(ttf_file, size = 44)\n",
    "        draw.text((10,y), )"
   ]
  },
  {
   "cell_type": "code",
   "execution_count": 11,
   "metadata": {},
   "outputs": [],
   "source": [
    "from PIL import Image, ImageDraw, ImageFont\n",
    "\n",
    "def text_color(output_path):\n",
    "    image = Image.new(\"RGB\", (600, 600), \"white\")\n",
    "    draw = ImageDraw.Draw(image)\n",
    "    colors = [\"green\", \"blue\", \"red\", \"yellow\", \"purple\"]\n",
    "    font = ImageFont.truetype(\"NanumGothic.ttf\", size=30)\n",
    "    y = 10\n",
    "\n",
    "    for color in colors:\n",
    "        draw.text((10, y), f\"안녕하세요! Computer Vision 학습 중\", font = font, fill=color)\n",
    "        y += 50\n",
    "    image.save(output_path)\n",
    "\n",
    "if __name__ == \"__main__\":\n",
    "    text_color(\"colored_text.jpg\")"
   ]
  },
  {
   "cell_type": "code",
   "execution_count": 21,
   "metadata": {},
   "outputs": [],
   "source": [
    "from PIL import Image, ImageDraw, ImageFont\n",
    "\n",
    "def text(input_image_path, output_path):\n",
    "    image = Image.open(input_image_path)\n",
    "    draw = ImageDraw.Draw(image)\n",
    "    font = ImageFont.truetype(\"NanumGothic.ttf\", size=50)\n",
    "    ##text = \"안녕하세요! 컴퓨터비전\\n재밌다!\" ## 폰트크기가 얼마인지 상관없이 개행 가능 \n",
    "    # 폰트크기 생각해서 시작 좌표 설정 해야함 \n",
    "    #draw.text((10, 25), f\"안녕하세요! Computer Vision 학습 중\", font = font)\n",
    "    #draw.text((10, 55), f\"재밌다!\", font = font)\n",
    "\n",
    "    text = \"\"\"\n",
    "    안녕하세요! 컴퓨터 비전! 3번째! \n",
    "          재밌다!\n",
    "    \"\"\"\n",
    "    \n",
    "    \n",
    "    #draw.text((10,25), text, font=font)\n",
    "    draw.multiline_text((10,25), text, font=font)\n",
    "\n",
    "    image.save(output_path)\n",
    "\n",
    "if __name__ == \"__main__\":\n",
    "    text(\"hummingbird.jpg\", \"hummingbird_multiline_text.jpg\")"
   ]
  },
  {
   "cell_type": "code",
   "execution_count": 26,
   "metadata": {},
   "outputs": [],
   "source": [
    "from PIL import Image, ImageDraw, ImageFont\n",
    "\n",
    "def alignment(output_path):\n",
    "    image = Image.new(\"RGB\", (200, 200), \"white\")\n",
    "    draw = ImageDraw.Draw(image)\n",
    "    alignments = [\"left\", \"center\", \"right\"]\n",
    "    y = 10\n",
    "    font = ImageFont.truetype(\"NanumGothic.ttf\", size = 12)\n",
    "\n",
    "    for alignment in alignments:\n",
    "        draw.text((10, y), f\"안녕하세요\\n컴퓨터 비전!\", font= font, align=alignment, fill =\"black\")\n",
    "        y += 35\n",
    "\n",
    "    image.save(output_path)\n",
    "\n",
    "if __name__ == \"__main__\":\n",
    "    alignment(\"aligend_text.jpg\")"
   ]
  },
  {
   "cell_type": "code",
   "execution_count": 45,
   "metadata": {},
   "outputs": [],
   "source": [
    "from PIL import Image, ImageDraw, ImageFont\n",
    "\n",
    "def center(output_path):\n",
    "    width, height = (800, 800)\n",
    "    image = Image.new(\"RGB\", (width, height), \"gray\")\n",
    "    draw = ImageDraw.Draw(image)\n",
    "    font = ImageFont.truetype(\"NanumGothic.ttf\", size = 12)\n",
    "    text = \"안녕하세요! 컴퓨터 비전 공부중입니다! \"\n",
    "\n",
    "    font_width, font_height = font.getsize(text)\n",
    "\n",
    "    ## 글자를 중앙으로 보내는 기술 \n",
    "    new_height = (height - font_height) / 2\n",
    "    new_width = (width - font_width) / 2\n",
    "    draw.text((new_width, new_height), text, font=font, fill=\"black\")\n",
    "    image.save(output_path)\n",
    "\n",
    "if __name__ == \"__main__\":\n",
    "    center(\"centered_text.jpg\")"
   ]
  },
  {
   "cell_type": "code",
   "execution_count": 41,
   "metadata": {},
   "outputs": [
    {
     "output_type": "error",
     "ename": "OSError",
     "evalue": "cannot write mode RGBA as JPEG",
     "traceback": [
      "\u001b[1;31m---------------------------------------------------------------------------\u001b[0m",
      "\u001b[1;31mKeyError\u001b[0m                                  Traceback (most recent call last)",
      "\u001b[1;32mc:\\cv\\CV_WEEK02_1_PM\\venv_week2\\lib\\site-packages\\PIL\\JpegImagePlugin.py\u001b[0m in \u001b[0;36m_save\u001b[1;34m(im, fp, filename)\u001b[0m\n\u001b[0;32m    632\u001b[0m     \u001b[1;32mtry\u001b[0m\u001b[1;33m:\u001b[0m\u001b[1;33m\u001b[0m\u001b[1;33m\u001b[0m\u001b[0m\n\u001b[1;32m--> 633\u001b[1;33m         \u001b[0mrawmode\u001b[0m \u001b[1;33m=\u001b[0m \u001b[0mRAWMODE\u001b[0m\u001b[1;33m[\u001b[0m\u001b[0mim\u001b[0m\u001b[1;33m.\u001b[0m\u001b[0mmode\u001b[0m\u001b[1;33m]\u001b[0m\u001b[1;33m\u001b[0m\u001b[1;33m\u001b[0m\u001b[0m\n\u001b[0m\u001b[0;32m    634\u001b[0m     \u001b[1;32mexcept\u001b[0m \u001b[0mKeyError\u001b[0m \u001b[1;32mas\u001b[0m \u001b[0me\u001b[0m\u001b[1;33m:\u001b[0m\u001b[1;33m\u001b[0m\u001b[1;33m\u001b[0m\u001b[0m\n",
      "\u001b[1;31mKeyError\u001b[0m: 'RGBA'",
      "\nThe above exception was the direct cause of the following exception:\n",
      "\u001b[1;31mOSError\u001b[0m                                   Traceback (most recent call last)",
      "\u001b[1;32m<ipython-input-41-a6811a213e29>\u001b[0m in \u001b[0;36m<module>\u001b[1;34m\u001b[0m\n\u001b[0;32m     18\u001b[0m \u001b[1;33m\u001b[0m\u001b[0m\n\u001b[0;32m     19\u001b[0m \u001b[1;32mif\u001b[0m \u001b[0m__name__\u001b[0m \u001b[1;33m==\u001b[0m \u001b[1;34m\"__main__\"\u001b[0m\u001b[1;33m:\u001b[0m\u001b[1;33m\u001b[0m\u001b[1;33m\u001b[0m\u001b[0m\n\u001b[1;32m---> 20\u001b[1;33m     \u001b[0mchange_opacity\u001b[0m\u001b[1;33m(\u001b[0m\u001b[1;34m\"hummingbird.jpg\"\u001b[0m\u001b[1;33m,\u001b[0m \u001b[1;34m\"hummingbird_opacity.jpg\"\u001b[0m\u001b[1;33m)\u001b[0m\u001b[1;33m\u001b[0m\u001b[1;33m\u001b[0m\u001b[0m\n\u001b[0m",
      "\u001b[1;32m<ipython-input-41-a6811a213e29>\u001b[0m in \u001b[0;36mchange_opacity\u001b[1;34m(input_path, output_path)\u001b[0m\n\u001b[0;32m     15\u001b[0m \u001b[1;33m\u001b[0m\u001b[0m\n\u001b[0;32m     16\u001b[0m     \u001b[0mcomposite\u001b[0m \u001b[1;33m=\u001b[0m \u001b[0mImage\u001b[0m\u001b[1;33m.\u001b[0m\u001b[0malpha_composite\u001b[0m\u001b[1;33m(\u001b[0m\u001b[0mbase_image\u001b[0m\u001b[1;33m,\u001b[0m \u001b[0mtxt_img\u001b[0m\u001b[1;33m)\u001b[0m\u001b[1;33m\u001b[0m\u001b[1;33m\u001b[0m\u001b[0m\n\u001b[1;32m---> 17\u001b[1;33m     \u001b[0mcomposite\u001b[0m\u001b[1;33m.\u001b[0m\u001b[0msave\u001b[0m\u001b[1;33m(\u001b[0m\u001b[0moutput_path\u001b[0m\u001b[1;33m)\u001b[0m\u001b[1;33m\u001b[0m\u001b[1;33m\u001b[0m\u001b[0m\n\u001b[0m\u001b[0;32m     18\u001b[0m \u001b[1;33m\u001b[0m\u001b[0m\n\u001b[0;32m     19\u001b[0m \u001b[1;32mif\u001b[0m \u001b[0m__name__\u001b[0m \u001b[1;33m==\u001b[0m \u001b[1;34m\"__main__\"\u001b[0m\u001b[1;33m:\u001b[0m\u001b[1;33m\u001b[0m\u001b[1;33m\u001b[0m\u001b[0m\n",
      "\u001b[1;32mc:\\cv\\CV_WEEK02_1_PM\\venv_week2\\lib\\site-packages\\PIL\\Image.py\u001b[0m in \u001b[0;36msave\u001b[1;34m(self, fp, format, **params)\u001b[0m\n\u001b[0;32m   2170\u001b[0m \u001b[1;33m\u001b[0m\u001b[0m\n\u001b[0;32m   2171\u001b[0m         \u001b[1;32mtry\u001b[0m\u001b[1;33m:\u001b[0m\u001b[1;33m\u001b[0m\u001b[1;33m\u001b[0m\u001b[0m\n\u001b[1;32m-> 2172\u001b[1;33m             \u001b[0msave_handler\u001b[0m\u001b[1;33m(\u001b[0m\u001b[0mself\u001b[0m\u001b[1;33m,\u001b[0m \u001b[0mfp\u001b[0m\u001b[1;33m,\u001b[0m \u001b[0mfilename\u001b[0m\u001b[1;33m)\u001b[0m\u001b[1;33m\u001b[0m\u001b[1;33m\u001b[0m\u001b[0m\n\u001b[0m\u001b[0;32m   2173\u001b[0m         \u001b[1;32mfinally\u001b[0m\u001b[1;33m:\u001b[0m\u001b[1;33m\u001b[0m\u001b[1;33m\u001b[0m\u001b[0m\n\u001b[0;32m   2174\u001b[0m             \u001b[1;31m# do what we can to clean up\u001b[0m\u001b[1;33m\u001b[0m\u001b[1;33m\u001b[0m\u001b[1;33m\u001b[0m\u001b[0m\n",
      "\u001b[1;32mc:\\cv\\CV_WEEK02_1_PM\\venv_week2\\lib\\site-packages\\PIL\\JpegImagePlugin.py\u001b[0m in \u001b[0;36m_save\u001b[1;34m(im, fp, filename)\u001b[0m\n\u001b[0;32m    633\u001b[0m         \u001b[0mrawmode\u001b[0m \u001b[1;33m=\u001b[0m \u001b[0mRAWMODE\u001b[0m\u001b[1;33m[\u001b[0m\u001b[0mim\u001b[0m\u001b[1;33m.\u001b[0m\u001b[0mmode\u001b[0m\u001b[1;33m]\u001b[0m\u001b[1;33m\u001b[0m\u001b[1;33m\u001b[0m\u001b[0m\n\u001b[0;32m    634\u001b[0m     \u001b[1;32mexcept\u001b[0m \u001b[0mKeyError\u001b[0m \u001b[1;32mas\u001b[0m \u001b[0me\u001b[0m\u001b[1;33m:\u001b[0m\u001b[1;33m\u001b[0m\u001b[1;33m\u001b[0m\u001b[0m\n\u001b[1;32m--> 635\u001b[1;33m         \u001b[1;32mraise\u001b[0m \u001b[0mOSError\u001b[0m\u001b[1;33m(\u001b[0m\u001b[1;34mf\"cannot write mode {im.mode} as JPEG\"\u001b[0m\u001b[1;33m)\u001b[0m \u001b[1;32mfrom\u001b[0m \u001b[0me\u001b[0m\u001b[1;33m\u001b[0m\u001b[1;33m\u001b[0m\u001b[0m\n\u001b[0m\u001b[0;32m    636\u001b[0m \u001b[1;33m\u001b[0m\u001b[0m\n\u001b[0;32m    637\u001b[0m     \u001b[0minfo\u001b[0m \u001b[1;33m=\u001b[0m \u001b[0mim\u001b[0m\u001b[1;33m.\u001b[0m\u001b[0mencoderinfo\u001b[0m\u001b[1;33m\u001b[0m\u001b[1;33m\u001b[0m\u001b[0m\n",
      "\u001b[1;31mOSError\u001b[0m: cannot write mode RGBA as JPEG"
     ]
    }
   ],
   "source": [
    "## 글자에 투명도 넣기 \n",
    "\n",
    "from PIL import Image, ImageDraw, ImageFont\n",
    "\n",
    "def change_opacity(input_path, output_path):\n",
    "    base_image = Image.open(input_path).convert(\"RGBA\")\n",
    "    \n",
    "    txt_img = Image.new(\"RGBA\", base_image.size, (255, 255, 255, 0))\n",
    "    font = ImageFont.truetype(\"NanumGothic.ttf\", 40)\n",
    "    draw = ImageDraw.Draw(txt_img)\n",
    "\n",
    "    draw.text((10, 10), \"컴퓨터 비전\", font=font, fill=(255,255,255, 128)) # 반정도의 투명도\n",
    "\n",
    "    draw.text((10, 60), \"컴퓨터 비전\", font=font, fill=(255,255,255,255))  # 전체 투명도\n",
    "\n",
    "    composite = Image.alpha_composite(base_image, txt_img)\n",
    "    composite.save(output_path)\n",
    "\n",
    "if __name__ == \"__main__\":\n",
    "    change_opacity(\"hummingbird.jpg\", \"hummingbird_opacity.jpg\")"
   ]
  },
  {
   "cell_type": "code",
   "execution_count": 44,
   "metadata": {},
   "outputs": [],
   "source": [
    "from PIL import Image, ImageDraw, ImageFont\n",
    "\n",
    "def anchor(xy = (100, 100), anchor =\"la\"):\n",
    "    font = ImageFont.truetype(\"NanumGothic.ttf\", 32)\n",
    "    image = Image.new(\"RGB\", (400, 400), \"white\")\n",
    "    draw = ImageDraw.Draw(image)\n",
    "\n",
    "    draw.line(((0, 200), (400, 200)), \"gray\")\n",
    "    draw.line(((200, 0), (200, 400)), \"gray\") \n",
    "\n",
    "    draw.text((200, 200), \"파이썬\", fill = \"black\", anchor = anchor, font = font)\n",
    "    image.save((f\"anchor_{anchor}.jpg\"))\n",
    "\n",
    "if __name__ == \"__main__\":\n",
    "   anchor(anchor=\"ms\")\n"
   ]
  },
  {
   "cell_type": "code",
   "execution_count": null,
   "metadata": {},
   "outputs": [],
   "source": []
  }
 ]
}