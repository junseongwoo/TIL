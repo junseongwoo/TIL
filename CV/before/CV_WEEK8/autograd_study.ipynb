{
 "metadata": {
  "language_info": {
   "codemirror_mode": {
    "name": "ipython",
    "version": 3
   },
   "file_extension": ".py",
   "mimetype": "text/x-python",
   "name": "python",
   "nbconvert_exporter": "python",
   "pygments_lexer": "ipython3",
   "version": "3.9.5"
  },
  "orig_nbformat": 4,
  "kernelspec": {
   "name": "python3",
   "display_name": "Python 3.9.5 64-bit ('venv': venv)"
  },
  "interpreter": {
   "hash": "7bb547a71273723496801ba8d5c67702ef0837f2b218b3f175a648afb4e114e5"
  }
 },
 "nbformat": 4,
 "nbformat_minor": 2,
 "cells": [
  {
   "source": [
    "## autograd_study.ipynb\n"
   ],
   "cell_type": "markdown",
   "metadata": {}
  },
  {
   "cell_type": "code",
   "execution_count": 1,
   "metadata": {},
   "outputs": [],
   "source": [
    "import torch"
   ]
  },
  {
   "cell_type": "code",
   "execution_count": 2,
   "metadata": {},
   "outputs": [],
   "source": [
    "x = torch.tensor([5], dtype = torch.float32, requires_grad= True)\n",
    "y = torch.tensor([6], dtype = torch.float32, requires_grad= True)"
   ]
  },
  {
   "cell_type": "code",
   "execution_count": 3,
   "metadata": {},
   "outputs": [
    {
     "output_type": "execute_result",
     "data": {
      "text/plain": [
       "(tensor([5.], requires_grad=True), tensor([6.], requires_grad=True))"
      ]
     },
     "metadata": {},
     "execution_count": 3
    }
   ],
   "source": [
    "x, y"
   ]
  },
  {
   "cell_type": "code",
   "execution_count": 4,
   "metadata": {},
   "outputs": [],
   "source": [
    "z = ( (x**2) * y ) + ( x * y )"
   ]
  },
  {
   "cell_type": "code",
   "execution_count": 5,
   "metadata": {},
   "outputs": [
    {
     "output_type": "execute_result",
     "data": {
      "text/plain": [
       "tensor([180.], grad_fn=<AddBackward0>)"
      ]
     },
     "metadata": {},
     "execution_count": 5
    }
   ],
   "source": [
    "z"
   ]
  },
  {
   "cell_type": "code",
   "execution_count": 6,
   "metadata": {},
   "outputs": [],
   "source": [
    "total = torch.sum(z)"
   ]
  },
  {
   "cell_type": "code",
   "execution_count": 7,
   "metadata": {},
   "outputs": [
    {
     "output_type": "execute_result",
     "data": {
      "text/plain": [
       "tensor(180., grad_fn=<SumBackward0>)"
      ]
     },
     "metadata": {},
     "execution_count": 7
    }
   ],
   "source": [
    "total"
   ]
  },
  {
   "cell_type": "code",
   "execution_count": 8,
   "metadata": {},
   "outputs": [],
   "source": [
    "total.backward()"
   ]
  },
  {
   "cell_type": "code",
   "execution_count": 9,
   "metadata": {},
   "outputs": [
    {
     "output_type": "stream",
     "name": "stdout",
     "text": [
      "tensor([66.])\n"
     ]
    }
   ],
   "source": [
    "print(x.grad)"
   ]
  },
  {
   "cell_type": "code",
   "execution_count": 10,
   "metadata": {},
   "outputs": [
    {
     "output_type": "stream",
     "name": "stdout",
     "text": [
      "tensor([30.])\n"
     ]
    }
   ],
   "source": [
    "print(y.grad)"
   ]
  },
  {
   "cell_type": "code",
   "execution_count": 11,
   "metadata": {},
   "outputs": [
    {
     "output_type": "execute_result",
     "data": {
      "text/plain": [
       "tensor([ 1.0397,  0.6314,  1.1401,  1.0124,  1.2789,  0.3531,  0.8706,  0.3758,\n",
       "        -1.1718, -0.3062])"
      ]
     },
     "metadata": {},
     "execution_count": 11
    }
   ],
   "source": [
    "x = torch.randn(10)\n",
    "x"
   ]
  },
  {
   "cell_type": "code",
   "execution_count": 24,
   "metadata": {},
   "outputs": [
    {
     "output_type": "execute_result",
     "data": {
      "text/plain": [
       "tensor([33.8714, 33.1364, 34.0522, 33.8223, 34.3020, 32.6356, 33.5672, 32.6764,\n",
       "        29.8908, 31.4488])"
      ]
     },
     "metadata": {},
     "execution_count": 24
    }
   ],
   "source": [
    "y = 1.8 * x + 32  # y = wx + b\n",
    "y"
   ]
  },
  {
   "cell_type": "code",
   "execution_count": 25,
   "metadata": {},
   "outputs": [
    {
     "output_type": "execute_result",
     "data": {
      "text/plain": [
       "tensor([1.], requires_grad=True)"
      ]
     },
     "metadata": {},
     "execution_count": 25
    }
   ],
   "source": [
    "w = torch.ones(1, requires_grad = True)\n",
    "w"
   ]
  },
  {
   "cell_type": "code",
   "execution_count": 26,
   "metadata": {},
   "outputs": [
    {
     "output_type": "execute_result",
     "data": {
      "text/plain": [
       "tensor([1.], requires_grad=True)"
      ]
     },
     "metadata": {},
     "execution_count": 26
    }
   ],
   "source": [
    "b = torch.ones(1, requires_grad = True)\n",
    "b\n"
   ]
  },
  {
   "cell_type": "code",
   "execution_count": 27,
   "metadata": {},
   "outputs": [
    {
     "output_type": "execute_result",
     "data": {
      "text/plain": [
       "tensor([ 2.0397,  1.6314,  2.1401,  2.0124,  2.2789,  1.3531,  1.8706,  1.3758,\n",
       "        -0.1718,  0.6938], grad_fn=<AddBackward0>)"
      ]
     },
     "metadata": {},
     "execution_count": 27
    }
   ],
   "source": [
    "y_hat = w * x + b  # hat은 predicted value\n",
    "y_hat"
   ]
  },
  {
   "cell_type": "code",
   "execution_count": 28,
   "metadata": {},
   "outputs": [],
   "source": [
    "loss = torch.sum( (y_hat - y)**2 )"
   ]
  },
  {
   "cell_type": "code",
   "execution_count": 29,
   "metadata": {},
   "outputs": [
    {
     "output_type": "execute_result",
     "data": {
      "text/plain": [
       "tensor(9874.1865, grad_fn=<SumBackward0>)"
      ]
     },
     "metadata": {},
     "execution_count": 29
    }
   ],
   "source": [
    "loss"
   ]
  },
  {
   "cell_type": "code",
   "execution_count": 30,
   "metadata": {},
   "outputs": [],
   "source": [
    "loss.backward()"
   ]
  },
  {
   "cell_type": "code",
   "execution_count": 31,
   "metadata": {},
   "outputs": [
    {
     "output_type": "stream",
     "name": "stdout",
     "text": [
      "tensor([-336.5777]) tensor([-628.3584])\n"
     ]
    }
   ],
   "source": [
    "print(w.grad, b.grad)"
   ]
  },
  {
   "cell_type": "code",
   "execution_count": 23,
   "metadata": {},
   "outputs": [
    {
     "output_type": "execute_result",
     "data": {
      "text/plain": [
       "(tensor([1.], requires_grad=True), tensor([-336.5777]))"
      ]
     },
     "metadata": {},
     "execution_count": 23
    }
   ],
   "source": [
    "w, w.grad"
   ]
  },
  {
   "cell_type": "code",
   "execution_count": 35,
   "metadata": {},
   "outputs": [
    {
     "output_type": "execute_result",
     "data": {
      "text/plain": [
       "tensor([-53.,  86.,  -2.,  87.,  47., -26.,  73.,  33.,  69.,  56., -48., -65.,\n",
       "         51., -40.,  41., -59., -35., -54., -32., -93.,  -1., -40.,  69., -25.,\n",
       "         55., -78.,  26., -91.,  78., -72.,  -3., -44., -50., -35.,  46.,  73.,\n",
       "         24., -90., -30., -11., -73.,  51., -60.,  73.,  18.,  91.,   9.,  94.,\n",
       "         17.,  48., -56., -69.,  92.,  50.,   6., -76.,  60., -53., -41.,  51.,\n",
       "         39., -16.,  49.,  10.,  42.,  56., -84., -17.,  19.,  40.,  37., -83.,\n",
       "         97.,  19.,  -3., -62., -90.,  65., -24., -96.,  34.,  47.,  59., -98.,\n",
       "        -74., -10., -63., -16., -24., -24.,  50.,  38., -11.,   0.,  29.,  44.,\n",
       "        -64.,  70., -29., -90.])"
      ]
     },
     "metadata": {},
     "execution_count": 35
    }
   ],
   "source": [
    "x = torch.randint(-100, 100, (100, ), dtype = torch.float32)\n",
    "x"
   ]
  },
  {
   "cell_type": "code",
   "execution_count": 36,
   "metadata": {},
   "outputs": [
    {
     "output_type": "execute_result",
     "data": {
      "text/plain": [
       "tensor([ -63.4000,  186.8000,   28.4000,  188.6000,  116.6000,  -14.8000,\n",
       "         163.4000,   91.4000,  156.2000,  132.8000,  -54.4000,  -85.0000,\n",
       "         123.8000,  -40.0000,  105.8000,  -74.2000,  -31.0000,  -65.2000,\n",
       "         -25.6000, -135.4000,   30.2000,  -40.0000,  156.2000,  -13.0000,\n",
       "         131.0000, -108.4000,   78.8000, -131.8000,  172.4000,  -97.6000,\n",
       "          26.6000,  -47.2000,  -58.0000,  -31.0000,  114.8000,  163.4000,\n",
       "          75.2000, -130.0000,  -22.0000,   12.2000,  -99.4000,  123.8000,\n",
       "         -76.0000,  163.4000,   64.4000,  195.8000,   48.2000,  201.2000,\n",
       "          62.6000,  118.4000,  -68.8000,  -92.2000,  197.6000,  122.0000,\n",
       "          42.8000, -104.8000,  140.0000,  -63.4000,  -41.8000,  123.8000,\n",
       "         102.2000,    3.2000,  120.2000,   50.0000,  107.6000,  132.8000,\n",
       "        -119.2000,    1.4000,   66.2000,  104.0000,   98.6000, -117.4000,\n",
       "         206.6000,   66.2000,   26.6000,  -79.6000, -130.0000,  149.0000,\n",
       "         -11.2000, -140.8000,   93.2000,  116.6000,  138.2000, -144.4000,\n",
       "        -101.2000,   14.0000,  -81.4000,    3.2000,  -11.2000,  -11.2000,\n",
       "         122.0000,  100.4000,   12.2000,   32.0000,   84.2000,  111.2000,\n",
       "         -83.2000,  158.0000,  -20.2000, -130.0000])"
      ]
     },
     "metadata": {},
     "execution_count": 36
    }
   ],
   "source": [
    "y = (1.8 * x) + 32\n",
    "y"
   ]
  },
  {
   "cell_type": "code",
   "execution_count": 39,
   "metadata": {},
   "outputs": [
    {
     "output_type": "execute_result",
     "data": {
      "text/plain": [
       "tensor([-52.,  87.,  -1.,  88.,  48., -25.,  74.,  34.,  70.,  57., -47., -64.,\n",
       "         52., -39.,  42., -58., -34., -53., -31., -92.,   0., -39.,  70., -24.,\n",
       "         56., -77.,  27., -90.,  79., -71.,  -2., -43., -49., -34.,  47.,  74.,\n",
       "         25., -89., -29., -10., -72.,  52., -59.,  74.,  19.,  92.,  10.,  95.,\n",
       "         18.,  49., -55., -68.,  93.,  51.,   7., -75.,  61., -52., -40.,  52.,\n",
       "         40., -15.,  50.,  11.,  43.,  57., -83., -16.,  20.,  41.,  38., -82.,\n",
       "         98.,  20.,  -2., -61., -89.,  66., -23., -95.,  35.,  48.,  60., -97.,\n",
       "        -73.,  -9., -62., -15., -23., -23.,  51.,  39., -10.,   1.,  30.,  45.,\n",
       "        -63.,  71., -28., -89.], grad_fn=<AddBackward0>)"
      ]
     },
     "metadata": {},
     "execution_count": 39
    }
   ],
   "source": [
    "w = torch.ones(1, requires_grad= True)\n",
    "b = torch.ones(1, requires_grad= True)\n",
    "y_hat = ( w*x ) + b # predict value\n",
    "y_hat"
   ]
  },
  {
   "cell_type": "code",
   "execution_count": 40,
   "metadata": {},
   "outputs": [],
   "source": [
    "epochs = 100000\n",
    "lr = 0.000001"
   ]
  },
  {
   "cell_type": "code",
   "execution_count": 42,
   "metadata": {},
   "outputs": [
    {
     "output_type": "stream",
     "name": "stdout",
     "text": [
      "1.7999989986419678 31.99523162841797\n"
     ]
    }
   ],
   "source": [
    "for i in range(epochs):\n",
    "    loss = torch.sum( (y_hat - y) ** 2 )\n",
    "    loss.backward()\n",
    "    with torch.no_grad():\n",
    "        w -= lr * w.grad\n",
    "        b -= lr * b.grad\n",
    "\n",
    "        w.grad.zero_()\n",
    "        b.grad.zero_()\n",
    "\n",
    "    y_hat = ( w*x ) + b\n",
    "\n",
    "print(w.item(), b.item())"
   ]
  },
  {
   "cell_type": "code",
   "execution_count": 49,
   "metadata": {},
   "outputs": [
    {
     "output_type": "stream",
     "name": "stdout",
     "text": [
      "tensor([5.], requires_grad=True) tensor([6.], requires_grad=True)\n"
     ]
    }
   ],
   "source": [
    "x = torch.tensor([5], dtype = torch.float32, requires_grad=True)\n",
    "y = torch.tensor([6], dtype = torch.float32, requires_grad=True)\n",
    "print(x, y)"
   ]
  },
  {
   "cell_type": "code",
   "execution_count": 50,
   "metadata": {},
   "outputs": [
    {
     "output_type": "stream",
     "name": "stdout",
     "text": [
      "tensor([180.], grad_fn=<AddBackward0>)\n"
     ]
    }
   ],
   "source": [
    "z = ( (x**2) * y ) + ( x*y )\n",
    "print(z)"
   ]
  },
  {
   "cell_type": "code",
   "execution_count": 51,
   "metadata": {},
   "outputs": [],
   "source": [
    "z.backward()"
   ]
  },
  {
   "cell_type": "code",
   "execution_count": 52,
   "metadata": {},
   "outputs": [
    {
     "output_type": "execute_result",
     "data": {
      "text/plain": [
       "tensor([66.])"
      ]
     },
     "metadata": {},
     "execution_count": 52
    }
   ],
   "source": [
    "x.grad"
   ]
  },
  {
   "cell_type": "code",
   "execution_count": 53,
   "metadata": {},
   "outputs": [
    {
     "output_type": "execute_result",
     "data": {
      "text/plain": [
       "tensor([30.])"
      ]
     },
     "metadata": {},
     "execution_count": 53
    }
   ],
   "source": [
    "y.grad"
   ]
  },
  {
   "cell_type": "code",
   "execution_count": null,
   "metadata": {},
   "outputs": [],
   "source": []
  }
 ]
}