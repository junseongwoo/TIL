{
 "metadata": {
  "language_info": {
   "codemirror_mode": {
    "name": "ipython",
    "version": 3
   },
   "file_extension": ".py",
   "mimetype": "text/x-python",
   "name": "python",
   "nbconvert_exporter": "python",
   "pygments_lexer": "ipython3",
   "version": "3.9.4"
  },
  "orig_nbformat": 2,
  "kernelspec": {
   "name": "python394jvsc74a57bd0dee945275f95401285b0a289a30e6baafa7d0482b0172d619c56a105a91f0a1f",
   "display_name": "Python 3.9.4 64-bit ('pillow_lab_venv')"
  },
  "metadata": {
   "interpreter": {
    "hash": "dee945275f95401285b0a289a30e6baafa7d0482b0172d619c56a105a91f0a1f"
   }
  }
 },
 "nbformat": 4,
 "nbformat_minor": 2,
 "cells": [
  {
   "source": [
    "nengo 뉴럴 네트워크 쓰는 라이브러리 \n",
    "\n",
    "pip install -r requirements.txt "
   ],
   "cell_type": "markdown",
   "metadata": {}
  },
  {
   "source": [
    "### 파이썬에서 사용할 수 있는 GUI 라이브러리\n",
    "\n",
    "1. Kivy - 모바일 가볍게\n",
    "2. PysimpleGUI - Tkinter를 좀 더 쉽게 사용하기 위해 만듦\n",
    "3. PyQt - Qt라는 라이브러리를 파이썬에서 사용 할수 있게 만듦 (복잡)\n",
    "4. Tkinter - 파이선 스탠다드 라이브러리\n",
    "5. wxPython\n",
    "\n",
    "일반적으로 GUI 라이브러리에서 버튼, 입력, 라벨 등등을 widget(위젯) 이라는 표현을 씀\n",
    "\n",
    "PysimpleGUI는 widget 대신 element 라는 표현을 사용 "
   ],
   "cell_type": "markdown",
   "metadata": {}
  },
  {
   "source": [
    "이벤트 루프 상태에 있다\n",
    "-> 계속 해서 사용자의 입력을 기다리고 있다.\n",
    "-> 이벤트라는 의미는 사용자가 대상인 창에 클릭,입력,드래그 등 활동을 하는 것 "
   ],
   "cell_type": "markdown",
   "metadata": {}
  },
  {
   "source": [
    "pillow_color \n",
    "- RGBA : RED, GREEN, BLUE, ALPHA(transparency)\n",
    "- 0 ~ 255\n",
    "ex) GREEN을 pillow에 알려주고 싶다 = (0, 255, 0, 255)\n",
    "    RED = (255, 0, 0, 255)\n",
    "    BLUE = (0, 0, 255, 255)\n",
    "\n",
    "CMYK 라는 색의 표현 Cyan(Blue), Magenta(Red), Yellow, Black\n",
    "\n",
    "RGB : 화면의 색을 표현 할때 사용\n",
    "CMYK : 종이의 색을 표현 할 때 사용 \n"
   ],
   "cell_type": "markdown",
   "metadata": {}
  },
  {
   "cell_type": "code",
   "execution_count": 5,
   "metadata": {},
   "outputs": [
    {
     "output_type": "execute_result",
     "data": {
      "text/plain": [
       "(255, 0, 0, 255)"
      ]
     },
     "metadata": {},
     "execution_count": 5
    }
   ],
   "source": []
  },
  {
   "cell_type": "code",
   "execution_count": null,
   "metadata": {},
   "outputs": [],
   "source": []
  }
 ]
}