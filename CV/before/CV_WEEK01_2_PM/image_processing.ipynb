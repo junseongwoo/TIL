{
 "metadata": {
  "language_info": {
   "codemirror_mode": {
    "name": "ipython",
    "version": 3
   },
   "file_extension": ".py",
   "mimetype": "text/x-python",
   "name": "python",
   "nbconvert_exporter": "python",
   "pygments_lexer": "ipython3",
   "version": "3.9.4"
  },
  "orig_nbformat": 2,
  "kernelspec": {
   "name": "python394jvsc74a57bd09b5afc9a0ec37c8bc8ef7fb0a289d6077aaa34e4ee4e11c7829d46840bea92d2",
   "display_name": "Python 3.9.4 64-bit ('pillow_lab_venv')"
  },
  "metadata": {
   "interpreter": {
    "hash": "9b5afc9a0ec37c8bc8ef7fb0a289d6077aaa34e4ee4e11c7829d46840bea92d2"
   }
  }
 },
 "nbformat": 4,
 "nbformat_minor": 2,
 "cells": [
  {
   "cell_type": "code",
   "execution_count": 2,
   "metadata": {},
   "outputs": [
    {
     "output_type": "execute_result",
     "data": {
      "text/plain": [
       "(960, 640)"
      ]
     },
     "metadata": {},
     "execution_count": 2
    }
   ],
   "source": [
    "from PIL import Image\n",
    "\n",
    "image = Image.open(\"flowers_dallas.jpg\")\n",
    "image.size"
   ]
  },
  {
   "cell_type": "code",
   "execution_count": 8,
   "metadata": {},
   "outputs": [],
   "source": [
    "from PIL import Image\n",
    "\n",
    "def crop_image(image_path, coords, output_image_path):\n",
    "    image = Image.open(image_path)\n",
    "    cropped_image = image.crop(coords)\n",
    "    cropped_image.save(output_image_path)\n",
    "\n",
    "## 크롭할 부분을 튜플로 받아서 처리 \n",
    "if __name__ == \"__main__\": \n",
    "    crop_image(\"flowers_dallas.jpg\", (302, 101, 910, 574), \"cropped_flowers_dallas.jpg\")"
   ]
  },
  {
   "cell_type": "code",
   "execution_count": 20,
   "metadata": {},
   "outputs": [],
   "source": [
    "from PIL import Image\n",
    "\n",
    "def rotate_image(image_path, degress_to_rotate, output_image_path):\n",
    "    image = Image.open(image_path)\n",
    "    rotated_image = image.rotate(degress_to_rotate)\n",
    "    rotated_image.save(output_image_path)\n",
    "\n",
    "if __name__ == \"__main__\": \n",
    "    rotate_image(\"flowers_dallas.jpg\", 90, \"rotated_flowers_dallas.jpg\")  # 왼쪽으로 90도 "
   ]
  },
  {
   "cell_type": "code",
   "execution_count": 16,
   "metadata": {},
   "outputs": [],
   "source": [
    "from PIL import Image\n",
    "\n",
    "def mirror_image(image_path, output_image_path):\n",
    "    image = Image.open(image_path)\n",
    "    mirror_image = image.transpose(Image.FLIP_TOP_BOTTOM)\n",
    "    mirror_image.save(output_image_path)\n",
    "\n",
    "if __name__ == \"__main__\": \n",
    "    mirror_image(\"flowers_dallas.jpg\", \"mirror_flowers_dallas.jpg\")"
   ]
  },
  {
   "cell_type": "code",
   "execution_count": 24,
   "metadata": {},
   "outputs": [
    {
     "output_type": "stream",
     "name": "stdout",
     "text": [
      "원래 사진의 크기 : 폭 960, 높이 640\nresize한 사진의 크기 : 폭 480, 높이 320\n"
     ]
    }
   ],
   "source": [
    "from PIL import Image \n",
    "\n",
    "def resize(input_image_path, output_image_path, size):\n",
    "    image = Image.open(input_image_path)\n",
    "    width, height = image.size\n",
    "    print(f\"원래 사진의 크기 : 폭 {width}, 높이 {height}\")\n",
    "\n",
    "    resized_image = image.resize(size)\n",
    "    width, height = resized_image.size\n",
    "    print(f\"resize한 사진의 크기 : 폭 {width}, 높이 {height}\")\n",
    "    resized_image.save(output_image_path)\n",
    "\n",
    "if __name__ == \"__main__\":\n",
    "    resize(\n",
    "        \"flowers_dallas.jpg\",\n",
    "        \"resized_flowers_dallas.jpg\",\n",
    "        size=(480, 320)\n",
    "    )\n"
   ]
  },
  {
   "cell_type": "code",
   "execution_count": 28,
   "metadata": {},
   "outputs": [
    {
     "output_type": "stream",
     "name": "stdout",
     "text": [
      "원래 이미지의 크기 : 폭 960 / 높이 640\n"
     ]
    },
    {
     "output_type": "error",
     "ename": "AttributeError",
     "evalue": "module 'PIL.Image' has no attribute 'ANTTALIAS'",
     "traceback": [
      "\u001b[1;31m---------------------------------------------------------------------------\u001b[0m",
      "\u001b[1;31mAttributeError\u001b[0m                            Traceback (most recent call last)",
      "\u001b[1;32m<ipython-input-28-39f4e8703ed9>\u001b[0m in \u001b[0;36m<module>\u001b[1;34m\u001b[0m\n\u001b[0;32m     24\u001b[0m \u001b[1;33m\u001b[0m\u001b[0m\n\u001b[0;32m     25\u001b[0m \u001b[1;32mif\u001b[0m \u001b[0m__name__\u001b[0m \u001b[1;33m==\u001b[0m \u001b[1;34m\"__main__\"\u001b[0m\u001b[1;33m:\u001b[0m\u001b[1;33m\u001b[0m\u001b[1;33m\u001b[0m\u001b[0m\n\u001b[1;32m---> 26\u001b[1;33m     scale(\n\u001b[0m\u001b[0;32m     27\u001b[0m         \u001b[1;34m\"flowers_dallas.jpg\"\u001b[0m\u001b[1;33m,\u001b[0m\u001b[1;33m\u001b[0m\u001b[1;33m\u001b[0m\u001b[0m\n\u001b[0;32m     28\u001b[0m         \u001b[1;34m\"scaled_flowers_dallas.jpg\"\u001b[0m\u001b[1;33m,\u001b[0m\u001b[1;33m\u001b[0m\u001b[1;33m\u001b[0m\u001b[0m\n",
      "\u001b[1;32m<ipython-input-28-39f4e8703ed9>\u001b[0m in \u001b[0;36mscale\u001b[1;34m(input_image_path, output_image_path, width, height)\u001b[0m\n\u001b[0;32m     16\u001b[0m         \u001b[0msys\u001b[0m\u001b[1;33m.\u001b[0m\u001b[0mexit\u001b[0m\u001b[1;33m(\u001b[0m\u001b[1;34m\"값을 넣어주세요\"\u001b[0m\u001b[1;33m)\u001b[0m\u001b[1;33m\u001b[0m\u001b[1;33m\u001b[0m\u001b[0m\n\u001b[0;32m     17\u001b[0m \u001b[1;33m\u001b[0m\u001b[0m\n\u001b[1;32m---> 18\u001b[1;33m     \u001b[0mimage\u001b[0m\u001b[1;33m.\u001b[0m\u001b[0mthumbnail\u001b[0m\u001b[1;33m(\u001b[0m\u001b[0mmax_size\u001b[0m\u001b[1;33m,\u001b[0m \u001b[0mImage\u001b[0m\u001b[1;33m.\u001b[0m\u001b[0mANTTALIAS\u001b[0m\u001b[1;33m)\u001b[0m\u001b[1;33m\u001b[0m\u001b[1;33m\u001b[0m\u001b[0m\n\u001b[0m\u001b[0;32m     19\u001b[0m     \u001b[0mimage\u001b[0m\u001b[1;33m.\u001b[0m\u001b[0msave\u001b[0m\u001b[1;33m(\u001b[0m\u001b[0moutput_image_path\u001b[0m\u001b[1;33m)\u001b[0m\u001b[1;33m\u001b[0m\u001b[1;33m\u001b[0m\u001b[0m\n\u001b[0;32m     20\u001b[0m \u001b[1;33m\u001b[0m\u001b[0m\n",
      "\u001b[1;32mc:\\cv\\CV_WEEK02_PM\\pillow_lab_venv\\lib\\site-packages\\PIL\\Image.py\u001b[0m in \u001b[0;36m__getattr__\u001b[1;34m(name)\u001b[0m\n\u001b[0;32m     70\u001b[0m                 )\n\u001b[0;32m     71\u001b[0m                 \u001b[1;32mreturn\u001b[0m \u001b[0mcategories\u001b[0m\u001b[1;33m[\u001b[0m\u001b[0mname\u001b[0m\u001b[1;33m]\u001b[0m\u001b[1;33m\u001b[0m\u001b[1;33m\u001b[0m\u001b[0m\n\u001b[1;32m---> 72\u001b[1;33m         \u001b[1;32mraise\u001b[0m \u001b[0mAttributeError\u001b[0m\u001b[1;33m(\u001b[0m\u001b[1;34mf\"module '{__name__}' has no attribute '{name}'\"\u001b[0m\u001b[1;33m)\u001b[0m\u001b[1;33m\u001b[0m\u001b[1;33m\u001b[0m\u001b[0m\n\u001b[0m\u001b[0;32m     73\u001b[0m \u001b[1;33m\u001b[0m\u001b[0m\n\u001b[0;32m     74\u001b[0m \u001b[1;33m\u001b[0m\u001b[0m\n",
      "\u001b[1;31mAttributeError\u001b[0m: module 'PIL.Image' has no attribute 'ANTTALIAS'"
     ]
    }
   ],
   "source": [
    "## TODO 에러처리\n",
    "import sys\n",
    "from PIL import Image\n",
    "\n",
    "def scale(input_image_path, output_image_path, width=None, height=None):\n",
    "    image = Image.open(input_image_path)\n",
    "    width_original, heigh_original = image.size\n",
    "    print(f\"원래 이미지의 크기 : 폭 {width_original} / 높이 {heigh_original}\")\n",
    "\n",
    "    if width and height:\n",
    "        max_size = (width, height)\n",
    "    elif width:\n",
    "        max_size = (width, height_original)\n",
    "    elif height:\n",
    "        max_size = (width_original, height)\n",
    "    else:\n",
    "        sys.exit(\"값을 넣어주세요\")\n",
    "\n",
    "    image.thumbnail(max_size, Image.ANTTALIAS)\n",
    "    image.save(output_image_path)\n",
    "\n",
    "    scaled_image = Image.open(output_image_path)\n",
    "    width, height = scaled_image.size\n",
    "    print(f\"조정한 이미지의 크기 : 폭 {width} / 높이 {height}\")\n",
    "\n",
    "if __name__ == \"__main__\":\n",
    "    scale(\n",
    "        \"flowers_dallas.jpg\",\n",
    "        \"scaled_flowers_dallas.jpg\",\n",
    "        height = 200\n",
    "    )"
   ]
  },
  {
   "cell_type": "code",
   "execution_count": null,
   "metadata": {},
   "outputs": [],
   "source": []
  }
 ]
}