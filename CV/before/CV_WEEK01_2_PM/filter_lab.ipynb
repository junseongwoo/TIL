{
 "metadata": {
  "language_info": {
   "codemirror_mode": {
    "name": "ipython",
    "version": 3
   },
   "file_extension": ".py",
   "mimetype": "text/x-python",
   "name": "python",
   "nbconvert_exporter": "python",
   "pygments_lexer": "ipython3",
   "version": "3.9.4"
  },
  "orig_nbformat": 2,
  "kernelspec": {
   "name": "python394jvsc74a57bd09b5afc9a0ec37c8bc8ef7fb0a289d6077aaa34e4ee4e11c7829d46840bea92d2",
   "display_name": "Python 3.9.4 64-bit ('pillow_lab_venv')"
  },
  "metadata": {
   "interpreter": {
    "hash": "9b5afc9a0ec37c8bc8ef7fb0a289d6077aaa34e4ee4e11c7829d46840bea92d2"
   }
  }
 },
 "nbformat": 4,
 "nbformat_minor": 2,
 "cells": [
  {
   "source": [
    "Filter (사진에 효과) : Computer Vision => Image Transformation or image transform\n",
    "\n",
    "image transform은 결국에는 어떤 함수 (funcion) / 입력이 이미지, 출력은 함수가 처리한 결과가 반영된 이미지\n",
    "\n",
    "필터들이 하는 역할\n",
    "\n",
    "1) 이미지의 색변경 / 2장에서 grayscale도 하고, sepia\n",
    "\n",
    "2) 이미지를 선명 (sharpen)하거나 흐릿(blur)하게 하기\n",
    "\n",
    "pillow 내장 (build-in) 필터 \n",
    "\n",
    "ImageFilter 모듈을 사용 \n"
   ],
   "cell_type": "markdown",
   "metadata": {}
  },
  {
   "cell_type": "code",
   "execution_count": 2,
   "metadata": {},
   "outputs": [],
   "source": [
    "from PIL import Image\n",
    "from PIL import ImageFilter\n",
    "\n",
    "## 블러처리 \n",
    "def blur(input_image, output_image):\n",
    "    image = Image.open(input_image)\n",
    "    filter_image = image.filter(ImageFilter.BLUR)\n",
    "    filter_image.save(output_image)\n",
    "\n",
    "if __name__ == \"__main__\":\n",
    "    blur(\"butterfly.jpg\", \"butterfly_blurred.jpg\")"
   ]
  },
  {
   "cell_type": "code",
   "execution_count": 3,
   "metadata": {},
   "outputs": [],
   "source": [
    "from PIL import Image\n",
    "from PIL import ImageFilter\n",
    "\n",
    "## 컨투어 // 외곽선만 얻음\n",
    "def blur(input_image, output_image):\n",
    "    image = Image.open(input_image)\n",
    "    filter_image = image.filter(ImageFilter.CONTOUR)\n",
    "    filter_image.save(output_image)\n",
    "\n",
    "if __name__ == \"__main__\":\n",
    "    blur(\"flowers_dallas.jpg\", \"flowers_contour.jpg\")"
   ]
  },
  {
   "cell_type": "code",
   "execution_count": 4,
   "metadata": {},
   "outputs": [],
   "source": [
    "from PIL import Image\n",
    "from PIL import ImageFilter\n",
    "\n",
    "## 디테일\n",
    "def blur(input_image, output_image):\n",
    "    image = Image.open(input_image)\n",
    "    filter_image = image.filter(ImageFilter.DETAIL)\n",
    "    filter_image.save(output_image)\n",
    "\n",
    "if __name__ == \"__main__\":\n",
    "    blur(\"flowers_dallas.jpg\", \"flowers_detail.jpg\")"
   ]
  },
  {
   "cell_type": "code",
   "execution_count": 5,
   "metadata": {},
   "outputs": [],
   "source": [
    "from PIL import Image\n",
    "from PIL import ImageFilter\n",
    "\n",
    "## 엣지 인헨스\n",
    "def blur(input_image, output_image):\n",
    "    image = Image.open(input_image)\n",
    "    filter_image = image.filter(ImageFilter.EDGE_ENHANCE)\n",
    "    filter_image.save(output_image)\n",
    "\n",
    "if __name__ == \"__main__\":\n",
    "    blur(\"flowers_dallas.jpg\", \"flowers_edge_enhance.jpg\")"
   ]
  },
  {
   "cell_type": "code",
   "execution_count": 7,
   "metadata": {},
   "outputs": [],
   "source": [
    "from PIL import Image\n",
    "from PIL import ImageFilter\n",
    "\n",
    "## 파인드 엣지\n",
    "def blur(input_image, output_image):\n",
    "    image = Image.open(input_image)\n",
    "    filter_image = image.filter(ImageFilter.FIND_EDGES)\n",
    "    filter_image.save(output_image)\n",
    "\n",
    "if __name__ == \"__main__\":\n",
    "    blur(\"flowers_dallas.jpg\", \"flowers_find_edges.jpg\")"
   ]
  },
  {
   "cell_type": "code",
   "execution_count": 8,
   "metadata": {},
   "outputs": [],
   "source": [
    "from PIL import Image\n",
    "from PIL import ImageFilter\n",
    "\n",
    "## 샤프닝\n",
    "def blur(input_image, output_image):\n",
    "    image = Image.open(input_image)\n",
    "    filter_image = image.filter(ImageFilter.SHARPEN)\n",
    "    filter_image.save(output_image)\n",
    "\n",
    "if __name__ == \"__main__\":\n",
    "    blur(\"flowers_dallas.jpg\", \"flowers_sharpen.jpg\")"
   ]
  },
  {
   "cell_type": "code",
   "execution_count": 11,
   "metadata": {},
   "outputs": [],
   "source": [
    "from PIL import Image\n",
    "from PIL import ImageFilter\n",
    "\n",
    "## 샤프닝\n",
    "def blur(input_image, output_image):\n",
    "    image = Image.open(input_image)\n",
    "    filter_image = image.filter(ImageFilter.EMBOSS)\n",
    "    filter_image.save(output_image)\n",
    "\n",
    "if __name__ == \"__main__\":\n",
    "    blur(\"flowers_dallas.jpg\", \"flowers_emboss.jpg\")"
   ]
  },
  {
   "cell_type": "code",
   "execution_count": 14,
   "metadata": {},
   "outputs": [],
   "source": [
    "## RankFilters 필터\n",
    "# kernel = convolution matrix \n",
    "# 블러링, 샤프닝, 엠보싱, 엣지 디텍션, 기타 등등 해줌\n",
    "# convolution : 커널이 지나가는동안 각 행렬의 요소와 픽셀간 처리를 하는 과정\n",
    "# pillow : 커널크기를 3x3, 5x5 를 지원하고 소수점을 가질 수 있음.\n",
    "\n",
    "# 1) MinFilter\n",
    "# 2) MedianFilter\n",
    "# 3) MaxFilter \n",
    "\n",
    "from PIL import Image\n",
    "from PIL import ImageFilter\n",
    "\n",
    "def minfilter(input_image, output_image):\n",
    "    image = Image.open(input_image)\n",
    "    filtered_image = image.filter(ImageFilter.MinFilter(size=3))\n",
    "    filtered_image.save(output_image)\n",
    "\n",
    "if __name__ == \"__main__\":\n",
    "    minfilter(\"flowers_dallas.jpg\",\"flowers_minfilter3.jpg\")"
   ]
  },
  {
   "cell_type": "code",
   "execution_count": null,
   "metadata": {},
   "outputs": [],
   "source": [
    "# MultiBand Filter 적용\n",
    "#\n",
    "# 1) BoxBlur \n",
    "# 2) GaussianBlur\n",
    "# 3) Color3DLUT\n",
    "# 4) UnsharpMask"
   ]
  },
  {
   "cell_type": "code",
   "execution_count": 19,
   "metadata": {},
   "outputs": [],
   "source": [
    "# boxblur 필터\n",
    "# box.\n",
    "\n",
    "from PIL import Image\n",
    "from PIL import ImageFilter\n",
    "\n",
    "def boxblur(input_image, output_image):\n",
    "    image = Image.open(input_image)\n",
    "    filtered_image = image.filter(ImageFilter.BoxBlur(radius=7))\n",
    "    filtered_image.save(output_image)\n",
    "\n",
    "if __name__ == \"__main__\":\n",
    "    boxblur(\"flowers_dallas.jpg\",\"flowers_boxblur7.jpg\")"
   ]
  },
  {
   "cell_type": "code",
   "execution_count": 23,
   "metadata": {},
   "outputs": [],
   "source": [
    "# Gaussian 필터\n",
    "# 이미지의 노이즈를 줄여주거나, 이미지의 선명도를 줄여준다 -> 반투명 효과\n",
    "# 몇몇 컴퓨터 비전 알고리즘에서는 이미지의 전처리에 사용 \n",
    "# 외곽선이나 패턴을 찾기 쉽게하기위해 처리\n",
    "\n",
    "from PIL import Image\n",
    "from PIL import ImageFilter\n",
    "\n",
    "def gaussian_blur(input_image, output_image):\n",
    "    image = Image.open(input_image)\n",
    "    filtered_image = image.filter(ImageFilter.GaussianBlur(radius=5))\n",
    "    filtered_image.save(output_image)\n",
    "\n",
    "if __name__ == \"__main__\":\n",
    "    gaussian_blur(\"flowers_dallas.jpg\",\"flowers_gaussian5.jpg\")"
   ]
  },
  {
   "cell_type": "code",
   "execution_count": 25,
   "metadata": {},
   "outputs": [],
   "source": [
    "# Color3DLUT 필터\n",
    "# 3D Lookup table라고도 함.\n",
    "# 특정 색의 공간 다른 색의 공간으로 연결 시킬 때 사용 \n",
    "# color space (색 공간)\n",
    "\n",
    "from PIL import Image\n",
    "from PIL import ImageFilter\n",
    "\n",
    "def color_lut(input_image, output_image):\n",
    "    image = Image.open(input_image)\n",
    "    filtered_image = image.filter(ImageFilter.Color3DLUT(2, [0,1,2]*8))\n",
    "    filtered_image.save(output_image)\n",
    "\n",
    "if __name__ == \"__main__\":\n",
    "    color_lut(\"flowers_dallas.jpg\",\"flowers_color_lut.jpg\")"
   ]
  },
  {
   "cell_type": "code",
   "execution_count": 27,
   "metadata": {},
   "outputs": [],
   "source": [
    "# unsharpmask\n",
    "# USM : 이미지 처리할 mask로서 블러 처리한 자기 자신의 이미지를 사용해서 선명하게 만들어주는 방법중에 하나\n",
    "# 원래 이미지와 블러한 이미지를 합쳐주는 방식 = 오히려 선명해진다 \n",
    "# UnsharpMask()는 \n",
    "# 1) radius    기본값 : 2\n",
    "# 2) percent   기본값 : 150\n",
    "# 3) threshold 기본값 : 3\n",
    "\n",
    "from PIL import Image\n",
    "from PIL import ImageFilter\n",
    "\n",
    "def unsharp_mask(input_image, output_image):\n",
    "    image = Image.open(input_image)\n",
    "    filtered_image = image.filter(ImageFilter.UnsharpMask)\n",
    "    filtered_image.save(output_image)\n",
    "\n",
    "if __name__ == \"__main__\":\n",
    "    unsharp_mask(\"flowers_dallas.jpg\",\"flowers_unsharp_mask.jpg\")"
   ]
  },
  {
   "cell_type": "code",
   "execution_count": null,
   "metadata": {},
   "outputs": [],
   "source": []
  }
 ]
}