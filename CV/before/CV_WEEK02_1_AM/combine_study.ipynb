{
 "metadata": {
  "language_info": {
   "codemirror_mode": {
    "name": "ipython",
    "version": 3
   },
   "file_extension": ".py",
   "mimetype": "text/x-python",
   "name": "python",
   "nbconvert_exporter": "python",
   "pygments_lexer": "ipython3",
   "version": "3.9.4"
  },
  "orig_nbformat": 2,
  "kernelspec": {
   "name": "python394jvsc74a57bd050e3ad976fc0c2ab77397741a67cf0050f2d0dbf5270ccb074c80a4c78d0bfcf",
   "display_name": "Python 3.9.4 64-bit ('venv_week2')"
  },
  "metadata": {
   "interpreter": {
    "hash": "50e3ad976fc0c2ab77397741a67cf0050f2d0dbf5270ccb074c80a4c78d0bfcf"
   }
  }
 },
 "nbformat": 4,
 "nbformat_minor": 2,
 "cells": [
  {
   "cell_type": "code",
   "execution_count": null,
   "metadata": {},
   "outputs": [],
   "source": [
    "Image Combine\n",
    "\n",
    "1) 이미지를 처리의 전과 후 그대로 같이 연결해서 화면에서 보면 편리한 사례\n",
    "2) 워터마크\n",
    "\n",
    "paste()\n",
    "blend()\n",
    "composite()\n",
    "\n"
   ]
  },
  {
   "cell_type": "code",
   "execution_count": 5,
   "metadata": {},
   "outputs": [],
   "source": [
    "# image paste\n",
    "\n",
    "from PIL import Image\n",
    "\n",
    "def paste_demo(image_path, output_path, crop_coords):\n",
    "    image = Image.open(image_path)\n",
    "    cropped_image = image.crop(crop_coords)\n",
    "    image.paste(cropped_image, (0,0))\n",
    "    image.save(output_path)\n",
    "\n",
    "if __name__ == \"__main__\":\n",
    "    coords = (125, 712, 642, 963)\n",
    "    paste_demo(\"hummingbird.jpg\", \"hummingbird_paste.jpg\", coords)"
   ]
  },
  {
   "cell_type": "code",
   "execution_count": 9,
   "metadata": {},
   "outputs": [
    {
     "output_type": "stream",
     "name": "stdout",
     "text": [
      "1440\n1195\n517\n251\n"
     ]
    }
   ],
   "source": [
    "# image tiling\n",
    "\n",
    "from PIL import Image\n",
    "\n",
    "def image_tiling(image_path, output_path, crop_coords):\n",
    "    image = Image.open(image_path)\n",
    "    width, height = image.size\n",
    "    print(width)\n",
    "    print(height)\n",
    "    new_image = Image.new(\"RGB\", (width, height))\n",
    "\n",
    "    cropped_image = image.crop(crop_coords)            # crop한 이미지의 객체\n",
    "    cropped_width, cropped_height = cropped_image.size # crop한 이미지의 너비와 높이\n",
    "    print(cropped_width)\n",
    "    print(cropped_height)\n",
    "\n",
    "    for left_pos in range(0, width, cropped_width):\n",
    "        for top_pos in range(0, height, cropped_height):\n",
    "            new_image.paste(cropped_image, (left_pos, top_pos))\n",
    "    new_image.save(output_path)\n",
    "\n",
    "if __name__ == \"__main__\":\n",
    "    coords = (125, 712, 642, 963)\n",
    "    image_tiling(\"hummingbird.jpg\", \"hummingbird_tiling.jpg\", coords)\n"
   ]
  },
  {
   "cell_type": "code",
   "execution_count": 15,
   "metadata": {},
   "outputs": [],
   "source": [
    "# Image Concatenate / String Concatenate \n",
    "# 너비를 기준으로 하든, 높이를 기준으로 하든 연결하는 이미지의 너비나 높이가 같아야 \n",
    "# 최고의 연결 결과를 얻을 수 있다.\n",
    "\n",
    "# 같은 크기가 아닐 경우\n",
    "# 1) 어떤 이미지를 crop 해서 연결하거나\n",
    "# 2) 이미지 크기를 조정하거나\n",
    "# 3) 이미지 2개중 작은 것에 margin (이미지의 외곽)을 추가 \n",
    "\n",
    "from PIL import Image\n",
    "\n",
    "def concatenate_vertically(first_image_path, second_image_path, output_image_path):\n",
    "    image_one = Image.open(first_image_path)\n",
    "    image_two = Image.open(second_image_path)\n",
    "    height = image_one.height + image_two.height\n",
    "    new_image = Image.new(\"RGB\", (image_one.width, height))\n",
    "\n",
    "    new_image.paste(image_one, (0,0))\n",
    "    new_image.paste(image_two, (0, image_one.height))\n",
    "\n",
    "    new_image.save(output_image_path)\n",
    "\n",
    "def concatenate_horizontally(first_image_path, second_image_path, output_image_path):\n",
    "    image_one = Image.open(first_image_path)\n",
    "    image_two = Image.open(second_image_path)\n",
    "    width = image_one.width + image_two.width\n",
    "    new_image = Image.new(\"RGB\", (width, image_one.height))\n",
    "\n",
    "    new_image.paste(image_one, (0,0))\n",
    "    new_image.paste(image_two, (image_one.width, 0))\n",
    "    new_image.save(output_image_path)\n",
    "\n",
    "\n",
    "if __name__ == \"__main__\":\n",
    "    #concatenate_vertically(\"silver_falls.jpg\", \"silver_falls2.jpg\", \"silver_combine_vertically.jpg\")\n",
    "    concatenate_horizontally(\"silver_falls.jpg\", \"silver_falls2.jpg\", \"silver_combine_horizontally.jpg\")\n"
   ]
  },
  {
   "cell_type": "code",
   "execution_count": 18,
   "metadata": {},
   "outputs": [
    {
     "output_type": "error",
     "ename": "TypeError",
     "evalue": "'int' object is not iterable",
     "traceback": [
      "\u001b[1;31m---------------------------------------------------------------------------\u001b[0m",
      "\u001b[1;31mTypeError\u001b[0m                                 Traceback (most recent call last)",
      "\u001b[1;32m<ipython-input-18-e855ee405565>\u001b[0m in \u001b[0;36m<module>\u001b[1;34m\u001b[0m\n\u001b[0;32m     26\u001b[0m \u001b[1;33m\u001b[0m\u001b[0m\n\u001b[0;32m     27\u001b[0m \u001b[1;32mif\u001b[0m \u001b[0m__name__\u001b[0m \u001b[1;33m==\u001b[0m \u001b[1;34m\"__main__\"\u001b[0m\u001b[1;33m:\u001b[0m\u001b[1;33m\u001b[0m\u001b[1;33m\u001b[0m\u001b[0m\n\u001b[1;32m---> 28\u001b[1;33m     \u001b[0mconcatenate_vertically\u001b[0m\u001b[1;33m(\u001b[0m\u001b[1;34m\"hummingbird.jpg\"\u001b[0m\u001b[1;33m,\u001b[0m \u001b[1;34m\"silver_falls2.jpg\"\u001b[0m\u001b[1;33m,\u001b[0m \u001b[1;34m\"combine_vertically.jpg\"\u001b[0m\u001b[1;33m)\u001b[0m\u001b[1;33m\u001b[0m\u001b[1;33m\u001b[0m\u001b[0m\n\u001b[0m\u001b[0;32m     29\u001b[0m     \u001b[0mconcatenate_horizontally\u001b[0m\u001b[1;33m(\u001b[0m\u001b[1;34m\"hummingbird.jpg\"\u001b[0m\u001b[1;33m,\u001b[0m \u001b[1;34m\"silver_falls2.jpg\"\u001b[0m\u001b[1;33m,\u001b[0m \u001b[1;34m\"combine_horizontally.jpg\"\u001b[0m\u001b[1;33m)\u001b[0m\u001b[1;33m\u001b[0m\u001b[1;33m\u001b[0m\u001b[0m\n",
      "\u001b[1;32m<ipython-input-18-e855ee405565>\u001b[0m in \u001b[0;36mconcatenate_vertically\u001b[1;34m(first_image_path, second_image_path, output_image_path)\u001b[0m\n\u001b[0;32m      5\u001b[0m     \u001b[0mimage_two\u001b[0m \u001b[1;33m=\u001b[0m \u001b[0mImage\u001b[0m\u001b[1;33m.\u001b[0m\u001b[0mopen\u001b[0m\u001b[1;33m(\u001b[0m\u001b[0msecond_image_path\u001b[0m\u001b[1;33m)\u001b[0m\u001b[1;33m\u001b[0m\u001b[1;33m\u001b[0m\u001b[0m\n\u001b[0;32m      6\u001b[0m     \u001b[0mheight\u001b[0m \u001b[1;33m=\u001b[0m \u001b[0mimage_one\u001b[0m\u001b[1;33m.\u001b[0m\u001b[0mheight\u001b[0m \u001b[1;33m+\u001b[0m \u001b[0mimage_two\u001b[0m\u001b[1;33m.\u001b[0m\u001b[0mheight\u001b[0m\u001b[1;33m\u001b[0m\u001b[1;33m\u001b[0m\u001b[0m\n\u001b[1;32m----> 7\u001b[1;33m     \u001b[0mwidth\u001b[0m \u001b[1;33m=\u001b[0m \u001b[0mmin\u001b[0m\u001b[1;33m(\u001b[0m\u001b[0mimage_one\u001b[0m\u001b[1;33m.\u001b[0m\u001b[0mwidth\u001b[0m \u001b[1;33m+\u001b[0m \u001b[0mimage_two\u001b[0m\u001b[1;33m.\u001b[0m\u001b[0mwidth\u001b[0m\u001b[1;33m)\u001b[0m\u001b[1;33m\u001b[0m\u001b[1;33m\u001b[0m\u001b[0m\n\u001b[0m\u001b[0;32m      8\u001b[0m     \u001b[0mnew_image\u001b[0m \u001b[1;33m=\u001b[0m \u001b[0mImage\u001b[0m\u001b[1;33m.\u001b[0m\u001b[0mnew\u001b[0m\u001b[1;33m(\u001b[0m\u001b[1;34m\"RGB\"\u001b[0m\u001b[1;33m,\u001b[0m \u001b[1;33m(\u001b[0m\u001b[0mwidth\u001b[0m\u001b[1;33m,\u001b[0m \u001b[0mheight\u001b[0m\u001b[1;33m)\u001b[0m\u001b[1;33m)\u001b[0m\u001b[1;33m\u001b[0m\u001b[1;33m\u001b[0m\u001b[0m\n\u001b[0;32m      9\u001b[0m \u001b[1;33m\u001b[0m\u001b[0m\n",
      "\u001b[1;31mTypeError\u001b[0m: 'int' object is not iterable"
     ]
    }
   ],
   "source": [
    "## 다른 크기의 이미지의 높이, 폭을 맞춰서 이어붙이기\n",
    "\n",
    "from PIL import Image\n",
    "\n",
    "def concatenate_vertically(first_image_path, second_image_path, output_image_path):\n",
    "    image_one = Image.open(first_image_path)\n",
    "    image_two = Image.open(second_image_path)\n",
    "    height = image_one.height + image_two.height\n",
    "    width = min(image_one.width + image_two.width)\n",
    "    new_image = Image.new(\"RGB\", (width, height))\n",
    "\n",
    "    new_image.paste(image_one, (0,0))\n",
    "    new_image.paste(image_two, (0, image_one.height))\n",
    "\n",
    "    new_image.save(output_image_path)\n",
    "\n",
    "def concatenate_horizontally(first_image_path, second_image_path, output_image_path):\n",
    "    image_one = Image.open(first_image_path)\n",
    "    image_two = Image.open(second_image_path)\n",
    "    height = min(image_one.height + image_two.height)\n",
    "    width = image_one.width + image_two.width\n",
    "    new_image = Image.new(\"RGB\", (width, height))\n",
    "\n",
    "    new_image.paste(image_one, (0,0))\n",
    "    new_image.paste(image_two, (image_one.width, 0))\n",
    "    new_image.save(output_image_path)\n",
    "\n",
    "\n",
    "if __name__ == \"__main__\":\n",
    "    concatenate_vertically(\"hummingbird.jpg\", \"silver_falls2.jpg\", \"combine_vertically.jpg\")\n",
    "    concatenate_horizontally(\"hummingbird.jpg\", \"silver_falls2.jpg\", \"combine_horizontally.jpg\")\n"
   ]
  },
  {
   "cell_type": "code",
   "execution_count": 19,
   "metadata": {},
   "outputs": [],
   "source": [
    "# watermark \n",
    "\n",
    "from PIL import Image \n",
    "\n",
    "def watermark(input_image_path, output_image_path, watermark_image_path, position):\n",
    "    base_image = Image.open(input_image_path)\n",
    "    watermark_image = Image.open(watermark_image_path)\n",
    "\n",
    "    base_image.paste(watermark_image, position)\n",
    "    base_image.save(output_image_path)\n",
    "\n",
    "if __name__ == \"__main__\":\n",
    "    watermark(\"hummingbird.jpg\", \"hummingbird_watermarked.jpg\", \"logo.png\", position=(10,10))"
   ]
  },
  {
   "cell_type": "code",
   "execution_count": 25,
   "metadata": {},
   "outputs": [],
   "source": [
    "# watermark \n",
    "# 투명하고 우리가 알고있는 워터마크\n",
    "# 워터마크 처리를 할 때 transparency를 지원하지 않으면\n",
    "\n",
    "from PIL import Image \n",
    "\n",
    "def watermark_with_transparency(input_image_path, output_image_path, watermark_image_path, position):\n",
    "    base_image = Image.open(input_image_path)\n",
    "    watermark = Image.open(watermark_image_path)\n",
    "\n",
    "    width, height = base_image.size\n",
    "    transparent = Image.new(\"RGB\", (width, height), (0, 0, 0, 0))\n",
    "    transparent.paste(base_image, (0, 0))\n",
    "    transparent.paste(watermark, position, mask = watermark)\n",
    "    transparent.save(output_image_path)\n",
    "\n",
    "if __name__ == \"__main__\":\n",
    "    watermark_with_transparency(\"hummingbird.jpg\", \"hummingbird_watermarked2.jpg\", \"logo.png\", position=(10,10))"
   ]
  },
  {
   "cell_type": "code",
   "execution_count": 31,
   "metadata": {},
   "outputs": [],
   "source": [
    "# Image composite\n",
    "\n",
    "from PIL import Image\n",
    "\n",
    "def composite_image(input_image_path, input_image_path_2, output_path):\n",
    "    image1 = Image.open(input_image_path)\n",
    "    image2 = Image.open(input_image_path_2).resize(image1.size)\n",
    "\n",
    "    mask = Image.new(\"L\", image1.size, 150) # 0~255\n",
    "\n",
    "    composite_images = Image.composite(image1, image2, mask)\n",
    "    composite_images.save(output_path)\n",
    "\n",
    "if __name__ == \"__main__\":\n",
    "    composite_image(\"hummingbird.jpg\", \"silver_falls.jpg\", \"composited.jpg\")"
   ]
  },
  {
   "cell_type": "code",
   "execution_count": 36,
   "metadata": {},
   "outputs": [],
   "source": [
    "# Image Blending\n",
    "\n",
    "from PIL import Image\n",
    "def blend(input_image_path, input_image_path_2, output_path, alpha):\n",
    "    image1 = Image.open(input_image_path).convert(\"RGBA\")\n",
    "    image2 = Image.open(input_image_path_2).convert(\"RGBA\")\n",
    "\n",
    "    if image1.size != image2.size:\n",
    "        print(\"이미지가 같은 크기가 아닙니다.\")\n",
    "        return \n",
    "    blended_image = Image.blend(image1, image2, alpha)\n",
    "    blended_image.save(output_path)\n",
    "\n",
    "if __name__ == \"__main__\":\n",
    "    blend(\"silver_falls.jpg\", \"silver_falls2.jpg\", \"blended0.2.png\", alpha=0.2)  ## 알파값을 높여서 잘 섞음 "
   ]
  },
  {
   "cell_type": "code",
   "execution_count": null,
   "metadata": {},
   "outputs": [],
   "source": []
  }
 ]
}