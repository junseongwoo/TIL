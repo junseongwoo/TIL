{
 "metadata": {
  "language_info": {
   "codemirror_mode": {
    "name": "ipython",
    "version": 3
   },
   "file_extension": ".py",
   "mimetype": "text/x-python",
   "name": "python",
   "nbconvert_exporter": "python",
   "pygments_lexer": "ipython3",
   "version": "3.9.4"
  },
  "orig_nbformat": 2,
  "kernelspec": {
   "name": "python394jvsc74a57bd050e3ad976fc0c2ab77397741a67cf0050f2d0dbf5270ccb074c80a4c78d0bfcf",
   "display_name": "Python 3.9.4 64-bit ('venv_week2')"
  },
  "metadata": {
   "interpreter": {
    "hash": "50e3ad976fc0c2ab77397741a67cf0050f2d0dbf5270ccb074c80a4c78d0bfcf"
   }
  }
 },
 "nbformat": 4,
 "nbformat_minor": 2,
 "cells": [
  {
   "cell_type": "code",
   "execution_count": 3,
   "metadata": {},
   "outputs": [],
   "source": [
    "import random\n",
    "from PIL import Image, ImageDraw\n",
    "\n",
    "def line(image_path, output_path):\n",
    "    image = Image.open(image_path)\n",
    "    draw = ImageDraw.Draw(image)\n",
    "    colors = [\"red\", \"green\", \"blue\", \"yellow\", \"purple\", \"orange\"]\n",
    "\n",
    "    for i in range(0, 100, 20):\n",
    "        ## 시작점을 돌아가면서 그린다. width 는 선 굵기\n",
    "        draw.line((i,0) + image.size, width=5, fill=random.choice(colors)) ## 랜덤한 색으로 선을 긋는다\n",
    "        # (0, 0) (20, 0) (40, 0) (60, 0) (80, 0)\n",
    "\n",
    "    image.save(output_path)\n",
    "\n",
    "if __name__ == \"__main__\":\n",
    "    line(\"hummingbird.jpg\", \"lines.jpg\")"
   ]
  },
  {
   "cell_type": "code",
   "execution_count": 7,
   "metadata": {},
   "outputs": [],
   "source": [
    "from PIL import Image, ImageDraw\n",
    "\n",
    "# 도화지에다가 선만 그리기 \n",
    "def line(output_path):\n",
    "    points = [(100, 100), (150, 200), (200, 50), (400, 400)]\n",
    "    image = Image.new(\"RGB\", (400, 400), \"yellow\")\n",
    "    draw = ImageDraw.Draw(image)\n",
    "    draw.line(points, width=15, fill=\"green\", joint=\"curve\")\n",
    "    image.save(output_path)\n",
    "\n",
    "if __name__ == \"__main__\":\n",
    "    line(\"jointed_lines.jpg\")"
   ]
  },
  {
   "cell_type": "code",
   "execution_count": null,
   "metadata": {},
   "outputs": [],
   "source": []
  }
 ]
}