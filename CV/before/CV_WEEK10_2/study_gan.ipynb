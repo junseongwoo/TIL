{
 "metadata": {
  "language_info": {
   "codemirror_mode": {
    "name": "ipython",
    "version": 3
   },
   "file_extension": ".py",
   "mimetype": "text/x-python",
   "name": "python",
   "nbconvert_exporter": "python",
   "pygments_lexer": "ipython3",
   "version": "3.9.5"
  },
  "orig_nbformat": 4,
  "kernelspec": {
   "name": "python3",
   "display_name": "Python 3.9.5 64-bit ('venv': venv)"
  },
  "interpreter": {
   "hash": "9d4b4234f62c36521615a010d42b616681d983650dadf5e453679918b1f33aa1"
  }
 },
 "nbformat": 4,
 "nbformat_minor": 2,
 "cells": [
  {
   "source": [
    "https://www.tensorflow.org/beta/tutorials/generative/dcgan\n",
    "\n",
    "- Batch normalization: https://keras.io/api/layers/normalization_layers/batch_normalization/\n",
    "- Leaky Relu: https://keras.io/api/layers/activation_layers/leaky_relu/\n",
    "- Activation functions: https://medium.com/@himanshuxd/activation-functions-sigmoid-relu-leaky-relu-and-softmax-basics-for-neural-networks-and-deep-8d9c70eed91e\n",
    "- Padding: https://www.pico.net/kb/what-is-the-difference-between-same-and-valid-padding-in-tf-nn-max-pool-of-tensorflow\n",
    "\n",
    "- logit : https://deepai.org/machine-learning-glossary-and-terms/logit\n",
    "\n",
    "- dropout : http://jmlr.org/papers/volume15/srivastava14a.old/srivastava14a.pdf\n",
    "\n",
    "- https://intellipaat.com/community/558/what-is-the-difference-between-same-and-valid-padding-in-tf-nn-maxpool-of-tensorflow\n",
    "\n",
    "\n",
    " CNN \n",
    "\n",
    " Filter : kerner이라고 부름 \n",
    " \n",
    " Stride : kerner이 얼만큼 이동하는가\n",
    "\n",
    " Padding : kerner 주변에 여유공간을 둘건지 안둘건지? \n",
    "\n",
    " Activation : 어떤 계산을 할건지? \n",
    "\n",
    " \n",
    "\n",
    "\n",
    "\n"
   ],
   "cell_type": "markdown",
   "metadata": {}
  },
  {
   "cell_type": "code",
   "execution_count": 30,
   "metadata": {},
   "outputs": [],
   "source": [
    "import tensorflow as tf\n",
    "from tensorflow.keras import layers\n",
    "import numpy as np\n",
    "import matplotlib.pyplot as plt"
   ]
  },
  {
   "cell_type": "code",
   "execution_count": 31,
   "metadata": {},
   "outputs": [],
   "source": [
    "# 데이터셋 다운 \n",
    "# 기본 셋은 (x_train, y_train), (x_test, y_test) = tf.keras.datasets.mnist.load_data() \n",
    "# _ 를 통해 무시한다. \n",
    "(x_train, y_train), (_, _) = tf.keras.datasets.mnist.load_data()"
   ]
  },
  {
   "cell_type": "code",
   "execution_count": 32,
   "metadata": {},
   "outputs": [
    {
     "output_type": "execute_result",
     "data": {
      "text/plain": [
       "((60000, 28, 28), numpy.ndarray, 3, (60000,), numpy.ndarray, 1)"
      ]
     },
     "metadata": {},
     "execution_count": 32
    }
   ],
   "source": [
    "# 형태가 다른 이유? \n",
    "# x_train에 y_train의 라벨이 들어가기 때문 \n",
    "x_train.shape, type(x_train), x_train.ndim, y_train.shape, type(y_train), y_train.ndim"
   ]
  },
  {
   "cell_type": "code",
   "execution_count": 33,
   "metadata": {},
   "outputs": [
    {
     "output_type": "stream",
     "name": "stdout",
     "text": [
      "21967\n6\n"
     ]
    },
    {
     "output_type": "execute_result",
     "data": {
      "text/plain": [
       "<matplotlib.image.AxesImage at 0x22d006a1be0>"
      ]
     },
     "metadata": {},
     "execution_count": 33
    },
    {
     "output_type": "display_data",
     "data": {
      "text/plain": "<Figure size 432x288 with 1 Axes>",
      "image/svg+xml": "<?xml version=\"1.0\" encoding=\"utf-8\" standalone=\"no\"?>\r\n<!DOCTYPE svg PUBLIC \"-//W3C//DTD SVG 1.1//EN\"\r\n  \"http://www.w3.org/Graphics/SVG/1.1/DTD/svg11.dtd\">\r\n<svg height=\"248.518125pt\" version=\"1.1\" viewBox=\"0 0 251.565 248.518125\" width=\"251.565pt\" xmlns=\"http://www.w3.org/2000/svg\" xmlns:xlink=\"http://www.w3.org/1999/xlink\">\r\n <metadata>\r\n  <rdf:RDF xmlns:cc=\"http://creativecommons.org/ns#\" xmlns:dc=\"http://purl.org/dc/elements/1.1/\" xmlns:rdf=\"http://www.w3.org/1999/02/22-rdf-syntax-ns#\">\r\n   <cc:Work>\r\n    <dc:type rdf:resource=\"http://purl.org/dc/dcmitype/StillImage\"/>\r\n    <dc:date>2021-07-11T10:30:53.223747</dc:date>\r\n    <dc:format>image/svg+xml</dc:format>\r\n    <dc:creator>\r\n     <cc:Agent>\r\n      <dc:title>Matplotlib v3.4.2, https://matplotlib.org/</dc:title>\r\n     </cc:Agent>\r\n    </dc:creator>\r\n   </cc:Work>\r\n  </rdf:RDF>\r\n </metadata>\r\n <defs>\r\n  <style type=\"text/css\">*{stroke-linecap:butt;stroke-linejoin:round;}</style>\r\n </defs>\r\n <g id=\"figure_1\">\r\n  <g id=\"patch_1\">\r\n   <path d=\"M 0 248.518125 \r\nL 251.565 248.518125 \r\nL 251.565 0 \r\nL 0 0 \r\nz\r\n\" style=\"fill:none;\"/>\r\n  </g>\r\n  <g id=\"axes_1\">\r\n   <g id=\"patch_2\">\r\n    <path d=\"M 26.925 224.64 \r\nL 244.365 224.64 \r\nL 244.365 7.2 \r\nL 26.925 7.2 \r\nz\r\n\" style=\"fill:#ffffff;\"/>\r\n   </g>\r\n   <g clip-path=\"url(#p5e353a859a)\">\r\n    <image height=\"218\" id=\"image5db2cd2a76\" transform=\"scale(1 -1)translate(0 -218)\" width=\"218\" x=\"26.925\" xlink:href=\"data:image/png;base64,\r\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\" y=\"-6.64\"/>\r\n   </g>\r\n   <g id=\"matplotlib.axis_1\">\r\n    <g id=\"xtick_1\">\r\n     <g id=\"line2d_1\">\r\n      <defs>\r\n       <path d=\"M 0 0 \r\nL 0 3.5 \r\n\" id=\"mf651e458a6\" style=\"stroke:#000000;stroke-width:0.8;\"/>\r\n      </defs>\r\n      <g>\r\n       <use style=\"stroke:#000000;stroke-width:0.8;\" x=\"30.807857\" xlink:href=\"#mf651e458a6\" y=\"224.64\"/>\r\n      </g>\r\n     </g>\r\n     <g id=\"text_1\">\r\n      <!-- 0 -->\r\n      <g transform=\"translate(27.626607 239.238437)scale(0.1 -0.1)\">\r\n       <defs>\r\n        <path d=\"M 2034 4250 \r\nQ 1547 4250 1301 3770 \r\nQ 1056 3291 1056 2328 \r\nQ 1056 1369 1301 889 \r\nQ 1547 409 2034 409 \r\nQ 2525 409 2770 889 \r\nQ 3016 1369 3016 2328 \r\nQ 3016 3291 2770 3770 \r\nQ 2525 4250 2034 4250 \r\nz\r\nM 2034 4750 \r\nQ 2819 4750 3233 4129 \r\nQ 3647 3509 3647 2328 \r\nQ 3647 1150 3233 529 \r\nQ 2819 -91 2034 -91 \r\nQ 1250 -91 836 529 \r\nQ 422 1150 422 2328 \r\nQ 422 3509 836 4129 \r\nQ 1250 4750 2034 4750 \r\nz\r\n\" id=\"DejaVuSans-30\" transform=\"scale(0.015625)\"/>\r\n       </defs>\r\n       <use xlink:href=\"#DejaVuSans-30\"/>\r\n      </g>\r\n     </g>\r\n    </g>\r\n    <g id=\"xtick_2\">\r\n     <g id=\"line2d_2\">\r\n      <g>\r\n       <use style=\"stroke:#000000;stroke-width:0.8;\" x=\"69.636429\" xlink:href=\"#mf651e458a6\" y=\"224.64\"/>\r\n      </g>\r\n     </g>\r\n     <g id=\"text_2\">\r\n      <!-- 5 -->\r\n      <g transform=\"translate(66.455179 239.238437)scale(0.1 -0.1)\">\r\n       <defs>\r\n        <path d=\"M 691 4666 \r\nL 3169 4666 \r\nL 3169 4134 \r\nL 1269 4134 \r\nL 1269 2991 \r\nQ 1406 3038 1543 3061 \r\nQ 1681 3084 1819 3084 \r\nQ 2600 3084 3056 2656 \r\nQ 3513 2228 3513 1497 \r\nQ 3513 744 3044 326 \r\nQ 2575 -91 1722 -91 \r\nQ 1428 -91 1123 -41 \r\nQ 819 9 494 109 \r\nL 494 744 \r\nQ 775 591 1075 516 \r\nQ 1375 441 1709 441 \r\nQ 2250 441 2565 725 \r\nQ 2881 1009 2881 1497 \r\nQ 2881 1984 2565 2268 \r\nQ 2250 2553 1709 2553 \r\nQ 1456 2553 1204 2497 \r\nQ 953 2441 691 2322 \r\nL 691 4666 \r\nz\r\n\" id=\"DejaVuSans-35\" transform=\"scale(0.015625)\"/>\r\n       </defs>\r\n       <use xlink:href=\"#DejaVuSans-35\"/>\r\n      </g>\r\n     </g>\r\n    </g>\r\n    <g id=\"xtick_3\">\r\n     <g id=\"line2d_3\">\r\n      <g>\r\n       <use style=\"stroke:#000000;stroke-width:0.8;\" x=\"108.465\" xlink:href=\"#mf651e458a6\" y=\"224.64\"/>\r\n      </g>\r\n     </g>\r\n     <g id=\"text_3\">\r\n      <!-- 10 -->\r\n      <g transform=\"translate(102.1025 239.238437)scale(0.1 -0.1)\">\r\n       <defs>\r\n        <path d=\"M 794 531 \r\nL 1825 531 \r\nL 1825 4091 \r\nL 703 3866 \r\nL 703 4441 \r\nL 1819 4666 \r\nL 2450 4666 \r\nL 2450 531 \r\nL 3481 531 \r\nL 3481 0 \r\nL 794 0 \r\nL 794 531 \r\nz\r\n\" id=\"DejaVuSans-31\" transform=\"scale(0.015625)\"/>\r\n       </defs>\r\n       <use xlink:href=\"#DejaVuSans-31\"/>\r\n       <use x=\"63.623047\" xlink:href=\"#DejaVuSans-30\"/>\r\n      </g>\r\n     </g>\r\n    </g>\r\n    <g id=\"xtick_4\">\r\n     <g id=\"line2d_4\">\r\n      <g>\r\n       <use style=\"stroke:#000000;stroke-width:0.8;\" x=\"147.293571\" xlink:href=\"#mf651e458a6\" y=\"224.64\"/>\r\n      </g>\r\n     </g>\r\n     <g id=\"text_4\">\r\n      <!-- 15 -->\r\n      <g transform=\"translate(140.931071 239.238437)scale(0.1 -0.1)\">\r\n       <use xlink:href=\"#DejaVuSans-31\"/>\r\n       <use x=\"63.623047\" xlink:href=\"#DejaVuSans-35\"/>\r\n      </g>\r\n     </g>\r\n    </g>\r\n    <g id=\"xtick_5\">\r\n     <g id=\"line2d_5\">\r\n      <g>\r\n       <use style=\"stroke:#000000;stroke-width:0.8;\" x=\"186.122143\" xlink:href=\"#mf651e458a6\" y=\"224.64\"/>\r\n      </g>\r\n     </g>\r\n     <g id=\"text_5\">\r\n      <!-- 20 -->\r\n      <g transform=\"translate(179.759643 239.238437)scale(0.1 -0.1)\">\r\n       <defs>\r\n        <path d=\"M 1228 531 \r\nL 3431 531 \r\nL 3431 0 \r\nL 469 0 \r\nL 469 531 \r\nQ 828 903 1448 1529 \r\nQ 2069 2156 2228 2338 \r\nQ 2531 2678 2651 2914 \r\nQ 2772 3150 2772 3378 \r\nQ 2772 3750 2511 3984 \r\nQ 2250 4219 1831 4219 \r\nQ 1534 4219 1204 4116 \r\nQ 875 4013 500 3803 \r\nL 500 4441 \r\nQ 881 4594 1212 4672 \r\nQ 1544 4750 1819 4750 \r\nQ 2544 4750 2975 4387 \r\nQ 3406 4025 3406 3419 \r\nQ 3406 3131 3298 2873 \r\nQ 3191 2616 2906 2266 \r\nQ 2828 2175 2409 1742 \r\nQ 1991 1309 1228 531 \r\nz\r\n\" id=\"DejaVuSans-32\" transform=\"scale(0.015625)\"/>\r\n       </defs>\r\n       <use xlink:href=\"#DejaVuSans-32\"/>\r\n       <use x=\"63.623047\" xlink:href=\"#DejaVuSans-30\"/>\r\n      </g>\r\n     </g>\r\n    </g>\r\n    <g id=\"xtick_6\">\r\n     <g id=\"line2d_6\">\r\n      <g>\r\n       <use style=\"stroke:#000000;stroke-width:0.8;\" x=\"224.950714\" xlink:href=\"#mf651e458a6\" y=\"224.64\"/>\r\n      </g>\r\n     </g>\r\n     <g id=\"text_6\">\r\n      <!-- 25 -->\r\n      <g transform=\"translate(218.588214 239.238437)scale(0.1 -0.1)\">\r\n       <use xlink:href=\"#DejaVuSans-32\"/>\r\n       <use x=\"63.623047\" xlink:href=\"#DejaVuSans-35\"/>\r\n      </g>\r\n     </g>\r\n    </g>\r\n   </g>\r\n   <g id=\"matplotlib.axis_2\">\r\n    <g id=\"ytick_1\">\r\n     <g id=\"line2d_7\">\r\n      <defs>\r\n       <path d=\"M 0 0 \r\nL -3.5 0 \r\n\" id=\"m00984e4ae3\" style=\"stroke:#000000;stroke-width:0.8;\"/>\r\n      </defs>\r\n      <g>\r\n       <use style=\"stroke:#000000;stroke-width:0.8;\" x=\"26.925\" xlink:href=\"#m00984e4ae3\" y=\"11.082857\"/>\r\n      </g>\r\n     </g>\r\n     <g id=\"text_7\">\r\n      <!-- 0 -->\r\n      <g transform=\"translate(13.5625 14.882076)scale(0.1 -0.1)\">\r\n       <use xlink:href=\"#DejaVuSans-30\"/>\r\n      </g>\r\n     </g>\r\n    </g>\r\n    <g id=\"ytick_2\">\r\n     <g id=\"line2d_8\">\r\n      <g>\r\n       <use style=\"stroke:#000000;stroke-width:0.8;\" x=\"26.925\" xlink:href=\"#m00984e4ae3\" y=\"49.911429\"/>\r\n      </g>\r\n     </g>\r\n     <g id=\"text_8\">\r\n      <!-- 5 -->\r\n      <g transform=\"translate(13.5625 53.710647)scale(0.1 -0.1)\">\r\n       <use xlink:href=\"#DejaVuSans-35\"/>\r\n      </g>\r\n     </g>\r\n    </g>\r\n    <g id=\"ytick_3\">\r\n     <g id=\"line2d_9\">\r\n      <g>\r\n       <use style=\"stroke:#000000;stroke-width:0.8;\" x=\"26.925\" xlink:href=\"#m00984e4ae3\" y=\"88.74\"/>\r\n      </g>\r\n     </g>\r\n     <g id=\"text_9\">\r\n      <!-- 10 -->\r\n      <g transform=\"translate(7.2 92.539219)scale(0.1 -0.1)\">\r\n       <use xlink:href=\"#DejaVuSans-31\"/>\r\n       <use x=\"63.623047\" xlink:href=\"#DejaVuSans-30\"/>\r\n      </g>\r\n     </g>\r\n    </g>\r\n    <g id=\"ytick_4\">\r\n     <g id=\"line2d_10\">\r\n      <g>\r\n       <use style=\"stroke:#000000;stroke-width:0.8;\" x=\"26.925\" xlink:href=\"#m00984e4ae3\" y=\"127.568571\"/>\r\n      </g>\r\n     </g>\r\n     <g id=\"text_10\">\r\n      <!-- 15 -->\r\n      <g transform=\"translate(7.2 131.36779)scale(0.1 -0.1)\">\r\n       <use xlink:href=\"#DejaVuSans-31\"/>\r\n       <use x=\"63.623047\" xlink:href=\"#DejaVuSans-35\"/>\r\n      </g>\r\n     </g>\r\n    </g>\r\n    <g id=\"ytick_5\">\r\n     <g id=\"line2d_11\">\r\n      <g>\r\n       <use style=\"stroke:#000000;stroke-width:0.8;\" x=\"26.925\" xlink:href=\"#m00984e4ae3\" y=\"166.397143\"/>\r\n      </g>\r\n     </g>\r\n     <g id=\"text_11\">\r\n      <!-- 20 -->\r\n      <g transform=\"translate(7.2 170.196362)scale(0.1 -0.1)\">\r\n       <use xlink:href=\"#DejaVuSans-32\"/>\r\n       <use x=\"63.623047\" xlink:href=\"#DejaVuSans-30\"/>\r\n      </g>\r\n     </g>\r\n    </g>\r\n    <g id=\"ytick_6\">\r\n     <g id=\"line2d_12\">\r\n      <g>\r\n       <use style=\"stroke:#000000;stroke-width:0.8;\" x=\"26.925\" xlink:href=\"#m00984e4ae3\" y=\"205.225714\"/>\r\n      </g>\r\n     </g>\r\n     <g id=\"text_12\">\r\n      <!-- 25 -->\r\n      <g transform=\"translate(7.2 209.024933)scale(0.1 -0.1)\">\r\n       <use xlink:href=\"#DejaVuSans-32\"/>\r\n       <use x=\"63.623047\" xlink:href=\"#DejaVuSans-35\"/>\r\n      </g>\r\n     </g>\r\n    </g>\r\n   </g>\r\n   <g id=\"patch_3\">\r\n    <path d=\"M 26.925 224.64 \r\nL 26.925 7.2 \r\n\" style=\"fill:none;stroke:#000000;stroke-linecap:square;stroke-linejoin:miter;stroke-width:0.8;\"/>\r\n   </g>\r\n   <g id=\"patch_4\">\r\n    <path d=\"M 244.365 224.64 \r\nL 244.365 7.2 \r\n\" style=\"fill:none;stroke:#000000;stroke-linecap:square;stroke-linejoin:miter;stroke-width:0.8;\"/>\r\n   </g>\r\n   <g id=\"patch_5\">\r\n    <path d=\"M 26.925 224.64 \r\nL 244.365 224.64 \r\n\" style=\"fill:none;stroke:#000000;stroke-linecap:square;stroke-linejoin:miter;stroke-width:0.8;\"/>\r\n   </g>\r\n   <g id=\"patch_6\">\r\n    <path d=\"M 26.925 7.2 \r\nL 244.365 7.2 \r\n\" style=\"fill:none;stroke:#000000;stroke-linecap:square;stroke-linejoin:miter;stroke-width:0.8;\"/>\r\n   </g>\r\n  </g>\r\n </g>\r\n <defs>\r\n  <clipPath id=\"p5e353a859a\">\r\n   <rect height=\"217.44\" width=\"217.44\" x=\"26.925\" y=\"7.2\"/>\r\n  </clipPath>\r\n </defs>\r\n</svg>\r\n",
      "image/png": "[encoded data removed]"
     },
     "metadata": {
      "needs_background": "light"
     }
    }
   ],
   "source": [
    "# 임의의 이미지 보기 \n",
    "i = np.random.randint(0, 60000)\n",
    "print(i)\n",
    "print(y_train[i])\n",
    "plt.imshow(x_train[i], cmap=\"gray\")"
   ]
  },
  {
   "cell_type": "code",
   "execution_count": 34,
   "metadata": {},
   "outputs": [],
   "source": [
    "x_train = x_train.reshape(x_train.shape[0], 28, 28, 1).astype(\"float32\")"
   ]
  },
  {
   "cell_type": "code",
   "execution_count": 35,
   "metadata": {},
   "outputs": [
    {
     "output_type": "execute_result",
     "data": {
      "text/plain": [
       "(60000, 28, 28, 1)"
      ]
     },
     "metadata": {},
     "execution_count": 35
    }
   ],
   "source": [
    "x_train.shape"
   ]
  },
  {
   "cell_type": "code",
   "execution_count": 36,
   "metadata": {},
   "outputs": [
    {
     "output_type": "execute_result",
     "data": {
      "text/plain": [
       "(0.0, 255.0)"
      ]
     },
     "metadata": {},
     "execution_count": 36
    }
   ],
   "source": [
    "# 0 ~ 255 값을 가지는 것을 확인 \n",
    "x_train[0].min(), x_train[0].max()"
   ]
  },
  {
   "cell_type": "code",
   "execution_count": 37,
   "metadata": {},
   "outputs": [],
   "source": [
    "x_train = x_train / 255"
   ]
  },
  {
   "cell_type": "code",
   "execution_count": 38,
   "metadata": {},
   "outputs": [
    {
     "output_type": "execute_result",
     "data": {
      "text/plain": [
       "(0.0, 1.0)"
      ]
     },
     "metadata": {},
     "execution_count": 38
    }
   ],
   "source": [
    "x_train[0].min(), x_train[0].max()"
   ]
  },
  {
   "source": [
    "## 생성자 만들기\n",
    "\n",
    "- GAN의 핵심 \n",
    "\n",
    "1) GENERATOR : 생성자\n",
    "\n",
    "2) DISCRIMINATOR : 비평자"
   ],
   "cell_type": "markdown",
   "metadata": {}
  },
  {
   "cell_type": "code",
   "execution_count": 39,
   "metadata": {},
   "outputs": [],
   "source": [
    "def build_generator():\n",
    "    network = tf.keras.Sequential() \n",
    "\n",
    "    network.add(layers.Dense(7 * 7 * 256, use_bias = False, input_shape = (100, )))\n",
    "    network.add(layers.BatchNormalization())\n",
    "    network.add(layers.LeakyReLU())\n",
    "\n",
    "    network.add(layers.Reshape((7, 7, 256)))\n",
    "\n",
    "    # 7 * 7 * 128 \n",
    "    network.add(layers.Conv2DTranspose(128, (5,5), padding=\"same\", use_bias = False))\n",
    "    network.add(layers.BatchNormalization())\n",
    "    network.add(layers.LeakyReLU())\n",
    "\n",
    "    # 14 * 14 * 64 \n",
    "    network.add(layers.Conv2DTranspose(64, (5,5), strides = (2,2), padding=\"same\", use_bias = False))\n",
    "    network.add(layers.BatchNormalization())\n",
    "    network.add(layers.LeakyReLU())\n",
    "\n",
    "    # 28 * 28 * 1 \n",
    "    network.add(layers.Conv2DTranspose(1, (5,5), strides = (2,2), padding=\"same\", use_bias = False, \n",
    "    activation = \"tanh\"))\n",
    "\n",
    "    network.summary()\n",
    "\n",
    "    return network"
   ]
  },
  {
   "cell_type": "code",
   "execution_count": 40,
   "metadata": {},
   "outputs": [
    {
     "output_type": "stream",
     "name": "stdout",
     "text": [
      "Model: \"sequential_2\"\n_________________________________________________________________\nLayer (type)                 Output Shape              Param #   \n=================================================================\ndense_2 (Dense)              (None, 12544)             1254400   \n_________________________________________________________________\nbatch_normalization_3 (Batch (None, 12544)             50176     \n_________________________________________________________________\nleaky_re_lu_5 (LeakyReLU)    (None, 12544)             0         \n_________________________________________________________________\nreshape_1 (Reshape)          (None, 7, 7, 256)         0         \n_________________________________________________________________\nconv2d_transpose_3 (Conv2DTr (None, 7, 7, 128)         819200    \n_________________________________________________________________\nbatch_normalization_4 (Batch (None, 7, 7, 128)         512       \n_________________________________________________________________\nleaky_re_lu_6 (LeakyReLU)    (None, 7, 7, 128)         0         \n_________________________________________________________________\nconv2d_transpose_4 (Conv2DTr (None, 14, 14, 64)        204800    \n_________________________________________________________________\nbatch_normalization_5 (Batch (None, 14, 14, 64)        256       \n_________________________________________________________________\nleaky_re_lu_7 (LeakyReLU)    (None, 14, 14, 64)        0         \n_________________________________________________________________\nconv2d_transpose_5 (Conv2DTr (None, 28, 28, 1)         1600      \n=================================================================\nTotal params: 2,330,944\nTrainable params: 2,305,472\nNon-trainable params: 25,472\n_________________________________________________________________\n"
     ]
    }
   ],
   "source": [
    "generator = build_generator()"
   ]
  },
  {
   "cell_type": "code",
   "execution_count": 41,
   "metadata": {},
   "outputs": [
    {
     "output_type": "execute_result",
     "data": {
      "text/plain": [
       "<tf.Tensor: shape=(1, 100), dtype=float32, numpy=\n",
       "array([[ 1.5040556 ,  1.5325532 ,  0.3893163 , -0.5972618 , -0.07311076,\n",
       "        -0.12450772,  0.5423023 , -1.1455292 , -0.07505214, -0.38967156,\n",
       "         0.6539725 , -0.26386818,  0.24001329, -2.5406802 , -1.807544  ,\n",
       "         0.14225861, -1.7035574 ,  0.30562404, -0.5198604 , -0.73737526,\n",
       "        -0.58505523, -0.8126793 , -1.320811  , -0.48985496, -0.17622472,\n",
       "        -0.19586986,  0.12855576, -0.71076554, -2.3508089 ,  1.6029764 ,\n",
       "         0.0870326 , -1.034744  ,  1.2304409 , -2.0036304 ,  0.89666206,\n",
       "         0.6617613 ,  0.16773641,  0.33149153,  1.663062  ,  0.15019791,\n",
       "        -1.5757737 , -0.77668774, -1.2699485 ,  1.2254776 ,  1.3034512 ,\n",
       "         0.19984502,  0.45646143, -0.825805  ,  0.35566235, -1.3045723 ,\n",
       "        -0.98371905, -0.759607  , -0.1267693 , -0.9622043 , -1.3361131 ,\n",
       "         1.548852  , -0.05674981,  0.3883766 ,  0.22106917,  0.9226117 ,\n",
       "        -2.7701185 , -1.6886976 ,  0.26555568, -0.27926886, -2.5279515 ,\n",
       "        -1.6805694 , -0.81003225,  1.967042  , -1.2324475 ,  1.6377413 ,\n",
       "         0.03152444,  0.12896499,  1.6737316 , -1.4516495 , -0.78079903,\n",
       "         0.13823454,  0.2581012 ,  0.48728484,  0.07733823,  0.98527575,\n",
       "        -0.6118415 ,  0.3548174 , -0.03259812, -0.7383371 , -0.41025373,\n",
       "        -0.35054225,  0.5071317 , -1.5292654 ,  0.09900372, -0.21149431,\n",
       "        -0.17180607, -0.79016197,  1.2354534 , -1.9009714 , -0.49542502,\n",
       "         0.44696695,  3.3531098 , -0.88543284, -0.6393696 , -1.139538  ]],\n",
       "      dtype=float32)>"
      ]
     },
     "metadata": {},
     "execution_count": 41
    }
   ],
   "source": [
    "# noise 생성 \n",
    "noise = tf.random.normal([1, 100])\n",
    "noise"
   ]
  },
  {
   "cell_type": "code",
   "execution_count": 42,
   "metadata": {},
   "outputs": [
    {
     "output_type": "execute_result",
     "data": {
      "text/plain": [
       "<matplotlib.image.AxesImage at 0x22d00723cd0>"
      ]
     },
     "metadata": {},
     "execution_count": 42
    },
    {
     "output_type": "display_data",
     "data": {
      "text/plain": "<Figure size 432x288 with 1 Axes>",
      "image/svg+xml": "<?xml version=\"1.0\" encoding=\"utf-8\" standalone=\"no\"?>\r\n<!DOCTYPE svg PUBLIC \"-//W3C//DTD SVG 1.1//EN\"\r\n  \"http://www.w3.org/Graphics/SVG/1.1/DTD/svg11.dtd\">\r\n<svg height=\"248.518125pt\" version=\"1.1\" viewBox=\"0 0 251.565 248.518125\" width=\"251.565pt\" xmlns=\"http://www.w3.org/2000/svg\" xmlns:xlink=\"http://www.w3.org/1999/xlink\">\r\n <metadata>\r\n  <rdf:RDF xmlns:cc=\"http://creativecommons.org/ns#\" xmlns:dc=\"http://purl.org/dc/elements/1.1/\" xmlns:rdf=\"http://www.w3.org/1999/02/22-rdf-syntax-ns#\">\r\n   <cc:Work>\r\n    <dc:type rdf:resource=\"http://purl.org/dc/dcmitype/StillImage\"/>\r\n    <dc:date>2021-07-11T10:30:55.026652</dc:date>\r\n    <dc:format>image/svg+xml</dc:format>\r\n    <dc:creator>\r\n     <cc:Agent>\r\n      <dc:title>Matplotlib v3.4.2, https://matplotlib.org/</dc:title>\r\n     </cc:Agent>\r\n    </dc:creator>\r\n   </cc:Work>\r\n  </rdf:RDF>\r\n </metadata>\r\n <defs>\r\n  <style type=\"text/css\">*{stroke-linecap:butt;stroke-linejoin:round;}</style>\r\n </defs>\r\n <g id=\"figure_1\">\r\n  <g id=\"patch_1\">\r\n   <path d=\"M 0 248.518125 \r\nL 251.565 248.518125 \r\nL 251.565 0 \r\nL 0 0 \r\nz\r\n\" style=\"fill:none;\"/>\r\n  </g>\r\n  <g id=\"axes_1\">\r\n   <g id=\"patch_2\">\r\n    <path d=\"M 26.925 224.64 \r\nL 244.365 224.64 \r\nL 244.365 7.2 \r\nL 26.925 7.2 \r\nz\r\n\" style=\"fill:#ffffff;\"/>\r\n   </g>\r\n   <g clip-path=\"url(#p69a6f3fed6)\">\r\n    <image height=\"218\" id=\"image45fc56368a\" transform=\"scale(1 -1)translate(0 -218)\" width=\"218\" x=\"26.925\" xlink:href=\"data:image/png;base64,\r\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\" y=\"-6.64\"/>\r\n   </g>\r\n   <g id=\"matplotlib.axis_1\">\r\n    <g id=\"xtick_1\">\r\n     <g id=\"line2d_1\">\r\n      <defs>\r\n       <path d=\"M 0 0 \r\nL 0 3.5 \r\n\" id=\"m62b6031046\" style=\"stroke:#000000;stroke-width:0.8;\"/>\r\n      </defs>\r\n      <g>\r\n       <use style=\"stroke:#000000;stroke-width:0.8;\" x=\"30.807857\" xlink:href=\"#m62b6031046\" y=\"224.64\"/>\r\n      </g>\r\n     </g>\r\n     <g id=\"text_1\">\r\n      <!-- 0 -->\r\n      <g transform=\"translate(27.626607 239.238437)scale(0.1 -0.1)\">\r\n       <defs>\r\n        <path d=\"M 2034 4250 \r\nQ 1547 4250 1301 3770 \r\nQ 1056 3291 1056 2328 \r\nQ 1056 1369 1301 889 \r\nQ 1547 409 2034 409 \r\nQ 2525 409 2770 889 \r\nQ 3016 1369 3016 2328 \r\nQ 3016 3291 2770 3770 \r\nQ 2525 4250 2034 4250 \r\nz\r\nM 2034 4750 \r\nQ 2819 4750 3233 4129 \r\nQ 3647 3509 3647 2328 \r\nQ 3647 1150 3233 529 \r\nQ 2819 -91 2034 -91 \r\nQ 1250 -91 836 529 \r\nQ 422 1150 422 2328 \r\nQ 422 3509 836 4129 \r\nQ 1250 4750 2034 4750 \r\nz\r\n\" id=\"DejaVuSans-30\" transform=\"scale(0.015625)\"/>\r\n       </defs>\r\n       <use xlink:href=\"#DejaVuSans-30\"/>\r\n      </g>\r\n     </g>\r\n    </g>\r\n    <g id=\"xtick_2\">\r\n     <g id=\"line2d_2\">\r\n      <g>\r\n       <use style=\"stroke:#000000;stroke-width:0.8;\" x=\"69.636429\" xlink:href=\"#m62b6031046\" y=\"224.64\"/>\r\n      </g>\r\n     </g>\r\n     <g id=\"text_2\">\r\n      <!-- 5 -->\r\n      <g transform=\"translate(66.455179 239.238437)scale(0.1 -0.1)\">\r\n       <defs>\r\n        <path d=\"M 691 4666 \r\nL 3169 4666 \r\nL 3169 4134 \r\nL 1269 4134 \r\nL 1269 2991 \r\nQ 1406 3038 1543 3061 \r\nQ 1681 3084 1819 3084 \r\nQ 2600 3084 3056 2656 \r\nQ 3513 2228 3513 1497 \r\nQ 3513 744 3044 326 \r\nQ 2575 -91 1722 -91 \r\nQ 1428 -91 1123 -41 \r\nQ 819 9 494 109 \r\nL 494 744 \r\nQ 775 591 1075 516 \r\nQ 1375 441 1709 441 \r\nQ 2250 441 2565 725 \r\nQ 2881 1009 2881 1497 \r\nQ 2881 1984 2565 2268 \r\nQ 2250 2553 1709 2553 \r\nQ 1456 2553 1204 2497 \r\nQ 953 2441 691 2322 \r\nL 691 4666 \r\nz\r\n\" id=\"DejaVuSans-35\" transform=\"scale(0.015625)\"/>\r\n       </defs>\r\n       <use xlink:href=\"#DejaVuSans-35\"/>\r\n      </g>\r\n     </g>\r\n    </g>\r\n    <g id=\"xtick_3\">\r\n     <g id=\"line2d_3\">\r\n      <g>\r\n       <use style=\"stroke:#000000;stroke-width:0.8;\" x=\"108.465\" xlink:href=\"#m62b6031046\" y=\"224.64\"/>\r\n      </g>\r\n     </g>\r\n     <g id=\"text_3\">\r\n      <!-- 10 -->\r\n      <g transform=\"translate(102.1025 239.238437)scale(0.1 -0.1)\">\r\n       <defs>\r\n        <path d=\"M 794 531 \r\nL 1825 531 \r\nL 1825 4091 \r\nL 703 3866 \r\nL 703 4441 \r\nL 1819 4666 \r\nL 2450 4666 \r\nL 2450 531 \r\nL 3481 531 \r\nL 3481 0 \r\nL 794 0 \r\nL 794 531 \r\nz\r\n\" id=\"DejaVuSans-31\" transform=\"scale(0.015625)\"/>\r\n       </defs>\r\n       <use xlink:href=\"#DejaVuSans-31\"/>\r\n       <use x=\"63.623047\" xlink:href=\"#DejaVuSans-30\"/>\r\n      </g>\r\n     </g>\r\n    </g>\r\n    <g id=\"xtick_4\">\r\n     <g id=\"line2d_4\">\r\n      <g>\r\n       <use style=\"stroke:#000000;stroke-width:0.8;\" x=\"147.293571\" xlink:href=\"#m62b6031046\" y=\"224.64\"/>\r\n      </g>\r\n     </g>\r\n     <g id=\"text_4\">\r\n      <!-- 15 -->\r\n      <g transform=\"translate(140.931071 239.238437)scale(0.1 -0.1)\">\r\n       <use xlink:href=\"#DejaVuSans-31\"/>\r\n       <use x=\"63.623047\" xlink:href=\"#DejaVuSans-35\"/>\r\n      </g>\r\n     </g>\r\n    </g>\r\n    <g id=\"xtick_5\">\r\n     <g id=\"line2d_5\">\r\n      <g>\r\n       <use style=\"stroke:#000000;stroke-width:0.8;\" x=\"186.122143\" xlink:href=\"#m62b6031046\" y=\"224.64\"/>\r\n      </g>\r\n     </g>\r\n     <g id=\"text_5\">\r\n      <!-- 20 -->\r\n      <g transform=\"translate(179.759643 239.238437)scale(0.1 -0.1)\">\r\n       <defs>\r\n        <path d=\"M 1228 531 \r\nL 3431 531 \r\nL 3431 0 \r\nL 469 0 \r\nL 469 531 \r\nQ 828 903 1448 1529 \r\nQ 2069 2156 2228 2338 \r\nQ 2531 2678 2651 2914 \r\nQ 2772 3150 2772 3378 \r\nQ 2772 3750 2511 3984 \r\nQ 2250 4219 1831 4219 \r\nQ 1534 4219 1204 4116 \r\nQ 875 4013 500 3803 \r\nL 500 4441 \r\nQ 881 4594 1212 4672 \r\nQ 1544 4750 1819 4750 \r\nQ 2544 4750 2975 4387 \r\nQ 3406 4025 3406 3419 \r\nQ 3406 3131 3298 2873 \r\nQ 3191 2616 2906 2266 \r\nQ 2828 2175 2409 1742 \r\nQ 1991 1309 1228 531 \r\nz\r\n\" id=\"DejaVuSans-32\" transform=\"scale(0.015625)\"/>\r\n       </defs>\r\n       <use xlink:href=\"#DejaVuSans-32\"/>\r\n       <use x=\"63.623047\" xlink:href=\"#DejaVuSans-30\"/>\r\n      </g>\r\n     </g>\r\n    </g>\r\n    <g id=\"xtick_6\">\r\n     <g id=\"line2d_6\">\r\n      <g>\r\n       <use style=\"stroke:#000000;stroke-width:0.8;\" x=\"224.950714\" xlink:href=\"#m62b6031046\" y=\"224.64\"/>\r\n      </g>\r\n     </g>\r\n     <g id=\"text_6\">\r\n      <!-- 25 -->\r\n      <g transform=\"translate(218.588214 239.238437)scale(0.1 -0.1)\">\r\n       <use xlink:href=\"#DejaVuSans-32\"/>\r\n       <use x=\"63.623047\" xlink:href=\"#DejaVuSans-35\"/>\r\n      </g>\r\n     </g>\r\n    </g>\r\n   </g>\r\n   <g id=\"matplotlib.axis_2\">\r\n    <g id=\"ytick_1\">\r\n     <g id=\"line2d_7\">\r\n      <defs>\r\n       <path d=\"M 0 0 \r\nL -3.5 0 \r\n\" id=\"mc9617ab163\" style=\"stroke:#000000;stroke-width:0.8;\"/>\r\n      </defs>\r\n      <g>\r\n       <use style=\"stroke:#000000;stroke-width:0.8;\" x=\"26.925\" xlink:href=\"#mc9617ab163\" y=\"11.082857\"/>\r\n      </g>\r\n     </g>\r\n     <g id=\"text_7\">\r\n      <!-- 0 -->\r\n      <g transform=\"translate(13.5625 14.882076)scale(0.1 -0.1)\">\r\n       <use xlink:href=\"#DejaVuSans-30\"/>\r\n      </g>\r\n     </g>\r\n    </g>\r\n    <g id=\"ytick_2\">\r\n     <g id=\"line2d_8\">\r\n      <g>\r\n       <use style=\"stroke:#000000;stroke-width:0.8;\" x=\"26.925\" xlink:href=\"#mc9617ab163\" y=\"49.911429\"/>\r\n      </g>\r\n     </g>\r\n     <g id=\"text_8\">\r\n      <!-- 5 -->\r\n      <g transform=\"translate(13.5625 53.710647)scale(0.1 -0.1)\">\r\n       <use xlink:href=\"#DejaVuSans-35\"/>\r\n      </g>\r\n     </g>\r\n    </g>\r\n    <g id=\"ytick_3\">\r\n     <g id=\"line2d_9\">\r\n      <g>\r\n       <use style=\"stroke:#000000;stroke-width:0.8;\" x=\"26.925\" xlink:href=\"#mc9617ab163\" y=\"88.74\"/>\r\n      </g>\r\n     </g>\r\n     <g id=\"text_9\">\r\n      <!-- 10 -->\r\n      <g transform=\"translate(7.2 92.539219)scale(0.1 -0.1)\">\r\n       <use xlink:href=\"#DejaVuSans-31\"/>\r\n       <use x=\"63.623047\" xlink:href=\"#DejaVuSans-30\"/>\r\n      </g>\r\n     </g>\r\n    </g>\r\n    <g id=\"ytick_4\">\r\n     <g id=\"line2d_10\">\r\n      <g>\r\n       <use style=\"stroke:#000000;stroke-width:0.8;\" x=\"26.925\" xlink:href=\"#mc9617ab163\" y=\"127.568571\"/>\r\n      </g>\r\n     </g>\r\n     <g id=\"text_10\">\r\n      <!-- 15 -->\r\n      <g transform=\"translate(7.2 131.36779)scale(0.1 -0.1)\">\r\n       <use xlink:href=\"#DejaVuSans-31\"/>\r\n       <use x=\"63.623047\" xlink:href=\"#DejaVuSans-35\"/>\r\n      </g>\r\n     </g>\r\n    </g>\r\n    <g id=\"ytick_5\">\r\n     <g id=\"line2d_11\">\r\n      <g>\r\n       <use style=\"stroke:#000000;stroke-width:0.8;\" x=\"26.925\" xlink:href=\"#mc9617ab163\" y=\"166.397143\"/>\r\n      </g>\r\n     </g>\r\n     <g id=\"text_11\">\r\n      <!-- 20 -->\r\n      <g transform=\"translate(7.2 170.196362)scale(0.1 -0.1)\">\r\n       <use xlink:href=\"#DejaVuSans-32\"/>\r\n       <use x=\"63.623047\" xlink:href=\"#DejaVuSans-30\"/>\r\n      </g>\r\n     </g>\r\n    </g>\r\n    <g id=\"ytick_6\">\r\n     <g id=\"line2d_12\">\r\n      <g>\r\n       <use style=\"stroke:#000000;stroke-width:0.8;\" x=\"26.925\" xlink:href=\"#mc9617ab163\" y=\"205.225714\"/>\r\n      </g>\r\n     </g>\r\n     <g id=\"text_12\">\r\n      <!-- 25 -->\r\n      <g transform=\"translate(7.2 209.024933)scale(0.1 -0.1)\">\r\n       <use xlink:href=\"#DejaVuSans-32\"/>\r\n       <use x=\"63.623047\" xlink:href=\"#DejaVuSans-35\"/>\r\n      </g>\r\n     </g>\r\n    </g>\r\n   </g>\r\n   <g id=\"patch_3\">\r\n    <path d=\"M 26.925 224.64 \r\nL 26.925 7.2 \r\n\" style=\"fill:none;stroke:#000000;stroke-linecap:square;stroke-linejoin:miter;stroke-width:0.8;\"/>\r\n   </g>\r\n   <g id=\"patch_4\">\r\n    <path d=\"M 244.365 224.64 \r\nL 244.365 7.2 \r\n\" style=\"fill:none;stroke:#000000;stroke-linecap:square;stroke-linejoin:miter;stroke-width:0.8;\"/>\r\n   </g>\r\n   <g id=\"patch_5\">\r\n    <path d=\"M 26.925 224.64 \r\nL 244.365 224.64 \r\n\" style=\"fill:none;stroke:#000000;stroke-linecap:square;stroke-linejoin:miter;stroke-width:0.8;\"/>\r\n   </g>\r\n   <g id=\"patch_6\">\r\n    <path d=\"M 26.925 7.2 \r\nL 244.365 7.2 \r\n\" style=\"fill:none;stroke:#000000;stroke-linecap:square;stroke-linejoin:miter;stroke-width:0.8;\"/>\r\n   </g>\r\n  </g>\r\n </g>\r\n <defs>\r\n  <clipPath id=\"p69a6f3fed6\">\r\n   <rect height=\"217.44\" width=\"217.44\" x=\"26.925\" y=\"7.2\"/>\r\n  </clipPath>\r\n </defs>\r\n</svg>\r\n",
      "image/png": "[encoded data removed]"
     },
     "metadata": {
      "needs_background": "light"
     }
    }
   ],
   "source": [
    "# 무언가 전달하면 이미지를 만든다\n",
    "\n",
    "generated_image = generator(noise, training = False)\n",
    "generated_image.shape\n",
    "plt.imshow(generated_image[0, :, :, 0], cmap = \"gray\")"
   ]
  },
  {
   "source": [
    "### 비평자 만들기 "
   ],
   "cell_type": "markdown",
   "metadata": {}
  },
  {
   "cell_type": "code",
   "execution_count": 43,
   "metadata": {},
   "outputs": [],
   "source": [
    "def build_discriminator():\n",
    "    network = tf.keras.Sequential() \n",
    "\n",
    "    # 14 * 14 * 64 \n",
    "    network.add(layers.Conv2D(64, (5,5), strides = (2,2), padding=\"same\", input_shape = [28,28,1]))\n",
    "    network.add(layers.LeakyReLU())\n",
    "    network.add(layers.Dropout(0.3))\n",
    "\n",
    "    # 7 * 7 * 128\n",
    "    network.add(layers.Conv2D(128, (5,5), strides = (2,2), padding=\"same\" ))\n",
    "    network.add(layers.LeakyReLU())\n",
    "    network.add(layers.Dropout(0.3))\n",
    "\n",
    "    network.add(layers.Flatten())\n",
    "    network.add(layers.Dense(1))\n",
    "\n",
    "    network.summary()\n",
    "\n",
    "    return network"
   ]
  },
  {
   "cell_type": "code",
   "execution_count": 44,
   "metadata": {},
   "outputs": [
    {
     "output_type": "stream",
     "name": "stdout",
     "text": [
      "Model: \"sequential_3\"\n_________________________________________________________________\nLayer (type)                 Output Shape              Param #   \n=================================================================\nconv2d_2 (Conv2D)            (None, 14, 14, 64)        1664      \n_________________________________________________________________\nleaky_re_lu_8 (LeakyReLU)    (None, 14, 14, 64)        0         \n_________________________________________________________________\ndropout_2 (Dropout)          (None, 14, 14, 64)        0         \n_________________________________________________________________\nconv2d_3 (Conv2D)            (None, 7, 7, 128)         204928    \n_________________________________________________________________\nleaky_re_lu_9 (LeakyReLU)    (None, 7, 7, 128)         0         \n_________________________________________________________________\ndropout_3 (Dropout)          (None, 7, 7, 128)         0         \n_________________________________________________________________\nflatten_1 (Flatten)          (None, 6272)              0         \n_________________________________________________________________\ndense_3 (Dense)              (None, 1)                 6273      \n=================================================================\nTotal params: 212,865\nTrainable params: 212,865\nNon-trainable params: 0\n_________________________________________________________________\n"
     ]
    }
   ],
   "source": [
    "discriminator = build_discriminator()"
   ]
  },
  {
   "cell_type": "code",
   "execution_count": 45,
   "metadata": {},
   "outputs": [
    {
     "output_type": "execute_result",
     "data": {
      "text/plain": [
       "<tf.Tensor: shape=(1, 1), dtype=float32, numpy=array([[0.00158073]], dtype=float32)>"
      ]
     },
     "metadata": {},
     "execution_count": 45
    }
   ],
   "source": [
    "discriminator(generated_image, training = False)"
   ]
  },
  {
   "cell_type": "code",
   "execution_count": 46,
   "metadata": {},
   "outputs": [],
   "source": [
    "# loss 계산 \n",
    "cross_entropy = tf.keras.losses.BinaryCrossentropy(from_logits=True)"
   ]
  },
  {
   "cell_type": "code",
   "execution_count": 47,
   "metadata": {},
   "outputs": [],
   "source": [
    "def discriminator_loss(expected_output, fake_output):\n",
    "    real_loss = cross_entropy(tf.ones_like(expected_output), expected_output)\n",
    "    fake_loss = cross_entropy(tf.zeros_like(fake_output), fake_output)\n",
    "    total_loss = real_loss + fake_loss\n",
    "    return total_loss"
   ]
  },
  {
   "cell_type": "code",
   "execution_count": 48,
   "metadata": {},
   "outputs": [],
   "source": [
    "def generator_loss(fake_output):\n",
    "    return cross_entropy(tf.ones_like(fake_output), fake_output)"
   ]
  },
  {
   "cell_type": "code",
   "execution_count": 49,
   "metadata": {},
   "outputs": [],
   "source": [
    "generator_optimizer = tf.keras.optimizers.Adam(learning_rate = 0.00001)\n",
    "discriminator_optimizer = tf.keras.optimizers.Adam(learning_rate = 0.00001)"
   ]
  },
  {
   "cell_type": "code",
   "execution_count": 50,
   "metadata": {},
   "outputs": [],
   "source": [
    "epochs = 100\n",
    "noise_dim = 100\n",
    "num_images_to_generate = 16\n",
    "batch_size = 256"
   ]
  },
  {
   "source": [
    "@tf.function\n",
    "def train_steps(images):\n",
    "    noise = tf.random.normal([batch_size, noise_dim])\n",
    "    with tf.GradientTape() as gen_tape, tf.GradientTape() as disc_tape:\n",
    "        generated_images = generator(noise, training = True)\n",
    "        \n",
    "        # 원래 이미지로 만든 예상되는 아웃풋 \n",
    "        expected_output = discriminator(images, training =True)\n",
    "        # 노이즈로 만든 검사하기 위한 아웃풋 \n",
    "        fake_output = discriminator(generated_images, training = True)\n",
    "\n",
    "        gen_loss = generator_loss(fake_output)\n",
    "        disc_loss = discriminator_loss(expected_output, fake_output)\n",
    "\n",
    "    gradients_of_generator = gen_tape.gradient(gen_loss, generator.trainable_variables)\n",
    "    gradients_of_discriminator = disc_tape.gradient(disc_loss, discriminator.trainable_variables)\n",
    "\n",
    "    generator_optimizer.apply_gradients( zip(gradients_of_generator, generator.trainable_variables) )\n",
    "    discriminator_optimizer.apply_gradients( zip(gradients_of_discriminator, discriminator.trainable_variables) )"
   ],
   "cell_type": "code",
   "metadata": {},
   "execution_count": 51,
   "outputs": []
  },
  {
   "cell_type": "code",
   "execution_count": 52,
   "metadata": {},
   "outputs": [],
   "source": [
    "def train(dataset, epochs, test_images):\n",
    "    for epoch in range(epochs): # 에포크 마다\n",
    "        for image_batch in dataset: # 에포크의 데이터 셋의 이미지 배치 만큼 \n",
    "            train_steps(image_batch)\n",
    "\n",
    "        print(\"Epoch : \", epoch + 1)\n",
    "        generated_images = generator(test_images, training = False)\n",
    "        # 화면에 들어오게 이미지를 그린다.\n",
    "        fig = plt.figure(figsize = (10, 10))\n",
    "        \n",
    "        for i in range(generated_images.shpae[0]): # 배치사이즈에서 하나씩 돌린다 \n",
    "            plt.subplot(4, 4, i+1)\n",
    "            plt.imshow(generated_images[i, :, :, 0], cmap = \"gray\")\n",
    "            plt.axis(\"off\") # 축 안보이게 하겠다\n",
    "        plt.show() "
   ]
  },
  {
   "cell_type": "code",
   "execution_count": 53,
   "metadata": {},
   "outputs": [],
   "source": [
    "test_images = tf.random.normal([num_images_to_generate, noise_dim])"
   ]
  },
  {
   "cell_type": "code",
   "execution_count": 54,
   "metadata": {},
   "outputs": [
    {
     "output_type": "execute_result",
     "data": {
      "text/plain": [
       "(TensorShape([16, 100]),\n",
       " tensorflow.python.framework.ops.EagerTensor,\n",
       " 2,\n",
       " <tf.Tensor: shape=(16, 100), dtype=float32, numpy=\n",
       " array([[ 0.11463612, -2.564992  ,  1.4802281 , ...,  0.06423759,\n",
       "          0.10485248, -1.4608942 ],\n",
       "        [ 0.01761886,  0.57213473, -0.7578114 , ...,  0.9218231 ,\n",
       "          0.21988979,  1.8725505 ],\n",
       "        [ 0.5661587 , -0.50644976,  0.32629654, ...,  0.83844835,\n",
       "          0.96595144,  0.09275547],\n",
       "        ...,\n",
       "        [-0.42189932,  0.03435139,  0.61862665, ..., -0.992395  ,\n",
       "         -0.21694648,  0.20784101],\n",
       "        [ 0.09850778, -3.0340226 , -2.0520513 , ...,  0.6581855 ,\n",
       "          0.81768906, -0.19470873],\n",
       "        [-1.0335214 , -1.9312859 ,  0.51548755, ...,  0.9894868 ,\n",
       "         -0.11413444, -0.31730494]], dtype=float32)>)"
      ]
     },
     "metadata": {},
     "execution_count": 54
    }
   ],
   "source": [
    "test_images.shape, type(test_images), test_images.ndim, test_images"
   ]
  },
  {
   "cell_type": "code",
   "execution_count": 55,
   "metadata": {},
   "outputs": [
    {
     "output_type": "execute_result",
     "data": {
      "text/plain": [
       "((60000, 28, 28, 1), numpy.ndarray)"
      ]
     },
     "metadata": {},
     "execution_count": 55
    }
   ],
   "source": [
    "x_train.shape, type(x_train)"
   ]
  },
  {
   "cell_type": "code",
   "execution_count": 56,
   "metadata": {},
   "outputs": [],
   "source": [
    "x_train = tf.data.Dataset.from_tensor_slices(x_train).shuffle(60000).batch(256)"
   ]
  },
  {
   "cell_type": "code",
   "execution_count": 57,
   "metadata": {},
   "outputs": [
    {
     "output_type": "execute_result",
     "data": {
      "text/plain": [
       "(tensorflow.python.data.ops.dataset_ops.BatchDataset,\n",
       " <BatchDataset shapes: (None, 28, 28, 1), types: tf.float32>)"
      ]
     },
     "metadata": {},
     "execution_count": 57
    }
   ],
   "source": [
    "type(x_train), x_train"
   ]
  },
  {
   "cell_type": "code",
   "execution_count": 58,
   "metadata": {},
   "outputs": [
    {
     "output_type": "error",
     "ename": "KeyboardInterrupt",
     "evalue": "",
     "traceback": [
      "\u001b[1;31m---------------------------------------------------------------------------\u001b[0m",
      "\u001b[1;31mKeyboardInterrupt\u001b[0m                         Traceback (most recent call last)",
      "\u001b[1;32m~\\AppData\\Local\\Temp/ipykernel_11832/4252357950.py\u001b[0m in \u001b[0;36m<module>\u001b[1;34m\u001b[0m\n\u001b[1;32m----> 1\u001b[1;33m \u001b[0mtrain\u001b[0m\u001b[1;33m(\u001b[0m\u001b[0mx_train\u001b[0m\u001b[1;33m,\u001b[0m \u001b[0mepochs\u001b[0m\u001b[1;33m,\u001b[0m \u001b[0mtest_images\u001b[0m\u001b[1;33m)\u001b[0m\u001b[1;33m\u001b[0m\u001b[1;33m\u001b[0m\u001b[0m\n\u001b[0m",
      "\u001b[1;32m~\\AppData\\Local\\Temp/ipykernel_11832/2885849559.py\u001b[0m in \u001b[0;36mtrain\u001b[1;34m(dataset, epochs, test_images)\u001b[0m\n\u001b[0;32m      2\u001b[0m     \u001b[1;32mfor\u001b[0m \u001b[0mepoch\u001b[0m \u001b[1;32min\u001b[0m \u001b[0mrange\u001b[0m\u001b[1;33m(\u001b[0m\u001b[0mepochs\u001b[0m\u001b[1;33m)\u001b[0m\u001b[1;33m:\u001b[0m \u001b[1;31m# 에포크 마다\u001b[0m\u001b[1;33m\u001b[0m\u001b[1;33m\u001b[0m\u001b[0m\n\u001b[0;32m      3\u001b[0m         \u001b[1;32mfor\u001b[0m \u001b[0mimage_batch\u001b[0m \u001b[1;32min\u001b[0m \u001b[0mdataset\u001b[0m\u001b[1;33m:\u001b[0m \u001b[1;31m# 에포크의 데이터 셋의 이미지 배치 만큼\u001b[0m\u001b[1;33m\u001b[0m\u001b[1;33m\u001b[0m\u001b[0m\n\u001b[1;32m----> 4\u001b[1;33m             \u001b[0mtrain_steps\u001b[0m\u001b[1;33m(\u001b[0m\u001b[0mimage_batch\u001b[0m\u001b[1;33m)\u001b[0m\u001b[1;33m\u001b[0m\u001b[1;33m\u001b[0m\u001b[0m\n\u001b[0m\u001b[0;32m      5\u001b[0m \u001b[1;33m\u001b[0m\u001b[0m\n\u001b[0;32m      6\u001b[0m         \u001b[0mprint\u001b[0m\u001b[1;33m(\u001b[0m\u001b[1;34m\"Epoch : \"\u001b[0m\u001b[1;33m,\u001b[0m \u001b[0mepoch\u001b[0m \u001b[1;33m+\u001b[0m \u001b[1;36m1\u001b[0m\u001b[1;33m)\u001b[0m\u001b[1;33m\u001b[0m\u001b[1;33m\u001b[0m\u001b[0m\n",
      "\u001b[1;32mc:\\Users\\user\\Desktop\\Git\\StudyCV\\CV_WEEK10_2\\venv\\lib\\site-packages\\tensorflow\\python\\eager\\def_function.py\u001b[0m in \u001b[0;36m__call__\u001b[1;34m(self, *args, **kwds)\u001b[0m\n\u001b[0;32m    887\u001b[0m \u001b[1;33m\u001b[0m\u001b[0m\n\u001b[0;32m    888\u001b[0m       \u001b[1;32mwith\u001b[0m \u001b[0mOptionalXlaContext\u001b[0m\u001b[1;33m(\u001b[0m\u001b[0mself\u001b[0m\u001b[1;33m.\u001b[0m\u001b[0m_jit_compile\u001b[0m\u001b[1;33m)\u001b[0m\u001b[1;33m:\u001b[0m\u001b[1;33m\u001b[0m\u001b[1;33m\u001b[0m\u001b[0m\n\u001b[1;32m--> 889\u001b[1;33m         \u001b[0mresult\u001b[0m \u001b[1;33m=\u001b[0m \u001b[0mself\u001b[0m\u001b[1;33m.\u001b[0m\u001b[0m_call\u001b[0m\u001b[1;33m(\u001b[0m\u001b[1;33m*\u001b[0m\u001b[0margs\u001b[0m\u001b[1;33m,\u001b[0m \u001b[1;33m**\u001b[0m\u001b[0mkwds\u001b[0m\u001b[1;33m)\u001b[0m\u001b[1;33m\u001b[0m\u001b[1;33m\u001b[0m\u001b[0m\n\u001b[0m\u001b[0;32m    890\u001b[0m \u001b[1;33m\u001b[0m\u001b[0m\n\u001b[0;32m    891\u001b[0m       \u001b[0mnew_tracing_count\u001b[0m \u001b[1;33m=\u001b[0m \u001b[0mself\u001b[0m\u001b[1;33m.\u001b[0m\u001b[0mexperimental_get_tracing_count\u001b[0m\u001b[1;33m(\u001b[0m\u001b[1;33m)\u001b[0m\u001b[1;33m\u001b[0m\u001b[1;33m\u001b[0m\u001b[0m\n",
      "\u001b[1;32mc:\\Users\\user\\Desktop\\Git\\StudyCV\\CV_WEEK10_2\\venv\\lib\\site-packages\\tensorflow\\python\\eager\\def_function.py\u001b[0m in \u001b[0;36m_call\u001b[1;34m(self, *args, **kwds)\u001b[0m\n\u001b[0;32m    915\u001b[0m       \u001b[1;31m# In this case we have created variables on the first call, so we run the\u001b[0m\u001b[1;33m\u001b[0m\u001b[1;33m\u001b[0m\u001b[1;33m\u001b[0m\u001b[0m\n\u001b[0;32m    916\u001b[0m       \u001b[1;31m# defunned version which is guaranteed to never create variables.\u001b[0m\u001b[1;33m\u001b[0m\u001b[1;33m\u001b[0m\u001b[1;33m\u001b[0m\u001b[0m\n\u001b[1;32m--> 917\u001b[1;33m       \u001b[1;32mreturn\u001b[0m \u001b[0mself\u001b[0m\u001b[1;33m.\u001b[0m\u001b[0m_stateless_fn\u001b[0m\u001b[1;33m(\u001b[0m\u001b[1;33m*\u001b[0m\u001b[0margs\u001b[0m\u001b[1;33m,\u001b[0m \u001b[1;33m**\u001b[0m\u001b[0mkwds\u001b[0m\u001b[1;33m)\u001b[0m  \u001b[1;31m# pylint: disable=not-callable\u001b[0m\u001b[1;33m\u001b[0m\u001b[1;33m\u001b[0m\u001b[0m\n\u001b[0m\u001b[0;32m    918\u001b[0m     \u001b[1;32melif\u001b[0m \u001b[0mself\u001b[0m\u001b[1;33m.\u001b[0m\u001b[0m_stateful_fn\u001b[0m \u001b[1;32mis\u001b[0m \u001b[1;32mnot\u001b[0m \u001b[1;32mNone\u001b[0m\u001b[1;33m:\u001b[0m\u001b[1;33m\u001b[0m\u001b[1;33m\u001b[0m\u001b[0m\n\u001b[0;32m    919\u001b[0m       \u001b[1;31m# Release the lock early so that multiple threads can perform the call\u001b[0m\u001b[1;33m\u001b[0m\u001b[1;33m\u001b[0m\u001b[1;33m\u001b[0m\u001b[0m\n",
      "\u001b[1;32mc:\\Users\\user\\Desktop\\Git\\StudyCV\\CV_WEEK10_2\\venv\\lib\\site-packages\\tensorflow\\python\\eager\\function.py\u001b[0m in \u001b[0;36m__call__\u001b[1;34m(self, *args, **kwargs)\u001b[0m\n\u001b[0;32m   3021\u001b[0m       (graph_function,\n\u001b[0;32m   3022\u001b[0m        filtered_flat_args) = self._maybe_define_function(args, kwargs)\n\u001b[1;32m-> 3023\u001b[1;33m     return graph_function._call_flat(\n\u001b[0m\u001b[0;32m   3024\u001b[0m         filtered_flat_args, captured_inputs=graph_function.captured_inputs)  # pylint: disable=protected-access\n\u001b[0;32m   3025\u001b[0m \u001b[1;33m\u001b[0m\u001b[0m\n",
      "\u001b[1;32mc:\\Users\\user\\Desktop\\Git\\StudyCV\\CV_WEEK10_2\\venv\\lib\\site-packages\\tensorflow\\python\\eager\\function.py\u001b[0m in \u001b[0;36m_call_flat\u001b[1;34m(self, args, captured_inputs, cancellation_manager)\u001b[0m\n\u001b[0;32m   1958\u001b[0m         and executing_eagerly):\n\u001b[0;32m   1959\u001b[0m       \u001b[1;31m# No tape is watching; skip to running the function.\u001b[0m\u001b[1;33m\u001b[0m\u001b[1;33m\u001b[0m\u001b[1;33m\u001b[0m\u001b[0m\n\u001b[1;32m-> 1960\u001b[1;33m       return self._build_call_outputs(self._inference_function.call(\n\u001b[0m\u001b[0;32m   1961\u001b[0m           ctx, args, cancellation_manager=cancellation_manager))\n\u001b[0;32m   1962\u001b[0m     forward_backward = self._select_forward_and_backward_functions(\n",
      "\u001b[1;32mc:\\Users\\user\\Desktop\\Git\\StudyCV\\CV_WEEK10_2\\venv\\lib\\site-packages\\tensorflow\\python\\eager\\function.py\u001b[0m in \u001b[0;36mcall\u001b[1;34m(self, ctx, args, cancellation_manager)\u001b[0m\n\u001b[0;32m    589\u001b[0m       \u001b[1;32mwith\u001b[0m \u001b[0m_InterpolateFunctionError\u001b[0m\u001b[1;33m(\u001b[0m\u001b[0mself\u001b[0m\u001b[1;33m)\u001b[0m\u001b[1;33m:\u001b[0m\u001b[1;33m\u001b[0m\u001b[1;33m\u001b[0m\u001b[0m\n\u001b[0;32m    590\u001b[0m         \u001b[1;32mif\u001b[0m \u001b[0mcancellation_manager\u001b[0m \u001b[1;32mis\u001b[0m \u001b[1;32mNone\u001b[0m\u001b[1;33m:\u001b[0m\u001b[1;33m\u001b[0m\u001b[1;33m\u001b[0m\u001b[0m\n\u001b[1;32m--> 591\u001b[1;33m           outputs = execute.execute(\n\u001b[0m\u001b[0;32m    592\u001b[0m               \u001b[0mstr\u001b[0m\u001b[1;33m(\u001b[0m\u001b[0mself\u001b[0m\u001b[1;33m.\u001b[0m\u001b[0msignature\u001b[0m\u001b[1;33m.\u001b[0m\u001b[0mname\u001b[0m\u001b[1;33m)\u001b[0m\u001b[1;33m,\u001b[0m\u001b[1;33m\u001b[0m\u001b[1;33m\u001b[0m\u001b[0m\n\u001b[0;32m    593\u001b[0m               \u001b[0mnum_outputs\u001b[0m\u001b[1;33m=\u001b[0m\u001b[0mself\u001b[0m\u001b[1;33m.\u001b[0m\u001b[0m_num_outputs\u001b[0m\u001b[1;33m,\u001b[0m\u001b[1;33m\u001b[0m\u001b[1;33m\u001b[0m\u001b[0m\n",
      "\u001b[1;32mc:\\Users\\user\\Desktop\\Git\\StudyCV\\CV_WEEK10_2\\venv\\lib\\site-packages\\tensorflow\\python\\eager\\execute.py\u001b[0m in \u001b[0;36mquick_execute\u001b[1;34m(op_name, num_outputs, inputs, attrs, ctx, name)\u001b[0m\n\u001b[0;32m     57\u001b[0m   \u001b[1;32mtry\u001b[0m\u001b[1;33m:\u001b[0m\u001b[1;33m\u001b[0m\u001b[1;33m\u001b[0m\u001b[0m\n\u001b[0;32m     58\u001b[0m     \u001b[0mctx\u001b[0m\u001b[1;33m.\u001b[0m\u001b[0mensure_initialized\u001b[0m\u001b[1;33m(\u001b[0m\u001b[1;33m)\u001b[0m\u001b[1;33m\u001b[0m\u001b[1;33m\u001b[0m\u001b[0m\n\u001b[1;32m---> 59\u001b[1;33m     tensors = pywrap_tfe.TFE_Py_Execute(ctx._handle, device_name, op_name,\n\u001b[0m\u001b[0;32m     60\u001b[0m                                         inputs, attrs, num_outputs)\n\u001b[0;32m     61\u001b[0m   \u001b[1;32mexcept\u001b[0m \u001b[0mcore\u001b[0m\u001b[1;33m.\u001b[0m\u001b[0m_NotOkStatusException\u001b[0m \u001b[1;32mas\u001b[0m \u001b[0me\u001b[0m\u001b[1;33m:\u001b[0m\u001b[1;33m\u001b[0m\u001b[1;33m\u001b[0m\u001b[0m\n",
      "\u001b[1;31mKeyboardInterrupt\u001b[0m: "
     ]
    }
   ],
   "source": [
    "train(x_train, epochs, test_images)"
   ]
  }
 ]
}