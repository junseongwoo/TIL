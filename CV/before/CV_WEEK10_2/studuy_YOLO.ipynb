{
 "metadata": {
  "language_info": {
   "codemirror_mode": {
    "name": "ipython",
    "version": 3
   },
   "file_extension": ".py",
   "mimetype": "text/x-python",
   "name": "python",
   "nbconvert_exporter": "python",
   "pygments_lexer": "ipython3",
   "version": "3.9.5"
  },
  "orig_nbformat": 4,
  "kernelspec": {
   "name": "python3",
   "display_name": "Python 3.9.5 64-bit ('venv': venv)"
  },
  "interpreter": {
   "hash": "9d4b4234f62c36521615a010d42b616681d983650dadf5e453679918b1f33aa1"
  }
 },
 "nbformat": 4,
 "nbformat_minor": 2,
 "cells": [
  {
   "cell_type": "code",
   "execution_count": 1,
   "metadata": {},
   "outputs": [
    {
     "output_type": "stream",
     "name": "stderr",
     "text": [
      "Cloning into 'darknet'...\nUpdating files:  37% (768/2038)\nUpdating files:  38% (775/2038)\nUpdating files:  39% (795/2038)\nUpdating files:  40% (816/2038)\nUpdating files:  41% (836/2038)\nUpdating files:  42% (856/2038)\nUpdating files:  43% (877/2038)\nUpdating files:  44% (897/2038)\nUpdating files:  45% (918/2038)\nUpdating files:  46% (938/2038)\nUpdating files:  47% (958/2038)\nUpdating files:  48% (979/2038)\nUpdating files:  49% (999/2038)\nUpdating files:  50% (1019/2038)\nUpdating files:  51% (1040/2038)\nUpdating files:  52% (1060/2038)\nUpdating files:  53% (1081/2038)\nUpdating files:  54% (1101/2038)\nUpdating files:  55% (1121/2038)\nUpdating files:  56% (1142/2038)\nUpdating files:  57% (1162/2038)\nUpdating files:  58% (1183/2038)\nUpdating files:  59% (1203/2038)\nUpdating files:  60% (1223/2038)\nUpdating files:  61% (1244/2038)\nUpdating files:  62% (1264/2038)\nUpdating files:  63% (1284/2038)\nUpdating files:  64% (1305/2038)\nUpdating files:  65% (1325/2038)\nUpdating files:  66% (1346/2038)\nUpdating files:  67% (1366/2038)\nUpdating files:  68% (1386/2038)\nUpdating files:  69% (1407/2038)\nUpdating files:  70% (1427/2038)\nUpdating files:  71% (1447/2038)\nUpdating files:  72% (1468/2038)\nUpdating files:  73% (1488/2038)\nUpdating files:  74% (1509/2038)\nUpdating files:  75% (1529/2038)\nUpdating files:  76% (1549/2038)\nUpdating files:  77% (1570/2038)\nUpdating files:  78% (1590/2038)\nUpdating files:  79% (1611/2038)\nUpdating files:  80% (1631/2038)\nUpdating files:  80% (1634/2038)\nUpdating files:  81% (1651/2038)\nUpdating files:  82% (1672/2038)\nUpdating files:  83% (1692/2038)\nUpdating files:  84% (1712/2038)\nUpdating files:  85% (1733/2038)\nUpdating files:  86% (1753/2038)\nUpdating files:  87% (1774/2038)\nUpdating files:  88% (1794/2038)\nUpdating files:  89% (1814/2038)\nUpdating files:  90% (1835/2038)\nUpdating files:  91% (1855/2038)\nUpdating files:  92% (1875/2038)\nUpdating files:  93% (1896/2038)\nUpdating files:  94% (1916/2038)\nUpdating files:  95% (1937/2038)\nUpdating files:  96% (1957/2038)\nUpdating files:  97% (1977/2038)\nUpdating files:  98% (1998/2038)\nUpdating files:  99% (2018/2038)\nUpdating files: 100% (2038/2038)\nUpdating files: 100% (2038/2038), done.\n"
     ]
    }
   ],
   "source": [
    "!git clone https://github.com/AlexeyAB/darknet\n",
    "\n",
    "# 윈도우는 컴파일을 해야한다\n",
    "# vs 2019 C++ 설치 \n",
    "# pip install pandas-profiling \n",
    "# 이후 darknet -> build -> no-gpu를 vs comunity 실행"
   ]
  },
  {
   "cell_type": "code",
   "execution_count": null,
   "metadata": {},
   "outputs": [],
   "source": [
    "!wget https://github.com/AlexeyAB/darknet/releases/download/darknet_yolo_v3_optimal/yolo4.weights"
   ]
  }
 ]
}