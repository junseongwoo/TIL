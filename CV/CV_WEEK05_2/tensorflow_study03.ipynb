{
 "metadata": {
  "language_info": {
   "codemirror_mode": {
    "name": "ipython",
    "version": 3
   },
   "file_extension": ".py",
   "mimetype": "text/x-python",
   "name": "python",
   "nbconvert_exporter": "python",
   "pygments_lexer": "ipython3",
   "version": "3.9.5"
  },
  "orig_nbformat": 2,
  "kernelspec": {
   "name": "python395jvsc74a57bd0872c4634d660470f620c6274665567fdcfefbe384014add01cb0707ddf03c334",
   "display_name": "Python 3.9.5 64-bit ('venv': venv)"
  }
 },
 "nbformat": 4,
 "nbformat_minor": 2,
 "cells": [
  {
   "cell_type": "code",
   "execution_count": 8,
   "metadata": {},
   "outputs": [],
   "source": [
    "import tensorflow as tf\n",
    "import pandas as pandas\n",
    "import numpy as np\n",
    "import matplotlib.pyplot as plt"
   ]
  },
  {
   "cell_type": "code",
   "execution_count": 9,
   "metadata": {},
   "outputs": [
    {
     "output_type": "stream",
     "name": "stdout",
     "text": [
      "[]\n"
     ]
    }
   ],
   "source": [
    "print(tf.config.list_physical_devices('GPU'))"
   ]
  },
  {
   "cell_type": "code",
   "execution_count": 10,
   "metadata": {},
   "outputs": [],
   "source": [
    "H = tf.constant(np.arange(1,10))"
   ]
  },
  {
   "cell_type": "code",
   "execution_count": 11,
   "metadata": {},
   "outputs": [
    {
     "output_type": "execute_result",
     "data": {
      "text/plain": [
       "1"
      ]
     },
     "metadata": {},
     "execution_count": 11
    }
   ],
   "source": [
    "## 벡터이기 때문에 1이 나옴\n",
    "H.ndim"
   ]
  },
  {
   "cell_type": "code",
   "execution_count": 12,
   "metadata": {},
   "outputs": [
    {
     "output_type": "execute_result",
     "data": {
      "text/plain": [
       "<tf.Tensor: shape=(9,), dtype=int32, numpy=array([ 1,  4,  9, 16, 25, 36, 49, 64, 81])>"
      ]
     },
     "metadata": {},
     "execution_count": 12
    }
   ],
   "source": [
    "tf.square(H)"
   ]
  },
  {
   "cell_type": "code",
   "execution_count": 13,
   "metadata": {},
   "outputs": [
    {
     "output_type": "execute_result",
     "data": {
      "text/plain": [
       "<tf.Tensor: shape=(9,), dtype=float32, numpy=array([1., 2., 3., 4., 5., 6., 7., 8., 9.], dtype=float32)>"
      ]
     },
     "metadata": {},
     "execution_count": 13
    }
   ],
   "source": [
    "H = tf.cast(H, dtype= tf.float32)\n",
    "H"
   ]
  },
  {
   "cell_type": "code",
   "execution_count": 14,
   "metadata": {},
   "outputs": [
    {
     "output_type": "execute_result",
     "data": {
      "text/plain": [
       "<tf.Tensor: shape=(9,), dtype=float32, numpy=\n",
       "array([0.99999994, 1.4142134 , 1.7320508 , 1.9999999 , 2.236068  ,\n",
       "       2.4494896 , 2.6457512 , 2.8284268 , 3.        ], dtype=float32)>"
      ]
     },
     "metadata": {},
     "execution_count": 14
    }
   ],
   "source": [
    "tf.sqrt(H)"
   ]
  },
  {
   "cell_type": "code",
   "execution_count": 15,
   "metadata": {},
   "outputs": [
    {
     "output_type": "execute_result",
     "data": {
      "text/plain": [
       "<tf.Tensor: shape=(9,), dtype=float32, numpy=\n",
       "array([0.       , 0.6931472, 1.0986123, 1.3862944, 1.609438 , 1.7917595,\n",
       "       1.9459102, 2.0794415, 2.1972246], dtype=float32)>"
      ]
     },
     "metadata": {},
     "execution_count": 15
    }
   ],
   "source": [
    "tf.math.log(H)"
   ]
  },
  {
   "cell_type": "code",
   "execution_count": null,
   "metadata": {},
   "outputs": [],
   "source": [
    "# tf.square() : 텐서에 존재하는 모든 값들의 제곱을 계산\n",
    "# tf.sqrt()   : 텐서에 존재하는 모든 값들의 제곱근을 계산 \n",
    "#             - 제곱근을 계산하는 것이라 float 형태로 바꿔줘야함 \n",
    "# tf.math.log() : 텐서에 존재하는 모든 값들이 자연로그 (natural log)를 계산 "
   ]
  },
  {
   "cell_type": "code",
   "execution_count": 17,
   "metadata": {},
   "outputs": [
    {
     "output_type": "execute_result",
     "data": {
      "text/plain": [
       "<tf.Variable 'Variable:0' shape=(5,) dtype=int32, numpy=array([0, 1, 2, 3, 4])>"
      ]
     },
     "metadata": {},
     "execution_count": 17
    }
   ],
   "source": [
    "I = tf.Variable(np.arange(0,5))\n",
    "I"
   ]
  },
  {
   "cell_type": "code",
   "execution_count": 18,
   "metadata": {},
   "outputs": [],
   "source": [
    "# tf.constant : 일반적인 프로그래밍 언어의 상수 개념 immutable - 변경 할 수 없는 값 \n",
    "# tf.Variable : 일반적은 프로그래밍 언어의 변수 개념 mutable   - 변경 할 수 있는 값"
   ]
  },
  {
   "cell_type": "code",
   "execution_count": 19,
   "metadata": {},
   "outputs": [
    {
     "output_type": "execute_result",
     "data": {
      "text/plain": [
       "<tf.Variable 'UnreadVariable' shape=(5,) dtype=int32, numpy=array([ 0,  1,  2,  3, 50])>"
      ]
     },
     "metadata": {},
     "execution_count": 19
    }
   ],
   "source": [
    "I.assign([0,1,2,3,50])"
   ]
  },
  {
   "cell_type": "code",
   "execution_count": 20,
   "metadata": {},
   "outputs": [
    {
     "output_type": "execute_result",
     "data": {
      "text/plain": [
       "<tf.Tensor: shape=(5,), dtype=int32, numpy=array([10, 11, 12, 13, 60])>"
      ]
     },
     "metadata": {},
     "execution_count": 20
    }
   ],
   "source": [
    "I+10"
   ]
  },
  {
   "cell_type": "code",
   "execution_count": 21,
   "metadata": {},
   "outputs": [
    {
     "output_type": "execute_result",
     "data": {
      "text/plain": [
       "<tf.Variable 'Variable:0' shape=(5,) dtype=int32, numpy=array([ 0,  1,  2,  3, 50])>"
      ]
     },
     "metadata": {},
     "execution_count": 21
    }
   ],
   "source": [
    "I"
   ]
  },
  {
   "cell_type": "code",
   "execution_count": 22,
   "metadata": {},
   "outputs": [
    {
     "output_type": "execute_result",
     "data": {
      "text/plain": [
       "<tf.Variable 'UnreadVariable' shape=(5,) dtype=int32, numpy=array([10, 11, 12, 13, 60])>"
      ]
     },
     "metadata": {},
     "execution_count": 22
    }
   ],
   "source": [
    "# 변수를 새로 만들지 않고 값을 더하기 \n",
    "I.assign_add([10,10,10,10,10])"
   ]
  },
  {
   "cell_type": "code",
   "execution_count": 23,
   "metadata": {},
   "outputs": [
    {
     "output_type": "execute_result",
     "data": {
      "text/plain": [
       "<tf.Variable 'Variable:0' shape=(5,) dtype=int32, numpy=array([10, 11, 12, 13, 60])>"
      ]
     },
     "metadata": {},
     "execution_count": 23
    }
   ],
   "source": [
    "I"
   ]
  },
  {
   "cell_type": "code",
   "execution_count": 24,
   "metadata": {},
   "outputs": [
    {
     "output_type": "execute_result",
     "data": {
      "text/plain": [
       "<tf.Tensor: shape=(3,), dtype=float64, numpy=array([ 3.,  7., 10.])>"
      ]
     },
     "metadata": {},
     "execution_count": 24
    }
   ],
   "source": [
    "J = tf.constant(np.array([3.,7.,10.]))\n",
    "J"
   ]
  },
  {
   "cell_type": "code",
   "execution_count": 26,
   "metadata": {},
   "outputs": [
    {
     "output_type": "execute_result",
     "data": {
      "text/plain": [
       "(array([ 3.,  7., 10.]), numpy.ndarray)"
      ]
     },
     "metadata": {},
     "execution_count": 26
    }
   ],
   "source": [
    "np.array(J), type(np.array(J))"
   ]
  },
  {
   "cell_type": "code",
   "execution_count": 28,
   "metadata": {},
   "outputs": [
    {
     "output_type": "execute_result",
     "data": {
      "text/plain": [
       "(array([ 3.,  7., 10.]), numpy.ndarray)"
      ]
     },
     "metadata": {},
     "execution_count": 28
    }
   ],
   "source": [
    "J.numpy(), type(J.numpy())"
   ]
  },
  {
   "cell_type": "code",
   "execution_count": 29,
   "metadata": {},
   "outputs": [],
   "source": [
    "# J 부분 설명 \n",
    "# tensor <==> numpy array \n",
    "# np.array() : 텐서를 전달해서 ndarray 로 변환 (ndarray는 Numpy의 기본 자료형)\n",
    "# tensor.numpy() : 텐서 자체에 호출해서 ndarray로 변환 \n",
    "# tensor 는 기본 자료형 : float32 / numpy array의 기본 자료형 : float64"
   ]
  },
  {
   "cell_type": "code",
   "execution_count": 30,
   "metadata": {},
   "outputs": [
    {
     "output_type": "execute_result",
     "data": {
      "text/plain": [
       "(tf.float64, tf.float32)"
      ]
     },
     "metadata": {},
     "execution_count": 30
    }
   ],
   "source": [
    "numpy_J = tf.constant(np.array([3., 7., 10.]))\n",
    "tensor_J = tf.constant([3., 7., 10.])\n",
    "numpy_J.dtype, tensor_J.dtype"
   ]
  },
  {
   "cell_type": "code",
   "execution_count": 35,
   "metadata": {},
   "outputs": [
    {
     "output_type": "execute_result",
     "data": {
      "text/plain": [
       "(<tf.Tensor: shape=(10,), dtype=int32, numpy=array([0, 1, 2, 3, 4, 5, 6, 7, 8, 9])>,\n",
       " <tf.Tensor: shape=(10,), dtype=int32, numpy=array([10, 11, 12, 13, 14, 15, 16, 17, 18, 19])>)"
      ]
     },
     "metadata": {},
     "execution_count": 35
    }
   ],
   "source": [
    "def function(x, y):\n",
    "    return x ** 2 + y \n",
    "\n",
    "x = tf.constant(np.arange(0,10))\n",
    "y = tf.constant(np.arange(10,20))\n",
    "\n",
    "x, y"
   ]
  },
  {
   "cell_type": "code",
   "execution_count": 33,
   "metadata": {},
   "outputs": [
    {
     "output_type": "execute_result",
     "data": {
      "text/plain": [
       "<tf.Tensor: shape=(10,), dtype=int32, numpy=array([ 10,  12,  16,  22,  30,  40,  52,  66,  82, 100])>"
      ]
     },
     "metadata": {},
     "execution_count": 33
    }
   ],
   "source": [
    "function(x,y)"
   ]
  },
  {
   "cell_type": "code",
   "execution_count": null,
   "metadata": {},
   "outputs": [],
   "source": [
    "## @는 matrix multiflication 할때 쓰는거 \n",
    "## @ 파이썬 에서는 데코레이션, 즉 tf.function 이라는 decorator! : 함수를 상황에 따라 변경하는 방법\n",
    "## @tf.function decorator 는 function을 callable tensorflow graph로 바꿔준다! \n",
    "## @tf.function을 통해 선언한 함수는 tensorflow 내부적으로 메모리 효율적 및 실행시 최적화를 만들어 준다!"
   ]
  },
  {
   "cell_type": "code",
   "execution_count": 36,
   "metadata": {},
   "outputs": [
    {
     "output_type": "execute_result",
     "data": {
      "text/plain": [
       "<tf.Tensor: shape=(10,), dtype=int32, numpy=array([ 10,  12,  16,  22,  30,  40,  52,  66,  82, 100])>"
      ]
     },
     "metadata": {},
     "execution_count": 36
    }
   ],
   "source": [
    "@tf.function\n",
    "def function2(a,b):\n",
    "    return a ** 2 + b\n",
    "\n",
    "a = tf.constant(np.arange(0,10))\n",
    "b = tf.constant(np.arange(10, 20))\n",
    "function2(a,b)\n"
   ]
  },
  {
   "source": [
    "[텐서플로우 함수](https://www.tensorflow.org/guide/function)"
   ],
   "cell_type": "markdown",
   "metadata": {}
  }
 ]
}