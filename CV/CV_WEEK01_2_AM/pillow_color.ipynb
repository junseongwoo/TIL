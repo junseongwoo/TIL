{
 "metadata": {
  "language_info": {
   "codemirror_mode": {
    "name": "ipython",
    "version": 3
   },
   "file_extension": ".py",
   "mimetype": "text/x-python",
   "name": "python",
   "nbconvert_exporter": "python",
   "pygments_lexer": "ipython3",
   "version": "3.9.4"
  },
  "orig_nbformat": 2,
  "kernelspec": {
   "name": "python394jvsc74a57bd0dee945275f95401285b0a289a30e6baafa7d0482b0172d619c56a105a91f0a1f",
   "display_name": "Python 3.9.4 64-bit ('pillow_lab_venv')"
  },
  "metadata": {
   "interpreter": {
    "hash": "dee945275f95401285b0a289a30e6baafa7d0482b0172d619c56a105a91f0a1f"
   }
  }
 },
 "nbformat": 4,
 "nbformat_minor": 2,
 "cells": [
  {
   "cell_type": "code",
   "execution_count": 1,
   "metadata": {},
   "outputs": [
    {
     "output_type": "execute_result",
     "data": {
      "text/plain": [
       "(255, 0, 0, 255)"
      ]
     },
     "metadata": {},
     "execution_count": 1
    }
   ],
   "source": [
    "from PIL import ImageColor\n",
    "ImageColor.getcolor(\"#ff0000\", \"RGBA\")"
   ]
  },
  {
   "cell_type": "code",
   "execution_count": 2,
   "metadata": {},
   "outputs": [
    {
     "output_type": "execute_result",
     "data": {
      "text/plain": [
       "(255, 0, 0, 255)"
      ]
     },
     "metadata": {},
     "execution_count": 2
    }
   ],
   "source": [
    "ImageColor.getcolor(\"red\", \"RGBA\")"
   ]
  },
  {
   "cell_type": "code",
   "execution_count": 4,
   "metadata": {},
   "outputs": [
    {
     "output_type": "execute_result",
     "data": {
      "text/plain": [
       "(255, 0, 0)"
      ]
     },
     "metadata": {},
     "execution_count": 4
    }
   ],
   "source": [
    "ImageColor.getrgb(\"hsv(0, 100%, 100%)\")"
   ]
  },
  {
   "cell_type": "code",
   "execution_count": 6,
   "metadata": {},
   "outputs": [
    {
     "output_type": "stream",
     "name": "stdout",
     "text": [
      "aliceblue = (240, 248, 255, 255)\nantiquewhite = (250, 235, 215, 255)\naqua = (0, 255, 255, 255)\naquamarine = (127, 255, 212, 255)\nazure = (240, 255, 255, 255)\nbeige = (245, 245, 220, 255)\nbisque = (255, 228, 196, 255)\nblack = (0, 0, 0, 255)\nblanchedalmond = (255, 235, 205, 255)\nblue = (0, 0, 255, 255)\nblueviolet = (138, 43, 226, 255)\nbrown = (165, 42, 42, 255)\nburlywood = (222, 184, 135, 255)\ncadetblue = (95, 158, 160, 255)\nchartreuse = (127, 255, 0, 255)\nchocolate = (210, 105, 30, 255)\ncoral = (255, 127, 80, 255)\ncornflowerblue = (100, 149, 237, 255)\ncornsilk = (255, 248, 220, 255)\ncrimson = (220, 20, 60, 255)\ncyan = (0, 255, 255, 255)\ndarkblue = (0, 0, 139, 255)\ndarkcyan = (0, 139, 139, 255)\ndarkgoldenrod = (184, 134, 11, 255)\ndarkgray = (169, 169, 169, 255)\ndarkgrey = (169, 169, 169, 255)\ndarkgreen = (0, 100, 0, 255)\ndarkkhaki = (189, 183, 107, 255)\ndarkmagenta = (139, 0, 139, 255)\ndarkolivegreen = (85, 107, 47, 255)\ndarkorange = (255, 140, 0, 255)\ndarkorchid = (153, 50, 204, 255)\ndarkred = (139, 0, 0, 255)\ndarksalmon = (233, 150, 122, 255)\ndarkseagreen = (143, 188, 143, 255)\ndarkslateblue = (72, 61, 139, 255)\ndarkslategray = (47, 79, 79, 255)\ndarkslategrey = (47, 79, 79, 255)\ndarkturquoise = (0, 206, 209, 255)\ndarkviolet = (148, 0, 211, 255)\ndeeppink = (255, 20, 147, 255)\ndeepskyblue = (0, 191, 255, 255)\ndimgray = (105, 105, 105, 255)\ndimgrey = (105, 105, 105, 255)\ndodgerblue = (30, 144, 255, 255)\nfirebrick = (178, 34, 34, 255)\nfloralwhite = (255, 250, 240, 255)\nforestgreen = (34, 139, 34, 255)\nfuchsia = (255, 0, 255, 255)\ngainsboro = (220, 220, 220, 255)\nghostwhite = (248, 248, 255, 255)\ngold = (255, 215, 0, 255)\ngoldenrod = (218, 165, 32, 255)\ngray = (128, 128, 128, 255)\ngrey = (128, 128, 128, 255)\ngreen = (0, 128, 0, 255)\ngreenyellow = (173, 255, 47, 255)\nhoneydew = (240, 255, 240, 255)\nhotpink = (255, 105, 180, 255)\nindianred = (205, 92, 92, 255)\nindigo = (75, 0, 130, 255)\nivory = (255, 255, 240, 255)\nkhaki = (240, 230, 140, 255)\nlavender = (230, 230, 250, 255)\nlavenderblush = (255, 240, 245, 255)\nlawngreen = (124, 252, 0, 255)\nlemonchiffon = (255, 250, 205, 255)\nlightblue = (173, 216, 230, 255)\nlightcoral = (240, 128, 128, 255)\nlightcyan = (224, 255, 255, 255)\nlightgoldenrodyellow = (250, 250, 210, 255)\nlightgreen = (144, 238, 144, 255)\nlightgray = (211, 211, 211, 255)\nlightgrey = (211, 211, 211, 255)\nlightpink = (255, 182, 193, 255)\nlightsalmon = (255, 160, 122, 255)\nlightseagreen = (32, 178, 170, 255)\nlightskyblue = (135, 206, 250, 255)\nlightslategray = (119, 136, 153, 255)\nlightslategrey = (119, 136, 153, 255)\nlightsteelblue = (176, 196, 222, 255)\nlightyellow = (255, 255, 224, 255)\nlime = (0, 255, 0, 255)\nlimegreen = (50, 205, 50, 255)\nlinen = (250, 240, 230, 255)\nmagenta = (255, 0, 255, 255)\nmaroon = (128, 0, 0, 255)\nmediumaquamarine = (102, 205, 170, 255)\nmediumblue = (0, 0, 205, 255)\nmediumorchid = (186, 85, 211, 255)\nmediumpurple = (147, 112, 219, 255)\nmediumseagreen = (60, 179, 113, 255)\nmediumslateblue = (123, 104, 238, 255)\nmediumspringgreen = (0, 250, 154, 255)\nmediumturquoise = (72, 209, 204, 255)\nmediumvioletred = (199, 21, 133, 255)\nmidnightblue = (25, 25, 112, 255)\nmintcream = (245, 255, 250, 255)\nmistyrose = (255, 228, 225, 255)\nmoccasin = (255, 228, 181, 255)\nnavajowhite = (255, 222, 173, 255)\nnavy = (0, 0, 128, 255)\noldlace = (253, 245, 230, 255)\nolive = (128, 128, 0, 255)\nolivedrab = (107, 142, 35, 255)\norange = (255, 165, 0, 255)\norangered = (255, 69, 0, 255)\norchid = (218, 112, 214, 255)\npalegoldenrod = (238, 232, 170, 255)\npalegreen = (152, 251, 152, 255)\npaleturquoise = (175, 238, 238, 255)\npalevioletred = (219, 112, 147, 255)\npapayawhip = (255, 239, 213, 255)\npeachpuff = (255, 218, 185, 255)\nperu = (205, 133, 63, 255)\npink = (255, 192, 203, 255)\nplum = (221, 160, 221, 255)\npowderblue = (176, 224, 230, 255)\npurple = (128, 0, 128, 255)\nrebeccapurple = (102, 51, 153, 255)\nred = (255, 0, 0, 255)\nrosybrown = (188, 143, 143, 255)\nroyalblue = (65, 105, 225, 255)\nsaddlebrown = (139, 69, 19, 255)\nsalmon = (250, 128, 114, 255)\nsandybrown = (244, 164, 96, 255)\nseagreen = (46, 139, 87, 255)\nseashell = (255, 245, 238, 255)\nsienna = (160, 82, 45, 255)\nsilver = (192, 192, 192, 255)\nskyblue = (135, 206, 235, 255)\nslateblue = (106, 90, 205, 255)\nslategray = (112, 128, 144, 255)\nslategrey = (112, 128, 144, 255)\nsnow = (255, 250, 250, 255)\nspringgreen = (0, 255, 127, 255)\nsteelblue = (70, 130, 180, 255)\ntan = (210, 180, 140, 255)\nteal = (0, 128, 128, 255)\nthistle = (216, 191, 216, 255)\ntomato = (255, 99, 71, 255)\nturquoise = (64, 224, 208, 255)\nviolet = (238, 130, 238, 255)\nwheat = (245, 222, 179, 255)\nwhite = (255, 255, 255, 255)\nwhitesmoke = (245, 245, 245, 255)\nyellow = (255, 255, 0, 255)\nyellowgreen = (154, 205, 50, 255)\n"
     ]
    }
   ],
   "source": [
    "## 딥러닝에서 사용 하려면 위의 방법은 좋지 않다.\n",
    "## RGB 값으로 받아서 써야 함 \n",
    "\n",
    "from PIL import ImageColor\n",
    "\n",
    "def get_rgb_value(color_name): ## RGB의 값 도출 \n",
    "    return ImageColor.getcolor(color_name, \"RGBA\")\n",
    "\n",
    "if __name__ == \"__main__\":  \n",
    "    for color in ImageColor.colormap:\n",
    "        print(f\"{color} = {get_rgb_value(color)}\")"
   ]
  },
  {
   "cell_type": "code",
   "execution_count": 9,
   "metadata": {},
   "outputs": [
    {
     "output_type": "stream",
     "name": "stdout",
     "text": [
      "[(28, (255, 255, 255)), (31, (253, 253, 253)), (89, (251, 251, 251)), (262, (249, 249, 249)), (551, (247, 247, 247)), (511, (245, 245, 245)), (583, (243, 243, 243)), (865, (241, 241, 241)), (1135, (239, 239, 239)), (1748, (237, 237, 237)), (2367, (235, 235, 235)), (4039, (233, 233, 233)), (6684, (231, 231, 231)), (12058, (229, 229, 229)), (16783, (227, 227, 227)), (21063, (225, 225, 225)), (26116, (223, 223, 223)), (27465, (221, 221, 221)), (29991, (219, 219, 219)), (34846, (217, 217, 217)), (36810, (215, 215, 215)), (39478, (213, 213, 213)), (41067, (211, 211, 211)), (41598, (209, 209, 209)), (44138, (207, 207, 207)), (43102, (205, 205, 205)), (42545, (203, 203, 203)), (40885, (201, 201, 201)), (38261, (199, 199, 199)), (34484, (197, 197, 197)), (31538, (195, 195, 195)), (29577, (193, 193, 193)), (27758, (191, 191, 191)), (25093, (189, 189, 189)), (23309, (187, 187, 187)), (21361, (185, 185, 185)), (19762, (183, 183, 183)), (18366, (181, 181, 181)), (17002, (179, 179, 179)), (15979, (177, 177, 177)), (15030, (175, 175, 175)), (14245, (173, 173, 173)), (13262, (171, 171, 171)), (12352, (169, 169, 169)), (11821, (167, 167, 167)), (10956, (165, 165, 165)), (10653, (163, 163, 163)), (10690, (161, 161, 161)), (10545, (159, 159, 159)), (10430, (157, 157, 157)), (10096, (155, 155, 155)), (9858, (153, 153, 153)), (9149, (151, 151, 151)), (8578, (149, 149, 149)), (8201, (147, 147, 147)), (7605, (145, 145, 145)), (7184, (143, 143, 143)), (6847, (141, 141, 141)), (6856, (139, 139, 139)), (6534, (137, 137, 137)), (6167, (135, 135, 135)), (5974, (133, 133, 133)), (5967, (131, 131, 131)), (5806, (129, 129, 129)), (5687, (127, 127, 127)), (5602, (125, 125, 125)), (5167, (123, 123, 123)), (5065, (121, 121, 121)), (4965, (119, 119, 119)), (4717, (117, 117, 117)), (4412, (115, 115, 115)), (4464, (113, 113, 113)), (4295, (111, 111, 111)), (4347, (109, 109, 109)), (4147, (107, 107, 107)), (3969, (105, 105, 105)), (4000, (103, 103, 103)), (3854, (101, 101, 101)), (3793, (99, 99, 99)), (3973, (97, 97, 97)), (3710, (95, 95, 95)), (3985, (93, 93, 93)), (4002, (91, 91, 91)), (4079, (89, 89, 89)), (4113, (87, 87, 87)), (3969, (85, 85, 85)), (4144, (83, 83, 83)), (4060, (81, 81, 81)), (3993, (79, 79, 79)), (3973, (77, 77, 77)), (4046, (75, 75, 75)), (4097, (73, 73, 73)), (4045, (71, 71, 71)), (4102, (69, 69, 69)), (4081, (67, 67, 67)), (4052, (65, 65, 65)), (4294, (63, 63, 63)), (4307, (61, 61, 61)), (4358, (59, 59, 59)), (4471, (57, 57, 57)), (4383, (55, 55, 55)), (4565, (53, 53, 53)), (4725, (51, 51, 51)), (4799, (49, 49, 49)), (4966, (47, 47, 47)), (5004, (45, 45, 45)), (5352, (43, 43, 43)), (5452, (41, 41, 41)), (5473, (39, 39, 39)), (5462, (37, 37, 37)), (5582, (35, 35, 35)), (5843, (33, 33, 33)), (5811, (31, 31, 31)), (5399, (29, 29, 29)), (5152, (27, 27, 27)), (5328, (25, 25, 25)), (5981, (23, 23, 23)), (6968, (21, 21, 21)), (8019, (19, 19, 19)), (7598, (17, 17, 17)), (7842, (15, 15, 15)), (8624, (13, 13, 13)), (10535, (11, 11, 11)), (12610, (9, 9, 9)), (16725, (7, 7, 7)), (16735, (5, 5, 5)), (12172, (3, 3, 3)), (1717, (1, 1, 1)), (16, (254, 254, 254)), (44, (252, 252, 252)), (197, (250, 250, 250)), (447, (248, 248, 248)), (492, (246, 246, 246)), (553, (244, 244, 244)), (701, (242, 242, 242)), (945, (240, 240, 240)), (1579, (238, 238, 238)), (2114, (236, 236, 236)), (2917, (234, 234, 234)), (6113, (232, 232, 232)), (8879, (230, 230, 230)), (14176, (228, 228, 228)), (20012, (226, 226, 226)), (23739, (224, 224, 224)), (26380, (222, 222, 222)), (28015, (220, 220, 220)), (32856, (218, 218, 218)), (35733, (216, 216, 216)), (38373, (214, 214, 214)), (40368, (212, 212, 212)), (41418, (210, 210, 210)), (43002, (208, 208, 208)), (43638, (206, 206, 206)), (42479, (204, 204, 204)), (42058, (202, 202, 202)), (39413, (200, 200, 200)), (35890, (198, 198, 198)), (32913, (196, 196, 196)), (30671, (194, 194, 194)), (28773, (192, 192, 192)), (26347, (190, 190, 190)), (24115, (188, 188, 188)), (22082, (186, 186, 186)), (20646, (184, 184, 184)), (18842, (182, 182, 182)), (17823, (180, 180, 180)), (16458, (178, 178, 178)), (15443, (176, 176, 176)), (14553, (174, 174, 174)), (13630, (172, 172, 172)), (12827, (170, 170, 170)), (12116, (168, 168, 168)), (11089, (166, 166, 166)), (10790, (164, 164, 164)), (10651, (162, 162, 162)), (10532, (160, 160, 160)), (10403, (158, 158, 158)), (10367, (156, 156, 156)), (10102, (154, 154, 154)), (9684, (152, 152, 152)), (8826, (150, 150, 150)), (8196, (148, 148, 148)), (7755, (146, 146, 146)), (7423, (144, 144, 144)), (7049, (142, 142, 142)), (6951, (140, 140, 140)), (6429, (138, 138, 138)), (6314, (136, 136, 136)), (6224, (134, 134, 134)), (6074, (132, 132, 132)), (5606, (130, 130, 130)), (5684, (128, 128, 128)), (5403, (126, 126, 126)), (5326, (124, 124, 124)), (5120, (122, 122, 122)), (5006, (120, 120, 120)), (4892, (118, 118, 118)), (4699, (116, 116, 116)), (4520, (114, 114, 114)), (4299, (112, 112, 112)), (4241, (110, 110, 110)), (4154, (108, 108, 108)), (4115, (106, 106, 106)), (3960, (104, 104, 104)), (3908, (102, 102, 102)), (3941, (100, 100, 100)), (3849, (98, 98, 98)), (3954, (96, 96, 96)), (3980, (94, 94, 94)), (3959, (92, 92, 92)), (4047, (90, 90, 90)), (4066, (88, 88, 88)), (4048, (86, 86, 86)), (3988, (84, 84, 84)), (4040, (82, 82, 82)), (4048, (80, 80, 80)), (4047, (78, 78, 78)), (3980, (76, 76, 76)), (4087, (74, 74, 74)), (4057, (72, 72, 72)), (4009, (70, 70, 70)), (4066, (68, 68, 68)), (4025, (66, 66, 66)), (4175, (64, 64, 64)), (4188, (62, 62, 62)), (4510, (60, 60, 60)), (4318, (58, 58, 58)), (4436, (56, 56, 56)), (4492, (54, 54, 54)), (4588, (52, 52, 52)), (4627, (50, 50, 50)), (4769, (48, 48, 48)), (5007, (46, 46, 46)), (5148, (44, 44, 44)), (5286, (42, 42, 42)), (5553, (40, 40, 40)), (5631, (38, 38, 38)), (5644, (36, 36, 36)), (5628, (34, 34, 34)), (5853, (32, 32, 32)), (5723, (30, 30, 30)), (5204, (28, 28, 28)), (5087, (26, 26, 26)), (5609, (24, 24, 24)), (6505, (22, 22, 22)), (7513, (20, 20, 20)), (7572, (18, 18, 18)), (7812, (16, 16, 16)), (8527, (14, 14, 14)), (9573, (12, 12, 12)), (11689, (10, 10, 10)), (14043, (8, 8, 8)), (14898, (6, 6, 6)), (18575, (4, 4, 4)), (7534, (2, 2, 2)), (740, (0, 0, 0))]\n"
     ]
    }
   ],
   "source": [
    "from PIL import Image  \n",
    "\n",
    "## 이미지에 있는 RGB의 개수를 알려준다.\n",
    "def get_image_colors(image_path):\n",
    "    with Image.open(image_path) as image:\n",
    "        colors = image.getcolors()\n",
    "\n",
    "    return colors \n",
    "\n",
    "if __name__ == \"__main__\":\n",
    "    print(get_image_colors(\"cape_thick_knee.jpg\"))"
   ]
  },
  {
   "cell_type": "code",
   "execution_count": 22,
   "metadata": {},
   "outputs": [],
   "source": [
    "from PIL import Image \n",
    "from PIL import ImageColor\n",
    "\n",
    "def create_image(path, size):       ## 사이즈를 튜플로 받음 ex) (640, 400)\n",
    "    image = Image.new(\"RGBA\", size) # RGB A까지 적어줘야 알파값이 적용된다.\n",
    "\n",
    "    red = ImageColor.getcolor(\"red\", \"RGBA\") # (255, 0, 0)\n",
    "    green = ImageColor.getcolor(\"green\", \"RGBA\")\n",
    "    color = red\n",
    "\n",
    "    count = 0\n",
    "    for y in range(size[1]):     # 세로 한줄 쭉 받음  == size[1] : 400\n",
    "        for x in range(size[0]): # 가로 한줄 쭉 받음  == size[0] : 640\n",
    "            if count == 5:\n",
    "                color = red if red != color else green ## 해석?\n",
    "                count = 0\n",
    "            image.putpixel((x,y), color)\n",
    "            count += 1\n",
    "    image.save(path)\n",
    "\n",
    "\n",
    "if __name__ == \"__main__\":\n",
    "    create_image(\"lines.png\", (150, 150))"
   ]
  },
  {
   "cell_type": "code",
   "execution_count": 25,
   "metadata": {},
   "outputs": [],
   "source": [
    "\n"
   ]
  },
  {
   "cell_type": "code",
   "execution_count": 30,
   "metadata": {},
   "outputs": [],
   "source": [
    "from PIL import Image\n",
    "\n",
    "## 색을 조절 하는 예제 \n",
    "## palette 색 조절 \n",
    "def four_color(input_image_path, output_image_path):\n",
    "    color_image = Image.open(input_image_path)\n",
    "    gray_scale = color_image.convert(\"P\", palette = Image.ADAPTIVE, colors=4)\n",
    "    gray_scale.save(output_image_path)\n",
    "\n",
    "if __name__ == \"__main__\":\n",
    "    four_color(\"monarch_caterpillar.jpg\", \"four_color_caterpillar.png\")"
   ]
  },
  {
   "cell_type": "code",
   "execution_count": 45,
   "metadata": {},
   "outputs": [
    {
     "output_type": "error",
     "ename": "NameError",
     "evalue": "name 'pallete' is not defined",
     "traceback": [
      "\u001b[1;31m---------------------------------------------------------------------------\u001b[0m",
      "\u001b[1;31mNameError\u001b[0m                                 Traceback (most recent call last)",
      "\u001b[1;32m<ipython-input-45-224f5a0c30c0>\u001b[0m in \u001b[0;36m<module>\u001b[1;34m\u001b[0m\n\u001b[0;32m     23\u001b[0m \u001b[1;33m\u001b[0m\u001b[0m\n\u001b[0;32m     24\u001b[0m \u001b[1;32mif\u001b[0m \u001b[0m__name__\u001b[0m \u001b[1;33m==\u001b[0m \u001b[1;34m\"__main__\"\u001b[0m\u001b[1;33m:\u001b[0m\u001b[1;33m\u001b[0m\u001b[1;33m\u001b[0m\u001b[0m\n\u001b[1;32m---> 25\u001b[1;33m     \u001b[0mcreate_sepia\u001b[0m\u001b[1;33m(\u001b[0m\u001b[1;34m\"monarch_caterpillar.jpg\"\u001b[0m\u001b[1;33m,\u001b[0m \u001b[1;34m\"sepia_catterpillar.jpg\"\u001b[0m\u001b[1;33m)\u001b[0m\u001b[1;33m\u001b[0m\u001b[1;33m\u001b[0m\u001b[0m\n\u001b[0m\u001b[0;32m     26\u001b[0m \u001b[1;33m\u001b[0m\u001b[0m\n",
      "\u001b[1;32m<ipython-input-45-224f5a0c30c0>\u001b[0m in \u001b[0;36mcreate_sepia\u001b[1;34m(input_image_path, output_image_path)\u001b[0m\n\u001b[0;32m     13\u001b[0m \u001b[1;32mdef\u001b[0m \u001b[0mcreate_sepia\u001b[0m\u001b[1;33m(\u001b[0m\u001b[0minput_image_path\u001b[0m\u001b[1;33m,\u001b[0m \u001b[0moutput_image_path\u001b[0m\u001b[1;33m)\u001b[0m\u001b[1;33m:\u001b[0m\u001b[1;33m\u001b[0m\u001b[1;33m\u001b[0m\u001b[0m\n\u001b[0;32m     14\u001b[0m     \u001b[0mwhitish\u001b[0m \u001b[1;33m=\u001b[0m \u001b[1;33m(\u001b[0m\u001b[1;36m255\u001b[0m\u001b[1;33m,\u001b[0m \u001b[1;36m240\u001b[0m\u001b[1;33m,\u001b[0m \u001b[1;36m192\u001b[0m\u001b[1;33m)\u001b[0m\u001b[1;33m\u001b[0m\u001b[1;33m\u001b[0m\u001b[0m\n\u001b[1;32m---> 15\u001b[1;33m     \u001b[0msepia\u001b[0m \u001b[1;33m=\u001b[0m \u001b[0mmake_sepia_palette\u001b[0m\u001b[1;33m(\u001b[0m\u001b[0mwhitish\u001b[0m\u001b[1;33m)\u001b[0m\u001b[1;33m\u001b[0m\u001b[1;33m\u001b[0m\u001b[0m\n\u001b[0m\u001b[0;32m     16\u001b[0m \u001b[1;33m\u001b[0m\u001b[0m\n\u001b[0;32m     17\u001b[0m     \u001b[0mcolor_image\u001b[0m \u001b[1;33m=\u001b[0m \u001b[0mImage\u001b[0m\u001b[1;33m.\u001b[0m\u001b[0mopen\u001b[0m\u001b[1;33m(\u001b[0m\u001b[0minput_image_path\u001b[0m\u001b[1;33m)\u001b[0m\u001b[1;33m\u001b[0m\u001b[1;33m\u001b[0m\u001b[0m\n",
      "\u001b[1;32m<ipython-input-45-224f5a0c30c0>\u001b[0m in \u001b[0;36mmake_sepia_palette\u001b[1;34m(color)\u001b[0m\n\u001b[0;32m      9\u001b[0m         \u001b[0mnew_blue\u001b[0m \u001b[1;33m=\u001b[0m \u001b[0mb\u001b[0m \u001b[1;33m*\u001b[0m \u001b[0mi\u001b[0m  \u001b[1;33m//\u001b[0m \u001b[1;36m255\u001b[0m\u001b[1;33m\u001b[0m\u001b[1;33m\u001b[0m\u001b[0m\n\u001b[0;32m     10\u001b[0m         \u001b[0mpalette\u001b[0m\u001b[1;33m.\u001b[0m\u001b[0mextend\u001b[0m\u001b[1;33m(\u001b[0m\u001b[1;33m(\u001b[0m\u001b[0mnew_red\u001b[0m\u001b[1;33m,\u001b[0m \u001b[0mnew_green\u001b[0m\u001b[1;33m,\u001b[0m \u001b[0mnew_blue\u001b[0m\u001b[1;33m)\u001b[0m\u001b[1;33m)\u001b[0m\u001b[1;33m\u001b[0m\u001b[1;33m\u001b[0m\u001b[0m\n\u001b[1;32m---> 11\u001b[1;33m         \u001b[1;32mreturn\u001b[0m \u001b[0mpallete\u001b[0m\u001b[1;33m\u001b[0m\u001b[1;33m\u001b[0m\u001b[0m\n\u001b[0m\u001b[0;32m     12\u001b[0m \u001b[1;33m\u001b[0m\u001b[0m\n\u001b[0;32m     13\u001b[0m \u001b[1;32mdef\u001b[0m \u001b[0mcreate_sepia\u001b[0m\u001b[1;33m(\u001b[0m\u001b[0minput_image_path\u001b[0m\u001b[1;33m,\u001b[0m \u001b[0moutput_image_path\u001b[0m\u001b[1;33m)\u001b[0m\u001b[1;33m:\u001b[0m\u001b[1;33m\u001b[0m\u001b[1;33m\u001b[0m\u001b[0m\n",
      "\u001b[1;31mNameError\u001b[0m: name 'pallete' is not defined"
     ]
    }
   ],
   "source": [
    "from PIL import Image\n",
    "\n",
    "def make_sepia_palette(color):\n",
    "    palette = []\n",
    "    r, g, b = color \n",
    "    for i in range(255):\n",
    "        new_red = r * i   // 255\n",
    "        new_green = g * i // 255\n",
    "        new_blue = b * i  // 255\n",
    "        palette.extend((new_red, new_green, new_blue))\n",
    "    return palette\n",
    "\n",
    "def create_sepia(input_image_path, output_image_path):\n",
    "    whitish = (255, 240, 192)\n",
    "    sepia = make_sepia_palette(whitish)\n",
    "\n",
    "    color_image = Image.open(input_image_path)\n",
    "    gray = color_image.convert(\"L\")\n",
    "    gray.putplatte(sepia)\n",
    "\n",
    "    sepia_image = gray.convert(\"RGB\")\n",
    "    sepia_image.save(output_image_path)\n",
    "\n",
    "if __name__ == \"__main__\":\n",
    "    create_sepia(\"monarch_caterpillar.jpg\", \"sepia_catterpillar.jpg\")\n",
    "\n"
   ]
  },
  {
   "cell_type": "code",
   "execution_count": null,
   "metadata": {},
   "outputs": [],
   "source": []
  }
 ]
}