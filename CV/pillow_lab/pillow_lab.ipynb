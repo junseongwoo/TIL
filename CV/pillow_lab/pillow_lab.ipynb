{
 "metadata": {
  "language_info": {
   "codemirror_mode": {
    "name": "ipython",
    "version": 3
   },
   "file_extension": ".py",
   "mimetype": "text/x-python",
   "name": "python",
   "nbconvert_exporter": "python",
   "pygments_lexer": "ipython3",
   "version": "3.9.4"
  },
  "orig_nbformat": 2,
  "kernelspec": {
   "name": "python394jvsc74a57bd06b8a1cc3a657cd810e825948104d1f871caac32086ff40b19505c96e2383377f",
   "display_name": "Python 3.9.4 64-bit ('venv_pillow')"
  },
  "metadata": {
   "interpreter": {
    "hash": "6b8a1cc3a657cd810e825948104d1f871caac32086ff40b19505c96e2383377f"
   }
  }
 },
 "nbformat": 4,
 "nbformat_minor": 2,
 "cells": [
  {
   "source": [
    "pillow에서 가장 중심 모듈은 Image라는 모듈!\n",
    "\n",
    "이 모듈을 통해서 사진을 불러오고 처리를 할 수 있습니다!"
   ],
   "cell_type": "markdown",
   "metadata": {}
  },
  {
   "source": [
    "pillow가 지원하는 주요 이미지 형식\n",
    "\n",
    "- BMP\n",
    "- GIF\n",
    "- ICO\n",
    "- JPEG\n",
    "- PNG \n",
    "- TIFF"
   ],
   "cell_type": "markdown",
   "metadata": {}
  },
  {
   "cell_type": "code",
   "execution_count": 8,
   "metadata": {},
   "outputs": [
    {
     "output_type": "execute_result",
     "data": {
      "text/plain": [
       "711"
      ]
     },
     "metadata": {},
     "execution_count": 8
    }
   ],
   "source": [
    "from PIL import Image\n",
    "\n",
    "image = Image.open(\"dog.png\")  ## 이미지를 읽음\n",
    "image.show(\"dog\")              ## 읽은 이미지를 띄워줌 \n",
    "image.width"
   ]
  },
  {
   "cell_type": "code",
   "execution_count": null,
   "metadata": {},
   "outputs": [],
   "source": [
    "dir(image)"
   ]
  },
  {
   "cell_type": "code",
   "execution_count": 9,
   "metadata": {},
   "outputs": [
    {
     "output_type": "execute_result",
     "data": {
      "text/plain": [
       "(711, 534)"
      ]
     },
     "metadata": {},
     "execution_count": 9
    }
   ],
   "source": [
    "image.size"
   ]
  },
  {
   "cell_type": "code",
   "execution_count": 10,
   "metadata": {},
   "outputs": [],
   "source": [
    "width, height = image.size"
   ]
  },
  {
   "cell_type": "code",
   "execution_count": 11,
   "metadata": {},
   "outputs": [
    {
     "output_type": "execute_result",
     "data": {
      "text/plain": [
       "711"
      ]
     },
     "metadata": {},
     "execution_count": 11
    }
   ],
   "source": [
    "width"
   ]
  },
  {
   "cell_type": "code",
   "execution_count": 12,
   "metadata": {},
   "outputs": [
    {
     "output_type": "execute_result",
     "data": {
      "text/plain": [
       "534"
      ]
     },
     "metadata": {},
     "execution_count": 12
    }
   ],
   "source": [
    "height"
   ]
  },
  {
   "cell_type": "code",
   "execution_count": 13,
   "metadata": {},
   "outputs": [
    {
     "output_type": "execute_result",
     "data": {
      "text/plain": [
       "'dog.png'"
      ]
     },
     "metadata": {},
     "execution_count": 13
    }
   ],
   "source": [
    "image.filename"
   ]
  },
  {
   "cell_type": "code",
   "execution_count": 14,
   "metadata": {},
   "outputs": [
    {
     "output_type": "execute_result",
     "data": {
      "text/plain": [
       "'PNG'"
      ]
     },
     "metadata": {},
     "execution_count": 14
    }
   ],
   "source": [
    "image.format"
   ]
  },
  {
   "cell_type": "code",
   "execution_count": 15,
   "metadata": {},
   "outputs": [
    {
     "output_type": "execute_result",
     "data": {
      "text/plain": [
       "'Portable network graphics'"
      ]
     },
     "metadata": {},
     "execution_count": 15
    }
   ],
   "source": [
    "image.format_description"
   ]
  },
  {
   "cell_type": "code",
   "execution_count": 16,
   "metadata": {},
   "outputs": [
    {
     "output_type": "stream",
     "name": "stdout",
     "text": [
      "Converting dog.png from .png to .jpg\n"
     ]
    }
   ],
   "source": [
    "import pathlib\n",
    "\n",
    "from PIL import Image\n",
    "\n",
    "def image_converter(input_file_path, output_file_path):\n",
    "    image = Image.open(input_file_path)\n",
    "    image.save(output_file_path)\n",
    "    original_suffix = pathlib.Path(input_file_path).suffix\n",
    "    new_suffix = pathlib.Path(output_file_path).suffix\n",
    "    print(f\"Converting {input_file_path} from {original_suffix} \"\n",
    "          f\"to {new_suffix}\")\n",
    "\n",
    "if __name__ == \"__main__\":  ## __name__이라는 변수의 값이 __main__이라면 아래의 코드를 실행하라.\n",
    "    image_converter(\"dog.png\", \"dog.jpg\")"
   ]
  },
  {
   "cell_type": "code",
   "execution_count": 26,
   "metadata": {},
   "outputs": [],
   "source": [
    "import pathlib \n",
    "\n",
    "from PIL import Image\n",
    "\n",
    "def image_quality(input_file_path, output_file_path, quality):\n",
    "    image = Image.open(input_file_path)\n",
    "    image.save(output_file_path, quality=quality, optimize=True)\n",
    "\n",
    "if __name__ == \"__main__\": # __ : 둔더 double under   @ : 데코라이터 (decorater)\n",
    "    image_quality(\"dog.jpg\", \"dog_compressed.jpg\", quality=50)\n"
   ]
  },
  {
   "cell_type": "code",
   "execution_count": 28,
   "metadata": {},
   "outputs": [
    {
     "output_type": "execute_result",
     "data": {
      "text/plain": [
       "(711, 534)"
      ]
     },
     "metadata": {},
     "execution_count": 28
    }
   ],
   "source": [
    "image = Image.open(\"dog_compressed.png\")\n",
    "image.size"
   ]
  },
  {
   "cell_type": "code",
   "execution_count": 29,
   "metadata": {},
   "outputs": [],
   "source": [
    "import pathlib \n",
    "\n",
    "from PIL import Image\n",
    "\n",
    "def image_converter(input_file_path, output_file_path, dpi):\n",
    "    image = Image.open(input_file_path)\n",
    "    image.save(output_file_path, dpi=dpi)\n",
    "\n",
    "if __name__ == \"__main__\": # __ : 둔더 double under   @ : 데코라이터 (decorater)\n",
    "    image_converter(\"dog.jpg\", \"dog_dpi.jpg\", dpi=(36,36))"
   ]
  },
  {
   "source": [
    "pillow 파일을 읽어보는 방법이 여러 개 존재\n",
    "\n",
    "1. context manager를 사용하는 방법\n",
    "2. 메모리에서 이미지 데이터를 읽어오는 방법 \n",
    "3. 압축파일에서 이미지를 불러오는 것 "
   ],
   "cell_type": "markdown",
   "metadata": {}
  },
  {
   "cell_type": "code",
   "execution_count": 33,
   "metadata": {},
   "outputs": [],
   "source": [
    "from PIL import Image\n",
    "\n",
    "#with을 쓰고 처리를 하면 메모리에서 깔끔하게 사라짐\n",
    "with Image.open(\"dog.jpg\") as image: \n",
    "    image.show(\"dog\")"
   ]
  },
  {
   "cell_type": "code",
   "execution_count": 37,
   "metadata": {},
   "outputs": [],
   "source": [
    "import io\n",
    "import urllib.request\n",
    "\n",
    "from PIL import Image\n",
    "\n",
    "url = \"https://post-phinf.pstatic.net/MjAxOTA3MDFfMTIw/MDAxNTYxOTY5MTQzMjkw.0BKOVWs2ty93XUHkK2lqreULtpbLQ-KdidVOdwxAMj4g.fZKq1DYDs0GsoOM09gIa9ne1uE616oYecFToN6QGNu8g.JPEG/%EB%AC%B4%EC%A0%9C-6_%EB%B3%B5%EC%82%AC.jpg?type=w1200\"\n",
    "f = urllib.request.urlopen(url)\n",
    "data = f.read()\n",
    "\n",
    "with Image.open(io.BytesIO(data)) as image:  ## BytesIO로 data를 pillow가 읽을 수 있게 변형 \n",
    "    image.show(\"다운받은 rain\")"
   ]
  },
  {
   "cell_type": "code",
   "execution_count": null,
   "metadata": {},
   "outputs": [],
   "source": [
    "form PIL import Image, TarIO\n",
    "\n",
    "fobj = TarIO.TarIO(\"flower.tar\", \"flower.jpg\")\n",
    "image = Image.open(fobj)\n",
    "image.show()"
   ]
  },
  {
   "source": [
    "# 주피터 노트북의 셀을 실행하는 방법 3가지\n",
    "\n",
    "* Shifr + Enter\n",
    "* Ctrl + Enter\n",
    "* Alt + Enter"
   ],
   "cell_type": "markdown",
   "metadata": {}
  },
  {
   "cell_type": "code",
   "execution_count": 40,
   "metadata": {},
   "outputs": [],
   "source": [
    "from PIL import Image \n",
    "\n",
    "# 섬네일 만들기\n",
    "def create_thumbnail(input_file_path, thumbnail_path, thumbnail_size):\n",
    "    with Image.open(input_file_path) as image :\n",
    "        image.thumbnail(thumbnail_size)\n",
    "        image.save(thumbnail_path, format=\"JPEG\")\n",
    "\n",
    "if __name__ == \"__main__\":\n",
    "    create_thumbnail(\"dog.jpg\", \"dog.thumbnail.jpg\", (128,128))\n",
    "    "
   ]
  },
  {
   "cell_type": "code",
   "execution_count": 41,
   "metadata": {},
   "outputs": [
    {
     "output_type": "error",
     "ename": "IndentationError",
     "evalue": "unindent does not match any outer indentation level (<tokenize>, line 19)",
     "traceback": [
      "\u001b[1;36m  File \u001b[1;32m\"<tokenize>\"\u001b[1;36m, line \u001b[1;32m19\u001b[0m\n\u001b[1;33m    ]\u001b[0m\n\u001b[1;37m    ^\u001b[0m\n\u001b[1;31mIndentationError\u001b[0m\u001b[1;31m:\u001b[0m unindent does not match any outer indentation level\n"
     ]
    }
   ],
   "source": [
    "import io\n",
    "import os\n",
    "import PySimpleGUI as sg\n",
    "from PIL import Image\n",
    "\n",
    "# (튜플)소괄호 {딕셔너리}중괄호 [리스트]대괄호 : 데이터 집합들을 만듦!\n",
    "file_type = [(\"JPEG (*.jpg\"), \"*.jpg\"), \n",
    "(\"All files (*.*)\", \"*.*\")]\n",
    "\n",
    "def main():\n",
    "    layout = [\n",
    "        [sg.Image(key=\"-IMAGE-\", size=(400,400))],\n",
    "        [\n",
    "            sg.Text(\"Image File\")\n",
    "            sg.Input(size=(25, 1), key= \"-File-\"),\n",
    "            sg.FileBrowse(file_types = file_types),\n",
    "            sg.Button(\"Load Image\"),\n",
    "        ]\n",
    "    ]\n",
    "\n",
    "    window = sg.Window(\"이미지 뷰어\", layout)\n",
    "\n",
    "    while True:\n",
    "        event, values = window.read()\n",
    "        if event == \"Exit\" or event == sg.WIN_CLOSED:\n",
    "            break\n",
    "        if event == \"Load Image\":\n",
    "            filename = values[\"-FILE-\"]\n",
    "            if os.path.exists(filename):\n",
    "                image = Image.open(values[\"-FILE\"])\n",
    "                image.thumbnail((400, 400))\n",
    "                bio = io.ByteIO()\n",
    "                image.save(bio, format=\"PNG\")\n",
    "                window[\"-IMAGE-\"].update(date=bio.getvalue(), size=(400,400))\n",
    "\n",
    "    window.close()\n",
    "\n",
    "    if __name__ == \"__main__\":\n",
    "        main()\n"
   ]
  },
  {
   "cell_type": "code",
   "execution_count": null,
   "metadata": {},
   "outputs": [],
   "source": []
  }
 ]
}