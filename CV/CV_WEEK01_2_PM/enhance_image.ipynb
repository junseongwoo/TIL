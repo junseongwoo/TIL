{
 "metadata": {
  "language_info": {
   "codemirror_mode": {
    "name": "ipython",
    "version": 3
   },
   "file_extension": ".py",
   "mimetype": "text/x-python",
   "name": "python",
   "nbconvert_exporter": "python",
   "pygments_lexer": "ipython3",
   "version": "3.9.4"
  },
  "orig_nbformat": 2,
  "kernelspec": {
   "name": "python394jvsc74a57bd09b5afc9a0ec37c8bc8ef7fb0a289d6077aaa34e4ee4e11c7829d46840bea92d2",
   "display_name": "Python 3.9.4 64-bit ('pillow_lab_venv')"
  },
  "metadata": {
   "interpreter": {
    "hash": "9b5afc9a0ec37c8bc8ef7fb0a289d6077aaa34e4ee4e11c7829d46840bea92d2"
   }
  }
 },
 "nbformat": 4,
 "nbformat_minor": 2,
 "cells": [
  {
   "cell_type": "code",
   "execution_count": null,
   "metadata": {},
   "outputs": [],
   "source": [
    "# ImageEnhance 모듈이 존재 : 이미지를 개선시켜주는 모듈\n",
    "# enhance() 메소드를 사용\n",
    "#\n",
    "# 1) 색 균형 조정\n",
    "# 2) 이미지 음영 조정\n",
    "# 3) 이미지의 발전\n",
    "# 4) 이미지 선명도 조정"
   ]
  },
  {
   "cell_type": "code",
   "execution_count": 7,
   "metadata": {},
   "outputs": [],
   "source": [
    "## 색 균형 (Color Blance)\n",
    "\n",
    "from PIL import Image \n",
    "from PIL import ImageEnhance\n",
    "\n",
    "def enhance_color(image_path, enhance_factor, output_path):\n",
    "    image = Image.open(image_path)\n",
    "    enhancer = ImageEnhance.Color(image) ## 이미지에서 색을 조정하겠다\n",
    "    new_image = enhancer.enhance(enhance_factor)\n",
    "    new_image.save(output_path)\n",
    "\n",
    "# factor 값은 0.0~ 1.0 사이의 값을 가진다\n",
    "# 0.0 : 흑백 ~ 1.0 : 원래 값\n",
    "if __name__ == \"__main__\":\n",
    "    enhance_color(\"flowers_dallas.jpg\", 0.5, \"enhanced_flowers_dallas.jpg\")"
   ]
  },
  {
   "cell_type": "code",
   "execution_count": 6,
   "metadata": {},
   "outputs": [],
   "source": [
    "# Image Contrast\n",
    "\n",
    "from PIL import Image \n",
    "from PIL import ImageEnhance\n",
    "\n",
    "def enhance_contrast(image_path, enhance_factor, output_path):\n",
    "    image = Image.open(image_path)\n",
    "    enhancer = ImageEnhance.Contrast(image)\n",
    "    new_image = enhancer.enhance(enhance_factor)\n",
    "    new_image.save(output_path)\n",
    "\n",
    "# factor 값은 0.0~ 1.0 사이의 값을 가진다\n",
    "\n",
    "if __name__ == \"__main__\":\n",
    "    enhance_contrast(\"flowers_dallas.jpg\", 0.1, \"enhanced_contrast_flowers_dallas.jpg\")"
   ]
  },
  {
   "cell_type": "code",
   "execution_count": 9,
   "metadata": {},
   "outputs": [],
   "source": [
    "# Image Brightness \n",
    "# 이미지 밝기 조절 \n",
    "\n",
    "from PIL import Image \n",
    "from PIL import ImageEnhance\n",
    "\n",
    "def enhance_brightness(image_path, enhance_factor, output_path):\n",
    "    image = Image.open(image_path)\n",
    "    enhancer = ImageEnhance.Brightness(image)\n",
    "    new_image = enhancer.enhance(enhance_factor)\n",
    "    new_image.save(output_path)\n",
    "\n",
    "# factor 값은 0.0~ 1.0 사이의 값을 가진다\n",
    "\n",
    "if __name__ == \"__main__\":\n",
    "    enhance_brightness(\"flowers_dallas.jpg\", 0.3, \"enhanced_brightness_flowers_dallas.jpg\")"
   ]
  },
  {
   "cell_type": "code",
   "execution_count": 15,
   "metadata": {},
   "outputs": [],
   "source": [
    "# image sharpness \n",
    "# 선명도 조절\n",
    "\n",
    "from PIL import Image \n",
    "from PIL import ImageEnhance\n",
    "\n",
    "def enhance_sharpness(image_path, enhance_factor, output_path):\n",
    "    image = Image.open(image_path)\n",
    "    enhancer = ImageEnhance.Sharpness(image)\n",
    "    new_image = enhancer.enhance(enhance_factor)\n",
    "    new_image.save(output_path)\n",
    "\n",
    "# factor 값은 0.0~ 1.0 사이의 값을 가진다\n",
    "\n",
    "if __name__ == \"__main__\":\n",
    "    enhance_sharpness(\"flowers_dallas.jpg\", 3.0, \"enhanced_sharpness_flowers_dallas.jpg\")"
   ]
  },
  {
   "cell_type": "code",
   "execution_count": null,
   "metadata": {},
   "outputs": [],
   "source": []
  }
 ]
}