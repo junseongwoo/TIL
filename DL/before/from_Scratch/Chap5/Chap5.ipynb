{
 "cells": [
  {
   "cell_type": "code",
   "execution_count": 1,
   "source": [
    "class MulLayer:\r\n",
    "    # 인스턴스 변수 x와 y 초기화 \r\n",
    "    # forward 입력시 변수를 저장하기 위해 사용 \r\n",
    "    def __init__(self):\r\n",
    "        self.x = None\r\n",
    "        self.y = None \r\n",
    "\r\n",
    "    def forward(self, x, y):\r\n",
    "        # x, y를 인수를 받으면 두 인수를 곱한 out을 출력으로 줌 \r\n",
    "        self.x = x \r\n",
    "        self.y = y \r\n",
    "        out = x * y \r\n",
    "\r\n",
    "        return out \r\n",
    "    \r\n",
    "    def backward(self, dout):\r\n",
    "        # 상류(앞)에서 들어온 미분 값 dout에 데해 순전파 때의 값을 서로 바꿔서 곱하고 하류로 흘림 \r\n",
    "        dx = dout * self.y  # x와 y을 바꾸는 작업\r\n",
    "        dy = dout * self.x \r\n",
    "\r\n",
    "        return dx, dy"
   ],
   "outputs": [],
   "metadata": {}
  },
  {
   "cell_type": "code",
   "execution_count": 2,
   "source": [
    "# 그림 5 - 16 구현 \r\n",
    "apple = 100\r\n",
    "apple_num = 2\r\n",
    "apple_tax = 1.1 \r\n",
    "\r\n",
    "mul_apple_layer = MulLayer()\r\n",
    "mul_tax_layer = MulLayer()\r\n",
    "\r\n",
    "mul_apple_price = mul_apple_layer.forward(apple, apple_num)\r\n",
    "mul_apple_tax = mul_tax_layer.forward(mul_apple_price, apple_tax) \r\n",
    "\r\n",
    "print(mul_apple_tax)"
   ],
   "outputs": [
    {
     "output_type": "stream",
     "name": "stdout",
     "text": [
      "220.00000000000003\n"
     ]
    }
   ],
   "metadata": {}
  },
  {
   "cell_type": "code",
   "execution_count": 3,
   "source": [
    "dprice = 1 \r\n",
    "\r\n",
    "dapple_price, dtax = mul_tax_layer.backward(dprice)\r\n",
    "dapple, dapple_num = mul_apple_layer.backward(dapple_price)\r\n",
    "\r\n",
    "print(dapple, dapple_num, dtax)"
   ],
   "outputs": [
    {
     "output_type": "stream",
     "name": "stdout",
     "text": [
      "2.2 110.00000000000001 200\n"
     ]
    }
   ],
   "metadata": {}
  },
  {
   "cell_type": "code",
   "execution_count": 4,
   "source": [
    "class AddLayer():\r\n",
    "    def __init__(self):\r\n",
    "        pass \r\n",
    "\r\n",
    "    def forward(self, x, y):\r\n",
    "        out = x + y \r\n",
    "\r\n",
    "        return out \r\n",
    "\r\n",
    "    def backward(self, dout):\r\n",
    "        dx = dout * 1 \r\n",
    "        dy = dout * 1\r\n",
    "\r\n",
    "        return dx, dy "
   ],
   "outputs": [],
   "metadata": {}
  },
  {
   "cell_type": "code",
   "execution_count": 6,
   "source": [
    "# 그림 5 - 17 구현 \r\n",
    "\r\n",
    "apple_num = 2 \r\n",
    "apple = 100 \r\n",
    "\r\n",
    "orange_num = 3\r\n",
    "orange = 150 \r\n",
    "\r\n",
    "tax = 1.1 \r\n",
    "\r\n",
    "mul_apple_layer = MulLayer()\r\n",
    "mul_orange_layer = MulLayer() \r\n",
    "\r\n",
    "add_apple_orange_layer = AddLayer()\r\n",
    "\r\n",
    "pirce_tax_layer = MulLayer()"
   ],
   "outputs": [],
   "metadata": {}
  },
  {
   "cell_type": "code",
   "execution_count": 9,
   "source": [
    "# 순전파 \r\n",
    "\r\n",
    "apple_price = mul_apple_layer.forward(apple_num, apple)\r\n",
    "orange_price = mul_orange_layer.forward(orange, orange_num)\r\n",
    "\r\n",
    "add_apple_orange_price = add_apple_orange_layer.forward(apple_price, orange_price)\r\n",
    "\r\n",
    "all_price = pirce_tax_layer.forward(add_apple_orange_price, tax)\r\n",
    "\r\n",
    "print(all_price)"
   ],
   "outputs": [
    {
     "output_type": "stream",
     "name": "stdout",
     "text": [
      "715.0000000000001\n"
     ]
    }
   ],
   "metadata": {}
  },
  {
   "cell_type": "code",
   "execution_count": 11,
   "source": [
    "# 역전파 \r\n",
    "dprice = 1\r\n",
    "\r\n",
    "d_all_price, dtax = pirce_tax_layer.backward(dprice) \r\n",
    "dapple_price, dorange_price = add_apple_orange_layer.backward(d_all_price) \r\n",
    "\r\n",
    "dapple_num, dapple = mul_apple_layer.backward(dapple_price)\r\n",
    "dorange, dorange_num = mul_orange_layer.backward(dorange_price)\r\n",
    "\r\n",
    "print(dapple_num, dapple, dorange, dorange_num, dtax)"
   ],
   "outputs": [
    {
     "output_type": "stream",
     "name": "stdout",
     "text": [
      "110.00000000000001 2.2 3.3000000000000003 165.0 650\n"
     ]
    }
   ],
   "metadata": {}
  },
  {
   "cell_type": "code",
   "execution_count": null,
   "source": [],
   "outputs": [],
   "metadata": {}
  }
 ],
 "metadata": {
  "orig_nbformat": 4,
  "language_info": {
   "name": "python",
   "version": "3.9.5",
   "mimetype": "text/x-python",
   "codemirror_mode": {
    "name": "ipython",
    "version": 3
   },
   "pygments_lexer": "ipython3",
   "nbconvert_exporter": "python",
   "file_extension": ".py"
  },
  "kernelspec": {
   "name": "python3",
   "display_name": "Python 3.9.5 64-bit ('venv': venv)"
  },
  "interpreter": {
   "hash": "f892bdf6aaf6a0079611b93749c8a0aa100a791d5095930370274196da5611a3"
  }
 },
 "nbformat": 4,
 "nbformat_minor": 2
}