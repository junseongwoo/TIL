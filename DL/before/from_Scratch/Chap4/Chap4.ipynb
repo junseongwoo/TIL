{
 "cells": [
  {
   "cell_type": "code",
   "execution_count": 1,
   "source": [
    "import numpy as np"
   ],
   "outputs": [],
   "metadata": {}
  },
  {
   "cell_type": "code",
   "execution_count": 2,
   "source": [
    "# 손실함수 구하는 것\r\n",
    "# 오차 제곱합 \r\n",
    "# y : 출력 (신경망이 추정한 값)\r\n",
    "# t : 정답 레이블\r\n",
    "def sum_squares_error(y, t):\r\n",
    "    return 0.5 * np.sum((y-t)**2) "
   ],
   "outputs": [],
   "metadata": {}
  },
  {
   "cell_type": "code",
   "execution_count": 3,
   "source": [
    "t = [0, 0, 1, 0, 0, 0, 0, 0, 0, 0]\r\n",
    "y1 = [0.1, 0.05, 0.6, 0.0, 0.05, 0.1, 0.0, 0.1, 0.0, 0.0]\r\n",
    "y2 = [0.1, 0.05, 0.1, 0.0, 0.05, 0.1, 0.0, 0.6, 0.0, 0.0]\r\n",
    "\r\n",
    "loss1 = sum_squares_error(np.array(y1), np.array(t))\r\n",
    "loss2 = sum_squares_error(np.array(y2), np.array(t))\r\n",
    "\r\n",
    "loss1, loss2"
   ],
   "outputs": [
    {
     "output_type": "execute_result",
     "data": {
      "text/plain": [
       "(0.09750000000000003, 0.5975)"
      ]
     },
     "metadata": {},
     "execution_count": 3
    }
   ],
   "metadata": {}
  },
  {
   "cell_type": "code",
   "execution_count": 4,
   "source": [
    "# 교차 엔트로피 오차 : Cross entropy error : CEE\r\n",
    "# delta 더한 이유 : y가 0일 때 마이너스 무한대인 -inf가 되어 계산을 진행 할 수 없기때문에 최소 값을 만들어 놓음\r\n",
    "def CEE(y, t):\r\n",
    "    delta = 1e-7\r\n",
    "    return -np.sum(t * np.log(y + delta))"
   ],
   "outputs": [],
   "metadata": {}
  },
  {
   "cell_type": "code",
   "execution_count": 5,
   "source": [
    "t = [0, 0, 1, 0, 0, 0, 0, 0, 0, 0]\r\n",
    "y1 = [0.1, 0.05, 0.6, 0.0, 0.05, 0.1, 0.0, 0.1, 0.0, 0.0]\r\n",
    "y2 = [0.1, 0.05, 0.1, 0.0, 0.05, 0.1, 0.0, 0.6, 0.0, 0.0]\r\n",
    "\r\n",
    "loss1 = CEE(np.array(y1), np.array(t))\r\n",
    "loss2 = CEE(np.array(y2), np.array(t))\r\n",
    "\r\n",
    "loss1, loss2"
   ],
   "outputs": [
    {
     "output_type": "execute_result",
     "data": {
      "text/plain": [
       "(0.510825457099338, 2.302584092994546)"
      ]
     },
     "metadata": {},
     "execution_count": 5
    }
   ],
   "metadata": {}
  },
  {
   "cell_type": "code",
   "execution_count": 6,
   "source": [
    "import sys, os\r\n",
    "sys.path.append(os.pardir)\r\n",
    "import numpy as np \r\n",
    "from dataset.mnist import load_mnist\r\n",
    "\r\n",
    "(x_train, t_train), (x_test, t_test) = load_mnist(normalize = True, one_hot_label = True)\r\n",
    "\r\n",
    "print(x_train.shape)\r\n",
    "print(t_train.shape)"
   ],
   "outputs": [
    {
     "output_type": "stream",
     "name": "stdout",
     "text": [
      "(60000, 784)\n",
      "(60000, 10)\n"
     ]
    }
   ],
   "metadata": {}
  },
  {
   "cell_type": "code",
   "execution_count": 7,
   "source": [
    "# 훈련데이터에서 10장만 무작위로 뽑음 \r\n",
    "\r\n",
    "train_size = x_train.shape[0]\r\n",
    "batch_size = 10\r\n",
    "\r\n",
    "# np.random.choice는 지정한 범위의 수 중에서 무작위로 원하는 개수만 꺼낼수 있다. \r\n",
    "# 즉, train_size : 60000개에서 batch_size : 10개를 무작위로 골라내는 것\r\n",
    "batch_mask = np.random.choice(train_size, batch_size)\r\n",
    "x_batch = x_train[batch_mask] \r\n",
    "t_batch = t_train[batch_mask]\r\n",
    "\r\n",
    "# 데이터의 인덱스로 사용하는 것 \r\n",
    "batch_mask"
   ],
   "outputs": [
    {
     "output_type": "execute_result",
     "data": {
      "text/plain": [
       "array([58460, 34987, 59065, 40807, 39609, 39199,  9570, 23356, 54440,\n",
       "        1693])"
      ]
     },
     "metadata": {},
     "execution_count": 7
    }
   ],
   "metadata": {}
  },
  {
   "cell_type": "code",
   "execution_count": 8,
   "source": [
    "# batch_size 용 교차 엔트로피 오차 \r\n",
    "def CEE(y, t):\r\n",
    "    if y.ndim == 1:\r\n",
    "        t = t.reshape(1, t.size)\r\n",
    "        y = y.reshape(1, y.size)\r\n",
    "\r\n",
    "    batch_size = y.shape[0]\r\n",
    "    return -np.sum(t * np.log(y + 1e-7)) / batch_size"
   ],
   "outputs": [],
   "metadata": {}
  },
  {
   "cell_type": "code",
   "execution_count": 9,
   "source": [
    "## 미분 나쁜 구현 \r\n",
    "## 이유 : h에 너무 작은 값 (0.00000~~~1) 형태는 반올림 오차를 일으킴 \r\n",
    "## 반올림 오차 : 작은 값은 생략되는 것 -> 결과에 오차가 생김 \r\n",
    "def numerical_diff(f, x):\r\n",
    "    h = 10e-50\r\n",
    "    return (f(x+h) - f(x)) / h"
   ],
   "outputs": [],
   "metadata": {}
  },
  {
   "cell_type": "code",
   "execution_count": 10,
   "source": [
    "np.float32(1e-50)"
   ],
   "outputs": [
    {
     "output_type": "execute_result",
     "data": {
      "text/plain": [
       "0.0"
      ]
     },
     "metadata": {},
     "execution_count": 10
    }
   ],
   "metadata": {}
  },
  {
   "cell_type": "code",
   "execution_count": 11,
   "source": [
    "## 개선된 수치 미분\r\n",
    "def numerical_diff(f, x):\r\n",
    "    h = 1e-4 # 0.0001 \r\n",
    "    return (f(x+h) - f(x-h)) / (2*h)"
   ],
   "outputs": [],
   "metadata": {}
  },
  {
   "cell_type": "code",
   "execution_count": 12,
   "source": [
    "def function_1(x):\r\n",
    "    return 0.01*x**2 + 0.1*x"
   ],
   "outputs": [],
   "metadata": {}
  },
  {
   "cell_type": "code",
   "execution_count": 13,
   "source": [
    "import numpy as np\r\n",
    "import matplotlib.pylab as plt\r\n",
    "\r\n",
    "x = np.arange(0.0, 20.0, 0.1) \r\n",
    "y = function_1(x)\r\n",
    "\r\n",
    "plt.xlabel(\"x\")\r\n",
    "plt.ylabel(\"y\")\r\n",
    "plt.plot(x,y)\r\n",
    "plt.show()"
   ],
   "outputs": [
    {
     "output_type": "display_data",
     "data": {
      "text/plain": [
       "<Figure size 432x288 with 1 Axes>"
      ],
      "image/png": "[encoded data removed]"
     },
     "metadata": {
      "needs_background": "light"
     }
    }
   ],
   "metadata": {}
  },
  {
   "cell_type": "code",
   "execution_count": 14,
   "source": [
    "numerical_diff(function_1, 5)"
   ],
   "outputs": [
    {
     "output_type": "execute_result",
     "data": {
      "text/plain": [
       "0.1999999999990898"
      ]
     },
     "metadata": {},
     "execution_count": 14
    }
   ],
   "metadata": {}
  },
  {
   "cell_type": "code",
   "execution_count": 15,
   "source": [
    "numerical_diff(function_1, 10)"
   ],
   "outputs": [
    {
     "output_type": "execute_result",
     "data": {
      "text/plain": [
       "0.2999999999986347"
      ]
     },
     "metadata": {},
     "execution_count": 15
    }
   ],
   "metadata": {}
  },
  {
   "cell_type": "code",
   "execution_count": 16,
   "source": [
    "# 4.3.3 편미분 \r\n",
    "def function_2(x):\r\n",
    "    return x[0]**2 + x[1]**2\r\n",
    "    # 또는 return np.sum(x**2)"
   ],
   "outputs": [],
   "metadata": {}
  },
  {
   "cell_type": "code",
   "execution_count": 17,
   "source": [
    "def function_tmp1(x0):\r\n",
    "    return x0*x0 + 4.0**2.0\r\n",
    "\r\n",
    "numerical_diff(function_tmp1, 3.0)"
   ],
   "outputs": [
    {
     "output_type": "execute_result",
     "data": {
      "text/plain": [
       "6.00000000000378"
      ]
     },
     "metadata": {},
     "execution_count": 17
    }
   ],
   "metadata": {}
  },
  {
   "cell_type": "code",
   "execution_count": 18,
   "source": [
    "def function_tmp2(x1):\r\n",
    "    return 3.0**2.0 + x1*x1\r\n",
    "\r\n",
    "numerical_diff(function_tmp2, 4.0)"
   ],
   "outputs": [
    {
     "output_type": "execute_result",
     "data": {
      "text/plain": [
       "7.999999999999119"
      ]
     },
     "metadata": {},
     "execution_count": 18
    }
   ],
   "metadata": {}
  },
  {
   "cell_type": "code",
   "execution_count": 19,
   "source": [
    "# 4.4 기울기 \r\n",
    "# 앞에서는 편미분 할 때 변수 하나씩 따로 하였다 \r\n",
    "# 한꺼번에 해보겠음 \r\n",
    "\r\n",
    "def numerical_gradient(f, x):\r\n",
    "    h = 1e-4 # 0.0001\r\n",
    "    grad = np.zeros_like(x)\r\n",
    "\r\n",
    "    for idx in range(x.size):\r\n",
    "        tmp_val = x[idx]\r\n",
    "\r\n",
    "        x[idx] = tmp_val + h \r\n",
    "        fxh1 = f(x)\r\n",
    "\r\n",
    "        x[idx] = tmp_val - h \r\n",
    "        fxh2 = f(x)\r\n",
    "\r\n",
    "        grad[idx] = (fxh1 - fxh2) / (2*h) \r\n",
    "        x[idx] = tmp_val \r\n",
    "\r\n",
    "    return grad"
   ],
   "outputs": [],
   "metadata": {}
  },
  {
   "cell_type": "code",
   "execution_count": 20,
   "source": [
    "numerical_gradient(function_2, np.array([3.0, 4.0]))"
   ],
   "outputs": [
    {
     "output_type": "execute_result",
     "data": {
      "text/plain": [
       "array([6., 8.])"
      ]
     },
     "metadata": {},
     "execution_count": 20
    }
   ],
   "metadata": {}
  },
  {
   "cell_type": "code",
   "execution_count": 21,
   "source": [
    "numerical_gradient(function_2, np.array([0.0, 2.0]))"
   ],
   "outputs": [
    {
     "output_type": "execute_result",
     "data": {
      "text/plain": [
       "array([0., 4.])"
      ]
     },
     "metadata": {},
     "execution_count": 21
    }
   ],
   "metadata": {}
  },
  {
   "cell_type": "code",
   "execution_count": 22,
   "source": [
    "numerical_gradient(function_2, np.array([3.0, 0.0]))"
   ],
   "outputs": [
    {
     "output_type": "execute_result",
     "data": {
      "text/plain": [
       "array([6., 0.])"
      ]
     },
     "metadata": {},
     "execution_count": 22
    }
   ],
   "metadata": {}
  },
  {
   "cell_type": "code",
   "execution_count": 23,
   "source": [
    "# 4.4.1 경사 하강법\r\n",
    "# f : 최적화 하려는 함수\r\n",
    "# init_x : 초깃값 \r\n",
    "# lr = 학습률 \r\n",
    "# step_num : 경사하강법 반복 횟수 \r\n",
    "def gradient_descent(f, init_x, lr = 0.01, step_num = 100):\r\n",
    "    x = init_x \r\n",
    "\r\n",
    "    for i in range(step_num):\r\n",
    "        grad = numerical_gradient(f, x)\r\n",
    "        x -= lr * grad\r\n",
    "    \r\n",
    "    return x "
   ],
   "outputs": [],
   "metadata": {}
  },
  {
   "cell_type": "code",
   "execution_count": 24,
   "source": [
    "def fuction_2(x):\r\n",
    "    return x[0]**2 + x[1]**2\r\n",
    "\r\n",
    "init_x = np.array([-3.0, 4.0])\r\n",
    "gradient_descent(function_2, init_x, lr = 0.1, step_num = 100)"
   ],
   "outputs": [
    {
     "output_type": "execute_result",
     "data": {
      "text/plain": [
       "array([-6.11110793e-10,  8.14814391e-10])"
      ]
     },
     "metadata": {},
     "execution_count": 24
    }
   ],
   "metadata": {}
  },
  {
   "cell_type": "code",
   "execution_count": 25,
   "source": [
    "# 학습률이 너무 큰 경우\r\n",
    "init_x = np.array([-3.0 , 4.0])\r\n",
    "gradient_descent(function_2, init_x, lr = 10.0, step_num = 100)"
   ],
   "outputs": [
    {
     "output_type": "execute_result",
     "data": {
      "text/plain": [
       "array([-2.58983747e+13, -1.29524862e+12])"
      ]
     },
     "metadata": {},
     "execution_count": 25
    }
   ],
   "metadata": {}
  },
  {
   "cell_type": "code",
   "execution_count": 26,
   "source": [
    "# 학습률이 너무 작은 경우\r\n",
    "init_x = np.array([-3.0 , 4.0])\r\n",
    "gradient_descent(function_2, init_x, lr = 1e-10, step_num = 100)"
   ],
   "outputs": [
    {
     "output_type": "execute_result",
     "data": {
      "text/plain": [
       "array([-2.99999994,  3.99999992])"
      ]
     },
     "metadata": {},
     "execution_count": 26
    }
   ],
   "metadata": {}
  },
  {
   "cell_type": "code",
   "execution_count": 27,
   "source": [
    "# 간단한 신경망을 통해 실제로 기울기를 구하는 코드\r\n",
    "import sys, os \r\n",
    "sys.path.append(os.pardir)\r\n",
    "import numpy as np\r\n",
    "from common.functions import softmax, cross_entropy_error \r\n",
    "from common.gradient import numerical_gradient\r\n",
    "\r\n",
    "class simpleNet:\r\n",
    "    def __init__(self):\r\n",
    "        self.W = np.random.randn(2, 3) # 형상이 2x3인 가중치 매개변수 하나를 변수로 갖는다. \r\n",
    "\r\n",
    "    def predict(self, x):\r\n",
    "        return np.dot(x, self.W) \r\n",
    "\r\n",
    "    def loss(self, x, t):\r\n",
    "        z = self.predict(x)\r\n",
    "        y = softmax(z)\r\n",
    "        loss = cross_entropy_error(y, t)\r\n",
    "\r\n",
    "        return loss "
   ],
   "outputs": [],
   "metadata": {}
  },
  {
   "cell_type": "code",
   "execution_count": 31,
   "source": [
    "net = simpleNet()\r\n",
    "print(net.W)\r\n",
    "\r\n",
    "x = np.array([0.6, 0.9])\r\n",
    "p = net.predict(x)\r\n",
    "print(p)\r\n",
    "\r\n",
    "np.argmax(p) # 최댓값의 인덱스\r\n",
    "\r\n",
    "t = np.array([0,0,1])\r\n",
    "net.loss(x,t)"
   ],
   "outputs": [
    {
     "output_type": "stream",
     "name": "stdout",
     "text": [
      "[[ 0.8019647   0.04569553 -0.01149229]\n",
      " [ 1.22215702 -0.13943412 -0.56354579]]\n",
      "[ 1.58112014 -0.09807339 -0.51408659]\n"
     ]
    },
    {
     "output_type": "execute_result",
     "data": {
      "text/plain": [
       "2.3649038502462276"
      ]
     },
     "metadata": {},
     "execution_count": 31
    }
   ],
   "metadata": {}
  },
  {
   "cell_type": "code",
   "execution_count": 32,
   "source": [
    "# 앞서 만들었던 simpleNet의 기울기를 구함 \r\n",
    "def f(W): # W는 더미 \r\n",
    "    return net.loss(x, t)\r\n",
    "\r\n",
    "dW = numerical_gradient(f, net.W)   # f는 함수, net.W는 함수 f의 인수 \r\n",
    "print(dW)"
   ],
   "outputs": [
    {
     "output_type": "stream",
     "name": "stdout",
     "text": [
      "[[ 0.45816547  0.08545901 -0.54362448]\n",
      " [ 0.6872482   0.12818852 -0.81543672]]\n"
     ]
    }
   ],
   "metadata": {}
  },
  {
   "cell_type": "code",
   "execution_count": null,
   "source": [],
   "outputs": [],
   "metadata": {}
  },
  {
   "cell_type": "code",
   "execution_count": null,
   "source": [],
   "outputs": [],
   "metadata": {}
  }
 ],
 "metadata": {
  "orig_nbformat": 4,
  "language_info": {
   "name": "python",
   "version": "3.9.5",
   "mimetype": "text/x-python",
   "codemirror_mode": {
    "name": "ipython",
    "version": 3
   },
   "pygments_lexer": "ipython3",
   "nbconvert_exporter": "python",
   "file_extension": ".py"
  },
  "kernelspec": {
   "name": "python3",
   "display_name": "Python 3.9.5 64-bit ('venv': venv)"
  },
  "interpreter": {
   "hash": "f892bdf6aaf6a0079611b93749c8a0aa100a791d5095930370274196da5611a3"
  }
 },
 "nbformat": 4,
 "nbformat_minor": 2
}