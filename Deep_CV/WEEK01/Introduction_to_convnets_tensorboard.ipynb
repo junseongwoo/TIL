{
  "nbformat": 4,
  "nbformat_minor": 0,
  "metadata": {
    "colab": {
      "name": "Introduction_to_convnets_tensorboard.ipynb",
      "provenance": [],
      "collapsed_sections": []
    },
    "kernelspec": {
      "name": "python3",
      "display_name": "Python 3"
    },
    "accelerator": "GPU"
  },
  "cells": [
    {
      "cell_type": "code",
      "metadata": {
        "id": "QwDt7f5OsaDJ",
        "colab": {
          "base_uri": "https://localhost:8080/"
        },
        "outputId": "6cebcb3a-b4e4-4b53-fef6-043bd26a3ce4"
      },
      "source": [
        "%tensorflow_version 1.x"
      ],
      "execution_count": null,
      "outputs": [
        {
          "output_type": "stream",
          "text": [
            "TensorFlow 1.x selected.\n"
          ],
          "name": "stdout"
        }
      ]
    },
    {
      "cell_type": "code",
      "metadata": {
        "id": "SkrUeLrarQB_",
        "colab": {
          "base_uri": "https://localhost:8080/"
        },
        "outputId": "b925590f-7730-4494-fb14-a0c7b276cda0"
      },
      "source": [
        "!pip install -U tensorboardcolab\n",
        "from tensorboardcolab import *"
      ],
      "execution_count": null,
      "outputs": [
        {
          "output_type": "stream",
          "text": [
            "Collecting tensorboardcolab\n",
            "  Downloading https://files.pythonhosted.org/packages/d9/28/97bf50473dc058d26188ef3aae373e56173d24c615fb419705cfffa6875d/tensorboardcolab-0.0.22.tar.gz\n",
            "Building wheels for collected packages: tensorboardcolab\n",
            "  Building wheel for tensorboardcolab (setup.py) ... \u001b[?25l\u001b[?25hdone\n",
            "  Created wheel for tensorboardcolab: filename=tensorboardcolab-0.0.22-cp37-none-any.whl size=3858 sha256=2e7930dfb30199b54f44172ccee20900fb6b15d352bb88c680770e1183cac0b1\n",
            "  Stored in directory: /root/.cache/pip/wheels/c4/aa/a0/3aaf4f1a66adbdab9b7bdd4c96db8ada89eb7cd87200cfdd32\n",
            "Successfully built tensorboardcolab\n",
            "Installing collected packages: tensorboardcolab\n",
            "Successfully installed tensorboardcolab-0.0.22\n"
          ],
          "name": "stdout"
        },
        {
          "output_type": "stream",
          "text": [
            "Using TensorFlow backend.\n"
          ],
          "name": "stderr"
        }
      ]
    },
    {
      "cell_type": "code",
      "metadata": {
        "id": "F4GJ7RStrddg",
        "colab": {
          "base_uri": "https://localhost:8080/"
        },
        "outputId": "3591fe46-d7d4-4fd1-d783-e6eddf1d236e"
      },
      "source": [
        "tbc=TensorBoardColab()"
      ],
      "execution_count": null,
      "outputs": [
        {
          "output_type": "stream",
          "text": [
            "Wait for 8 seconds...\n",
            "TensorBoard link:\n",
            "http://2ef8dcfd36cf.ngrok.io\n"
          ],
          "name": "stdout"
        }
      ]
    },
    {
      "cell_type": "code",
      "metadata": {
        "id": "wEdr1AUaCDzy"
      },
      "source": [
        "import tensorflow.keras"
      ],
      "execution_count": null,
      "outputs": []
    },
    {
      "cell_type": "code",
      "metadata": {
        "id": "p1zaaGwcCHLo"
      },
      "source": [
        "from tensorflow.keras import layers\n",
        "from tensorflow.keras import models\n",
        "\n",
        "n_kernels = 4\n",
        "\n",
        "model = models.Sequential()\n",
        "model.add(layers.Conv2D(n_kernels, (3, 3), activation='relu', input_shape=(28, 28, 1)))\n",
        "model.add(layers.MaxPooling2D((2, 2)))\n",
        "model.add(layers.Conv2D(n_kernels*2, (3, 3), activation='relu'))\n",
        "model.add(layers.MaxPooling2D((2, 2)))\n",
        "model.add(layers.Conv2D(n_kernels*4, (3, 3), activation='relu'))"
      ],
      "execution_count": null,
      "outputs": []
    },
    {
      "cell_type": "code",
      "metadata": {
        "id": "dtfnxYsSCJW_",
        "colab": {
          "base_uri": "https://localhost:8080/"
        },
        "outputId": "57d82eff-358d-41f8-f45c-27d71dae5058"
      },
      "source": [
        "model.summary()"
      ],
      "execution_count": null,
      "outputs": [
        {
          "output_type": "stream",
          "text": [
            "Model: \"sequential_1\"\n",
            "_________________________________________________________________\n",
            "Layer (type)                 Output Shape              Param #   \n",
            "=================================================================\n",
            "conv2d_3 (Conv2D)            (None, 26, 26, 4)         40        \n",
            "_________________________________________________________________\n",
            "max_pooling2d_2 (MaxPooling2 (None, 13, 13, 4)         0         \n",
            "_________________________________________________________________\n",
            "conv2d_4 (Conv2D)            (None, 11, 11, 8)         296       \n",
            "_________________________________________________________________\n",
            "max_pooling2d_3 (MaxPooling2 (None, 5, 5, 8)           0         \n",
            "_________________________________________________________________\n",
            "conv2d_5 (Conv2D)            (None, 3, 3, 16)          1168      \n",
            "=================================================================\n",
            "Total params: 1,504\n",
            "Trainable params: 1,504\n",
            "Non-trainable params: 0\n",
            "_________________________________________________________________\n"
          ],
          "name": "stdout"
        }
      ]
    },
    {
      "cell_type": "code",
      "metadata": {
        "id": "1JTZewCmCKhP"
      },
      "source": [
        "model.add(layers.Flatten())\n",
        "model.add(layers.Dense(16, activation='relu'))\n",
        "model.add(layers.Dense(10, activation='softmax'))"
      ],
      "execution_count": null,
      "outputs": []
    },
    {
      "cell_type": "code",
      "metadata": {
        "id": "u0liAHgRCLtg",
        "colab": {
          "base_uri": "https://localhost:8080/"
        },
        "outputId": "ba1fd01d-85d8-49ca-b6be-35f2b05cb842"
      },
      "source": [
        "model.summary()"
      ],
      "execution_count": null,
      "outputs": [
        {
          "output_type": "stream",
          "text": [
            "Model: \"sequential_1\"\n",
            "_________________________________________________________________\n",
            "Layer (type)                 Output Shape              Param #   \n",
            "=================================================================\n",
            "conv2d_3 (Conv2D)            (None, 26, 26, 4)         40        \n",
            "_________________________________________________________________\n",
            "max_pooling2d_2 (MaxPooling2 (None, 13, 13, 4)         0         \n",
            "_________________________________________________________________\n",
            "conv2d_4 (Conv2D)            (None, 11, 11, 8)         296       \n",
            "_________________________________________________________________\n",
            "max_pooling2d_3 (MaxPooling2 (None, 5, 5, 8)           0         \n",
            "_________________________________________________________________\n",
            "conv2d_5 (Conv2D)            (None, 3, 3, 16)          1168      \n",
            "_________________________________________________________________\n",
            "flatten (Flatten)            (None, 144)               0         \n",
            "_________________________________________________________________\n",
            "dense (Dense)                (None, 16)                2320      \n",
            "_________________________________________________________________\n",
            "dense_1 (Dense)              (None, 10)                170       \n",
            "=================================================================\n",
            "Total params: 3,994\n",
            "Trainable params: 3,994\n",
            "Non-trainable params: 0\n",
            "_________________________________________________________________\n"
          ],
          "name": "stdout"
        }
      ]
    },
    {
      "cell_type": "code",
      "metadata": {
        "id": "slgAIDZbCM3X",
        "colab": {
          "base_uri": "https://localhost:8080/"
        },
        "outputId": "911d56b6-ee56-4ede-d67e-662284ecbea0"
      },
      "source": [
        "from tensorflow.keras.datasets import mnist\n",
        "from tensorflow.keras.utils import to_categorical\n",
        "# one-hot encoding\n",
        "\n",
        "(train_images, train_labels), (test_images, test_labels) = mnist.load_data()\n",
        "# train_images = (60000, 28, 28) --> (60000, 28, 28, 1) 4D-tensor (B, H, W, C)\n",
        "train_images = train_images.reshape((60000, 28, 28, 1))\n",
        "# train_images = np.expand_dims(train_images, axis=-1)\n",
        "\n",
        "# Pixel [0, 255] -> Rescale [0.0, 1.0]\n",
        "train_images = train_images.astype('float32') / 255\n",
        "\n",
        "test_images = test_images.reshape((10000, 28, 28, 1))\n",
        "test_images = test_images.astype('float32') / 255"
      ],
      "execution_count": null,
      "outputs": [
        {
          "output_type": "stream",
          "text": [
            "Downloading data from https://storage.googleapis.com/tensorflow/tf-keras-datasets/mnist.npz\n",
            "11493376/11490434 [==============================] - 0s 0us/step\n"
          ],
          "name": "stdout"
        }
      ]
    },
    {
      "cell_type": "code",
      "metadata": {
        "id": "vhj4FTvc1dne",
        "colab": {
          "base_uri": "https://localhost:8080/"
        },
        "outputId": "59377a47-479a-4e64-ab97-a8fbbf0f7d39"
      },
      "source": [
        "train_labels[0]"
      ],
      "execution_count": null,
      "outputs": [
        {
          "output_type": "execute_result",
          "data": {
            "text/plain": [
              "5"
            ]
          },
          "metadata": {
            "tags": []
          },
          "execution_count": 12
        }
      ]
    },
    {
      "cell_type": "code",
      "metadata": {
        "id": "vVraIIjr1czL"
      },
      "source": [
        "# One-hot encoding: integer -> vector\n",
        "train_labels = to_categorical(train_labels)\n",
        "test_labels = to_categorical(test_labels)"
      ],
      "execution_count": null,
      "outputs": []
    },
    {
      "cell_type": "code",
      "metadata": {
        "id": "gqXWujKm1iTA",
        "colab": {
          "base_uri": "https://localhost:8080/"
        },
        "outputId": "acedfff1-459e-40b1-c345-29891bb9b573"
      },
      "source": [
        "train_labels[0]"
      ],
      "execution_count": null,
      "outputs": [
        {
          "output_type": "execute_result",
          "data": {
            "text/plain": [
              "array([0., 0., 0., 0., 0., 1., 0., 0., 0., 0.], dtype=float32)"
            ]
          },
          "metadata": {
            "tags": []
          },
          "execution_count": 14
        }
      ]
    },
    {
      "cell_type": "code",
      "metadata": {
        "id": "QQkBiKVECOQf",
        "colab": {
          "base_uri": "https://localhost:8080/"
        },
        "outputId": "3fef11b1-9c34-473c-e9ed-6e56bcf84eaf"
      },
      "source": [
        "model.compile(optimizer='rmsprop',\n",
        "              loss='categorical_crossentropy',\n",
        "              metrics=['accuracy'])\n",
        "model.fit(train_images, train_labels, epochs=50, batch_size=64, validation_split=0.1, \n",
        "          callbacks=[TensorBoardColabCallback(tbc)])"
      ],
      "execution_count": null,
      "outputs": [
        {
          "output_type": "stream",
          "text": [
            "Train on 54000 samples, validate on 6000 samples\n",
            "WARNING:tensorflow:From /usr/local/lib/python3.7/dist-packages/tensorboardcolab/core.py:49: The name tf.summary.FileWriter is deprecated. Please use tf.compat.v1.summary.FileWriter instead.\n",
            "\n",
            "WARNING:tensorflow:From /tensorflow-1.15.2/python3.7/keras/callbacks/tensorboard_v1.py:200: The name tf.summary.merge_all is deprecated. Please use tf.compat.v1.summary.merge_all instead.\n",
            "\n",
            "Epoch 1/50\n",
            "53952/54000 [============================>.] - ETA: 0s - loss: 0.5195 - acc: 0.8374WARNING:tensorflow:From /usr/local/lib/python3.7/dist-packages/tensorboardcolab/callbacks.py:51: The name tf.Summary is deprecated. Please use tf.compat.v1.Summary instead.\n",
            "\n",
            "54000/54000 [==============================] - 7s 137us/sample - loss: 0.5191 - acc: 0.8376 - val_loss: 0.1551 - val_acc: 0.9543\n",
            "Epoch 2/50\n",
            "54000/54000 [==============================] - 4s 69us/sample - loss: 0.1685 - acc: 0.9481 - val_loss: 0.1068 - val_acc: 0.9702\n",
            "Epoch 3/50\n",
            "54000/54000 [==============================] - 4s 67us/sample - loss: 0.1237 - acc: 0.9615 - val_loss: 0.0975 - val_acc: 0.9697\n",
            "Epoch 4/50\n",
            "54000/54000 [==============================] - 4s 67us/sample - loss: 0.1026 - acc: 0.9679 - val_loss: 0.0763 - val_acc: 0.9785\n",
            "Epoch 5/50\n",
            "54000/54000 [==============================] - 4s 66us/sample - loss: 0.0866 - acc: 0.9726 - val_loss: 0.0807 - val_acc: 0.9752\n",
            "Epoch 6/50\n",
            "54000/54000 [==============================] - 4s 65us/sample - loss: 0.0763 - acc: 0.9766 - val_loss: 0.0762 - val_acc: 0.9783\n",
            "Epoch 7/50\n",
            "54000/54000 [==============================] - 4s 66us/sample - loss: 0.0704 - acc: 0.9779 - val_loss: 0.0615 - val_acc: 0.9823\n",
            "Epoch 8/50\n",
            "54000/54000 [==============================] - 3s 64us/sample - loss: 0.0637 - acc: 0.9801 - val_loss: 0.0581 - val_acc: 0.9825\n",
            "Epoch 9/50\n",
            "54000/54000 [==============================] - 4s 67us/sample - loss: 0.0588 - acc: 0.9815 - val_loss: 0.0603 - val_acc: 0.9832\n",
            "Epoch 10/50\n",
            "54000/54000 [==============================] - 4s 67us/sample - loss: 0.0547 - acc: 0.9830 - val_loss: 0.0578 - val_acc: 0.9825\n",
            "Epoch 11/50\n",
            "54000/54000 [==============================] - 4s 68us/sample - loss: 0.0521 - acc: 0.9841 - val_loss: 0.0549 - val_acc: 0.9840\n",
            "Epoch 12/50\n",
            "54000/54000 [==============================] - 4s 68us/sample - loss: 0.0486 - acc: 0.9843 - val_loss: 0.0581 - val_acc: 0.9823\n",
            "Epoch 13/50\n",
            "54000/54000 [==============================] - 4s 68us/sample - loss: 0.0466 - acc: 0.9853 - val_loss: 0.0537 - val_acc: 0.9850\n",
            "Epoch 14/50\n",
            "54000/54000 [==============================] - 4s 67us/sample - loss: 0.0448 - acc: 0.9861 - val_loss: 0.0581 - val_acc: 0.9827\n",
            "Epoch 15/50\n",
            "54000/54000 [==============================] - 4s 68us/sample - loss: 0.0424 - acc: 0.9868 - val_loss: 0.0546 - val_acc: 0.9842\n",
            "Epoch 16/50\n",
            "54000/54000 [==============================] - 4s 68us/sample - loss: 0.0414 - acc: 0.9870 - val_loss: 0.0627 - val_acc: 0.9823\n",
            "Epoch 17/50\n",
            "54000/54000 [==============================] - 4s 68us/sample - loss: 0.0395 - acc: 0.9874 - val_loss: 0.0524 - val_acc: 0.9833\n",
            "Epoch 18/50\n",
            "54000/54000 [==============================] - 4s 67us/sample - loss: 0.0382 - acc: 0.9877 - val_loss: 0.0674 - val_acc: 0.9802\n",
            "Epoch 19/50\n",
            "54000/54000 [==============================] - 4s 68us/sample - loss: 0.0362 - acc: 0.9885 - val_loss: 0.0568 - val_acc: 0.9842\n",
            "Epoch 20/50\n",
            "54000/54000 [==============================] - 4s 68us/sample - loss: 0.0361 - acc: 0.9885 - val_loss: 0.0504 - val_acc: 0.9853\n",
            "Epoch 21/50\n",
            "54000/54000 [==============================] - 4s 68us/sample - loss: 0.0339 - acc: 0.9892 - val_loss: 0.0550 - val_acc: 0.9847\n",
            "Epoch 22/50\n",
            "54000/54000 [==============================] - 4s 68us/sample - loss: 0.0337 - acc: 0.9895 - val_loss: 0.0531 - val_acc: 0.9853\n",
            "Epoch 23/50\n",
            "54000/54000 [==============================] - 4s 68us/sample - loss: 0.0329 - acc: 0.9895 - val_loss: 0.0530 - val_acc: 0.9838\n",
            "Epoch 24/50\n",
            "54000/54000 [==============================] - 4s 68us/sample - loss: 0.0318 - acc: 0.9896 - val_loss: 0.0534 - val_acc: 0.9857\n",
            "Epoch 25/50\n",
            "54000/54000 [==============================] - 4s 67us/sample - loss: 0.0309 - acc: 0.9898 - val_loss: 0.0495 - val_acc: 0.9862\n",
            "Epoch 26/50\n",
            "54000/54000 [==============================] - 4s 67us/sample - loss: 0.0296 - acc: 0.9903 - val_loss: 0.0570 - val_acc: 0.9853\n",
            "Epoch 27/50\n",
            "54000/54000 [==============================] - 4s 68us/sample - loss: 0.0292 - acc: 0.9903 - val_loss: 0.0517 - val_acc: 0.9858\n",
            "Epoch 28/50\n",
            "54000/54000 [==============================] - 4s 68us/sample - loss: 0.0282 - acc: 0.9910 - val_loss: 0.0492 - val_acc: 0.9867\n",
            "Epoch 29/50\n",
            "54000/54000 [==============================] - 4s 67us/sample - loss: 0.0278 - acc: 0.9913 - val_loss: 0.0569 - val_acc: 0.9857\n",
            "Epoch 30/50\n",
            "54000/54000 [==============================] - 4s 69us/sample - loss: 0.0268 - acc: 0.9913 - val_loss: 0.0628 - val_acc: 0.9847\n",
            "Epoch 31/50\n",
            "54000/54000 [==============================] - 4s 68us/sample - loss: 0.0268 - acc: 0.9912 - val_loss: 0.0556 - val_acc: 0.9867\n",
            "Epoch 32/50\n",
            "54000/54000 [==============================] - 4s 68us/sample - loss: 0.0264 - acc: 0.9913 - val_loss: 0.0596 - val_acc: 0.9862\n",
            "Epoch 33/50\n",
            "54000/54000 [==============================] - 4s 69us/sample - loss: 0.0253 - acc: 0.9919 - val_loss: 0.0605 - val_acc: 0.9850\n",
            "Epoch 34/50\n",
            "54000/54000 [==============================] - 4s 68us/sample - loss: 0.0255 - acc: 0.9917 - val_loss: 0.0539 - val_acc: 0.9852\n",
            "Epoch 35/50\n",
            "54000/54000 [==============================] - 4s 66us/sample - loss: 0.0249 - acc: 0.9922 - val_loss: 0.0598 - val_acc: 0.9857\n",
            "Epoch 36/50\n",
            "54000/54000 [==============================] - 4s 67us/sample - loss: 0.0246 - acc: 0.9920 - val_loss: 0.0598 - val_acc: 0.9858\n",
            "Epoch 37/50\n",
            "54000/54000 [==============================] - 4s 67us/sample - loss: 0.0236 - acc: 0.9916 - val_loss: 0.0675 - val_acc: 0.9840\n",
            "Epoch 38/50\n",
            "54000/54000 [==============================] - 4s 67us/sample - loss: 0.0231 - acc: 0.9926 - val_loss: 0.0658 - val_acc: 0.9850\n",
            "Epoch 39/50\n",
            "54000/54000 [==============================] - 4s 66us/sample - loss: 0.0222 - acc: 0.9926 - val_loss: 0.0792 - val_acc: 0.9818\n",
            "Epoch 40/50\n",
            "54000/54000 [==============================] - 4s 67us/sample - loss: 0.0220 - acc: 0.9930 - val_loss: 0.0670 - val_acc: 0.9850\n",
            "Epoch 41/50\n",
            "54000/54000 [==============================] - 4s 66us/sample - loss: 0.0217 - acc: 0.9929 - val_loss: 0.0640 - val_acc: 0.9848\n",
            "Epoch 42/50\n",
            "54000/54000 [==============================] - 4s 67us/sample - loss: 0.0219 - acc: 0.9930 - val_loss: 0.0694 - val_acc: 0.9848\n",
            "Epoch 43/50\n",
            "54000/54000 [==============================] - 4s 68us/sample - loss: 0.0207 - acc: 0.9932 - val_loss: 0.0698 - val_acc: 0.9833\n",
            "Epoch 44/50\n",
            "54000/54000 [==============================] - 4s 68us/sample - loss: 0.0208 - acc: 0.9932 - val_loss: 0.0630 - val_acc: 0.9862\n",
            "Epoch 45/50\n",
            "54000/54000 [==============================] - 4s 70us/sample - loss: 0.0201 - acc: 0.9938 - val_loss: 0.0650 - val_acc: 0.9855\n",
            "Epoch 46/50\n",
            "54000/54000 [==============================] - 4s 67us/sample - loss: 0.0203 - acc: 0.9932 - val_loss: 0.0696 - val_acc: 0.9837\n",
            "Epoch 47/50\n",
            "54000/54000 [==============================] - 4s 69us/sample - loss: 0.0197 - acc: 0.9935 - val_loss: 0.0613 - val_acc: 0.9875\n",
            "Epoch 48/50\n",
            "54000/54000 [==============================] - 4s 70us/sample - loss: 0.0192 - acc: 0.9936 - val_loss: 0.0680 - val_acc: 0.9855\n",
            "Epoch 49/50\n",
            "54000/54000 [==============================] - 4s 69us/sample - loss: 0.0191 - acc: 0.9939 - val_loss: 0.0687 - val_acc: 0.9847\n",
            "Epoch 50/50\n",
            "54000/54000 [==============================] - 4s 70us/sample - loss: 0.0189 - acc: 0.9937 - val_loss: 0.0716 - val_acc: 0.9855\n"
          ],
          "name": "stdout"
        },
        {
          "output_type": "execute_result",
          "data": {
            "text/plain": [
              "<tensorflow.python.keras.callbacks.History at 0x7f4dba393e10>"
            ]
          },
          "metadata": {
            "tags": []
          },
          "execution_count": 15
        }
      ]
    },
    {
      "cell_type": "code",
      "metadata": {
        "id": "iVJy5Za5CSbH",
        "colab": {
          "base_uri": "https://localhost:8080/"
        },
        "outputId": "258cb57b-8050-4401-9777-8616932611ed"
      },
      "source": [
        "test_loss, test_acc = model.evaluate(test_images, test_labels)"
      ],
      "execution_count": null,
      "outputs": [
        {
          "output_type": "stream",
          "text": [
            "10000/10000 [==============================] - 1s 71us/sample - loss: 0.0756 - acc: 0.9833\n"
          ],
          "name": "stdout"
        }
      ]
    },
    {
      "cell_type": "code",
      "metadata": {
        "id": "MDS9TDtXD4Eu",
        "colab": {
          "base_uri": "https://localhost:8080/"
        },
        "outputId": "9463e92a-1e27-4722-c514-1bdae19fb8c1"
      },
      "source": [
        "test_acc"
      ],
      "execution_count": null,
      "outputs": [
        {
          "output_type": "execute_result",
          "data": {
            "text/plain": [
              "0.9833"
            ]
          },
          "metadata": {
            "tags": []
          },
          "execution_count": 17
        }
      ]
    },
    {
      "cell_type": "code",
      "metadata": {
        "id": "vCKGDIVA16-U",
        "colab": {
          "base_uri": "https://localhost:8080/",
          "height": 35
        },
        "outputId": "9d8b226f-7f45-4b26-f3e4-7191ca344704"
      },
      "source": [
        "!ls"
      ],
      "execution_count": null,
      "outputs": [
        {
          "output_type": "stream",
          "text": [
            "Graph  sample_data\n"
          ],
          "name": "stdout"
        }
      ]
    },
    {
      "cell_type": "code",
      "metadata": {
        "id": "MQgViaKmEC9Y",
        "colab": {
          "base_uri": "https://localhost:8080/",
          "height": 35
        },
        "outputId": "9c01dc58-49c4-4512-d94c-bf8e8f61c481"
      },
      "source": [
        "cd Graph"
      ],
      "execution_count": null,
      "outputs": [
        {
          "output_type": "stream",
          "text": [
            "/content/Graph\n"
          ],
          "name": "stdout"
        }
      ]
    },
    {
      "cell_type": "code",
      "metadata": {
        "id": "C3mfMteHEFzc",
        "colab": {
          "base_uri": "https://localhost:8080/",
          "height": 35
        },
        "outputId": "180b48b1-03ee-4cc0-bf40-06ac78f08d8f"
      },
      "source": [
        "!ls"
      ],
      "execution_count": null,
      "outputs": [
        {
          "output_type": "stream",
          "text": [
            "training  validation\n"
          ],
          "name": "stdout"
        }
      ]
    },
    {
      "cell_type": "code",
      "metadata": {
        "id": "xrIThmuREGz4",
        "colab": {
          "base_uri": "https://localhost:8080/",
          "height": 35
        },
        "outputId": "5ad34d19-6418-42b0-9214-ca3e5c2e19fc"
      },
      "source": [
        "cd training"
      ],
      "execution_count": null,
      "outputs": [
        {
          "output_type": "stream",
          "text": [
            "/content/Graph/training\n"
          ],
          "name": "stdout"
        }
      ]
    },
    {
      "cell_type": "code",
      "metadata": {
        "id": "ANJZH2jrEJPo",
        "colab": {
          "base_uri": "https://localhost:8080/",
          "height": 35
        },
        "outputId": "0facbbde-1c39-4324-aa55-d3b44f0e5b0b"
      },
      "source": [
        "!ls"
      ],
      "execution_count": null,
      "outputs": [
        {
          "output_type": "stream",
          "text": [
            "events.out.tfevents.1591620611.aaa198e4e313\n"
          ],
          "name": "stdout"
        }
      ]
    },
    {
      "cell_type": "code",
      "metadata": {
        "id": "9c7uGCcaEJzK"
      },
      "source": [
        "model.save(\"saved.h5\")"
      ],
      "execution_count": null,
      "outputs": []
    },
    {
      "cell_type": "code",
      "metadata": {
        "id": "7YWaQ8FXa4hZ"
      },
      "source": [
        ""
      ],
      "execution_count": null,
      "outputs": []
    }
  ]
}