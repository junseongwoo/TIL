{
  "nbformat": 4,
  "nbformat_minor": 0,
  "metadata": {
    "colab": {
      "name": "image_classification_with_vision_transformer의 사본",
      "provenance": [],
      "collapsed_sections": []
    },
    "environment": {
      "name": "tf2-gpu.2-4.m61",
      "type": "gcloud",
      "uri": "gcr.io/deeplearning-platform-release/tf2-gpu.2-4:m61"
    },
    "kernelspec": {
      "display_name": "Python 3",
      "language": "python",
      "name": "python3"
    },
    "language_info": {
      "codemirror_mode": {
        "name": "ipython",
        "version": 3
      },
      "file_extension": ".py",
      "mimetype": "text/x-python",
      "name": "python",
      "nbconvert_exporter": "python",
      "pygments_lexer": "ipython3",
      "version": "3.7.9"
    },
    "accelerator": "GPU"
  },
  "cells": [
    {
      "cell_type": "markdown",
      "metadata": {
        "id": "8dKyZdgeYKVq"
      },
      "source": [
        "# Image classification with Vision Transformer\n",
        "\n",
        "**Author:** [Khalid Salama](https://www.linkedin.com/in/khalid-salama-24403144/)<br>\n",
        "**Date created:** 2021/01/18<br>\n",
        "**Last modified:** 2021/01/18<br>\n",
        "**Description:** Implementing the Vision Transformer (ViT) model for image classification."
      ]
    },
    {
      "cell_type": "markdown",
      "metadata": {
        "id": "EnJouGrwYKVs"
      },
      "source": [
        "## Introduction\n",
        "\n",
        "This example implements the [Vision Transformer (ViT)](https://arxiv.org/abs/2010.11929)\n",
        "model by Alexey Dosovitskiy et al. for image classification,\n",
        "and demonstrates it on the CIFAR-100 dataset.\n",
        "The ViT model applies the Transformer architecture with self-attention to sequences of\n",
        "image patches, without using convolution layers.\n",
        "\n",
        "This example requires TensorFlow 2.4 or higher, as well as\n",
        "[TensorFlow Addons](https://www.tensorflow.org/addons/overview),\n",
        "which can be installed using the following command:\n",
        "\n",
        "```python\n",
        "pip install -U tensorflow-addons\n",
        "```"
      ]
    },
    {
      "cell_type": "code",
      "metadata": {
        "colab": {
          "base_uri": "https://localhost:8080/"
        },
        "id": "bpQewYpSYgmH",
        "outputId": "297c680b-e660-4911-a05d-2c089232df9b"
      },
      "source": [
        "pip install -U tensorflow-addons"
      ],
      "execution_count": 2,
      "outputs": [
        {
          "output_type": "stream",
          "text": [
            "Collecting tensorflow-addons\n",
            "\u001b[?25l  Downloading https://files.pythonhosted.org/packages/66/4b/e893d194e626c24b3df2253066aa418f46a432fdb68250cde14bf9bb0700/tensorflow_addons-0.13.0-cp37-cp37m-manylinux2010_x86_64.whl (679kB)\n",
            "\r\u001b[K     |▌                               | 10kB 19.0MB/s eta 0:00:01\r\u001b[K     |█                               | 20kB 15.6MB/s eta 0:00:01\r\u001b[K     |█▌                              | 30kB 14.0MB/s eta 0:00:01\r\u001b[K     |██                              | 40kB 13.6MB/s eta 0:00:01\r\u001b[K     |██▍                             | 51kB 6.6MB/s eta 0:00:01\r\u001b[K     |███                             | 61kB 7.7MB/s eta 0:00:01\r\u001b[K     |███▍                            | 71kB 8.2MB/s eta 0:00:01\r\u001b[K     |███▉                            | 81kB 8.6MB/s eta 0:00:01\r\u001b[K     |████▍                           | 92kB 8.9MB/s eta 0:00:01\r\u001b[K     |████▉                           | 102kB 7.2MB/s eta 0:00:01\r\u001b[K     |█████▎                          | 112kB 7.2MB/s eta 0:00:01\r\u001b[K     |█████▉                          | 122kB 7.2MB/s eta 0:00:01\r\u001b[K     |██████▎                         | 133kB 7.2MB/s eta 0:00:01\r\u001b[K     |██████▊                         | 143kB 7.2MB/s eta 0:00:01\r\u001b[K     |███████▎                        | 153kB 7.2MB/s eta 0:00:01\r\u001b[K     |███████▊                        | 163kB 7.2MB/s eta 0:00:01\r\u001b[K     |████████▏                       | 174kB 7.2MB/s eta 0:00:01\r\u001b[K     |████████▊                       | 184kB 7.2MB/s eta 0:00:01\r\u001b[K     |█████████▏                      | 194kB 7.2MB/s eta 0:00:01\r\u001b[K     |█████████▋                      | 204kB 7.2MB/s eta 0:00:01\r\u001b[K     |██████████▏                     | 215kB 7.2MB/s eta 0:00:01\r\u001b[K     |██████████▋                     | 225kB 7.2MB/s eta 0:00:01\r\u001b[K     |███████████                     | 235kB 7.2MB/s eta 0:00:01\r\u001b[K     |███████████▋                    | 245kB 7.2MB/s eta 0:00:01\r\u001b[K     |████████████                    | 256kB 7.2MB/s eta 0:00:01\r\u001b[K     |████████████▌                   | 266kB 7.2MB/s eta 0:00:01\r\u001b[K     |█████████████                   | 276kB 7.2MB/s eta 0:00:01\r\u001b[K     |█████████████▌                  | 286kB 7.2MB/s eta 0:00:01\r\u001b[K     |██████████████                  | 296kB 7.2MB/s eta 0:00:01\r\u001b[K     |██████████████▌                 | 307kB 7.2MB/s eta 0:00:01\r\u001b[K     |███████████████                 | 317kB 7.2MB/s eta 0:00:01\r\u001b[K     |███████████████▍                | 327kB 7.2MB/s eta 0:00:01\r\u001b[K     |████████████████                | 337kB 7.2MB/s eta 0:00:01\r\u001b[K     |████████████████▍               | 348kB 7.2MB/s eta 0:00:01\r\u001b[K     |████████████████▉               | 358kB 7.2MB/s eta 0:00:01\r\u001b[K     |█████████████████▍              | 368kB 7.2MB/s eta 0:00:01\r\u001b[K     |█████████████████▉              | 378kB 7.2MB/s eta 0:00:01\r\u001b[K     |██████████████████▎             | 389kB 7.2MB/s eta 0:00:01\r\u001b[K     |██████████████████▉             | 399kB 7.2MB/s eta 0:00:01\r\u001b[K     |███████████████████▎            | 409kB 7.2MB/s eta 0:00:01\r\u001b[K     |███████████████████▊            | 419kB 7.2MB/s eta 0:00:01\r\u001b[K     |████████████████████▎           | 430kB 7.2MB/s eta 0:00:01\r\u001b[K     |████████████████████▊           | 440kB 7.2MB/s eta 0:00:01\r\u001b[K     |█████████████████████▏          | 450kB 7.2MB/s eta 0:00:01\r\u001b[K     |█████████████████████▊          | 460kB 7.2MB/s eta 0:00:01\r\u001b[K     |██████████████████████▏         | 471kB 7.2MB/s eta 0:00:01\r\u001b[K     |██████████████████████▋         | 481kB 7.2MB/s eta 0:00:01\r\u001b[K     |███████████████████████▏        | 491kB 7.2MB/s eta 0:00:01\r\u001b[K     |███████████████████████▋        | 501kB 7.2MB/s eta 0:00:01\r\u001b[K     |████████████████████████        | 512kB 7.2MB/s eta 0:00:01\r\u001b[K     |████████████████████████▋       | 522kB 7.2MB/s eta 0:00:01\r\u001b[K     |█████████████████████████       | 532kB 7.2MB/s eta 0:00:01\r\u001b[K     |█████████████████████████▌      | 542kB 7.2MB/s eta 0:00:01\r\u001b[K     |██████████████████████████      | 552kB 7.2MB/s eta 0:00:01\r\u001b[K     |██████████████████████████▌     | 563kB 7.2MB/s eta 0:00:01\r\u001b[K     |███████████████████████████     | 573kB 7.2MB/s eta 0:00:01\r\u001b[K     |███████████████████████████▌    | 583kB 7.2MB/s eta 0:00:01\r\u001b[K     |████████████████████████████    | 593kB 7.2MB/s eta 0:00:01\r\u001b[K     |████████████████████████████▍   | 604kB 7.2MB/s eta 0:00:01\r\u001b[K     |█████████████████████████████   | 614kB 7.2MB/s eta 0:00:01\r\u001b[K     |█████████████████████████████▍  | 624kB 7.2MB/s eta 0:00:01\r\u001b[K     |█████████████████████████████▉  | 634kB 7.2MB/s eta 0:00:01\r\u001b[K     |██████████████████████████████▍ | 645kB 7.2MB/s eta 0:00:01\r\u001b[K     |██████████████████████████████▉ | 655kB 7.2MB/s eta 0:00:01\r\u001b[K     |███████████████████████████████▎| 665kB 7.2MB/s eta 0:00:01\r\u001b[K     |███████████████████████████████▉| 675kB 7.2MB/s eta 0:00:01\r\u001b[K     |████████████████████████████████| 686kB 7.2MB/s \n",
            "\u001b[?25hRequirement already satisfied, skipping upgrade: typeguard>=2.7 in /usr/local/lib/python3.7/dist-packages (from tensorflow-addons) (2.7.1)\n",
            "Installing collected packages: tensorflow-addons\n",
            "Successfully installed tensorflow-addons-0.13.0\n"
          ],
          "name": "stdout"
        }
      ]
    },
    {
      "cell_type": "markdown",
      "metadata": {
        "id": "fsj6KXzFYKVs"
      },
      "source": [
        "## Setup"
      ]
    },
    {
      "cell_type": "code",
      "metadata": {
        "id": "plxtsGrxYKVt"
      },
      "source": [
        "import numpy as np\n",
        "import tensorflow as tf\n",
        "from tensorflow import keras\n",
        "from tensorflow.keras import layers\n",
        "import tensorflow_addons as tfa"
      ],
      "execution_count": 3,
      "outputs": []
    },
    {
      "cell_type": "markdown",
      "metadata": {
        "id": "O0FxWMtZYKVt"
      },
      "source": [
        "## Prepare the data"
      ]
    },
    {
      "cell_type": "code",
      "metadata": {
        "id": "sKdeg4dHYKVu",
        "colab": {
          "base_uri": "https://localhost:8080/"
        },
        "outputId": "f2790167-788f-4903-93b9-774e6836544d"
      },
      "source": [
        "num_classes = 100\n",
        "input_shape = (32, 32, 3)\n",
        "\n",
        "(x_train, y_train), (x_test, y_test) = keras.datasets.cifar100.load_data()\n",
        "\n",
        "print(f\"x_train shape: {x_train.shape} - y_train shape: {y_train.shape}\")\n",
        "print(f\"x_test shape: {x_test.shape} - y_test shape: {y_test.shape}\")\n"
      ],
      "execution_count": 4,
      "outputs": [
        {
          "output_type": "stream",
          "text": [
            "Downloading data from https://www.cs.toronto.edu/~kriz/cifar-100-python.tar.gz\n",
            "169009152/169001437 [==============================] - 4s 0us/step\n",
            "x_train shape: (50000, 32, 32, 3) - y_train shape: (50000, 1)\n",
            "x_test shape: (10000, 32, 32, 3) - y_test shape: (10000, 1)\n"
          ],
          "name": "stdout"
        }
      ]
    },
    {
      "cell_type": "markdown",
      "metadata": {
        "id": "OoU30m3AYKVu"
      },
      "source": [
        "## Configure the hyperparameters"
      ]
    },
    {
      "cell_type": "code",
      "metadata": {
        "id": "ag4MtzrLYKVu"
      },
      "source": [
        "learning_rate = 0.001\n",
        "weight_decay = 0.0001\n",
        "batch_size = 256\n",
        "num_epochs = 100\n",
        "image_size = 72  # We'll resize input images to this size\n",
        "patch_size = 6  # Size of the patches to be extract from the input images\n",
        "num_patches = (image_size // patch_size) ** 2\n",
        "projection_dim = 64\n",
        "num_heads = 4\n",
        "transformer_units = [\n",
        "    projection_dim * 2,\n",
        "    projection_dim,\n",
        "]  # Size of the transformer layers\n",
        "transformer_layers = 8\n",
        "mlp_head_units = [2048, 1024]  # Size of the dense layers of the final classifier\n"
      ],
      "execution_count": 5,
      "outputs": []
    },
    {
      "cell_type": "markdown",
      "metadata": {
        "id": "A1ETq4iaYKVu"
      },
      "source": [
        "## Use data augmentation"
      ]
    },
    {
      "cell_type": "code",
      "metadata": {
        "id": "k2AuC5XdYKVv"
      },
      "source": [
        "data_augmentation = keras.Sequential(\n",
        "    [\n",
        "        layers.experimental.preprocessing.Normalization(),\n",
        "        layers.experimental.preprocessing.Resizing(image_size, image_size),\n",
        "        layers.experimental.preprocessing.RandomFlip(\"horizontal\"),\n",
        "        layers.experimental.preprocessing.RandomRotation(factor=0.02),\n",
        "        layers.experimental.preprocessing.RandomZoom(\n",
        "            height_factor=0.2, width_factor=0.2\n",
        "        ),\n",
        "    ],\n",
        "    name=\"data_augmentation\",\n",
        ")\n",
        "# Compute the mean and the variance of the training data for normalization.\n",
        "data_augmentation.layers[0].adapt(x_train)\n"
      ],
      "execution_count": 7,
      "outputs": []
    },
    {
      "cell_type": "markdown",
      "metadata": {
        "id": "cPnl7BtsYKVv"
      },
      "source": [
        "## Implement multilayer perceptron (MLP)"
      ]
    },
    {
      "cell_type": "code",
      "metadata": {
        "id": "yDXuMz_EYKVv"
      },
      "source": [
        "def mlp(x, hidden_units, dropout_rate):\n",
        "    for units in hidden_units:\n",
        "        x = layers.Dense(units, activation=tf.nn.gelu)(x)\n",
        "        x = layers.Dropout(dropout_rate)(x)\n",
        "    return x\n"
      ],
      "execution_count": 8,
      "outputs": []
    },
    {
      "cell_type": "markdown",
      "metadata": {
        "id": "nz2IojIyYKVv"
      },
      "source": [
        "## Implement patch creation as a layer"
      ]
    },
    {
      "cell_type": "code",
      "metadata": {
        "id": "tJuGZKPeYKVv"
      },
      "source": [
        "\n",
        "class Patches(layers.Layer):\n",
        "    def __init__(self, patch_size):\n",
        "        super(Patches, self).__init__()\n",
        "        self.patch_size = patch_size\n",
        "\n",
        "    def call(self, images):\n",
        "        batch_size = tf.shape(images)[0]\n",
        "        patches = tf.image.extract_patches(\n",
        "            images=images,\n",
        "            sizes=[1, self.patch_size, self.patch_size, 1],\n",
        "            strides=[1, self.patch_size, self.patch_size, 1],\n",
        "            rates=[1, 1, 1, 1],\n",
        "            padding=\"VALID\",\n",
        "        )\n",
        "        patch_dims = patches.shape[-1]\n",
        "        patches = tf.reshape(patches, [batch_size, -1, patch_dims])\n",
        "        return patches\n"
      ],
      "execution_count": 9,
      "outputs": []
    },
    {
      "cell_type": "markdown",
      "metadata": {
        "id": "vzqLEn3EYKVw"
      },
      "source": [
        "Let's display patches for a sample image"
      ]
    },
    {
      "cell_type": "code",
      "metadata": {
        "id": "FTRNPSVqYKVw",
        "colab": {
          "base_uri": "https://localhost:8080/",
          "height": 547
        },
        "outputId": "c73586c4-7af3-47ef-e361-b5be8d3d325d"
      },
      "source": [
        "import matplotlib.pyplot as plt\n",
        "\n",
        "plt.figure(figsize=(4, 4))\n",
        "image = x_train[np.random.choice(range(x_train.shape[0]))]\n",
        "plt.imshow(image.astype(\"uint8\"))\n",
        "plt.axis(\"off\")\n",
        "\n",
        "resized_image = tf.image.resize(\n",
        "    tf.convert_to_tensor([image]), size=(image_size, image_size)\n",
        ")\n",
        "patches = Patches(patch_size)(resized_image)\n",
        "print(f\"Image size: {image_size} X {image_size}\")\n",
        "print(f\"Patch size: {patch_size} X {patch_size}\")\n",
        "print(f\"Patches per image: {patches.shape[1]}\")\n",
        "print(f\"Elements per patch: {patches.shape[-1]}\")\n",
        "\n",
        "n = int(np.sqrt(patches.shape[1]))\n",
        "plt.figure(figsize=(4, 4))\n",
        "for i, patch in enumerate(patches[0]):\n",
        "    ax = plt.subplot(n, n, i + 1)\n",
        "    patch_img = tf.reshape(patch, (patch_size, patch_size, 3))\n",
        "    plt.imshow(patch_img.numpy().astype(\"uint8\"))\n",
        "    plt.axis(\"off\")"
      ],
      "execution_count": 10,
      "outputs": [
        {
          "output_type": "stream",
          "text": [
            "Image size: 72 X 72\n",
            "Patch size: 6 X 6\n",
            "Patches per image: 144\n",
            "Elements per patch: 108\n"
          ],
          "name": "stdout"
        },
        {
          "output_type": "display_data",
          "data": {
            "image/png": "[encoded data removed]",
            "text/plain": [
              "<Figure size 288x288 with 1 Axes>"
            ]
          },
          "metadata": {
            "tags": [],
            "needs_background": "light"
          }
        },
        {
          "output_type": "display_data",
          "data": {
            "image/png": "[encoded data removed]",
            "text/plain": [
              "<Figure size 288x288 with 144 Axes>"
            ]
          },
          "metadata": {
            "tags": [],
            "needs_background": "light"
          }
        }
      ]
    },
    {
      "cell_type": "markdown",
      "metadata": {
        "id": "qtPWifj-YKVx"
      },
      "source": [
        "## Implement the patch encoding layer\n",
        "\n",
        "The `PatchEncoder` layer will linearly transform a patch by projecting it into a\n",
        "vector of size `projection_dim`. In addition, it adds a learnable position\n",
        "embedding to the projected vector."
      ]
    },
    {
      "cell_type": "code",
      "metadata": {
        "id": "1hqWMzsNYKVx"
      },
      "source": [
        "\n",
        "class PatchEncoder(layers.Layer):\n",
        "    def __init__(self, num_patches, projection_dim):\n",
        "        super(PatchEncoder, self).__init__()\n",
        "        self.num_patches = num_patches\n",
        "        self.projection = layers.Dense(units=projection_dim)\n",
        "        self.position_embedding = layers.Embedding(\n",
        "            input_dim=num_patches, output_dim=projection_dim\n",
        "        )\n",
        "\n",
        "    def call(self, patch):\n",
        "        positions = tf.range(start=0, limit=self.num_patches, delta=1)\n",
        "        encoded = self.projection(patch) + self.position_embedding(positions)\n",
        "        return encoded\n"
      ],
      "execution_count": 11,
      "outputs": []
    },
    {
      "cell_type": "markdown",
      "metadata": {
        "id": "ltLNN5ubYKVx"
      },
      "source": [
        "## Build the ViT model\n",
        "\n",
        "The ViT model consists of multiple Transformer blocks,\n",
        "which use the `layers.MultiHeadAttention` layer as a self-attention mechanism\n",
        "applied to the sequence of patches. The Transformer blocks produce a\n",
        "`[batch_size, num_patches, projection_dim]` tensor, which is processed via an\n",
        "classifier head with softmax to produce the final class probabilities output.\n",
        "\n",
        "Unlike the technique described in the [paper](https://arxiv.org/abs/2010.11929),\n",
        "which prepends a learnable embedding to the sequence of encoded patches to serve\n",
        "as the image representation, all the outputs of the final Transformer block are\n",
        "reshaped with `layers.Flatten()` and used as the image\n",
        "representation input to the classifier head.\n",
        "Note that the `layers.GlobalAveragePooling1D` layer\n",
        "could also be used instead to aggregate the outputs of the Transformer block,\n",
        "especially when the number of patches and the projection dimensions are large."
      ]
    },
    {
      "cell_type": "code",
      "metadata": {
        "id": "ppiNAjo2YKVy"
      },
      "source": [
        "\n",
        "def create_vit_classifier():\n",
        "    inputs = layers.Input(shape=input_shape)\n",
        "    # Augment data.\n",
        "    augmented = data_augmentation(inputs)\n",
        "    # Create patches.\n",
        "    patches = Patches(patch_size)(augmented)\n",
        "    # Encode patches.\n",
        "    encoded_patches = PatchEncoder(num_patches, projection_dim)(patches)\n",
        "\n",
        "    # Create multiple layers of the Transformer block.\n",
        "    for _ in range(transformer_layers):\n",
        "        # Layer normalization 1.\n",
        "        x1 = layers.LayerNormalization(epsilon=1e-6)(encoded_patches)\n",
        "        # Create a multi-head attention layer.\n",
        "        attention_output = layers.MultiHeadAttention(\n",
        "            num_heads=num_heads, key_dim=projection_dim, dropout=0.1\n",
        "        )(x1, x1)\n",
        "        # Skip connection 1.\n",
        "        x2 = layers.Add()([attention_output, encoded_patches])\n",
        "        # Layer normalization 2.\n",
        "        x3 = layers.LayerNormalization(epsilon=1e-6)(x2)\n",
        "        # MLP.\n",
        "        x3 = mlp(x3, hidden_units=transformer_units, dropout_rate=0.1)\n",
        "        # Skip connection 2.\n",
        "        encoded_patches = layers.Add()([x3, x2])\n",
        "\n",
        "    # Create a [batch_size, projection_dim] tensor.\n",
        "    representation = layers.LayerNormalization(epsilon=1e-6)(encoded_patches)\n",
        "    representation = layers.Flatten()(representation)\n",
        "    representation = layers.Dropout(0.5)(representation)\n",
        "    # Add MLP.\n",
        "    features = mlp(representation, hidden_units=mlp_head_units, dropout_rate=0.5)\n",
        "    # Classify outputs.\n",
        "    logits = layers.Dense(num_classes)(features)\n",
        "    # Create the Keras model.\n",
        "    model = keras.Model(inputs=inputs, outputs=logits)\n",
        "    return model\n"
      ],
      "execution_count": 12,
      "outputs": []
    },
    {
      "cell_type": "markdown",
      "metadata": {
        "id": "PqtDVuN-YKVy"
      },
      "source": [
        "## Compile, train, and evaluate the mode"
      ]
    },
    {
      "cell_type": "code",
      "metadata": {
        "id": "KGgY6gUwYKVy",
        "colab": {
          "base_uri": "https://localhost:8080/"
        },
        "outputId": "89c1ff25-cbc9-4c5a-b802-9bf24687d229"
      },
      "source": [
        "\n",
        "def run_experiment(model):\n",
        "    optimizer = tfa.optimizers.AdamW(\n",
        "        learning_rate=learning_rate, weight_decay=weight_decay\n",
        "    )\n",
        "\n",
        "    model.compile(\n",
        "        optimizer=optimizer,\n",
        "        loss=keras.losses.SparseCategoricalCrossentropy(from_logits=True),\n",
        "        metrics=[\n",
        "            keras.metrics.SparseCategoricalAccuracy(name=\"accuracy\"),\n",
        "            keras.metrics.SparseTopKCategoricalAccuracy(5, name=\"top-5-accuracy\"),\n",
        "        ],\n",
        "    )\n",
        "\n",
        "    checkpoint_filepath = \"/tmp/checkpoint\"\n",
        "    checkpoint_callback = keras.callbacks.ModelCheckpoint(\n",
        "        checkpoint_filepath,\n",
        "        monitor=\"val_accuracy\",\n",
        "        save_best_only=True,\n",
        "        save_weights_only=True,\n",
        "    )\n",
        "\n",
        "    history = model.fit(\n",
        "        x=x_train,\n",
        "        y=y_train,\n",
        "        batch_size=batch_size,\n",
        "        epochs=num_epochs,\n",
        "        validation_split=0.1,\n",
        "        callbacks=[checkpoint_callback],\n",
        "    )\n",
        "\n",
        "    model.load_weights(checkpoint_filepath)\n",
        "    _, accuracy, top_5_accuracy = model.evaluate(x_test, y_test)\n",
        "    print(f\"Test accuracy: {round(accuracy * 100, 2)}%\")\n",
        "    print(f\"Test top 5 accuracy: {round(top_5_accuracy * 100, 2)}%\")\n",
        "\n",
        "    return history\n",
        "\n",
        "\n",
        "vit_classifier = create_vit_classifier()\n",
        "history = run_experiment(vit_classifier)\n"
      ],
      "execution_count": 13,
      "outputs": [
        {
          "output_type": "stream",
          "text": [
            "Epoch 1/100\n",
            "WARNING:tensorflow:From /usr/local/lib/python3.7/dist-packages/tensorflow/python/ops/array_ops.py:5049: calling gather (from tensorflow.python.ops.array_ops) with validate_indices is deprecated and will be removed in a future version.\n",
            "Instructions for updating:\n",
            "The `validate_indices` argument has no effect. Indices are always validated on CPU and never validated on GPU.\n",
            "176/176 [==============================] - 58s 260ms/step - loss: 4.4795 - accuracy: 0.0476 - top-5-accuracy: 0.1600 - val_loss: 3.9243 - val_accuracy: 0.1086 - val_top-5-accuracy: 0.3084\n",
            "Epoch 2/100\n",
            "176/176 [==============================] - 44s 253ms/step - loss: 3.9322 - accuracy: 0.0960 - top-5-accuracy: 0.2931 - val_loss: 3.5943 - val_accuracy: 0.1546 - val_top-5-accuracy: 0.4060\n",
            "Epoch 3/100\n",
            "176/176 [==============================] - 44s 252ms/step - loss: 3.6809 - accuracy: 0.1348 - top-5-accuracy: 0.3715 - val_loss: 3.3976 - val_accuracy: 0.1848 - val_top-5-accuracy: 0.4516\n",
            "Epoch 4/100\n",
            "176/176 [==============================] - 44s 252ms/step - loss: 3.5014 - accuracy: 0.1634 - top-5-accuracy: 0.4214 - val_loss: 3.2363 - val_accuracy: 0.2138 - val_top-5-accuracy: 0.5022\n",
            "Epoch 5/100\n",
            "176/176 [==============================] - 44s 252ms/step - loss: 3.3532 - accuracy: 0.1898 - top-5-accuracy: 0.4666 - val_loss: 3.1007 - val_accuracy: 0.2456 - val_top-5-accuracy: 0.5426\n",
            "Epoch 6/100\n",
            "176/176 [==============================] - 44s 252ms/step - loss: 3.2364 - accuracy: 0.2117 - top-5-accuracy: 0.4966 - val_loss: 2.9711 - val_accuracy: 0.2738 - val_top-5-accuracy: 0.5672\n",
            "Epoch 7/100\n",
            "176/176 [==============================] - 44s 252ms/step - loss: 3.1092 - accuracy: 0.2345 - top-5-accuracy: 0.5304 - val_loss: 2.8550 - val_accuracy: 0.2892 - val_top-5-accuracy: 0.5938\n",
            "Epoch 8/100\n",
            "176/176 [==============================] - 44s 251ms/step - loss: 2.9847 - accuracy: 0.2593 - top-5-accuracy: 0.5593 - val_loss: 2.7166 - val_accuracy: 0.3164 - val_top-5-accuracy: 0.6238\n",
            "Epoch 9/100\n",
            "176/176 [==============================] - 44s 252ms/step - loss: 2.8633 - accuracy: 0.2794 - top-5-accuracy: 0.5891 - val_loss: 2.6523 - val_accuracy: 0.3360 - val_top-5-accuracy: 0.6428\n",
            "Epoch 10/100\n",
            "176/176 [==============================] - 44s 252ms/step - loss: 2.7906 - accuracy: 0.2986 - top-5-accuracy: 0.6070 - val_loss: 2.5756 - val_accuracy: 0.3346 - val_top-5-accuracy: 0.6534\n",
            "Epoch 11/100\n",
            "176/176 [==============================] - 44s 252ms/step - loss: 2.6772 - accuracy: 0.3183 - top-5-accuracy: 0.6330 - val_loss: 2.4799 - val_accuracy: 0.3622 - val_top-5-accuracy: 0.6730\n",
            "Epoch 12/100\n",
            "176/176 [==============================] - 44s 252ms/step - loss: 2.5973 - accuracy: 0.3338 - top-5-accuracy: 0.6504 - val_loss: 2.4320 - val_accuracy: 0.3680 - val_top-5-accuracy: 0.6892\n",
            "Epoch 13/100\n",
            "176/176 [==============================] - 44s 253ms/step - loss: 2.5171 - accuracy: 0.3532 - top-5-accuracy: 0.6672 - val_loss: 2.3648 - val_accuracy: 0.3904 - val_top-5-accuracy: 0.6934\n",
            "Epoch 14/100\n",
            "176/176 [==============================] - 45s 254ms/step - loss: 2.4391 - accuracy: 0.3683 - top-5-accuracy: 0.6856 - val_loss: 2.3004 - val_accuracy: 0.4106 - val_top-5-accuracy: 0.7108\n",
            "Epoch 15/100\n",
            "176/176 [==============================] - 45s 253ms/step - loss: 2.3559 - accuracy: 0.3840 - top-5-accuracy: 0.7024 - val_loss: 2.2612 - val_accuracy: 0.4112 - val_top-5-accuracy: 0.7142\n",
            "Epoch 16/100\n",
            "176/176 [==============================] - 44s 252ms/step - loss: 2.2940 - accuracy: 0.3970 - top-5-accuracy: 0.7146 - val_loss: 2.2428 - val_accuracy: 0.4192 - val_top-5-accuracy: 0.7184\n",
            "Epoch 17/100\n",
            "176/176 [==============================] - 44s 252ms/step - loss: 2.2145 - accuracy: 0.4168 - top-5-accuracy: 0.7311 - val_loss: 2.2084 - val_accuracy: 0.4214 - val_top-5-accuracy: 0.7322\n",
            "Epoch 18/100\n",
            "176/176 [==============================] - 44s 252ms/step - loss: 2.1481 - accuracy: 0.4274 - top-5-accuracy: 0.7458 - val_loss: 2.1402 - val_accuracy: 0.4412 - val_top-5-accuracy: 0.7396\n",
            "Epoch 19/100\n",
            "176/176 [==============================] - 44s 252ms/step - loss: 2.1072 - accuracy: 0.4401 - top-5-accuracy: 0.7544 - val_loss: 2.1511 - val_accuracy: 0.4336 - val_top-5-accuracy: 0.7406\n",
            "Epoch 20/100\n",
            "176/176 [==============================] - 44s 252ms/step - loss: 2.0354 - accuracy: 0.4548 - top-5-accuracy: 0.7673 - val_loss: 2.0556 - val_accuracy: 0.4644 - val_top-5-accuracy: 0.7612\n",
            "Epoch 21/100\n",
            "176/176 [==============================] - 44s 252ms/step - loss: 1.9879 - accuracy: 0.4615 - top-5-accuracy: 0.7764 - val_loss: 2.0582 - val_accuracy: 0.4580 - val_top-5-accuracy: 0.7570\n",
            "Epoch 22/100\n",
            "176/176 [==============================] - 44s 251ms/step - loss: 1.9370 - accuracy: 0.4772 - top-5-accuracy: 0.7860 - val_loss: 2.0051 - val_accuracy: 0.4686 - val_top-5-accuracy: 0.7676\n",
            "Epoch 23/100\n",
            "176/176 [==============================] - 44s 252ms/step - loss: 1.8873 - accuracy: 0.4860 - top-5-accuracy: 0.7968 - val_loss: 2.0080 - val_accuracy: 0.4694 - val_top-5-accuracy: 0.7704\n",
            "Epoch 24/100\n",
            "176/176 [==============================] - 44s 252ms/step - loss: 1.8433 - accuracy: 0.4958 - top-5-accuracy: 0.8039 - val_loss: 2.0020 - val_accuracy: 0.4756 - val_top-5-accuracy: 0.7642\n",
            "Epoch 25/100\n",
            "176/176 [==============================] - 44s 252ms/step - loss: 1.8046 - accuracy: 0.5069 - top-5-accuracy: 0.8119 - val_loss: 1.9436 - val_accuracy: 0.4842 - val_top-5-accuracy: 0.7768\n",
            "Epoch 26/100\n",
            "176/176 [==============================] - 44s 252ms/step - loss: 1.7633 - accuracy: 0.5144 - top-5-accuracy: 0.8205 - val_loss: 1.9631 - val_accuracy: 0.4814 - val_top-5-accuracy: 0.7760\n",
            "Epoch 27/100\n",
            "176/176 [==============================] - 44s 252ms/step - loss: 1.7186 - accuracy: 0.5267 - top-5-accuracy: 0.8276 - val_loss: 1.9336 - val_accuracy: 0.4982 - val_top-5-accuracy: 0.7782\n",
            "Epoch 28/100\n",
            "176/176 [==============================] - 44s 252ms/step - loss: 1.6789 - accuracy: 0.5335 - top-5-accuracy: 0.8332 - val_loss: 1.9153 - val_accuracy: 0.4970 - val_top-5-accuracy: 0.7820\n",
            "Epoch 29/100\n",
            "176/176 [==============================] - 44s 251ms/step - loss: 1.6420 - accuracy: 0.5419 - top-5-accuracy: 0.8401 - val_loss: 1.9216 - val_accuracy: 0.4956 - val_top-5-accuracy: 0.7828\n",
            "Epoch 30/100\n",
            "176/176 [==============================] - 44s 252ms/step - loss: 1.6162 - accuracy: 0.5482 - top-5-accuracy: 0.8434 - val_loss: 1.9359 - val_accuracy: 0.4968 - val_top-5-accuracy: 0.7812\n",
            "Epoch 31/100\n",
            "176/176 [==============================] - 44s 252ms/step - loss: 1.5886 - accuracy: 0.5580 - top-5-accuracy: 0.8478 - val_loss: 1.8877 - val_accuracy: 0.5028 - val_top-5-accuracy: 0.7846\n",
            "Epoch 32/100\n",
            "176/176 [==============================] - 44s 252ms/step - loss: 1.5433 - accuracy: 0.5660 - top-5-accuracy: 0.8572 - val_loss: 1.9151 - val_accuracy: 0.5004 - val_top-5-accuracy: 0.7852\n",
            "Epoch 33/100\n",
            "176/176 [==============================] - 44s 252ms/step - loss: 1.5311 - accuracy: 0.5692 - top-5-accuracy: 0.8605 - val_loss: 1.8681 - val_accuracy: 0.5006 - val_top-5-accuracy: 0.7922\n",
            "Epoch 34/100\n",
            "176/176 [==============================] - 44s 252ms/step - loss: 1.4861 - accuracy: 0.5804 - top-5-accuracy: 0.8667 - val_loss: 1.8839 - val_accuracy: 0.5022 - val_top-5-accuracy: 0.7936\n",
            "Epoch 35/100\n",
            "176/176 [==============================] - 44s 251ms/step - loss: 1.4556 - accuracy: 0.5900 - top-5-accuracy: 0.8719 - val_loss: 1.8869 - val_accuracy: 0.5092 - val_top-5-accuracy: 0.7926\n",
            "Epoch 36/100\n",
            "176/176 [==============================] - 44s 252ms/step - loss: 1.4306 - accuracy: 0.5940 - top-5-accuracy: 0.8748 - val_loss: 1.8857 - val_accuracy: 0.5086 - val_top-5-accuracy: 0.7882\n",
            "Epoch 37/100\n",
            "176/176 [==============================] - 44s 253ms/step - loss: 1.4187 - accuracy: 0.5976 - top-5-accuracy: 0.8765 - val_loss: 1.8574 - val_accuracy: 0.5144 - val_top-5-accuracy: 0.7984\n",
            "Epoch 38/100\n",
            "176/176 [==============================] - 44s 252ms/step - loss: 1.3729 - accuracy: 0.6083 - top-5-accuracy: 0.8837 - val_loss: 1.8688 - val_accuracy: 0.5178 - val_top-5-accuracy: 0.7980\n",
            "Epoch 39/100\n",
            "176/176 [==============================] - 44s 252ms/step - loss: 1.3582 - accuracy: 0.6097 - top-5-accuracy: 0.8879 - val_loss: 1.8605 - val_accuracy: 0.5254 - val_top-5-accuracy: 0.8028\n",
            "Epoch 40/100\n",
            "176/176 [==============================] - 44s 252ms/step - loss: 1.3341 - accuracy: 0.6188 - top-5-accuracy: 0.8901 - val_loss: 1.8482 - val_accuracy: 0.5200 - val_top-5-accuracy: 0.8044\n",
            "Epoch 41/100\n",
            "176/176 [==============================] - 44s 252ms/step - loss: 1.3106 - accuracy: 0.6258 - top-5-accuracy: 0.8946 - val_loss: 1.8491 - val_accuracy: 0.5266 - val_top-5-accuracy: 0.8026\n",
            "Epoch 42/100\n",
            "176/176 [==============================] - 44s 252ms/step - loss: 1.2843 - accuracy: 0.6302 - top-5-accuracy: 0.8982 - val_loss: 1.8517 - val_accuracy: 0.5144 - val_top-5-accuracy: 0.7964\n",
            "Epoch 43/100\n",
            "176/176 [==============================] - 44s 252ms/step - loss: 1.2743 - accuracy: 0.6321 - top-5-accuracy: 0.8991 - val_loss: 1.8436 - val_accuracy: 0.5264 - val_top-5-accuracy: 0.8042\n",
            "Epoch 44/100\n",
            "176/176 [==============================] - 44s 252ms/step - loss: 1.2501 - accuracy: 0.6399 - top-5-accuracy: 0.9023 - val_loss: 1.8298 - val_accuracy: 0.5282 - val_top-5-accuracy: 0.8036\n",
            "Epoch 45/100\n",
            "176/176 [==============================] - 44s 252ms/step - loss: 1.2383 - accuracy: 0.6396 - top-5-accuracy: 0.9042 - val_loss: 1.8807 - val_accuracy: 0.5218 - val_top-5-accuracy: 0.7988\n",
            "Epoch 46/100\n",
            "176/176 [==============================] - 44s 252ms/step - loss: 1.2102 - accuracy: 0.6500 - top-5-accuracy: 0.9084 - val_loss: 1.8324 - val_accuracy: 0.5242 - val_top-5-accuracy: 0.8080\n",
            "Epoch 47/100\n",
            "176/176 [==============================] - 44s 252ms/step - loss: 1.1851 - accuracy: 0.6538 - top-5-accuracy: 0.9137 - val_loss: 1.8395 - val_accuracy: 0.5300 - val_top-5-accuracy: 0.8078\n",
            "Epoch 48/100\n",
            "176/176 [==============================] - 44s 252ms/step - loss: 1.1794 - accuracy: 0.6582 - top-5-accuracy: 0.9132 - val_loss: 1.8405 - val_accuracy: 0.5308 - val_top-5-accuracy: 0.8124\n",
            "Epoch 49/100\n",
            "176/176 [==============================] - 44s 252ms/step - loss: 1.1667 - accuracy: 0.6623 - top-5-accuracy: 0.9133 - val_loss: 1.8601 - val_accuracy: 0.5294 - val_top-5-accuracy: 0.8082\n",
            "Epoch 50/100\n",
            "176/176 [==============================] - 44s 252ms/step - loss: 1.1562 - accuracy: 0.6623 - top-5-accuracy: 0.9168 - val_loss: 1.8275 - val_accuracy: 0.5310 - val_top-5-accuracy: 0.8084\n",
            "Epoch 51/100\n",
            "176/176 [==============================] - 44s 253ms/step - loss: 1.1208 - accuracy: 0.6706 - top-5-accuracy: 0.9215 - val_loss: 1.8381 - val_accuracy: 0.5346 - val_top-5-accuracy: 0.8110\n",
            "Epoch 52/100\n",
            "176/176 [==============================] - 44s 252ms/step - loss: 1.1202 - accuracy: 0.6706 - top-5-accuracy: 0.9218 - val_loss: 1.8652 - val_accuracy: 0.5256 - val_top-5-accuracy: 0.8058\n",
            "Epoch 53/100\n",
            "176/176 [==============================] - 44s 252ms/step - loss: 1.0996 - accuracy: 0.6770 - top-5-accuracy: 0.9237 - val_loss: 1.8570 - val_accuracy: 0.5282 - val_top-5-accuracy: 0.8140\n",
            "Epoch 54/100\n",
            "176/176 [==============================] - 44s 252ms/step - loss: 1.0774 - accuracy: 0.6820 - top-5-accuracy: 0.9261 - val_loss: 1.8741 - val_accuracy: 0.5342 - val_top-5-accuracy: 0.8108\n",
            "Epoch 55/100\n",
            "176/176 [==============================] - 45s 254ms/step - loss: 1.0786 - accuracy: 0.6842 - top-5-accuracy: 0.9273 - val_loss: 1.9032 - val_accuracy: 0.5232 - val_top-5-accuracy: 0.8014\n",
            "Epoch 56/100\n",
            "176/176 [==============================] - 45s 255ms/step - loss: 1.0593 - accuracy: 0.6885 - top-5-accuracy: 0.9300 - val_loss: 1.8634 - val_accuracy: 0.5280 - val_top-5-accuracy: 0.8046\n",
            "Epoch 57/100\n",
            "176/176 [==============================] - 45s 254ms/step - loss: 1.0555 - accuracy: 0.6911 - top-5-accuracy: 0.9295 - val_loss: 1.8356 - val_accuracy: 0.5340 - val_top-5-accuracy: 0.8160\n",
            "Epoch 58/100\n",
            "176/176 [==============================] - 45s 253ms/step - loss: 1.0448 - accuracy: 0.6933 - top-5-accuracy: 0.9299 - val_loss: 1.8447 - val_accuracy: 0.5360 - val_top-5-accuracy: 0.8156\n",
            "Epoch 59/100\n",
            "176/176 [==============================] - 45s 253ms/step - loss: 1.0186 - accuracy: 0.6988 - top-5-accuracy: 0.9345 - val_loss: 1.8686 - val_accuracy: 0.5284 - val_top-5-accuracy: 0.8104\n",
            "Epoch 60/100\n",
            "176/176 [==============================] - 45s 253ms/step - loss: 1.0132 - accuracy: 0.6998 - top-5-accuracy: 0.9343 - val_loss: 1.8770 - val_accuracy: 0.5298 - val_top-5-accuracy: 0.8066\n",
            "Epoch 61/100\n",
            "176/176 [==============================] - 45s 253ms/step - loss: 1.0169 - accuracy: 0.6996 - top-5-accuracy: 0.9347 - val_loss: 1.8801 - val_accuracy: 0.5280 - val_top-5-accuracy: 0.8128\n",
            "Epoch 62/100\n",
            "176/176 [==============================] - 45s 253ms/step - loss: 1.0048 - accuracy: 0.7012 - top-5-accuracy: 0.9365 - val_loss: 1.8503 - val_accuracy: 0.5334 - val_top-5-accuracy: 0.8132\n",
            "Epoch 63/100\n",
            "176/176 [==============================] - 44s 253ms/step - loss: 0.9902 - accuracy: 0.7062 - top-5-accuracy: 0.9370 - val_loss: 1.8622 - val_accuracy: 0.5316 - val_top-5-accuracy: 0.8098\n",
            "Epoch 64/100\n",
            "176/176 [==============================] - 44s 252ms/step - loss: 0.9784 - accuracy: 0.7092 - top-5-accuracy: 0.9386 - val_loss: 1.8837 - val_accuracy: 0.5374 - val_top-5-accuracy: 0.8108\n",
            "Epoch 65/100\n",
            "176/176 [==============================] - 44s 253ms/step - loss: 0.9669 - accuracy: 0.7123 - top-5-accuracy: 0.9403 - val_loss: 1.8840 - val_accuracy: 0.5326 - val_top-5-accuracy: 0.8106\n",
            "Epoch 66/100\n",
            "176/176 [==============================] - 44s 252ms/step - loss: 0.9555 - accuracy: 0.7154 - top-5-accuracy: 0.9427 - val_loss: 1.8714 - val_accuracy: 0.5380 - val_top-5-accuracy: 0.8098\n",
            "Epoch 67/100\n",
            "176/176 [==============================] - 44s 252ms/step - loss: 0.9503 - accuracy: 0.7194 - top-5-accuracy: 0.9428 - val_loss: 1.8952 - val_accuracy: 0.5308 - val_top-5-accuracy: 0.8078\n",
            "Epoch 68/100\n",
            "176/176 [==============================] - 44s 252ms/step - loss: 0.9404 - accuracy: 0.7214 - top-5-accuracy: 0.9430 - val_loss: 1.9036 - val_accuracy: 0.5268 - val_top-5-accuracy: 0.8026\n",
            "Epoch 69/100\n",
            "176/176 [==============================] - 44s 252ms/step - loss: 0.9406 - accuracy: 0.7198 - top-5-accuracy: 0.9426 - val_loss: 1.9163 - val_accuracy: 0.5320 - val_top-5-accuracy: 0.8084\n",
            "Epoch 70/100\n",
            "176/176 [==============================] - 44s 252ms/step - loss: 0.9316 - accuracy: 0.7235 - top-5-accuracy: 0.9448 - val_loss: 1.9188 - val_accuracy: 0.5364 - val_top-5-accuracy: 0.8104\n",
            "Epoch 71/100\n",
            "176/176 [==============================] - 44s 252ms/step - loss: 0.9133 - accuracy: 0.7291 - top-5-accuracy: 0.9472 - val_loss: 1.9178 - val_accuracy: 0.5284 - val_top-5-accuracy: 0.8084\n",
            "Epoch 72/100\n",
            "176/176 [==============================] - 44s 252ms/step - loss: 0.9167 - accuracy: 0.7270 - top-5-accuracy: 0.9474 - val_loss: 1.8936 - val_accuracy: 0.5330 - val_top-5-accuracy: 0.8068\n",
            "Epoch 73/100\n",
            "176/176 [==============================] - 44s 252ms/step - loss: 0.9055 - accuracy: 0.7291 - top-5-accuracy: 0.9480 - val_loss: 1.8730 - val_accuracy: 0.5426 - val_top-5-accuracy: 0.8128\n",
            "Epoch 74/100\n",
            "176/176 [==============================] - 44s 253ms/step - loss: 0.8889 - accuracy: 0.7339 - top-5-accuracy: 0.9497 - val_loss: 1.8696 - val_accuracy: 0.5418 - val_top-5-accuracy: 0.8154\n",
            "Epoch 75/100\n",
            "176/176 [==============================] - 44s 252ms/step - loss: 0.8901 - accuracy: 0.7339 - top-5-accuracy: 0.9474 - val_loss: 1.8716 - val_accuracy: 0.5428 - val_top-5-accuracy: 0.8144\n",
            "Epoch 76/100\n",
            "176/176 [==============================] - 44s 253ms/step - loss: 0.8794 - accuracy: 0.7370 - top-5-accuracy: 0.9497 - val_loss: 1.8874 - val_accuracy: 0.5390 - val_top-5-accuracy: 0.8116\n",
            "Epoch 77/100\n",
            "176/176 [==============================] - 44s 253ms/step - loss: 0.8690 - accuracy: 0.7404 - top-5-accuracy: 0.9512 - val_loss: 1.8756 - val_accuracy: 0.5416 - val_top-5-accuracy: 0.8098\n",
            "Epoch 78/100\n",
            "176/176 [==============================] - 44s 253ms/step - loss: 0.8616 - accuracy: 0.7436 - top-5-accuracy: 0.9513 - val_loss: 1.9114 - val_accuracy: 0.5338 - val_top-5-accuracy: 0.8068\n",
            "Epoch 79/100\n",
            "176/176 [==============================] - 45s 254ms/step - loss: 0.8619 - accuracy: 0.7434 - top-5-accuracy: 0.9530 - val_loss: 1.8864 - val_accuracy: 0.5430 - val_top-5-accuracy: 0.8154\n",
            "Epoch 80/100\n",
            "176/176 [==============================] - 45s 253ms/step - loss: 0.8565 - accuracy: 0.7434 - top-5-accuracy: 0.9524 - val_loss: 1.8996 - val_accuracy: 0.5370 - val_top-5-accuracy: 0.8146\n",
            "Epoch 81/100\n",
            "176/176 [==============================] - 45s 253ms/step - loss: 0.8523 - accuracy: 0.7439 - top-5-accuracy: 0.9539 - val_loss: 1.9138 - val_accuracy: 0.5292 - val_top-5-accuracy: 0.8140\n",
            "Epoch 82/100\n",
            "176/176 [==============================] - 45s 253ms/step - loss: 0.8459 - accuracy: 0.7460 - top-5-accuracy: 0.9540 - val_loss: 1.9301 - val_accuracy: 0.5362 - val_top-5-accuracy: 0.8076\n",
            "Epoch 83/100\n",
            "176/176 [==============================] - 44s 253ms/step - loss: 0.8299 - accuracy: 0.7504 - top-5-accuracy: 0.9556 - val_loss: 1.8805 - val_accuracy: 0.5456 - val_top-5-accuracy: 0.8150\n",
            "Epoch 84/100\n",
            "176/176 [==============================] - 45s 253ms/step - loss: 0.8279 - accuracy: 0.7527 - top-5-accuracy: 0.9558 - val_loss: 1.8616 - val_accuracy: 0.5412 - val_top-5-accuracy: 0.8152\n",
            "Epoch 85/100\n",
            "176/176 [==============================] - 45s 253ms/step - loss: 0.8412 - accuracy: 0.7508 - top-5-accuracy: 0.9541 - val_loss: 1.8808 - val_accuracy: 0.5362 - val_top-5-accuracy: 0.8112\n",
            "Epoch 86/100\n",
            "176/176 [==============================] - 44s 253ms/step - loss: 0.8237 - accuracy: 0.7501 - top-5-accuracy: 0.9572 - val_loss: 1.8901 - val_accuracy: 0.5392 - val_top-5-accuracy: 0.8084\n",
            "Epoch 87/100\n",
            "176/176 [==============================] - 44s 253ms/step - loss: 0.8170 - accuracy: 0.7541 - top-5-accuracy: 0.9570 - val_loss: 1.9110 - val_accuracy: 0.5462 - val_top-5-accuracy: 0.8142\n",
            "Epoch 88/100\n",
            "176/176 [==============================] - 44s 253ms/step - loss: 0.8104 - accuracy: 0.7575 - top-5-accuracy: 0.9573 - val_loss: 1.8593 - val_accuracy: 0.5422 - val_top-5-accuracy: 0.8140\n",
            "Epoch 89/100\n",
            "176/176 [==============================] - 44s 253ms/step - loss: 0.8210 - accuracy: 0.7531 - top-5-accuracy: 0.9557 - val_loss: 1.9123 - val_accuracy: 0.5396 - val_top-5-accuracy: 0.8088\n",
            "Epoch 90/100\n",
            "176/176 [==============================] - 45s 253ms/step - loss: 0.8012 - accuracy: 0.7578 - top-5-accuracy: 0.9580 - val_loss: 1.8923 - val_accuracy: 0.5436 - val_top-5-accuracy: 0.8152\n",
            "Epoch 91/100\n",
            "176/176 [==============================] - 44s 253ms/step - loss: 0.8126 - accuracy: 0.7571 - top-5-accuracy: 0.9564 - val_loss: 1.8907 - val_accuracy: 0.5378 - val_top-5-accuracy: 0.8118\n",
            "Epoch 92/100\n",
            "176/176 [==============================] - 44s 253ms/step - loss: 0.8081 - accuracy: 0.7584 - top-5-accuracy: 0.9578 - val_loss: 1.8961 - val_accuracy: 0.5488 - val_top-5-accuracy: 0.8122\n",
            "Epoch 93/100\n",
            "176/176 [==============================] - 45s 253ms/step - loss: 0.7913 - accuracy: 0.7603 - top-5-accuracy: 0.9595 - val_loss: 1.9183 - val_accuracy: 0.5436 - val_top-5-accuracy: 0.8142\n",
            "Epoch 94/100\n",
            "176/176 [==============================] - 44s 252ms/step - loss: 0.7868 - accuracy: 0.7628 - top-5-accuracy: 0.9594 - val_loss: 1.8892 - val_accuracy: 0.5412 - val_top-5-accuracy: 0.8098\n",
            "Epoch 95/100\n",
            "176/176 [==============================] - 45s 255ms/step - loss: 0.7955 - accuracy: 0.7599 - top-5-accuracy: 0.9590 - val_loss: 1.9250 - val_accuracy: 0.5386 - val_top-5-accuracy: 0.8092\n",
            "Epoch 96/100\n",
            "176/176 [==============================] - 45s 255ms/step - loss: 0.7830 - accuracy: 0.7651 - top-5-accuracy: 0.9614 - val_loss: 1.9318 - val_accuracy: 0.5432 - val_top-5-accuracy: 0.8120\n",
            "Epoch 97/100\n",
            "176/176 [==============================] - 45s 257ms/step - loss: 0.7872 - accuracy: 0.7628 - top-5-accuracy: 0.9594 - val_loss: 1.9236 - val_accuracy: 0.5462 - val_top-5-accuracy: 0.8146\n",
            "Epoch 98/100\n",
            "176/176 [==============================] - 45s 253ms/step - loss: 0.7721 - accuracy: 0.7662 - top-5-accuracy: 0.9615 - val_loss: 1.8960 - val_accuracy: 0.5486 - val_top-5-accuracy: 0.8198\n",
            "Epoch 99/100\n",
            "176/176 [==============================] - 45s 254ms/step - loss: 0.7597 - accuracy: 0.7701 - top-5-accuracy: 0.9628 - val_loss: 1.9140 - val_accuracy: 0.5436 - val_top-5-accuracy: 0.8112\n",
            "Epoch 100/100\n",
            "176/176 [==============================] - 45s 254ms/step - loss: 0.7665 - accuracy: 0.7672 - top-5-accuracy: 0.9617 - val_loss: 1.9242 - val_accuracy: 0.5376 - val_top-5-accuracy: 0.8114\n",
            "313/313 [==============================] - 7s 24ms/step - loss: 1.8769 - accuracy: 0.5483 - top-5-accuracy: 0.8154\n",
            "Test accuracy: 54.83%\n",
            "Test top 5 accuracy: 81.54%\n"
          ],
          "name": "stdout"
        }
      ]
    },
    {
      "cell_type": "markdown",
      "metadata": {
        "id": "f-U3o2b_YKVy"
      },
      "source": [
        "After 100 epochs, the ViT model achieves around 55% accuracy and\n",
        "82% top-5 accuracy on the test data. These are not competitive results on the CIFAR-100 dataset,\n",
        "as a ResNet50V2 trained from scratch on the same data can achieve 67% accuracy.\n",
        "\n",
        "Note that the state of the art results reported in the\n",
        "[paper](https://arxiv.org/abs/2010.11929) are achieved by pre-training the ViT model using\n",
        "the JFT-300M dataset, then fine-tuning it on the target dataset. To improve the model quality\n",
        "without pre-training, you can try to train the model for more epochs, use a larger number of\n",
        "Transformer layers, resize the input images, change the patch size, or increase the projection dimensions. \n",
        "Besides, as mentioned in the paper, the quality of the model is affected not only by architecture choices, \n",
        "but also by parameters such as the learning rate schedule, optimizer, weight decay, etc.\n",
        "In practice, it's recommended to fine-tune a ViT model\n",
        "that was pre-trained using a large, high-resolution dataset."
      ]
    }
  ]
}