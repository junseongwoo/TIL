{
 "cells": [
  {
   "cell_type": "markdown",
   "metadata": {},
   "source": [
    "### Colab에서 자주 사용하는 리눅스 명령어\n",
    "1. **ls** - 현재 위치의 파일 목록 조회\n",
    "2. **cd** - 디렉터리 이동\n",
    "3. **touch** - 0바이트 파일 생성, 파일의 날짜와 시간을 수정\n",
    "4. **mkdir** - 디렉터리 생성\n",
    "5. **cp** - 파일 복사\n",
    "6. **mv** - 파일 이동\n",
    "7. **rm** - 파일 삭제\n",
    "8. **cat** - 파일의 내용을 화면에 출력, 리다이렉션 기호('>')를 사용하여 새로운 파일 생성\n",
    "9. **pwd** - 현재 작업 디렉터리 확인\n",
    "- 5 ~ 7번에 해당하는 명령어는 파이썬의 shutill이나 os 모듈을 사용해도 가능"
   ]
  },
  {
   "cell_type": "code",
   "execution_count": 1,
   "metadata": {},
   "outputs": [
    {
     "name": "stdout",
     "output_type": "stream",
     "text": [
      "['Day01.ipynb']\n",
      "<class 'list'>\n",
      "1\n"
     ]
    }
   ],
   "source": [
    "# 파이썬에서 디렉토리 처리 \n",
    "import os  \n",
    "# 현재 디렉토리의 파일 목록 읽기 \n",
    "curList = os.listdir('.') # '.'은 현재 디렉토리\n",
    "print(curList)\n",
    "print(type(curList))\n",
    "print(len(curList))"
   ]
  },
  {
   "cell_type": "markdown",
   "metadata": {},
   "source": [
    "### Set (순서 X, 중복 X) \n",
    "- 수학에서 집합의 개념 "
   ]
  },
  {
   "cell_type": "code",
   "execution_count": 3,
   "metadata": {},
   "outputs": [
    {
     "name": "stdout",
     "output_type": "stream",
     "text": [
      "set()\n",
      "<class 'set'>\n"
     ]
    }
   ],
   "source": [
    "myset = set()\n",
    "print(myset)\n",
    "print(type(myset))"
   ]
  },
  {
   "cell_type": "code",
   "execution_count": 5,
   "metadata": {},
   "outputs": [
    {
     "name": "stdout",
     "output_type": "stream",
     "text": [
      "{1, 2, 3}\n"
     ]
    }
   ],
   "source": [
    "# 리스트와 다르게 중복허용이 되지 않는다. \n",
    "myset.add(1)\n",
    "myset.add(1)\n",
    "myset.add(2)\n",
    "myset.add(3)\n",
    "print(myset)"
   ]
  },
  {
   "cell_type": "code",
   "execution_count": 6,
   "metadata": {},
   "outputs": [
    {
     "data": {
      "text/plain": [
       "{1, 2, 3, 4, 5, 6}"
      ]
     },
     "execution_count": 6,
     "metadata": {},
     "output_type": "execute_result"
    }
   ],
   "source": [
    "# 한개, 여러개 추가시 update 사용 \n",
    "s1 = set([1,2,3])\n",
    "s1.update([4,5,6])\n",
    "s1"
   ]
  },
  {
   "cell_type": "code",
   "execution_count": 7,
   "metadata": {},
   "outputs": [
    {
     "data": {
      "text/plain": [
       "{1, 2, 4, 5, 6}"
      ]
     },
     "execution_count": 7,
     "metadata": {},
     "output_type": "execute_result"
    }
   ],
   "source": [
    "# remove는 add와 같이 한개만 지정 가능\n",
    "s1.remove(3)\n",
    "s1"
   ]
  },
  {
   "cell_type": "code",
   "execution_count": 19,
   "metadata": {},
   "outputs": [
    {
     "name": "stdout",
     "output_type": "stream",
     "text": [
      "   *\n",
      "  ***\n",
      " *****\n",
      "*******\n"
     ]
    }
   ],
   "source": [
    "'''\n",
    "별 찍기\n",
    "    *\n",
    "   ***\n",
    "  *****\n",
    " *******\n",
    "'''\n",
    "symbol = \"*\"\n",
    "blank = \" \"\n",
    "count = 3 \n",
    "\n",
    "for i in range(1,9,2):\n",
    "    print('{}{}'.format(blank*count, symbol*i))\n",
    "    count -= 1"
   ]
  },
  {
   "cell_type": "markdown",
   "metadata": {},
   "source": [
    "### 문장 쪼개기\n",
    "- split()"
   ]
  },
  {
   "cell_type": "code",
   "execution_count": 10,
   "metadata": {},
   "outputs": [
    {
     "name": "stdout",
     "output_type": "stream",
     "text": [
      "['This', 'is', 'Python']\n",
      "<class 'list'>\n"
     ]
    }
   ],
   "source": [
    "a = \"This is Python\"\n",
    "strSplit = a.split(' ')\n",
    "print(strSplit)\n",
    "print(type(strSplit))"
   ]
  },
  {
   "cell_type": "code",
   "execution_count": 27,
   "metadata": {},
   "outputs": [
    {
     "name": "stdout",
     "output_type": "stream",
     "text": [
      "    *\n",
      "   * *\n",
      "  *   *\n",
      " *     *\n",
      "*       *\n"
     ]
    }
   ],
   "source": [
    "#   *\n",
    "#  * *\n",
    "# *   *\n",
    "#*     *\n",
    "symbol=\"*\"\n",
    "space=\" \" \n",
    "for i in range(5):\n",
    "    if i==0:\n",
    "        print(\"{}{}\".format(space*(4-i),symbol))\n",
    "    else:\n",
    "        print('{}{}{}{}'.format(space*(4-i), symbol, (i*2-1)*space, symbol))"
   ]
  },
  {
   "cell_type": "code",
   "execution_count": 32,
   "metadata": {},
   "outputs": [
    {
     "name": "stdout",
     "output_type": "stream",
     "text": [
      "2 * 1 : 2\n",
      "2 * 2 : 4\n",
      "2 * 3 : 6\n",
      "2 * 4 : 8\n",
      "2 * 5 : 10\n",
      "2 * 6 : 12\n",
      "2 * 7 : 14\n",
      "2 * 8 : 16\n",
      "2 * 9 : 18\n",
      "3 * 1 : 3\n",
      "3 * 2 : 6\n",
      "3 * 3 : 9\n",
      "3 * 4 : 12\n",
      "3 * 5 : 15\n",
      "3 * 6 : 18\n",
      "3 * 7 : 21\n",
      "3 * 8 : 24\n",
      "3 * 9 : 27\n",
      "4 * 1 : 4\n",
      "4 * 2 : 8\n",
      "4 * 3 : 12\n",
      "4 * 4 : 16\n",
      "4 * 5 : 20\n",
      "4 * 6 : 24\n",
      "4 * 7 : 28\n",
      "4 * 8 : 32\n",
      "4 * 9 : 36\n",
      "5 * 1 : 5\n",
      "5 * 2 : 10\n",
      "5 * 3 : 15\n",
      "5 * 4 : 20\n",
      "5 * 5 : 25\n",
      "5 * 6 : 30\n",
      "5 * 7 : 35\n",
      "5 * 8 : 40\n",
      "5 * 9 : 45\n",
      "6 * 1 : 6\n",
      "6 * 2 : 12\n",
      "6 * 3 : 18\n",
      "6 * 4 : 24\n",
      "6 * 5 : 30\n",
      "6 * 6 : 36\n",
      "6 * 7 : 42\n",
      "6 * 8 : 48\n",
      "6 * 9 : 54\n",
      "7 * 1 : 7\n",
      "7 * 2 : 14\n",
      "7 * 3 : 21\n",
      "7 * 4 : 28\n",
      "7 * 5 : 35\n",
      "7 * 6 : 42\n",
      "7 * 7 : 49\n",
      "7 * 8 : 56\n",
      "7 * 9 : 63\n",
      "8 * 1 : 8\n",
      "8 * 2 : 16\n",
      "8 * 3 : 24\n",
      "8 * 4 : 32\n",
      "8 * 5 : 40\n",
      "8 * 6 : 48\n",
      "8 * 7 : 56\n",
      "8 * 8 : 64\n",
      "8 * 9 : 72\n",
      "9 * 1 : 9\n",
      "9 * 2 : 18\n",
      "9 * 3 : 27\n",
      "9 * 4 : 36\n",
      "9 * 5 : 45\n",
      "9 * 6 : 54\n",
      "9 * 7 : 63\n",
      "9 * 8 : 72\n",
      "9 * 9 : 81\n"
     ]
    }
   ],
   "source": [
    "# 구구단 출력 \n",
    "# 2 ~ 9 단 \n",
    "# 2 3 4 \n",
    "# 5 6 7\n",
    "# 8 9 \n",
    "for i in range(2, 10) : \n",
    "    for j in range(1, 10) : \n",
    "        print(f\"%d * %d : %d\" %(i,j, i*j)) "
   ]
  },
  {
   "cell_type": "code",
   "execution_count": 35,
   "metadata": {},
   "outputs": [],
   "source": [
    "mylist = []\n",
    "for file in mylist :\n",
    "    if file.endwith('jpg') :\n",
    "        print(file) "
   ]
  },
  {
   "cell_type": "code",
   "execution_count": 36,
   "metadata": {},
   "outputs": [
    {
     "data": {
      "text/plain": [
       "[]"
      ]
     },
     "execution_count": 36,
     "metadata": {},
     "output_type": "execute_result"
    }
   ],
   "source": [
    "# 디렉토리에서 파일을 검색해서 특정 확장자 파일을 찾을 때 \n",
    "import glob \n",
    "target = \"*.txt\"\n",
    "jpgList = glob.glob(target)\n",
    "jpgList"
   ]
  },
  {
   "cell_type": "code",
   "execution_count": 38,
   "metadata": {},
   "outputs": [
    {
     "data": {
      "text/plain": [
       "'01-sample.png'"
      ]
     },
     "execution_count": 38,
     "metadata": {},
     "output_type": "execute_result"
    }
   ],
   "source": [
    "# replace \n",
    "a = '01-sample.png' \n",
    "a.replace('.png', '.jpg')\n",
    "a"
   ]
  },
  {
   "cell_type": "code",
   "execution_count": 41,
   "metadata": {},
   "outputs": [
    {
     "name": "stdout",
     "output_type": "stream",
     "text": [
      "True\n"
     ]
    }
   ],
   "source": [
    "# 불필요한 공백 제거\n",
    "a = '  01-sample.png'\n",
    "b = '01-sample.png'\n",
    "a.strip()\n",
    "print(a.strip() == b)"
   ]
  },
  {
   "cell_type": "code",
   "execution_count": null,
   "metadata": {},
   "outputs": [],
   "source": []
  }
 ],
 "metadata": {
  "kernelspec": {
   "display_name": "Python 3.6.8 ('venv': venv)",
   "language": "python",
   "name": "python3"
  },
  "language_info": {
   "codemirror_mode": {
    "name": "ipython",
    "version": 3
   },
   "file_extension": ".py",
   "mimetype": "text/x-python",
   "name": "python",
   "nbconvert_exporter": "python",
   "pygments_lexer": "ipython3",
   "version": "3.6.8"
  },
  "orig_nbformat": 4,
  "vscode": {
   "interpreter": {
    "hash": "9a10d58684a97c7ef9814f8d1e63a748a9b86fa1df8aba50abb871f223b28850"
   }
  }
 },
 "nbformat": 4,
 "nbformat_minor": 2
}
