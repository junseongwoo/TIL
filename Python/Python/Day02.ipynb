{
 "cells": [
  {
   "cell_type": "markdown",
   "metadata": {},
   "source": [
    "### Numpy"
   ]
  },
  {
   "cell_type": "markdown",
   "metadata": {},
   "source": [
    "- np.array() 사용 "
   ]
  },
  {
   "cell_type": "code",
   "execution_count": 2,
   "metadata": {},
   "outputs": [
    {
     "name": "stdout",
     "output_type": "stream",
     "text": [
      "<class 'list'>\n",
      "[1 2 3 4]\n",
      "[1. 2. 3. 4.]\n",
      "<class 'numpy.ndarray'>\n"
     ]
    }
   ],
   "source": [
    "import numpy as np \n",
    "myList = [1,2,3,4]\n",
    "print(type(myList))\n",
    "\n",
    "arr = np.array([1,2,3,4])\n",
    "arr2 = np.array([1,2,3,4], dtype=float)\n",
    "\n",
    "print(arr)\n",
    "print(arr2)\n",
    "print(type(arr))"
   ]
  },
  {
   "cell_type": "code",
   "execution_count": 6,
   "metadata": {},
   "outputs": [
    {
     "name": "stdout",
     "output_type": "stream",
     "text": [
      "(4,)\n",
      "(2, 4)\n"
     ]
    }
   ],
   "source": [
    "# 리스트로부터 생성하기 \n",
    "myList1 = [1,2,3,4]\n",
    "myList2 = [[1,2,3,4],\n",
    "            [5,6,7,8]]\n",
    "\n",
    "arr1 = np.array(myList1)\n",
    "arr2 = np.array(myList2)\n",
    "\n",
    "# ndarray의 크기, 차원 확인\n",
    "print(arr1.shape) # 4행 ndarray, 행만 존재, 열은 x \n",
    "print(arr2.shape) # 2행 4열 ndarray\n"
   ]
  },
  {
   "cell_type": "markdown",
   "metadata": {},
   "source": [
    "### array에서의 data 타입이 섞인 경우 "
   ]
  },
  {
   "cell_type": "code",
   "execution_count": 8,
   "metadata": {},
   "outputs": [
    {
     "name": "stdout",
     "output_type": "stream",
     "text": [
      "[1.    2.    3.    4.923]\n",
      "[1 2 3 4]\n"
     ]
    }
   ],
   "source": [
    "# int와 flaot 타입이 섞인 경우\n",
    "arr1 = np.array([1,2,3,4.923])\n",
    "print(arr1)\n",
    "\n",
    "arr2 = np.array([1,2,3,4.923], dtype = int)\n",
    "print(arr2)"
   ]
  },
  {
   "cell_type": "code",
   "execution_count": 11,
   "metadata": {},
   "outputs": [
    {
     "name": "stdout",
     "output_type": "stream",
     "text": [
      "['1' '2' '3' '1.23' '2.34' '5.61' 'a' 'b' 'c']\n",
      "<class 'numpy.ndarray'>\n"
     ]
    }
   ],
   "source": [
    "# int, float, str이 섞인 경우\n",
    "arr = np.array([1,2,3, 1.23, 2.34, 5.61, 'a','b','c'])\n",
    "print(arr)\n",
    "print(type(arr))"
   ]
  },
  {
   "cell_type": "markdown",
   "metadata": {},
   "source": [
    "### 슬라이싱 (Slicing)"
   ]
  },
  {
   "cell_type": "code",
   "execution_count": 16,
   "metadata": {},
   "outputs": [
    {
     "name": "stdout",
     "output_type": "stream",
     "text": [
      "(10,)\n",
      "0\n",
      "9\n",
      "9\n"
     ]
    }
   ],
   "source": [
    "arr1 = np.array([0, 1,2,3,4,5,6,7,8,9])\n",
    "print(arr1.shape)\n",
    "print(arr1[0])\n",
    "print(arr1[9])\n",
    "print(arr1[-1])"
   ]
  },
  {
   "cell_type": "code",
   "execution_count": 23,
   "metadata": {},
   "outputs": [
    {
     "name": "stdout",
     "output_type": "stream",
     "text": [
      "[[1 2 3 4]\n",
      " [3 4 5 6]\n",
      " [7 8 9 0]]\n",
      "(3, 4)\n",
      "[3 4 5 6]\n"
     ]
    }
   ],
   "source": [
    "# 2차원 ndarray \n",
    "arr2 = np.array([[1,2,3,4],\n",
    "                [3,4,5,6],\n",
    "                [7,8,9,0]])\n",
    "\n",
    "print(arr2)\n",
    "print(arr2.shape)\n",
    "print(arr2[1])"
   ]
  },
  {
   "cell_type": "markdown",
   "metadata": {},
   "source": [
    "### 범위 색인\n",
    "1. 1차원 "
   ]
  },
  {
   "cell_type": "code",
   "execution_count": 24,
   "metadata": {},
   "outputs": [
    {
     "name": "stdout",
     "output_type": "stream",
     "text": [
      "[5 7 8 9]\n",
      "[0 1 2 3 4]\n",
      "[1 2 3 4]\n",
      "[0 1 2 3 4 5 7 8]\n"
     ]
    }
   ],
   "source": [
    "arr = np.array([0,1,2,3,4,5,7,8,9])\n",
    "\n",
    "print(arr[5:])  # 5부터 마지막까지 \n",
    "print(arr[:5])  # 처음부터 4까지 \n",
    "print(arr[1:5]) # 1부터 4까지 \n",
    "print(arr[:-1]) # 처음부터 마지막 전까지 "
   ]
  },
  {
   "cell_type": "markdown",
   "metadata": {},
   "source": [
    "2. 2차원"
   ]
  },
  {
   "cell_type": "code",
   "execution_count": 27,
   "metadata": {},
   "outputs": [
    {
     "name": "stdout",
     "output_type": "stream",
     "text": [
      "[1 2 3 4]\n",
      "[1 5 9]\n",
      "(4,)\n"
     ]
    }
   ],
   "source": [
    "arr2 = np.array([[1,2,3,4],\n",
    "                [5,6,7,8],\n",
    "                [9,10,11,12]])\n",
    "\n",
    "print(arr2[0, :]) # row를 모두 가져오는 경우 \n",
    "print(arr2[:, 0]) # col을 모두 가져오는 경우 \n",
    "print(arr2[0, :].shape)"
   ]
  },
  {
   "cell_type": "markdown",
   "metadata": {},
   "source": [
    "3. Fancy 인덱싱\n",
    "- fancy 인덱싱은 범위가 아닌 특정 index의 집합의 값을 선택하여 추출하고 싶을 때 사용 "
   ]
  },
  {
   "cell_type": "code",
   "execution_count": 28,
   "metadata": {},
   "outputs": [
    {
     "name": "stdout",
     "output_type": "stream",
     "text": [
      "[ 7 30  2]\n"
     ]
    }
   ],
   "source": [
    "# 1차원 \n",
    "arr = np.array([10, 23, 2, 7, 30, 90, 2])\n",
    "idx = [3, 4, 2]\n",
    "print(arr[idx])"
   ]
  },
  {
   "cell_type": "code",
   "execution_count": 30,
   "metadata": {},
   "outputs": [
    {
     "name": "stdout",
     "output_type": "stream",
     "text": [
      "[[ 1  2  3  4]\n",
      " [ 9 10 11 12]]\n"
     ]
    }
   ],
   "source": [
    "# 2차원 \n",
    "arr2 = np.array([[1,2,3,4],\n",
    "                [5,6,7,8],\n",
    "                [9,10,11,12]])\n",
    "print(arr2[[0, 2], : ]) # 0행과 2행을 가져옴 "
   ]
  },
  {
   "cell_type": "markdown",
   "metadata": {},
   "source": [
    "### Boolean 인덱싱 \n",
    "- 조건 필터링을 통하여 Bollean 값을 이용한 색인 "
   ]
  },
  {
   "cell_type": "code",
   "execution_count": 31,
   "metadata": {},
   "outputs": [],
   "source": [
    "arr1 = np.array([1,2,3,4,5,6,7])\n",
    "arr2 = np.array([[1,2,3,4],\n",
    "                [5,6,7,8],\n",
    "                [9,10,11,12]])"
   ]
  },
  {
   "cell_type": "code",
   "execution_count": 34,
   "metadata": {},
   "outputs": [
    {
     "ename": "IndexError",
     "evalue": "boolean index did not match indexed array along dimension 0; dimension is 7 but corresponding boolean dimension is 3",
     "output_type": "error",
     "traceback": [
      "\u001b[1;31m---------------------------------------------------------------------------\u001b[0m",
      "\u001b[1;31mIndexError\u001b[0m                                Traceback (most recent call last)",
      "\u001b[1;32m<ipython-input-34-c2d3e1894556>\u001b[0m in \u001b[0;36m<module>\u001b[1;34m\u001b[0m\n\u001b[0;32m      1\u001b[0m \u001b[1;31m# True와 Flase 값으로 색인\u001b[0m\u001b[1;33m\u001b[0m\u001b[1;33m\u001b[0m\u001b[1;33m\u001b[0m\u001b[0m\n\u001b[0;32m      2\u001b[0m \u001b[0mmyTrueFlase\u001b[0m \u001b[1;33m=\u001b[0m \u001b[1;33m[\u001b[0m\u001b[1;32mTrue\u001b[0m\u001b[1;33m,\u001b[0m \u001b[1;32mFalse\u001b[0m\u001b[1;33m,\u001b[0m \u001b[1;32mTrue\u001b[0m\u001b[1;33m]\u001b[0m\u001b[1;33m\u001b[0m\u001b[1;33m\u001b[0m\u001b[0m\n\u001b[1;32m----> 3\u001b[1;33m \u001b[0mprint\u001b[0m\u001b[1;33m(\u001b[0m\u001b[0marr1\u001b[0m\u001b[1;33m[\u001b[0m\u001b[0mmyTrueFlase\u001b[0m\u001b[1;33m]\u001b[0m\u001b[1;33m)\u001b[0m\u001b[1;33m\u001b[0m\u001b[1;33m\u001b[0m\u001b[0m\n\u001b[0m\u001b[0;32m      4\u001b[0m \u001b[1;33m\u001b[0m\u001b[0m\n\u001b[0;32m      5\u001b[0m \u001b[1;31m# err 뜨는 이유 : 색인 리스트는 3개인데 ndarray는 그 이상의 개수라서\u001b[0m\u001b[1;33m\u001b[0m\u001b[1;33m\u001b[0m\u001b[1;33m\u001b[0m\u001b[0m\n",
      "\u001b[1;31mIndexError\u001b[0m: boolean index did not match indexed array along dimension 0; dimension is 7 but corresponding boolean dimension is 3"
     ]
    }
   ],
   "source": [
    "# True와 Flase 값으로 색인 \n",
    "myTrueFlase = [True, False, True]\n",
    "print(arr1[myTrueFlase]) \n",
    "\n",
    "# err 뜨는 이유 : 색인 리스트는 3개인데 ndarray는 그 이상의 개수라서 "
   ]
  },
  {
   "cell_type": "code",
   "execution_count": 38,
   "metadata": {},
   "outputs": [
    {
     "name": "stdout",
     "output_type": "stream",
     "text": [
      "[False False False  True  True  True  True]\n",
      "[ 4  5  6  7  8  9 10 11 12]\n",
      "(9,)\n"
     ]
    }
   ],
   "source": [
    "# 조건 필터 \n",
    "arr1 = np.array([1,2,3,4,5,6,7])\n",
    "print(arr1 > 3)\n",
    "\n",
    "arr2 = np.array([[1,2,3,4],\n",
    "                [5,6,7,8],\n",
    "                [9,10,11,12]])\n",
    "\n",
    "print(arr2[arr2 > 3]) # 1차원으로 변경된다.\n",
    "print(arr2[arr2 > 3].shape)"
   ]
  },
  {
   "cell_type": "markdown",
   "metadata": {},
   "source": [
    "### arange \n",
    "1. 순서대로 리스트에 값을 생성"
   ]
  },
  {
   "cell_type": "code",
   "execution_count": 40,
   "metadata": {},
   "outputs": [
    {
     "name": "stdout",
     "output_type": "stream",
     "text": [
      "[ 1  2  3  4  5  6  8  9 10]\n",
      "[ 1  2  3  4  5  6  7  8  9 10]\n"
     ]
    }
   ],
   "source": [
    "arr = np.array([1,2,3,4,5,6,8,9, 10])\n",
    "print(arr) \n",
    "\n",
    "# arange(start, stop, step)\n",
    "arr = np.arange(1,11) \n",
    "print(arr)"
   ]
  },
  {
   "cell_type": "code",
   "execution_count": 41,
   "metadata": {},
   "outputs": [
    {
     "data": {
      "text/plain": [
       "[2, 3, 4]"
      ]
     },
     "execution_count": 41,
     "metadata": {},
     "output_type": "execute_result"
    }
   ],
   "source": [
    "def myGen(start=1, stop=10,step=1):\n",
    "    myList=[]\n",
    "\n",
    "    for i in range(start,stop,step):\n",
    "        myList.append(i)\n",
    "    \n",
    "    return myList\n",
    "\n",
    "result = myGen(stop=5, start=2)\n",
    "result"
   ]
  },
  {
   "cell_type": "markdown",
   "metadata": {},
   "source": [
    "### 정렬\n",
    "1. 행 정렬"
   ]
  },
  {
   "cell_type": "code",
   "execution_count": 45,
   "metadata": {},
   "outputs": [
    {
     "name": "stdout",
     "output_type": "stream",
     "text": [
      "[[ 1  2  3  4]\n",
      " [ 5  6  7  8]\n",
      " [ 9 10 11 12]]\n"
     ]
    }
   ],
   "source": [
    "arr2 = np.array([[1,2,3,4],\n",
    "                [5,6,7,8],\n",
    "                [9,10,11,12]])\n",
    "\n",
    "arr2.sort(axis=0)\n",
    "print(arr2)"
   ]
  },
  {
   "cell_type": "markdown",
   "metadata": {},
   "source": [
    "## array의 브로드캐스팅 "
   ]
  },
  {
   "cell_type": "code",
   "execution_count": null,
   "metadata": {},
   "outputs": [],
   "source": [
    "a = np.array([[1,2,3], \n",
    "            [2,3,4]])\n",
    "\n",
    "b = np.array([[1], [2]])"
   ]
  }
 ],
 "metadata": {
  "interpreter": {
   "hash": "3e25f38887989d9c8201ef7139a5fec5e877d45548b16406394f2206b64b627f"
  },
  "kernelspec": {
   "display_name": "Python 3.6.8 ('venv': venv)",
   "language": "python",
   "name": "python3"
  },
  "language_info": {
   "codemirror_mode": {
    "name": "ipython",
    "version": 3
   },
   "file_extension": ".py",
   "mimetype": "text/x-python",
   "name": "python",
   "nbconvert_exporter": "python",
   "pygments_lexer": "ipython3",
   "version": "3.6.8"
  },
  "orig_nbformat": 4
 },
 "nbformat": 4,
 "nbformat_minor": 2
}
