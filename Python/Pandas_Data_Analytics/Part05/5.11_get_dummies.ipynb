{
 "cells": [
  {
   "cell_type": "markdown",
   "metadata": {},
   "source": [
    "### 더미 변수\n",
    "- 범주형 데이터를 회귀분석등 머신러닝 알고리즘에 바로 사용할 수 없는 경우 \n",
    "- 이럴 때 숫자 0 or 1로 표현되는 더미 변수(dummy variable) 사용\n",
    "0과 1은 크고 작음이 아니라 특성(feature)이 있는지 없는지 여부를 표시\n",
    "- 특성이 존재하면 1, 없으면 0 \n",
    "- 이는 컴퓨터가 인식 할 수 있도록 숫자 0과 1로만 구성되는 원핫벡터로 변환한다고 하여\n",
    "one-hot-encoding이라고 부른다"
   ]
  },
  {
   "cell_type": "code",
   "execution_count": 3,
   "metadata": {},
   "outputs": [],
   "source": [
    "import pandas as pd\n",
    "import numpy as np \n",
    "\n",
    "path = 'C:\\\\Users\\\\jswoo\\\\Desktop\\\\Repository\\\\Study_Data_Science\\\\Pandas_Data_Analytics\\\\auto-mpg.csv'\n",
    "df = pd.read_csv(path, header=None)\n",
    "\n",
    "df.columns = ['mpg', 'cylinders', 'displacement', 'horsepower', 'weight', \n",
    "'acceleration', 'model year', 'origin', 'name']\n",
    "\n",
    "df['horsepower'].replace('?', np.nan, inplace = True)\n",
    "df.dropna(subset = ['horsepower'], axis = 0, inplace = True)\n",
    "df['horsepower'] = df['horsepower'].astype('float')\n",
    "\n",
    "count, bin_dividers = np.histogram(df['horsepower'], bins = 3)\n",
    "\n",
    "bin_names = ['저출력', '보통출력', '고출력']\n",
    "\n",
    "df['hp_bin'] = pd.cut(x = df['horsepower'],\n",
    "                    bins = bin_dividers,\n",
    "                    labels = bin_names,\n",
    "                    include_lowest=True) "
   ]
  },
  {
   "cell_type": "code",
   "execution_count": 4,
   "metadata": {},
   "outputs": [
    {
     "name": "stdout",
     "output_type": "stream",
     "text": [
      "    저출력  보통출력  고출력\n",
      "0     0     1    0\n",
      "1     0     1    0\n",
      "2     0     1    0\n",
      "3     0     1    0\n",
      "4     0     1    0\n",
      "5     0     0    1\n",
      "6     0     0    1\n",
      "7     0     0    1\n",
      "8     0     0    1\n",
      "9     0     0    1\n",
      "10    0     0    1\n",
      "11    0     1    0\n",
      "12    0     1    0\n",
      "13    0     0    1\n",
      "14    1     0    0\n"
     ]
    }
   ],
   "source": [
    "# hp_bin 열의 범주형 데이터를 더미 변수로 변환\n",
    "horsepower_dummies = pd.get_dummies(df['hp_bin'])\n",
    "print(horsepower_dummies.head(15))"
   ]
  }
 ],
 "metadata": {
  "interpreter": {
   "hash": "efddc2e8d2dadd0ba13ae7128c02d630b24f1fdb7d9bd6bad5a6da54781ea1ce"
  },
  "kernelspec": {
   "display_name": "Python 3.6.8 ('venv': venv)",
   "language": "python",
   "name": "python3"
  },
  "language_info": {
   "codemirror_mode": {
    "name": "ipython",
    "version": 3
   },
   "file_extension": ".py",
   "mimetype": "text/x-python",
   "name": "python",
   "nbconvert_exporter": "python",
   "pygments_lexer": "ipython3",
   "version": "3.6.8"
  },
  "orig_nbformat": 4
 },
 "nbformat": 4,
 "nbformat_minor": 2
}
