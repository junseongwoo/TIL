{
 "cells": [
  {
   "cell_type": "markdown",
   "metadata": {},
   "source": [
    "### 누락 데이터 제거 \n",
    "- 열을 삭제하면 분석 대상이 갖는 변수를 제거\n",
    "- 행을 삭제하면 분석 대상의 관측값을 제거 "
   ]
  },
  {
   "cell_type": "code",
   "execution_count": 1,
   "metadata": {},
   "outputs": [
    {
     "name": "stdout",
     "output_type": "stream",
     "text": [
      "survived :  0\n",
      "pclass :  0\n",
      "sex :  0\n",
      "age :  177\n",
      "sibsp :  0\n",
      "parch :  0\n",
      "fare :  0\n",
      "embarked :  2\n",
      "class :  0\n",
      "who :  0\n",
      "adult_male :  0\n",
      "deck :  688\n",
      "embark_town :  2\n",
      "alive :  0\n",
      "alone :  0\n"
     ]
    }
   ],
   "source": [
    "import seaborn as sns\n",
    "\n",
    "df = sns.load_dataset('titanic')\n",
    "\n",
    "missing_df = df.isnull()\n",
    "for col in missing_df.columns : \n",
    "    missing_count = missing_df[col].value_counts()\n",
    "\n",
    "    try:\n",
    "        print(col, ': ', missing_count[True])\n",
    "    except:\n",
    "        print(col, ': ', 0)"
   ]
  },
  {
   "cell_type": "markdown",
   "metadata": {},
   "source": [
    "- dropna() 메소드에 thresh = 500 옵션을 적용\n",
    "- NaN 값을 500개 이상 갖는 모든 열을 삭제"
   ]
  },
  {
   "cell_type": "code",
   "execution_count": 2,
   "metadata": {},
   "outputs": [
    {
     "name": "stdout",
     "output_type": "stream",
     "text": [
      "Index(['survived', 'pclass', 'sex', 'age', 'sibsp', 'parch', 'fare',\n",
      "       'embarked', 'class', 'who', 'adult_male', 'embark_town', 'alive',\n",
      "       'alone'],\n",
      "      dtype='object')\n"
     ]
    }
   ],
   "source": [
    "# deck만 500 이상 NaN 값을 가지고 있으므로 deck 열 삭제\n",
    "df_thresh = df.dropna(axis = 1, thresh=500)\n",
    "print(df_thresh.columns)"
   ]
  },
  {
   "cell_type": "markdown",
   "metadata": {},
   "source": [
    "- dropna() 메소드에 subset을 열 데이터를 설정\n",
    "- 그렇게 되면 설정한 열의 행 중에 NaN 값이 모든 행(axis = 0)을 삭제 \n",
    "- 기본 값으로 how = 'any' 옵션이 적용 NaN 값이 하나라도 존재하면 삭제\n",
    "- how = 'all' 옵션으로 적용하면 모든 데이터가 NaN 값일 경우에만 삭제"
   ]
  },
  {
   "cell_type": "code",
   "execution_count": 3,
   "metadata": {},
   "outputs": [
    {
     "name": "stdout",
     "output_type": "stream",
     "text": [
      "714\n"
     ]
    }
   ],
   "source": [
    "df_age = df.dropna(subset = ['age'], how = 'any', axis = 0)\n",
    "print(len(df_age))"
   ]
  }
 ],
 "metadata": {
  "interpreter": {
   "hash": "efddc2e8d2dadd0ba13ae7128c02d630b24f1fdb7d9bd6bad5a6da54781ea1ce"
  },
  "kernelspec": {
   "display_name": "Python 3.6.8 ('venv': venv)",
   "language": "python",
   "name": "python3"
  },
  "language_info": {
   "codemirror_mode": {
    "name": "ipython",
    "version": 3
   },
   "file_extension": ".py",
   "mimetype": "text/x-python",
   "name": "python",
   "nbconvert_exporter": "python",
   "pygments_lexer": "ipython3",
   "version": "3.6.8"
  },
  "orig_nbformat": 4
 },
 "nbformat": 4,
 "nbformat_minor": 2
}
