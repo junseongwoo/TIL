{
 "cells": [
  {
   "cell_type": "markdown",
   "metadata": {},
   "source": [
    "- 열의 데이터 중에서 최대값과 최소값을 뺀 값으로 나누는 방법 \n",
    "- 해당 열의 최소값을 뺀 값을 분자, 해당 열의 최대값과 최소값의 차를 분모 \n",
    "- 0 ~ 1 사이의 범위로 변환"
   ]
  },
  {
   "cell_type": "code",
   "execution_count": 1,
   "metadata": {},
   "outputs": [],
   "source": [
    "import pandas as pd\n",
    "import numpy as np \n",
    "\n",
    "path = 'C:\\\\Users\\\\jswoo\\\\Desktop\\\\Repository\\\\Study_Data_Science\\\\Pandas_Data_Analytics\\\\auto-mpg.csv'\n",
    "df = pd.read_csv(path, header=None)\n",
    "\n",
    "df.columns = ['mpg', 'cylinders', 'displacement', 'horsepower', 'weight', \n",
    "'acceleration', 'model year', 'origin', 'name']\n",
    "\n",
    "df['horsepower'].replace('?', np.nan, inplace = True)\n",
    "df.dropna(subset = ['horsepower'], axis = 0, inplace = True)\n",
    "df['horsepower'] = df['horsepower'].astype('float')"
   ]
  },
  {
   "cell_type": "code",
   "execution_count": 2,
   "metadata": {},
   "outputs": [
    {
     "name": "stdout",
     "output_type": "stream",
     "text": [
      "0    0.456522\n",
      "1    0.646739\n",
      "2    0.565217\n",
      "3    0.565217\n",
      "4    0.510870\n",
      "Name: horsepower, dtype: float64\n"
     ]
    }
   ],
   "source": [
    "min_x = df.horsepower - df.horsepower.min()\n",
    "min_max = df.horsepower.max() - df.horsepower.min() \n",
    "df.horsepower = min_x / min_max \n",
    "\n",
    "print(df.horsepower.head())"
   ]
  },
  {
   "cell_type": "code",
   "execution_count": 3,
   "metadata": {},
   "outputs": [
    {
     "data": {
      "text/plain": [
       "count    392.000000\n",
       "mean       0.317768\n",
       "std        0.209191\n",
       "min        0.000000\n",
       "25%        0.157609\n",
       "50%        0.258152\n",
       "75%        0.434783\n",
       "max        1.000000\n",
       "Name: horsepower, dtype: float64"
      ]
     },
     "execution_count": 3,
     "metadata": {},
     "output_type": "execute_result"
    }
   ],
   "source": [
    "df.horsepower.describe()"
   ]
  },
  {
   "cell_type": "code",
   "execution_count": null,
   "metadata": {},
   "outputs": [],
   "source": []
  }
 ],
 "metadata": {
  "interpreter": {
   "hash": "efddc2e8d2dadd0ba13ae7128c02d630b24f1fdb7d9bd6bad5a6da54781ea1ce"
  },
  "kernelspec": {
   "display_name": "Python 3.6.8 ('venv': venv)",
   "language": "python",
   "name": "python3"
  },
  "language_info": {
   "codemirror_mode": {
    "name": "ipython",
    "version": 3
   },
   "file_extension": ".py",
   "mimetype": "text/x-python",
   "name": "python",
   "nbconvert_exporter": "python",
   "pygments_lexer": "ipython3",
   "version": "3.6.8"
  },
  "orig_nbformat": 4
 },
 "nbformat": 4,
 "nbformat_minor": 2
}
