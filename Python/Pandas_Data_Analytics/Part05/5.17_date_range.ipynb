{
 "cells": [
  {
   "cell_type": "markdown",
   "metadata": {},
   "source": [
    "### Timestamp 배열 \n",
    "- pandas date_range() 함수를 사용하면 Timestamp(날짜)가 들어 있는 배열 형태의 시계열 데이터를 만들 수 있다.\n",
    "- end = None 옵션은 날짜 범위의 끝을 따로 정하지 않는다는 뜻\n",
    "- periods = 6은 Timestamp를 6개 생성한다는 뜻 \n",
    "- freq = 'MS' 에서 M은 월, S는 시작일을 뜻함 \n",
    "- tz = 'Asia/Seoul' 옵션은 한국 시간대를 설정하는 것"
   ]
  },
  {
   "cell_type": "code",
   "execution_count": 2,
   "metadata": {},
   "outputs": [
    {
     "data": {
      "text/plain": [
       "DatetimeIndex(['2019-01-01 00:00:00+09:00', '2019-02-01 00:00:00+09:00',\n",
       "               '2019-03-01 00:00:00+09:00', '2019-04-01 00:00:00+09:00',\n",
       "               '2019-05-01 00:00:00+09:00', '2019-06-01 00:00:00+09:00'],\n",
       "              dtype='datetime64[ns, Asia/Seoul]', freq='MS')"
      ]
     },
     "execution_count": 2,
     "metadata": {},
     "output_type": "execute_result"
    }
   ],
   "source": [
    "import pandas as pd\n",
    "\n",
    "ts_ms = pd.date_range(start = '2019-01-01',\n",
    "                    end = None,\n",
    "                    periods = 6,\n",
    "                    freq = 'MS',\n",
    "                    tz = 'Asia/Seoul')\n",
    "\n",
    "ts_ms"
   ]
  },
  {
   "cell_type": "markdown",
   "metadata": {},
   "source": [
    "- freq = 'M' 옵션을 설정하면 월의 마지막 날짜 생성, \n",
    "- freq = '3M' 옵션은 3개월 간격의 마지막 날짜 생성"
   ]
  },
  {
   "cell_type": "code",
   "execution_count": 4,
   "metadata": {},
   "outputs": [
    {
     "data": {
      "text/plain": [
       "DatetimeIndex(['2019-01-31 00:00:00+09:00', '2019-02-28 00:00:00+09:00',\n",
       "               '2019-03-31 00:00:00+09:00', '2019-04-30 00:00:00+09:00',\n",
       "               '2019-05-31 00:00:00+09:00', '2019-06-30 00:00:00+09:00'],\n",
       "              dtype='datetime64[ns, Asia/Seoul]', freq='M')"
      ]
     },
     "execution_count": 4,
     "metadata": {},
     "output_type": "execute_result"
    }
   ],
   "source": [
    "ts_me = pd.date_range('2019-01-01', periods=6,\n",
    "freq = 'M', tz = 'Asia/Seoul')\n",
    "\n",
    "ts_me"
   ]
  },
  {
   "cell_type": "code",
   "execution_count": 5,
   "metadata": {},
   "outputs": [
    {
     "data": {
      "text/plain": [
       "DatetimeIndex(['2019-01-31 00:00:00+09:00', '2019-04-30 00:00:00+09:00',\n",
       "               '2019-07-31 00:00:00+09:00', '2019-10-31 00:00:00+09:00',\n",
       "               '2020-01-31 00:00:00+09:00', '2020-04-30 00:00:00+09:00'],\n",
       "              dtype='datetime64[ns, Asia/Seoul]', freq='3M')"
      ]
     },
     "execution_count": 5,
     "metadata": {},
     "output_type": "execute_result"
    }
   ],
   "source": [
    "ts_3m = pd.date_range('2019-01-01', periods=6,\n",
    "freq = '3M', tz = 'Asia/Seoul')\n",
    "\n",
    "ts_3m"
   ]
  }
 ],
 "metadata": {
  "interpreter": {
   "hash": "efddc2e8d2dadd0ba13ae7128c02d630b24f1fdb7d9bd6bad5a6da54781ea1ce"
  },
  "kernelspec": {
   "display_name": "Python 3.6.8 ('venv': venv)",
   "language": "python",
   "name": "python3"
  },
  "language_info": {
   "codemirror_mode": {
    "name": "ipython",
    "version": 3
   },
   "file_extension": ".py",
   "mimetype": "text/x-python",
   "name": "python",
   "nbconvert_exporter": "python",
   "pygments_lexer": "ipython3",
   "version": "3.6.8"
  },
  "orig_nbformat": 4
 },
 "nbformat": 4,
 "nbformat_minor": 2
}
