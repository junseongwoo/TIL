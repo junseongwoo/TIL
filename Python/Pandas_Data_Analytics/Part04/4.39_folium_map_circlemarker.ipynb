{
 "cells": [
  {
   "cell_type": "markdown",
   "metadata": {},
   "source": [
    "### 지도에 원형마크 표시\n",
    "- Marker() 함수 대신 CircleMarker() 함수 사용\n",
    "- 원형 마커의 크기, 색상, 투명도 등 설정 가능"
   ]
  },
  {
   "cell_type": "code",
   "execution_count": 1,
   "metadata": {},
   "outputs": [],
   "source": [
    "import folium \n",
    "import pandas as pd \n",
    "\n",
    "path = 'C:\\\\Users\\\\jswoo\\\\Desktop\\\\Repository\\\\Study_Data_Science\\\\Pandas_Data_Analytics\\\\Part04\\\\서울지역 대학교 위치.xlsx'\n",
    "df = pd.read_excel(path, index_col= 0, engine='openpyxl')\n",
    "\n",
    "seoul_map = folium.Map(location=[37.55, 126.98], tiles = 'Stamen Terrain',\n",
    "zoom_start=12)\n",
    "\n",
    "for name, lat, lng in zip(df.index, df.위도, df.경도) : \n",
    "    folium.CircleMarker([lat,lng],\n",
    "                        radius=10,\n",
    "                        color='brown',\n",
    "                        fill=True,\n",
    "                        fill_color='coral',\n",
    "                        fill_opacity = 0.7,\n",
    "                        popup = name\n",
    "    ).add_to(seoul_map)\n",
    "\n",
    "save_path = 'C:\\\\Users\\\\jswoo\\\\Desktop\\\\Repository\\\\Study_Data_Science\\\\Pandas_Data_Analytics\\\\Part04'\n",
    "seoul_map.save(save_path + '\\\\' + 'seoul_colleges2.html')\n"
   ]
  }
 ],
 "metadata": {
  "interpreter": {
   "hash": "efddc2e8d2dadd0ba13ae7128c02d630b24f1fdb7d9bd6bad5a6da54781ea1ce"
  },
  "kernelspec": {
   "display_name": "Python 3.6.8 ('venv': venv)",
   "language": "python",
   "name": "python3"
  },
  "language_info": {
   "codemirror_mode": {
    "name": "ipython",
    "version": 3
   },
   "file_extension": ".py",
   "mimetype": "text/x-python",
   "name": "python",
   "nbconvert_exporter": "python",
   "pygments_lexer": "ipython3",
   "version": "3.6.8"
  },
  "orig_nbformat": 4
 },
 "nbformat": 4,
 "nbformat_minor": 2
}
