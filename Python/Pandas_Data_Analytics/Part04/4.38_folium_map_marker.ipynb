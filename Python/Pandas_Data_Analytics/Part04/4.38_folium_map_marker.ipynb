{
 "cells": [
  {
   "cell_type": "markdown",
   "metadata": {},
   "source": [
    "### 지도에 마커 표시 \n",
    "- 서울지역 대학교 위치 xlsx를 데이터프레임으로 변환\n",
    "- Marker() 함수에 위도, 경도 정보를 전달 \n",
    "- popip 옵션을 추가하면 마커를 클릭했을 때 팝업창에 표시해주는 텍스트를 넣을 수 있다. "
   ]
  },
  {
   "cell_type": "code",
   "execution_count": 1,
   "metadata": {},
   "outputs": [],
   "source": [
    "import folium \n",
    "import pandas as pd \n",
    "\n",
    "path = 'C:\\\\Users\\\\jswoo\\\\Desktop\\\\Repository\\\\Study_Data_Science\\\\Pandas_Data_Analytics\\\\Part04\\\\서울지역 대학교 위치.xlsx'\n",
    "df = pd.read_excel(path, index_col= 0, engine='openpyxl')\n",
    "\n",
    "seoul_map = folium.Map(location=[37.55, 126.98], tiles = 'Stamen Terrain',\n",
    "zoom_start=12)\n",
    "\n",
    "for name, lat, lng in zip(df.index, df.위도, df.경도) : \n",
    "    folium.Marker([lat, lng], popup = name).add_to(seoul_map)\n",
    "\n",
    "save_path = 'C:\\\\Users\\\\jswoo\\\\Desktop\\\\Repository\\\\Study_Data_Science\\\\Pandas_Data_Analytics\\\\Part04'\n",
    "seoul_map.save(save_path + '\\\\' + 'seoul_colleges.html')\n"
   ]
  }
 ],
 "metadata": {
  "interpreter": {
   "hash": "efddc2e8d2dadd0ba13ae7128c02d630b24f1fdb7d9bd6bad5a6da54781ea1ce"
  },
  "kernelspec": {
   "display_name": "Python 3.6.8 ('venv': venv)",
   "language": "python",
   "name": "python3"
  },
  "language_info": {
   "codemirror_mode": {
    "name": "ipython",
    "version": 3
   },
   "file_extension": ".py",
   "mimetype": "text/x-python",
   "name": "python",
   "nbconvert_exporter": "python",
   "pygments_lexer": "ipython3",
   "version": "3.6.8"
  },
  "orig_nbformat": 4
 },
 "nbformat": 4,
 "nbformat_minor": 2
}
