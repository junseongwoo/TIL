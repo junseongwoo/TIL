{
 "cells": [
  {
   "cell_type": "markdown",
   "metadata": {},
   "source": [
    "### Foulium 라이브러리 \n",
    "- 지도 위에 시각화할 때 유용한 도구 \n",
    "\n",
    "### 지도 만들기\n",
    "- Map() 함수를 이용하면 간단하게 지도 객체 만들기 가능 \n",
    "- 지도 화면은 zoom 기능과 scroll 모두 가능 \n",
    "- IDE에서 실행해도 지도 표시 x -> 웹 기반 지도를 만들기 때문 \n",
    "- 그러므로 save() 메소드를 사용하여 HTML 파일로 저장하고 확인해야함 \n",
    "- Map() 함수의 location 옵션에 [위도, 경도] 수치를 입력하면 그 지점을 중심으로 지도를 보여줌"
   ]
  },
  {
   "cell_type": "code",
   "execution_count": 1,
   "metadata": {},
   "outputs": [],
   "source": [
    "import folium \n",
    "\n",
    "seoul_map = folium.Map(location=[37.55, 126.98], zoom_start=12)\n",
    "\n",
    "save_path = 'C:\\\\Users\\\\jswoo\\\\Desktop\\\\Repository\\\\Study_Data_Science\\\\Pandas_Data_Analytics\\\\Part04'\n",
    "seoul_map.save(save_path + '\\\\' + 'seoul.html')"
   ]
  }
 ],
 "metadata": {
  "interpreter": {
   "hash": "efddc2e8d2dadd0ba13ae7128c02d630b24f1fdb7d9bd6bad5a6da54781ea1ce"
  },
  "kernelspec": {
   "display_name": "Python 3.6.8 ('venv': venv)",
   "language": "python",
   "name": "python3"
  },
  "language_info": {
   "codemirror_mode": {
    "name": "ipython",
    "version": 3
   },
   "file_extension": ".py",
   "mimetype": "text/x-python",
   "name": "python",
   "nbconvert_exporter": "python",
   "pygments_lexer": "ipython3",
   "version": "3.6.8"
  },
  "orig_nbformat": 4
 },
 "nbformat": 4,
 "nbformat_minor": 2
}
