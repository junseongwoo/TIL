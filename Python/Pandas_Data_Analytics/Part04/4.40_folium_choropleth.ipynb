{
 "cells": [
  {
   "cell_type": "markdown",
   "metadata": {},
   "source": [
    "### 지도 영역에 단계구분도 표시\n",
    "- 행정구역과 같은 지도 상의 어떤 경계에 둘러싸인 영역에 색을 칠하거나 \n",
    "음영등으로 정보를 나타내는 시각화 방법\n",
    "- 정보의 값이 커지면 색이나 음영이 진해짐\n",
    "- Choropleth() 함수 이용"
   ]
  },
  {
   "cell_type": "code",
   "execution_count": 6,
   "metadata": {},
   "outputs": [],
   "source": [
    "import pandas as pd \n",
    "import folium \n",
    "import json\n",
    "\n",
    "file_path = 'C:\\\\Users\\\\jswoo\\\\Desktop\\\\Repository\\\\Study_Data_Science\\\\Pandas_Data_Analytics\\\\Part04\\\\경기도인구데이터.xlsx'\n",
    "df = pd.read_excel(file_path, index_col='구분', engine='openpyxl')\n",
    "df.columns = df.columns.map(str)\n",
    "\n",
    "geo_path = 'C:\\\\Users\\\\jswoo\\\\Desktop\\\\Repository\\\\Study_Data_Science\\\\Pandas_Data_Analytics\\\\Part04\\\\경기도행정구역경계.json'\n",
    "\n",
    "try : \n",
    "    geo_data = json.load(open(geo_path, encoding = 'utf-8'))\n",
    "except :\n",
    "    geo_data = json.load(open(geo_path, encoding = 'utf-8-sig'))\n",
    "\n",
    "g_map = folium.Map(location=[37.5502, 126.982],\n",
    "                   tiles = 'Stamen Terrain', zoom_start=9)\n",
    "\n",
    "year = '2007'\n",
    "\n",
    "folium.Choropleth(geo_data=geo_data,\n",
    "                data = df[year],\n",
    "                columns = [df.index, df[year]],\n",
    "                fill_color= 'YlOrRd', fill_opacity = 0.7, line_opacity=0.3,\n",
    "                threshold_scale = [10000, 100000, 300000, 500000, 700000],\n",
    "                key_on = 'feature.properties.name',\n",
    "                ).add_to(g_map)\n",
    "\n",
    "save_path = 'C:\\\\Users\\\\jswoo\\\\Desktop\\\\Repository\\\\Study_Data_Science\\\\Pandas_Data_Analytics\\\\Part04'\n",
    "g_map.save(save_path + '\\\\' + 'gyonggi_population_' + year + '.html')"
   ]
  }
 ],
 "metadata": {
  "interpreter": {
   "hash": "efddc2e8d2dadd0ba13ae7128c02d630b24f1fdb7d9bd6bad5a6da54781ea1ce"
  },
  "kernelspec": {
   "display_name": "Python 3.6.8 ('venv': venv)",
   "language": "python",
   "name": "python3"
  },
  "language_info": {
   "codemirror_mode": {
    "name": "ipython",
    "version": 3
   },
   "file_extension": ".py",
   "mimetype": "text/x-python",
   "name": "python",
   "nbconvert_exporter": "python",
   "pygments_lexer": "ipython3",
   "version": "3.6.8"
  },
  "orig_nbformat": 4
 },
 "nbformat": 4,
 "nbformat_minor": 2
}
