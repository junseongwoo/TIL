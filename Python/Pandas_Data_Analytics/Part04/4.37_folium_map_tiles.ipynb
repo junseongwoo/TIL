{
 "cells": [
  {
   "cell_type": "markdown",
   "metadata": {},
   "source": [
    "### 지도 스타일 적용\n",
    "- Map() 함수에 tiles 옵션은 지도에 적용하는 스타일을 변경한다."
   ]
  },
  {
   "cell_type": "code",
   "execution_count": 3,
   "metadata": {},
   "outputs": [
    {
     "name": "stdout",
     "output_type": "stream",
     "text": [
      "<folium.folium.Map object at 0x0000022E2F8F1D68>\n"
     ]
    }
   ],
   "source": [
    "import folium \n",
    "\n",
    "seoul_map2 = folium.Map(location=[37.55, 126.98], tiles='Stamen Terrain',\n",
    "                      zoom_start=12)\n",
    "\n",
    "seoul_map3 = folium.Map(location=[37.55, 126.98], tiles='Stamen Toner',\n",
    "                      zoom_start=15)\n",
    "\n",
    "save_path = 'C:\\\\Users\\\\jswoo\\\\Desktop\\\\Repository\\\\Study_Data_Science\\\\Pandas_Data_Analytics\\\\Part04'\n",
    "seoul_map2.save(save_path + '\\\\' + 'seoul2.html')\n",
    "seoul_map3.save(save_path + '\\\\' + 'seoul3.html')"
   ]
  },
  {
   "cell_type": "code",
   "execution_count": null,
   "metadata": {},
   "outputs": [],
   "source": []
  }
 ],
 "metadata": {
  "interpreter": {
   "hash": "efddc2e8d2dadd0ba13ae7128c02d630b24f1fdb7d9bd6bad5a6da54781ea1ce"
  },
  "kernelspec": {
   "display_name": "Python 3.6.8 ('venv': venv)",
   "language": "python",
   "name": "python3"
  },
  "language_info": {
   "codemirror_mode": {
    "name": "ipython",
    "version": 3
   },
   "file_extension": ".py",
   "mimetype": "text/x-python",
   "name": "python",
   "nbconvert_exporter": "python",
   "pygments_lexer": "ipython3",
   "version": "3.6.8"
  },
  "orig_nbformat": 4
 },
 "nbformat": 4,
 "nbformat_minor": 2
}
