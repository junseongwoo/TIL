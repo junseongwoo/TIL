{
 "cells": [
  {
   "cell_type": "markdown",
   "metadata": {},
   "source": [
    "# 선형 계획법 (Linear Programming)\n",
    "- 선형 계획법을 사용하기 위한 조건\n",
    "    - 문제를 방정식의 집합으로 표현 가능해야함 \n",
    "    - 방정식에 사용되는 변수 사이에 일차 방정식이 성립해야함 \n",
    "\n",
    "### 활용 사례 : 용량 계획 \n",
    "- 두 종류의 로봇을 생상하는 공장의 수익을 선형 계획법을 이용해 최대화\n",
    "- 고급 로봇(A) : 모든 기능 갖춘 로봇, 개당 5000달러 수익 창출\n",
    "    - 필요 노동력 : 기술자(3일), AI 전문가(4일), 엔지니어(4일)\n",
    "- 기본 로봇(B) : 기본 기능만 갖춘 로봇, 개당 2500달러 수익 창출\n",
    "    - 필요 노동력 : 기술자(2일), AI 전문가(3일) 엔지니어(3일)\n",
    "- 공장 가동 주기 : 30일 \n",
    "- 기술자(1명)은 20일 동안 생산 참여 가능\n",
    "- AI전문가(1명)은 30일 모두 작업 가능\n",
    "- 엔지니어(2명)은 22일 생산 참여 가능 "
   ]
  },
  {
   "cell_type": "markdown",
   "metadata": {},
   "source": [
    "### 모델 조건\n",
    "- 최대 수익 = 5000A + 2500B \n",
    "- A >= 0, B >= 0 \n",
    "- 3A + 2B <= 20 : 기술자 투입 일수의 조건 \n",
    "- 4A + 3B <= 30 : AI 전문가 투입 일수의 제약 조건\n",
    "- 4A + 3B <= 44 : 엔지니어 투입 일수의 제약 조건"
   ]
  },
  {
   "cell_type": "code",
   "execution_count": 1,
   "metadata": {},
   "outputs": [
    {
     "name": "stderr",
     "output_type": "stream",
     "text": [
      "c:\\Users\\jswoo\\Desktop\\Repository\\Study_Python\\venv\\lib\\site-packages\\pulp\\pulp.py:1352: UserWarning: Spaces are not permitted in the name. Converted to '_'\n",
      "  warnings.warn(\"Spaces are not permitted in the name. Converted to '_'\")\n"
     ]
    },
    {
     "name": "stdout",
     "output_type": "stream",
     "text": [
      "6.0\n",
      "1.0\n"
     ]
    }
   ],
   "source": [
    "import pulp\n",
    "\n",
    "model = pulp.LpProblem(\"Profit maximsing problem\", pulp.LpMaximize)\n",
    "\n",
    "A = pulp.LpVariable('A', lowBound=0, cat='Integer')\n",
    "B = pulp.LpVariable('B', lowBound=0, cat='Integer')\n",
    "\n",
    "# 목적 함수 설정 \n",
    "model += 5000 * A + 2500 * B, \"Profit\"\n",
    "\n",
    "# 제약 조건 설정\n",
    "model += 3 * A + 2 * B <= 20 \n",
    "model += 4 * A + 3 * B <= 30 \n",
    "model += 4 * A + 3 * B <= 44 \n",
    "\n",
    "model.solve()\n",
    "pulp.LpStatus[model.status]\n",
    "\n",
    "# 결정 변수의 값을 출력\n",
    "print(A.varValue)\n",
    "print(B.varValue)"
   ]
  },
  {
   "cell_type": "code",
   "execution_count": 2,
   "metadata": {},
   "outputs": [
    {
     "name": "stdout",
     "output_type": "stream",
     "text": [
      "32500.0\n"
     ]
    }
   ],
   "source": [
    "# 목적 함수의 값을 출력\n",
    "print(pulp.value(model.objective))"
   ]
  },
  {
   "cell_type": "code",
   "execution_count": null,
   "metadata": {},
   "outputs": [],
   "source": []
  }
 ],
 "metadata": {
  "kernelspec": {
   "display_name": "Python 3.6.8 ('venv': venv)",
   "language": "python",
   "name": "python3"
  },
  "language_info": {
   "codemirror_mode": {
    "name": "ipython",
    "version": 3
   },
   "file_extension": ".py",
   "mimetype": "text/x-python",
   "name": "python",
   "nbconvert_exporter": "python",
   "pygments_lexer": "ipython3",
   "version": "3.6.8"
  },
  "orig_nbformat": 4,
  "vscode": {
   "interpreter": {
    "hash": "9a10d58684a97c7ef9814f8d1e63a748a9b86fa1df8aba50abb871f223b28850"
   }
  }
 },
 "nbformat": 4,
 "nbformat_minor": 2
}
