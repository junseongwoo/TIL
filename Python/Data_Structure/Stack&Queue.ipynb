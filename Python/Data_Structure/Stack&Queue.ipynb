{
 "cells": [
  {
   "cell_type": "markdown",
   "metadata": {},
   "source": [
    "### 스택 (Stack) \n",
    "- 선형 리스트의 특별한 형태, 한쪽 방향으로 쌓는 구조를 말함 \n",
    "- 나중에 들어가는 원소가 가정 먼저 나오는 후입 선출(LIFO : Last In First Out) 구조 \n",
    "- 스택에 원소를 추가하는 연산 : push()\n",
    "    - 리스트가 아닌 정적 배열에 스택을 구현하는 경우 push() 함수는 원소를 추가하기 전에 빈 상태가 아닌지 검사\n",
    "- 스택에서 원소를 삭제하는 연산 : pop()\n",
    "    - 스택에서 원소를 꺼내기 전에 스택이 빈 상태가 아닌지 검사, top 변수가 -1이면 빈 상태임을 의미"
   ]
  },
  {
   "cell_type": "code",
   "execution_count": 1,
   "metadata": {},
   "outputs": [
    {
     "name": "stdout",
     "output_type": "stream",
     "text": [
      "[3]\n",
      "[3, 4]\n",
      "[3, 4, 5]\n",
      "[3, 4, 5, 6]\n",
      "[3, 4, 5, 6, 7]\n",
      "Stack Full\n",
      "[3, 4, 5, 6]\n",
      "[3, 4, 5]\n",
      "[3, 4]\n",
      "[3]\n",
      "[]\n",
      "Stack Empty\n",
      "[]\n"
     ]
    }
   ],
   "source": [
    "# 스택의 구현 \n",
    "class Stack : \n",
    "    def __init__(self, size) :\n",
    "        self.top = -1 \n",
    "        self.stack = []\n",
    "        self.size = size\n",
    "    \n",
    "    def push(self, item) : \n",
    "        if self.top < (self.size-1) : \n",
    "            self.top += 1\n",
    "            self.stack.append(item)\n",
    "            self.show_stack() \n",
    "        else : \n",
    "            print(\"Stack Full\")\n",
    "\n",
    "    def pop(self) :\n",
    "        if self.top > -1 :\n",
    "            self.top -= 1 \n",
    "            return self.stack.pop()\n",
    "        else : \n",
    "            print(\"Stack Empty\")\n",
    "\n",
    "    def show_stack(self) : \n",
    "        print(self.stack) \n",
    "\n",
    "s = Stack(5)\n",
    "for item in [3, 4, 5 , 6, 7, 8] : \n",
    "    s.push(item) \n",
    "\n",
    "for i in range(6) : \n",
    "    s.pop() \n",
    "    s.show_stack()"
   ]
  },
  {
   "cell_type": "markdown",
   "metadata": {},
   "source": [
    "### 선형 큐 \n",
    "- 큐(queue)는 작업들이 처리되기 전에 대기하고 있는 선형 리스트 자료 구조 \n",
    "- 선형 큐(linear Queue) : 큐의 시작과 끝이 서로 분리되어 있는 구조 \n",
    "- 순환 큐(Circular Queue) : 양 끝이 연결된 구조 \n",
    "- 큐에서는 선입 선출(First-In, First-Out) 방식으로 도착 순서에 따라 추가되거나 삭제 \n",
    "- 새로운 원소는 큐(Q)의 가장 뒤(rear)에 추가, 큐의 맨 앞(front) 원소가 먼저 삭제\n",
    "\n",
    "### 큐의 구현 \n",
    "- front와 rear 변수를 사용하여 큐의 앞과 뒤 원소 가리키도록 함 \n",
    "- 큐에서 원소를 추가하는 연산 : push or add \n",
    "- 큐에서 원소를 삭제하는 연산 : pop or delete \n",
    "- push는 리스트의 append() 함수 이용, pop은 리스트의 pop(0)를 홏풀하여 맨 앞의 원소 삭제 \n",
    "- 만약 인덱스 없이 pop() 함수를 실행하면 리스트에 가장 마자믹에 들어간 원소가 삭제 되니 주의 "
   ]
  },
  {
   "cell_type": "code",
   "execution_count": 2,
   "metadata": {},
   "outputs": [
    {
     "name": "stdout",
     "output_type": "stream",
     "text": [
      "[3]\n",
      "[3, 4]\n",
      "[3, 4, 5]\n",
      "[3, 4, 5, 6]\n",
      "[3, 4, 5, 6, 7]\n",
      "Queue full\n",
      "Queue empty\n",
      "[3, 4, 5, 6, 7]\n",
      "Queue empty\n",
      "[3, 4, 5, 6, 7]\n",
      "Queue empty\n",
      "[3, 4, 5, 6, 7]\n",
      "Queue empty\n",
      "[3, 4, 5, 6, 7]\n",
      "Queue empty\n",
      "[3, 4, 5, 6, 7]\n",
      "Queue empty\n",
      "[3, 4, 5, 6, 7]\n"
     ]
    }
   ],
   "source": [
    "# 큐의 구현\n",
    "class Queue:\n",
    "    def __init__(self, size):\n",
    "        self.front = -1\n",
    "        self.rear = -1\n",
    "        self.queue = []\n",
    "        self.size = size \n",
    "\n",
    "    def isEmpty(self):\n",
    "        return len(self.queue) == self.size\n",
    "    \n",
    "    def isFull(self):\n",
    "        return len(self.queue) == self.size\n",
    "\n",
    "    def push(self, item):\n",
    "        if not self.isFull():\n",
    "            self.rear += 1 \n",
    "            self.queue.append(item)\n",
    "            self.show_queue()\n",
    "        else:\n",
    "            print(\"Queue full\")\n",
    "\n",
    "    def pop(self):\n",
    "        if not self.isEmpty():\n",
    "            self.front += 1\n",
    "            return self.queue.pop(0)\n",
    "        else:\n",
    "            print(\"Queue empty\")\n",
    "\n",
    "    def show_queue(self):\n",
    "        print(self.queue) \n",
    "\n",
    "q = Queue(5) \n",
    "for item in [3,4,5,6,7,8]:\n",
    "    q.push(item)\n",
    "for i in range(6):\n",
    "    q.pop()\n",
    "    q.show_queue() "
   ]
  },
  {
   "cell_type": "code",
   "execution_count": null,
   "metadata": {},
   "outputs": [],
   "source": []
  }
 ],
 "metadata": {
  "interpreter": {
   "hash": "3e25f38887989d9c8201ef7139a5fec5e877d45548b16406394f2206b64b627f"
  },
  "kernelspec": {
   "display_name": "Python 3.6.8 ('venv': venv)",
   "language": "python",
   "name": "python3"
  },
  "language_info": {
   "codemirror_mode": {
    "name": "ipython",
    "version": 3
   },
   "file_extension": ".py",
   "mimetype": "text/x-python",
   "name": "python",
   "nbconvert_exporter": "python",
   "pygments_lexer": "ipython3",
   "version": "3.6.8"
  },
  "orig_nbformat": 4
 },
 "nbformat": 4,
 "nbformat_minor": 2
}
