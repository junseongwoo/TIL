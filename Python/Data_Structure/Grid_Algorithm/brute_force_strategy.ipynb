{
 "cells": [
  {
   "cell_type": "markdown",
   "metadata": {},
   "source": [
    "## 외판원 문제 해결 \n",
    "- Traveling Salesman Problom \n",
    "- NP-난해 문제 \n",
    "- 입력 : n개의 도시로 된 리스트와 도시 간 거리\n",
    "- 출력 : 모든 도시를 한 번씩 방문하고 출발지로 되돌아오는 가장 짧은 투어 "
   ]
  },
  {
   "cell_type": "markdown",
   "metadata": {},
   "source": [
    "### 무차별 대입 전략 \n",
    "- 동작 원리 \n",
    "1. 가능한 모든 투어 일정을 생성하고 이동 거리를 측정\n",
    "2. 이동 거리가 가장 짧은 투어 선택 "
   ]
  },
  {
   "cell_type": "code",
   "execution_count": 1,
   "metadata": {},
   "outputs": [],
   "source": [
    "import random \n",
    "from itertools import permutations\n",
    "alltours = permutations \n",
    "\n",
    "# 두 지점 간의 거리 계산 \n",
    "def distance_points(first, second):\n",
    "    return abs(first - second)\n",
    "\n",
    "# 외판원이 이동해야 할 투어의 이동 거리 계산 \n",
    "def distance_tour(aTour):\n",
    "    return sum(distance_points(aTour[i - 1], aTour[i]) for i in range(len(aTour)))\n",
    "\n",
    "# 복소수로 표현 \n",
    "aCity = complex \n",
    "\n",
    "# 가로 500, 세로 300의 직사각형 안에서 n개의 도시를 무작위로 생성\n",
    "def generate_cities(number_of_cities):\n",
    "    seed = 111\n",
    "    width = 500\n",
    "    height = 300\n",
    "    random.seed((number_of_cities, seed))\n",
    "    return frozenset(aCity(random.randint(1, width), random.randint(1, height)) \\\n",
    "                    for c in range(number_of_cities))\n",
    "\n",
    "# 모든 가능한 투어를 생성한 다음 그 중에서 이동 거리가 가장 짧은 투어를 선택 \n",
    "def brute_force(cities):\n",
    "    return shortest_tour(alltours(cities))\n",
    "\n",
    "def shortest_tour(tours):\n",
    "    return min(tours, key = distance_tour)"
   ]
  },
  {
   "cell_type": "code",
   "execution_count": 2,
   "metadata": {},
   "outputs": [],
   "source": [
    "# 도시 시각화 함수 구현 \n",
    "import matplotlib.pyplot as plt \n",
    "\n",
    "def X(city): \"X axis\"; return city.real \n",
    "def Y(city): \"Y axis\"; return city.imag \n",
    "\n",
    "# 도시와 연결선을 그리는 함수\n",
    "def visualize_segment(segment, style = 'bo-'):\n",
    "    plt.plot([X(c) for c in segment], [Y(c) for c in segment], style, clip_on = False)\n",
    "    plt.axis('scaled')\n",
    "    plt.axis('off')\n",
    "\n",
    "# 모든 도시와 도시 간 연결선을 그리고 투어를 시작한 도시에 별도의 표시\n",
    "def visualize_tour(tour, style = 'bo-'):\n",
    "    if len(tour) > 1000 :\n",
    "        plt.figure(figsize = (15, 10))\n",
    "    \n",
    "    start = tour[0:1]\n",
    "    visualize_segment(tour + start, style)\n",
    "    visualize_segment(start, 'rD')"
   ]
  },
  {
   "cell_type": "code",
   "execution_count": 3,
   "metadata": {},
   "outputs": [],
   "source": [
    "import time \n",
    "from collections import Counter \n",
    "\n",
    "# tsp 함수 \n",
    "# 1. 입력된 도시 개수에 따라 투어를 생성\n",
    "# 2. 알고리즘이 실행되는 시간을 측정 \n",
    "# 3. 그래프를 생성 \n",
    "def tsp(algorithm, cities):\n",
    "    t0 = time.perf_counter()\n",
    "    tour = algorithm(cities)\n",
    "    t1 = time.perf_counter()\n",
    "    # 모든 도시는 한번만 등장해야함 \n",
    "    assert Counter(tour) == Counter(cities)\n",
    "    visualize_tour(tour) \n",
    "    print(\"{}:{} cities = tour length {:.0f} (in {:.3f} sec)\".format(name(algorithm), len(tour), \\\n",
    "        distance_tour(tour), t1 - t0))\n",
    "\n",
    "def name(algorithm):\n",
    "    return algorithm.__name__.replace('_tsp', '')"
   ]
  },
  {
   "cell_type": "code",
   "execution_count": 4,
   "metadata": {},
   "outputs": [
    {
     "name": "stdout",
     "output_type": "stream",
     "text": [
      "brute_force:10 cities = tour length 1218 (in 23.437 sec)\n"
     ]
    },
    {
     "data": {
      "image/png": "[encoded data removed]",
      "text/plain": [
       "<Figure size 432x288 with 1 Axes>"
      ]
     },
     "metadata": {
      "needs_background": "light"
     },
     "output_type": "display_data"
    }
   ],
   "source": [
    "tsp(brute_force, generate_cities(10))"
   ]
  },
  {
   "cell_type": "code",
   "execution_count": null,
   "metadata": {},
   "outputs": [],
   "source": []
  }
 ],
 "metadata": {
  "kernelspec": {
   "display_name": "Python 3.6.8 ('venv': venv)",
   "language": "python",
   "name": "python3"
  },
  "language_info": {
   "codemirror_mode": {
    "name": "ipython",
    "version": 3
   },
   "file_extension": ".py",
   "mimetype": "text/x-python",
   "name": "python",
   "nbconvert_exporter": "python",
   "pygments_lexer": "ipython3",
   "version": "3.6.8"
  },
  "orig_nbformat": 4,
  "vscode": {
   "interpreter": {
    "hash": "9a10d58684a97c7ef9814f8d1e63a748a9b86fa1df8aba50abb871f223b28850"
   }
  }
 },
 "nbformat": 4,
 "nbformat_minor": 2
}
