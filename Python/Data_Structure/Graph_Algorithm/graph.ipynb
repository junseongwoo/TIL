{
 "cells": [
  {
   "cell_type": "markdown",
   "metadata": {},
   "source": [
    "# 그래프 알고리즘\n",
    "- 복잡하고 상호연결성이 높은 자료 구조에서 원하느 정보를 찾을때 효율적임 \n",
    "- vertex와 edge로 구성된 자료 구조 \n",
    "- vertex : 네트워크를 구성하는 개체 , 개수는 |V|\n",
    "- edge : 모든 엣지는 엣지 집합에 속함, 개수는 |E|"
   ]
  },
  {
   "cell_type": "code",
   "execution_count": 2,
   "metadata": {},
   "outputs": [
    {
     "name": "stdout",
     "output_type": "stream",
     "text": [
      "['Mike', 'Nick', 'Amine', 'Wasim']\n",
      "[('Mike', 'Amine')]\n"
     ]
    }
   ],
   "source": [
    "import networkx as nx\n",
    "G = nx.Graph()\n",
    "\n",
    "# 버텍스 추가 \n",
    "G.add_node(\"Mike\")\n",
    "G.add_nodes_from({\"Amine\", \"Wasim\", \"Nick\"})\n",
    "\n",
    "# 두 벅텍스를 잇는 엣지 추가 \n",
    "G.add_edge(\"Mike\", \"Amine\")\n",
    "\n",
    "# 생성한 버텍스와 엣지 목록 출력\n",
    "print(list(G.nodes))\n",
    "print(list(G.edges))"
   ]
  },
  {
   "cell_type": "code",
   "execution_count": 3,
   "metadata": {},
   "outputs": [
    {
     "data": {
      "text/plain": [
       "[('Mike', 'Amine'), ('Amine', 'Imran')]"
      ]
     },
     "execution_count": 3,
     "metadata": {},
     "output_type": "execute_result"
    }
   ],
   "source": [
    "# 버텍스가 아직 네트워크상 존재하지 않더라도 이를 포함하는 엣지를 등록 가능\n",
    "G.add_edge(\"Amine\", \"Imran\")\n",
    "list(G.edges)"
   ]
  },
  {
   "cell_type": "markdown",
   "metadata": {},
   "source": [
    "### 그래프 유형\n",
    "1. 무방향 그래프 \n",
    "- 서로 연결된 노드 사이에는 상하 관계나 순서가 존재하지 ㅇ나음 \n",
    "- 이러한 엣지를 undirected edge라고 하며 이런 네트워크를 undirected graph라고 함 \n",
    "- 예시 : A와 B는 같은 아파트에 사는 이웃이다.\n",
    "- 예시 : peer-to-peer 통신망에 연결된 노드 A와 노드 B"
   ]
  },
  {
   "cell_type": "markdown",
   "metadata": {},
   "source": [
    "2. 방향 그래프\n",
    "- 노드 사이의 관계가 어떤 방향성을 가지는 그래프 \n",
    "- 예시 : A와 A의 집 (A가 A의 집을 소유, A의 집은 A를 소유하지 않음)\n",
    "- 예시 : A는 B의 매니저"
   ]
  },
  {
   "cell_type": "markdown",
   "metadata": {},
   "source": [
    "3. 무방향 멀티그래프\n",
    "- 두 노드 사이를 잇는 엣지가 두 개 이상인 경우 (방향 x)\n",
    "- 예시 : A와 B는 같은 부서에 근무하는 동료이며, 저녁에는 영어 수업을 같이 들음\n",
    "- 즉, 동료이며 수업을 같이 듣는 사람"
   ]
  },
  {
   "cell_type": "markdown",
   "metadata": {},
   "source": [
    "4. 방향 멀티 그래프\n",
    "- 멀티 그래프에 방향이 있는 경우\n",
    "- 예시 : A는 B의 상사, B는 A의 알고리즘 강사"
   ]
  },
  {
   "cell_type": "markdown",
   "metadata": {},
   "source": [
    "### 특수한 유형의 엣지 \n",
    "- 엣지는 그래프에 있는 여러 버텍스를 연결하여 관계 표현\n",
    "- 버텍스를 연결하는 것 외의 특수한 엣지 유형이 있음 \n"
   ]
  },
  {
   "cell_type": "markdown",
   "metadata": {},
   "source": [
    "1. self-edge \n",
    "- 버텍스가 자기 자신과 관계를 형성하는 경우\n",
    "- 예시 : A가 자기 자신에게 송금"
   ]
  },
  {
   "cell_type": "markdown",
   "metadata": {},
   "source": [
    "2. hyperdge\n",
    "- 엣지 하나가 셋 이상의 버텍스에 연결된 경우 \n",
    "- 예시 : 프로젝트를 함께하는 A,B,C "
   ]
  }
 ],
 "metadata": {
  "kernelspec": {
   "display_name": "Python 3.6.8 ('venv': venv)",
   "language": "python",
   "name": "python3"
  },
  "language_info": {
   "codemirror_mode": {
    "name": "ipython",
    "version": 3
   },
   "file_extension": ".py",
   "mimetype": "text/x-python",
   "name": "python",
   "nbconvert_exporter": "python",
   "pygments_lexer": "ipython3",
   "version": "3.6.8"
  },
  "orig_nbformat": 4,
  "vscode": {
   "interpreter": {
    "hash": "9a10d58684a97c7ef9814f8d1e63a748a9b86fa1df8aba50abb871f223b28850"
   }
  }
 },
 "nbformat": 4,
 "nbformat_minor": 2
}
