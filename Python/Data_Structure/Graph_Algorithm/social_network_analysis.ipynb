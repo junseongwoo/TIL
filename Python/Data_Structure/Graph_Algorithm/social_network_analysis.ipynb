{
 "cells": [
  {
   "cell_type": "markdown",
   "metadata": {},
   "source": [
    "# 소셜 네트워크 분석 \n",
    "- 그래프를 구성하는 버텍스가 사람을 의미\n",
    "- 버텍스를 연결하는 엣지는 친구, 친족 등 사회적 관계 표현\n",
    "- SNA는 사람들이 형성하는 다양한 관계를 그래프로 표현하여 분석하여 분석\n",
    "- 인간관계와 상호작용에 대한 통찰 제공 \n",
    "- 예시) 쇼셜 미디어 플랫폼 서비스상에 보이는 개인의 행동에 대한 이해\n",
    "- 예시) 사기 범죄의 발생 경로에 대한 이해"
   ]
  },
  {
   "cell_type": "markdown",
   "metadata": {},
   "source": [
    "### 네트워크 분석 이론\n",
    "- SNA의 그래프를 네트워크로 설정하고 분석을 위해 고안된 알고리즘 \n",
    "\n",
    "### 최단 경로\n",
    "- path란 시작 버텍스와 끝 버텍스 사이에 있는 일련의 연속적인 버텍스들을 의미 \n",
    "- 모든 가능한 경로 중에서 가장 거리가 짧은 경로를 shortest path라 함 \n",
    "- "
   ]
  },
  {
   "cell_type": "code",
   "execution_count": null,
   "metadata": {},
   "outputs": [],
   "source": [
    " "
   ]
  }
 ],
 "metadata": {
  "kernelspec": {
   "display_name": "Python 3.8.0 ('venv_fastApi': venv)",
   "language": "python",
   "name": "python3"
  },
  "language_info": {
   "name": "python",
   "version": "3.8.0"
  },
  "orig_nbformat": 4,
  "vscode": {
   "interpreter": {
    "hash": "a63381fd6fd025994e4426be0e37f25d3cfab0fa3f8338e525d025cfbaddb16b"
   }
  }
 },
 "nbformat": 4,
 "nbformat_minor": 2
}
