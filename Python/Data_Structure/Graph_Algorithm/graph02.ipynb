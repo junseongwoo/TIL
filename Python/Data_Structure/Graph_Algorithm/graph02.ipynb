{
 "cells": [
  {
   "cell_type": "code",
   "execution_count": 1,
   "metadata": {},
   "outputs": [],
   "source": [
    "g  = {}\n",
    "g[\"you\"] = ['a', 'b', 'c']\n",
    "g[\"b\"] = [\"anuj\", \"peggy\"]\n",
    "g[\"a\"] = [\"peggy\"]\n",
    "g[\"c\"] = [\"thom\", \"jonny\"]\n",
    "g[\"anuj\"] = []\n",
    "g[\"peggy\"] = []\n",
    "g[\"thom\"] = []\n",
    "g[\"jonny\"] = []"
   ]
  },
  {
   "cell_type": "code",
   "execution_count": 2,
   "metadata": {},
   "outputs": [],
   "source": [
    "from collections import deque \n",
    "search_queue = deque()    # 큐를 만든다\n",
    "search_queue += g[\"you\"]  # 모든 이웃을 탐색 큐에 추가 "
   ]
  },
  {
   "cell_type": "code",
   "execution_count": 4,
   "metadata": {},
   "outputs": [],
   "source": [
    "def person_is_seller(name):\n",
    "    return name[-1] == \"m\"\n",
    "\n",
    "def search(name):\n",
    "    search_queue = deque()\n",
    "    search_queue += g[name]\n",
    "    searched = []\n",
    "\n",
    "    while search_queue:\n",
    "        p = search_queue.popleft()\n",
    "\n",
    "        if not p in searched:\n",
    "            if person_is_seller(p):\n",
    "                print(p+\" is a mango seller!\")\n",
    "                return True \n",
    "            else:\n",
    "                search_queue += g[p]\n",
    "                searched.append(p)\n",
    "    return False"
   ]
  },
  {
   "cell_type": "code",
   "execution_count": null,
   "metadata": {},
   "outputs": [],
   "source": []
  }
 ],
 "metadata": {
  "kernelspec": {
   "display_name": "Python 3.6.8 ('venv': venv)",
   "language": "python",
   "name": "python3"
  },
  "language_info": {
   "codemirror_mode": {
    "name": "ipython",
    "version": 3
   },
   "file_extension": ".py",
   "mimetype": "text/x-python",
   "name": "python",
   "nbconvert_exporter": "python",
   "pygments_lexer": "ipython3",
   "version": "3.6.8"
  },
  "orig_nbformat": 4,
  "vscode": {
   "interpreter": {
    "hash": "9a10d58684a97c7ef9814f8d1e63a748a9b86fa1df8aba50abb871f223b28850"
   }
  }
 },
 "nbformat": 4,
 "nbformat_minor": 2
}
