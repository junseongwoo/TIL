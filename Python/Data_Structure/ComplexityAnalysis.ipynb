{
 "cells": [
  {
   "cell_type": "markdown",
   "metadata": {},
   "source": [
    "# 성능 분석\n",
    "- 복잡도 이론은 알고리즘이 얼마나 복잡한지 판단하는 도구 \n",
    "1. 알고리즘은 정확해야함 \n",
    "2. 알고리즘을 우리가 이해할 수 있어야함 \n",
    "3. 알고리즘은 효율적이여야함 \n",
    "\n",
    "- 알고리즘의 복잡도는 두 가지 방법으로 분석\n",
    "1. 공간 복잡도 분석 : 런타임 메모리 크기 추정\n",
    "2. 시간 복잡도 분석 : 걸리는 시간 추정 \n",
    "\n",
    "### Space Complexity Analysis \n",
    "- 알고리즘이 입력 데이터를 처리하는 데 필요한 메모리 양 추정 \n",
    "- 입력 데이터를 처리할 때 임시로 만들어지는 자료 구조를 메모리에 저장 \n",
    "- 설계되는 방식은 임시 데이터의 개수, 유형, 크기를 결정 \n",
    "- 이는 하드웨어의 필요한 메모리 사양 결정 \n",
    "\n",
    "### Time Complexity Analysis \n",
    "- 구조에 따라 할당된 작업을 완료하는 데 걸리는 시간 추정 \n",
    "- 공간 복잡도와 달리 하드웨어에 영향을 받지 않고 알고리즘 자체의 구조에 영향을 받음\n",
    "- 시간 복잡도 분석의 목표는 알고리즘이 확장 가능한지, 더 큰 데이터셋을 잘 다룰 수 있는지 답을 구하는 것\n",
    "- 이 답을 얻기 위해 데이터 크기가 알고리즘 성능에 미치는 영향 파악\n",
    "- 알고리즘이 정확한 답 뿐만 아니라 확장성 있게 설계됐는지 확인해야함 \n",
    "\n",
    "- 시간 복잡도 계산 방법\n",
    "1. 구현 후 프로파일링 분석 : 다양한 후보 알고리즘을 구현하고 실행하여 성능 비교\n",
    "2. 구현 전 이론적 분석 : 실행하지 않고 성능을 수학적으로 근사하여 성능 비교"
   ]
  },
  {
   "cell_type": "markdown",
   "metadata": {},
   "source": [
    "### 빅오 표기법 \n",
    "- 알고리즘의 성능을 정량화하는 도구 \n",
    "\n",
    "1. 상수 시간 복잡도 O(1)\n",
    "- 입력 데이터의 크기에 관계 없이 실행 시간이 동일 \n",
    "- **상수 시간이 소요되는 작업**\n",
    "- push로 스택에 새 요소를 추가하거나 pop으로 스택에서 요소를 제거하는 작업\n",
    "- 해시 테이블에 담김 요소에 접근하는 작업"
   ]
  },
  {
   "cell_type": "code",
   "execution_count": 2,
   "metadata": {},
   "outputs": [
    {
     "name": "stdout",
     "output_type": "stream",
     "text": [
      "1\n",
      "1\n"
     ]
    }
   ],
   "source": [
    "def getFirst(myList):\n",
    "    return myList[0] \n",
    "\n",
    "print(getFirst([1, 2, 3, 4]))\n",
    "print(getFirst([1, 2, 3, 4,5,6,7,8,9]))"
   ]
  },
  {
   "cell_type": "markdown",
   "metadata": {},
   "source": [
    "2. 선형 시간 복잡도 O(n)\n",
    "- 실행 시간이 입력 크기에 비례 \n",
    "- **선형 시간이 소요되는 작업**\n",
    "- 일차원 배열에서 요소를 검색하는 작업\n",
    "- 일차원 배열에서 가장 작은 값을 가진 요소를 찾아내는 작업"
   ]
  },
  {
   "cell_type": "code",
   "execution_count": 3,
   "metadata": {},
   "outputs": [
    {
     "name": "stdout",
     "output_type": "stream",
     "text": [
      "6\n",
      "10\n"
     ]
    }
   ],
   "source": [
    "def getSum(myList):\n",
    "    sum = 0\n",
    "    for item in myList:\n",
    "        sum = sum + item\n",
    "    return sum \n",
    "\n",
    "print(getSum([1,2,3]))\n",
    "print(getSum([1,2,3,4]))"
   ]
  },
  {
   "cell_type": "markdown",
   "metadata": {},
   "source": [
    "3. 이차 시간 복잡도 O(n^2)\n",
    "- 입력 데이터 크기의 제곱에 비례하여 실행 시간이 증가\n",
    "- **선형 시간이 소요되는 작업**\n",
    "- 버블 정렬 알고리즘 \n",
    "\n",
    "4. 로그 시간 복잡도 O(logn)\n",
    "- 입력 데이터의 크기에 로그를 취한 값에 비례 \n",
    "- 루프를 순회 할 때 마다 일정한 배수로 줄어듬 \n",
    "- 대표 사례 : 이진 검색"
   ]
  },
  {
   "cell_type": "code",
   "execution_count": null,
   "metadata": {},
   "outputs": [],
   "source": []
  }
 ],
 "metadata": {
  "kernelspec": {
   "display_name": "Python 3.6.8 ('venv': venv)",
   "language": "python",
   "name": "python3"
  },
  "language_info": {
   "codemirror_mode": {
    "name": "ipython",
    "version": 3
   },
   "file_extension": ".py",
   "mimetype": "text/x-python",
   "name": "python",
   "nbconvert_exporter": "python",
   "pygments_lexer": "ipython3",
   "version": "3.6.8"
  },
  "orig_nbformat": 4,
  "vscode": {
   "interpreter": {
    "hash": "9a10d58684a97c7ef9814f8d1e63a748a9b86fa1df8aba50abb871f223b28850"
   }
  }
 },
 "nbformat": 4,
 "nbformat_minor": 2
}
