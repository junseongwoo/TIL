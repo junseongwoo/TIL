{
 "cells": [
  {
   "cell_type": "markdown",
   "metadata": {},
   "source": [
    "# 보간 검색 \n",
    "- 정렬된 배열 속에서 대상의 위치를 추정\n",
    "- 조건에 부합하는 데이터가 있을 가능성이 높은 지점을 중간 지점으로 선택하는 전략"
   ]
  },
  {
   "cell_type": "code",
   "execution_count": 1,
   "metadata": {},
   "outputs": [
    {
     "name": "stdout",
     "output_type": "stream",
     "text": [
      "True\n",
      "False\n"
     ]
    }
   ],
   "source": [
    "def IntPolsearch(list, x):\n",
    "    idx0 = 0\n",
    "    idxn = (len(list) - 1)\n",
    "    found = False\n",
    "\n",
    "    while idx0 <= idxn and x >= list[idx0] and x <= list[idxn]:\n",
    "        # 중간 지점 확인\n",
    "        mid = idx0 + int(((float(idxn - idx0)/(list[idxn] - list[idx0])) \\\n",
    "            * (x - list[idx0])))\n",
    "\n",
    "        # 검색 대상과 중간 지점의 값을 비교\n",
    "        if list[mid] == x :\n",
    "            found = True\n",
    "            return found \n",
    "        \n",
    "        if list[mid] < x:\n",
    "            idx0 = mid + 1\n",
    "    return found \n",
    "\n",
    "list = [12, 33, 11, 99, 22, 55, 90]\n",
    "print(IntPolsearch(list, 12))\n",
    "print(IntPolsearch(list, 91))"
   ]
  },
  {
   "cell_type": "markdown",
   "metadata": {},
   "source": [
    "### 성능 분석 \n",
    "- 최악의 경우 O(N)\n",
    "- 데이터가 고르게 분포해 있는 최상의 경우 O(log(logN))"
   ]
  },
  {
   "cell_type": "code",
   "execution_count": null,
   "metadata": {},
   "outputs": [],
   "source": []
  }
 ],
 "metadata": {
  "kernelspec": {
   "display_name": "Python 3.6.8 ('venv': venv)",
   "language": "python",
   "name": "python3"
  },
  "language_info": {
   "codemirror_mode": {
    "name": "ipython",
    "version": 3
   },
   "file_extension": ".py",
   "mimetype": "text/x-python",
   "name": "python",
   "nbconvert_exporter": "python",
   "pygments_lexer": "ipython3",
   "version": "3.6.8"
  },
  "orig_nbformat": 4,
  "vscode": {
   "interpreter": {
    "hash": "9a10d58684a97c7ef9814f8d1e63a748a9b86fa1df8aba50abb871f223b28850"
   }
  }
 },
 "nbformat": 4,
 "nbformat_minor": 2
}
