{
 "cells": [
  {
   "cell_type": "markdown",
   "metadata": {},
   "source": [
    "# 이진 검색\n",
    "- 전제 조건 : 데이터가 정렬되어 있어야함 \n",
    "- 반복적으로 검색 대상을 반으로 줄이면서 최저와 최고 인덱스 갱신"
   ]
  },
  {
   "cell_type": "code",
   "execution_count": 1,
   "metadata": {},
   "outputs": [
    {
     "name": "stdout",
     "output_type": "stream",
     "text": [
      "True\n",
      "False\n"
     ]
    }
   ],
   "source": [
    "def BinarySearch(list, item):\n",
    "    first = 0\n",
    "    last = len(list) - 1\n",
    "    found = False \n",
    "\n",
    "    while first<=last and not found:\n",
    "        midpoint = (first + last) // 2\n",
    "        if list[midpoint] == item :\n",
    "            found = True \n",
    "        else : \n",
    "            if item < list[midpoint]:\n",
    "                last = midpoint - 1\n",
    "            else :\n",
    "                first = midpoint + 1\n",
    "    return found \n",
    "\n",
    "list = [12, 33, 11, 99, 22, 55, 90]\n",
    "print(BinarySearch(list, 12))\n",
    "print(BinarySearch(list, 91))"
   ]
  },
  {
   "cell_type": "markdown",
   "metadata": {},
   "source": [
    "# 성능 분석\n",
    "- 검색 대상을 절반씩 줄이기 때문에 최악의 경우 O(logN) "
   ]
  },
  {
   "cell_type": "code",
   "execution_count": null,
   "metadata": {},
   "outputs": [],
   "source": []
  }
 ],
 "metadata": {
  "kernelspec": {
   "display_name": "Python 3.6.8 ('venv': venv)",
   "language": "python",
   "name": "python3"
  },
  "language_info": {
   "codemirror_mode": {
    "name": "ipython",
    "version": 3
   },
   "file_extension": ".py",
   "mimetype": "text/x-python",
   "name": "python",
   "nbconvert_exporter": "python",
   "pygments_lexer": "ipython3",
   "version": "3.6.8"
  },
  "orig_nbformat": 4,
  "vscode": {
   "interpreter": {
    "hash": "9a10d58684a97c7ef9814f8d1e63a748a9b86fa1df8aba50abb871f223b28850"
   }
  }
 },
 "nbformat": 4,
 "nbformat_minor": 2
}
