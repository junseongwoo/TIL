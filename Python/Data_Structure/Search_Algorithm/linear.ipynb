{
 "cells": [
  {
   "cell_type": "markdown",
   "metadata": {},
   "source": [
    "# 선형 검색 \n",
    "- 데이터를 하나씩 살펴보는 것 \n",
    "- 조회한 데이터가 우리가 찾는 대상이라면 데이터를 반환하고 루프 종료 \n",
    "- 조건에 부합하지 않는다면 검색 계속 이어간다.\n",
    "- 명백한 단점은 느린 속도 = 모든 데이터를 조회해야 하기 때문 \n",
    "- 장점 = 데이터 정렬을 하지 않아도 된다는 점 "
   ]
  },
  {
   "cell_type": "code",
   "execution_count": 1,
   "metadata": {},
   "outputs": [
    {
     "name": "stdout",
     "output_type": "stream",
     "text": [
      "True\n",
      "False\n"
     ]
    }
   ],
   "source": [
    "def LinearSearch(list, item):\n",
    "    index = 0\n",
    "    found = False \n",
    "\n",
    "    # 개별 데이터가 조건에 부합하는지 확인 \n",
    "    while index < len(list) and found is False:\n",
    "        if list[index] == item :\n",
    "            found = True\n",
    "        else : \n",
    "            index = index + 1\n",
    "    return found \n",
    "\n",
    "list = [12, 33, 11, 99, 22, 55, 90]\n",
    "print(LinearSearch(list, 12))\n",
    "print(LinearSearch(list, 91))"
   ]
  },
  {
   "cell_type": "markdown",
   "metadata": {},
   "source": [
    "### 성능 분석\n",
    "- 시간 복잡도 최악의 경우 : O(N)"
   ]
  },
  {
   "cell_type": "code",
   "execution_count": null,
   "metadata": {},
   "outputs": [],
   "source": []
  }
 ],
 "metadata": {
  "kernelspec": {
   "display_name": "Python 3.6.8 ('venv': venv)",
   "language": "python",
   "name": "python3"
  },
  "language_info": {
   "codemirror_mode": {
    "name": "ipython",
    "version": 3
   },
   "file_extension": ".py",
   "mimetype": "text/x-python",
   "name": "python",
   "nbconvert_exporter": "python",
   "pygments_lexer": "ipython3",
   "version": "3.6.8"
  },
  "orig_nbformat": 4,
  "vscode": {
   "interpreter": {
    "hash": "9a10d58684a97c7ef9814f8d1e63a748a9b86fa1df8aba50abb871f223b28850"
   }
  }
 },
 "nbformat": 4,
 "nbformat_minor": 2
}
