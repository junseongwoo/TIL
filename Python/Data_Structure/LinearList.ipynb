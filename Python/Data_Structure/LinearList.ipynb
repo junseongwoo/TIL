{
 "cells": [
  {
   "cell_type": "markdown",
   "metadata": {},
   "source": [
    "# 선형 리스트\n",
    "- 데이터를 일정한 순서로 나열한 자료 구조 \n",
    "- 입력 순서대로 저장하는 데이터에 적합 "
   ]
  },
  {
   "cell_type": "code",
   "execution_count": 27,
   "metadata": {},
   "outputs": [
    {
     "name": "stdout",
     "output_type": "stream",
     "text": [
      "['준성', '호원', '경수', '형우', '정호', None]\n"
     ]
    }
   ],
   "source": [
    "list1 = [\"준성\", \"호원\", \"경수\", \"형우\", \"정호\"]\n",
    "\n",
    "list1.append(None) \n",
    "print(list1)"
   ]
  },
  {
   "cell_type": "code",
   "execution_count": 28,
   "metadata": {},
   "outputs": [
    {
     "name": "stdout",
     "output_type": "stream",
     "text": [
      "['준성', '호원', '경수', '형우', '정호', '휘연']\n"
     ]
    }
   ],
   "source": [
    "list1[5] = \"휘연\"\n",
    "print(list1)"
   ]
  },
  {
   "cell_type": "code",
   "execution_count": 29,
   "metadata": {},
   "outputs": [
    {
     "name": "stdout",
     "output_type": "stream",
     "text": [
      "['준성', '호원', '경수', '형우', '정호', None, '휘연']\n",
      "['준성', '호원', '경수', None, '형우', '정호', '휘연']\n"
     ]
    }
   ],
   "source": [
    "# list[3]에 데이터를 삽입 \n",
    "# 1. 선형 리스트에 빈칸 추가\n",
    "# 2. 데이터의 자리를 옮기고\n",
    "# 3. 데이터 삽입\n",
    "list1.append(None)\n",
    "list1[6] = list1[5]\n",
    "list1[5] = None\n",
    "print(list1)\n",
    "list1[5] = list1[4]\n",
    "list1[4] = None\n",
    "list1[4] = list1[3]\n",
    "list1[3] = None\n",
    "print(list1)"
   ]
  },
  {
   "cell_type": "code",
   "execution_count": 30,
   "metadata": {},
   "outputs": [
    {
     "name": "stdout",
     "output_type": "stream",
     "text": [
      "['준성', '호원', '경수', '종명', '형우', '정호', '휘연']\n"
     ]
    }
   ],
   "source": [
    "list1[3] = \"종명\"\n",
    "print(list1)"
   ]
  },
  {
   "cell_type": "code",
   "execution_count": 31,
   "metadata": {},
   "outputs": [
    {
     "name": "stdout",
     "output_type": "stream",
     "text": [
      "['준성', '호원', '경수', None, '형우', '정호', '휘연']\n",
      "['준성', '호원', '경수', '형우', '정호', '휘연', '휘연']\n",
      "['준성', '호원', '경수', '형우', '정호', '휘연']\n"
     ]
    }
   ],
   "source": [
    "# list[3]의 데이터 삭제 \n",
    "# 1. list[3] 데이터 삭제 \n",
    "# 2. list[4, 5, 6]의 데이터 자리를 앞으로 옮김 \n",
    "# 3. list[6]이 비었으므로 빈 공간 삭제 \n",
    "list1[3] = None \n",
    "print(list1)\n",
    "list1[3] = list1[4]\n",
    "list1[4] = list1[5]\n",
    "list1[5] = list1[6] \n",
    "print(list1) \n",
    "del(list1[6])\n",
    "print(list1)"
   ]
  },
  {
   "cell_type": "code",
   "execution_count": 32,
   "metadata": {},
   "outputs": [
    {
     "name": "stdout",
     "output_type": "stream",
     "text": [
      "[None]\n",
      "['준성']\n"
     ]
    }
   ],
   "source": [
    "# 배열을 이용한 선형 리스트 생성 \n",
    "# 1. 빈 배열을 만듦 \n",
    "# 2. 맨 뒤에 데이터 추가\n",
    "fri_lst = []\n",
    "fri_lst.append(None)\n",
    "print(fri_lst)\n",
    "fri_lst[len(fri_lst) - 1] = '준성'\n",
    "print(fri_lst) \n"
   ]
  },
  {
   "cell_type": "code",
   "execution_count": 33,
   "metadata": {},
   "outputs": [
    {
     "name": "stdout",
     "output_type": "stream",
     "text": [
      "['준성', '형우']\n"
     ]
    }
   ],
   "source": [
    "fri_lst.append(None)\n",
    "fri_len = len(fri_lst)\n",
    "fri_lst[fri_len - 1] = '형우' \n",
    "print(fri_lst)"
   ]
  },
  {
   "cell_type": "code",
   "execution_count": 34,
   "metadata": {},
   "outputs": [
    {
     "name": "stdout",
     "output_type": "stream",
     "text": [
      "['준성', '휘연', '경수']\n"
     ]
    }
   ],
   "source": [
    "# 함수로 선형 리스트 생성 \n",
    "fri_lst = []\n",
    "\n",
    "def add_data(friend):\n",
    "    fri_lst.append(None)\n",
    "    fLen = len(fri_lst) \n",
    "    fri_lst[fLen - 1] = friend \n",
    "\n",
    "add_data(\"준성\")\n",
    "add_data(\"휘연\")\n",
    "add_data(\"경수\")\n",
    "\n",
    "print(fri_lst)"
   ]
  },
  {
   "cell_type": "code",
   "execution_count": 35,
   "metadata": {},
   "outputs": [
    {
     "name": "stdout",
     "output_type": "stream",
     "text": [
      "['준세', '준성', '휘연', '종명', '호돌', '현우']\n"
     ]
    }
   ],
   "source": [
    "# 데이터 삽입 함수 \n",
    "fri_lst = [\"준성\", \"휘연\", \"종명\", \"현우\"]\n",
    "\n",
    "def insert_data(position, friend):\n",
    "    if position < 0 or position > len(fri_lst):\n",
    "        print(\"범위를 벗어났다\")\n",
    "        return \n",
    "\n",
    "    fri_lst.append(None)\n",
    "    fLen = len(fri_lst)\n",
    "\n",
    "    for i in range(fLen - 1, position, -1):\n",
    "        fri_lst[i] = fri_lst[i - 1]\n",
    "        fri_lst[i - 1] = None \n",
    "\n",
    "    fri_lst[position] = friend\n",
    "\n",
    "insert_data(3, \"호돌\")\n",
    "insert_data(0, \"준세\")\n",
    "print(fri_lst)"
   ]
  },
  {
   "cell_type": "code",
   "execution_count": 38,
   "metadata": {},
   "outputs": [
    {
     "name": "stdout",
     "output_type": "stream",
     "text": [
      "['0_준성', '1_휘연', '2_호원', '3_정호', '4_경수', '5_형우']\n",
      "['0_준성', '1_휘연', '2_호원', '3_정호', '4_경수']\n",
      "['1_휘연', '2_호원', '3_정호', '4_경수']\n",
      "['1_휘연', '3_정호', '4_경수']\n"
     ]
    }
   ],
   "source": [
    "# 지정된 위치의 데이터 삭제\n",
    "fri_lst = [\"0_준성\", \"1_휘연\", \"2_호원\", \"3_정호\", \"4_경수\", \"5_형우\"]\n",
    "\n",
    "def delete_data(position):\n",
    "    if position < 0 or position > len(fri_lst):\n",
    "        print(\"범위 벗어남\")\n",
    "        return \n",
    "\n",
    "    fLen = len(fri_lst)\n",
    "    fri_lst[position] = None # 데이터 삭제 \n",
    "\n",
    "    for i in range(position + 1, fLen):\n",
    "        fri_lst[i-1] = fri_lst[i]\n",
    "        fri_lst[i] = None \n",
    "\n",
    "    del(fri_lst[fLen - 1])\n",
    "\n",
    "print(fri_lst)\n",
    "delete_data(5)\n",
    "print(fri_lst)\n",
    "delete_data(0)\n",
    "print(fri_lst)\n",
    "delete_data(1)\n",
    "print(fri_lst)\n"
   ]
  },
  {
   "cell_type": "code",
   "execution_count": null,
   "metadata": {},
   "outputs": [],
   "source": [
    "# 선형 리스트 main \n",
    "fri_lst = []\n",
    "select = -1 \n",
    "\n",
    "if __name__ == \"__main__\":\n",
    "    while(select != 4):\n",
    "        select = int(input(\"선택하세요(1: 추가, 2: 삽입, 3: 삭제, 4: 종료)-->\"))\n",
    "\n",
    "        if(select == 1):\n",
    "            data = input(\"추가할 데이터 -->\")\n",
    "            add_data(data)\n",
    "            print(fri_lst)\n",
    "\n",
    "        elif(select == 2):\n",
    "            pos = int(input(\"삽입할 위치-->\"))\n",
    "            data = input(\"추가할 데이터-->\")\n",
    "            insert_data(pos, data)\n",
    "            print(fri_lst)\n",
    "\n",
    "        elif(select == 3):\n",
    "            pos = int(input(\"삭제할 위치-->\"))\n",
    "            delete_data(pos)\n",
    "            print(fri_lst)\n",
    "\n",
    "        elif(select == 4):\n",
    "            print(fri_lst)\n",
    "            exit\n",
    "        \n",
    "        else :\n",
    "            print(\"1 ~ 4 중 하나를 입력하세요.\")\n",
    "            continue"
   ]
  },
  {
   "cell_type": "code",
   "execution_count": null,
   "metadata": {},
   "outputs": [],
   "source": []
  }
 ],
 "metadata": {
  "interpreter": {
   "hash": "9a10d58684a97c7ef9814f8d1e63a748a9b86fa1df8aba50abb871f223b28850"
  },
  "kernelspec": {
   "display_name": "Python 3.6.8 ('venv': venv)",
   "language": "python",
   "name": "python3"
  },
  "language_info": {
   "codemirror_mode": {
    "name": "ipython",
    "version": 3
   },
   "file_extension": ".py",
   "mimetype": "text/x-python",
   "name": "python",
   "nbconvert_exporter": "python",
   "pygments_lexer": "ipython3",
   "version": "3.6.8"
  },
  "orig_nbformat": 4
 },
 "nbformat": 4,
 "nbformat_minor": 2
}
