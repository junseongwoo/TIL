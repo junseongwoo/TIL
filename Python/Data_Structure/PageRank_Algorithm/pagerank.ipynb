{
 "cells": [
  {
   "cell_type": "markdown",
   "metadata": {},
   "source": [
    "# 페이지랭크 알고리즘 \n",
    "- 사용자가 입력한 검색어의 맥락을 바탕으로 검색 결과의 중요도를 수치화 하는 알고리즘 \n",
    "- 검색 결과, 검색된 페이지의 중요도를 계산하는 최적의 방법을 찾는 것 \n",
    "- 특정한 페이지의 중요도를 0 ~ 1 사이의 숫자로 계산 \n",
    "    1. 사용자가 입력한 검색어와 관련한 정보 \n",
    "    - 입력한 검색어의 맥락과 검색된 페이지의 내용이 얼마나 밀접하게 연관되어 있는지 추정\n",
    "    - 페이지 내용은 저자(author) 요소에 직접적인 영향을 준다\n",
    "    -\n",
    "    2. 사용자가 입력한 검색어와는 상관없는 정보\n",
    "    - 페이지 링크, 조회수, 이웃의 맥락에서 페이지가 가진 중요도를 정량화\n",
    "    - 평가 기준을 확립하기 어렵기 때문에 계산하기 쉽지 않음 "
   ]
  },
  {
   "cell_type": "code",
   "execution_count": 5,
   "metadata": {},
   "outputs": [],
   "source": [
    "import numpy as np \n",
    "import networkx as nx \n",
    "import matplotlib.pyplot as plt  \n",
    "%matplotlib inline "
   ]
  },
  {
   "cell_type": "code",
   "execution_count": 9,
   "metadata": {},
   "outputs": [],
   "source": [
    "myWeb = nx.DiGraph()\n",
    "myPages = range(1, 5)"
   ]
  },
  {
   "cell_type": "code",
   "execution_count": 10,
   "metadata": {},
   "outputs": [],
   "source": [
    "connections = [(1, 3), (2, 1), (2, 3), (3, 1), (3, 2), (3, 4), (4, 5), (5, 1), (5, 4)]\n",
    "myWeb.add_nodes_from(myPages)\n",
    "myWeb.add_edges_from(connections)"
   ]
  },
  {
   "cell_type": "code",
   "execution_count": 11,
   "metadata": {},
   "outputs": [
    {
     "data": {
      "image/png": "[encoded data removed]",
      "text/plain": [
       "<Figure size 432x288 with 1 Axes>"
      ]
     },
     "metadata": {},
     "output_type": "display_data"
    }
   ],
   "source": [
    "pos = nx.shell_layout(myWeb)\n",
    "nx.draw(myWeb, pos, arrows = True, with_labels = True)\n",
    "plt.show()"
   ]
  },
  {
   "cell_type": "markdown",
   "metadata": {},
   "source": [
    "- 페이지랭크 알고리즘은 웹 페이지의 패턴을 transition matrix로 표현\n",
    "- 전이 행렬의 크기는 n x n : 여기서 n은 노드의 개수 \n",
    "- 전이 행렬에 담긴 수치는 노드에서 다른 노드로 이동할 확률 "
   ]
  },
  {
   "cell_type": "code",
   "execution_count": 12,
   "metadata": {},
   "outputs": [],
   "source": [
    "# 전이 행렬을 생성하기 위한 함수 \n",
    "def createPageRank(aGraph) :\n",
    "    nodes_set = len(aGraph)\n",
    "    M = nx.to_numpy_matrix(aGraph)\n",
    "    outwards = np.squeeze(np.asarray(np.sum(M, axis = 1)))\n",
    "    prob_outwards = np.array([1.0/count if count > 0 else 0.0 for count in outwards])\n",
    "    G = np.asarray(np.multiply(M.T, prob_outwards))\n",
    "    p = np.ones(nodes_set) / float(nodes_set)\n",
    "    if np.min(np.sum(G, axis = 0)) < 1.0:\n",
    "        print('경고 : 전이 확률 합의 최솟값이 1보다 작습니다.')\n",
    "    return G, p"
   ]
  },
  {
   "cell_type": "code",
   "execution_count": 13,
   "metadata": {},
   "outputs": [
    {
     "name": "stdout",
     "output_type": "stream",
     "text": [
      "[[0.         0.5        0.33333333 0.         0.5       ]\n",
      " [0.         0.         0.33333333 0.         0.        ]\n",
      " [1.         0.5        0.         0.         0.        ]\n",
      " [0.         0.         0.33333333 0.         0.5       ]\n",
      " [0.         0.         0.         1.         0.        ]]\n"
     ]
    }
   ],
   "source": [
    "G, p = createPageRank(myWeb) \n",
    "print(G)"
   ]
  },
  {
   "cell_type": "markdown",
   "metadata": {},
   "source": [
    "- 5 x 5 행렬, 전이 행렬의 각 열은 네트워크에 이는 각 노드 의미 \n",
    "- 대각 성분이 0인 이유 : 자기 자신으로 되돌아오는 연결을 가진 노드가 없기 때문\n",
    "- 0인 요소가 많은 sparse matrix, 노드 개수가 많아질수록 전이 확률이 0인 값이 늘어난다"
   ]
  },
  {
   "cell_type": "code",
   "execution_count": null,
   "metadata": {},
   "outputs": [],
   "source": []
  }
 ],
 "metadata": {
  "kernelspec": {
   "display_name": "Python 3.6.8 ('venv': venv)",
   "language": "python",
   "name": "python3"
  },
  "language_info": {
   "codemirror_mode": {
    "name": "ipython",
    "version": 3
   },
   "file_extension": ".py",
   "mimetype": "text/x-python",
   "name": "python",
   "nbconvert_exporter": "python",
   "pygments_lexer": "ipython3",
   "version": "3.6.8"
  },
  "orig_nbformat": 4,
  "vscode": {
   "interpreter": {
    "hash": "9a10d58684a97c7ef9814f8d1e63a748a9b86fa1df8aba50abb871f223b28850"
   }
  }
 },
 "nbformat": 4,
 "nbformat_minor": 2
}
