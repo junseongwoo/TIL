{
 "cells": [
  {
   "cell_type": "markdown",
   "metadata": {},
   "source": [
    "### 탐색 \n",
    "- 탐색은 주어진 집합에서 특정 키(key)와 일치하는 원소를 찾는 작업을 말함 \n",
    "- 집합의 여러가지 속성(attribute) 중 탐색 기준이 되는 속성을 키 필드(key field)라 함 \n",
    "- 집합이 미리 정렬되있는 경우 탐색 효율이 높아 짐 \n",
    "\n",
    "1. 순차 탐색 (Sequential Search)\n",
    "- 탐색 대상에 아무 조건이 없으며 탐색 키를 찾을 때까지 순차적으로 반복 비교하는 방법  \n",
    "- 원소들이 미리 정렬될 필요는 없지만, 성능에 큰 편차가 발생 \n",
    "- best case의 경우 : 첫 번째 비교에서 탐색 키를 찾는 경우(1) \n",
    "- worst case의 경우 : 마지막 비교에서 탐색 키를 찾는 경우(n)\n",
    "- 평균적으로 n/2번의 횟수가 필요하며 시간 복잡도는 O(n) "
   ]
  },
  {
   "cell_type": "code",
   "execution_count": 2,
   "metadata": {},
   "outputs": [
    {
     "name": "stdout",
     "output_type": "stream",
     "text": [
      "position =  7\n",
      "position =  -1\n"
     ]
    }
   ],
   "source": [
    "# 순차  탐색\n",
    "def seq_search(num, key, n):\n",
    "    for i in range(n):\n",
    "        if (num[i] == key): \n",
    "            return i\n",
    "    return -1\n",
    "\n",
    "num = [12, 5, 6, 19, 21, 3, 7, 81, 42, 15]\n",
    "for item in [81, 90]:\n",
    "    pos = seq_search(num, item, len(num))\n",
    "    print(\"position = \", pos)"
   ]
  },
  {
   "cell_type": "markdown",
   "metadata": {},
   "source": [
    "2. 이진 탐색 (Binary Search)\n",
    "- 정렬된 대상 원소의 중간 값(median)과 탐색 키를 비교하는 방법\n",
    "- 1회 비교할 때마다 대상 원소의 수가 절반씩 감소 \n",
    "- 비교 대상 원소의 수가 n일 때 시간 복잡도는 O(log2n)\n",
    "- n이 클수록 순차 탐색보다 속도가 훨씬 빠르다 \n",
    "\n",
    "- 이진 탐색 알고리즘\n",
    "1. 정렬된 원소 리스트에서 중간 값(median)의 위치 계산\n",
    "2. 탐색 키와 중간 값을 비교하여 일치하면 위치를 반환하고 종료\n",
    "3. 탐색 키가 중간 값보다 작으면 중간 값의 원쪽 리스트로 탐색 범위 변경, 크면 오른쪽 리스트로 변경\n",
    "4. 탐색 범위에 원소가 없으면 -1을 반환하고 탐색을 종료"
   ]
  },
  {
   "cell_type": "code",
   "execution_count": 2,
   "metadata": {},
   "outputs": [
    {
     "name": "stdout",
     "output_type": "stream",
     "text": [
      "position =  8\n",
      "position =  -1\n"
     ]
    }
   ],
   "source": [
    "def binary_search(num, key, left, right):\n",
    "    while left <= right:\n",
    "        mid = (left + right) // 2\n",
    "        if key == num[mid]: \n",
    "            return mid \n",
    "        else: \n",
    "            if key < num[mid]:\n",
    "                right = mid - 1\n",
    "            else:\n",
    "                left = mid + 1 \n",
    "    return -1\n",
    "\n",
    "lst = [0, 1, 5, 9, 13, 17, 23, 32, 45]\n",
    "for item in [45, 8]:\n",
    "    pos  = binary_search(lst, item, 0, len(lst)-1)\n",
    "    print(\"position = \", pos)"
   ]
  },
  {
   "cell_type": "markdown",
   "metadata": {},
   "source": [
    "3. 보간 탐색(Interpolation Search)\n",
    "- 이진 탐색의 성능을 개선할 목적으로 개발 \n",
    "- 정렬된 리스트를 탐색한다는 점은 이진 탐색과 동일하지만,\n",
    "- 보간 탐색은 탐색 범위에서 키 값의 차이와 위치(인덱스)의 차이가 비례한다는 가정을 바탕으로 함\n",
    "- 탐색 키와 탐색 범위 경계의 차이를 고려하여 비교 위치를 결정 \n",
    "\n",
    "- (list[right] - list[left]) : (key - list[left]) = (right - left) : (pos - left)\n",
    "- 왼쪽 항은 탐색 범위 내 값의 차이, 오른쪽 항은 탐색 범위 내 인덱스 차이 의미 \n",
    "\n",
    "- pos를 기준으로 식 재정립\n",
    "- pos = left + ((right - left) * (key - list[left])) / (list[right] - list[left])\n",
    "\n",
    "- 보간 탐색은 탐색 대상 원소들이 균등하게 분포되어 있다면 탐색 횟수를 낮추는데 효과적 "
   ]
  },
  {
   "cell_type": "code",
   "execution_count": 3,
   "metadata": {},
   "outputs": [
    {
     "name": "stdout",
     "output_type": "stream",
     "text": [
      "39 is in  9\n",
      " 2 is in  0\n",
      "55 is in 11\n",
      "60 is in -1\n",
      " 1 is in -1\n"
     ]
    }
   ],
   "source": [
    "def interpolate_search(num, key, left, right):\n",
    "    while left <= right:\n",
    "        if key < num[left] or key > num[right]:\n",
    "            break\n",
    "        pos = left + \\\n",
    "            (key - num[left]) *(right-left) // (num[right] - num[left])\n",
    "\n",
    "        if key > num[pos]:\n",
    "            left = pos + 1 \n",
    "        elif key < num[pos]:\n",
    "            right = pos - 1 \n",
    "        else :\n",
    "            return pos\n",
    "    return -1\n",
    "\n",
    "lst = [2, 3, 5, 7, 9, 10, 13, 20, 25, 39, 45, 55]\n",
    "for key in [39, 2, 55, 60, 1]:\n",
    "    pos = interpolate_search(lst, key, 0, len(lst)-1)\n",
    "    print(\"%2d is in %2d\" % (key, pos))"
   ]
  },
  {
   "cell_type": "markdown",
   "metadata": {},
   "source": [
    "### 해싱\n"
   ]
  },
  {
   "cell_type": "code",
   "execution_count": null,
   "metadata": {},
   "outputs": [],
   "source": []
  }
 ],
 "metadata": {
  "interpreter": {
   "hash": "9a10d58684a97c7ef9814f8d1e63a748a9b86fa1df8aba50abb871f223b28850"
  },
  "kernelspec": {
   "display_name": "Python 3.6.8 ('venv': venv)",
   "language": "python",
   "name": "python3"
  },
  "language_info": {
   "codemirror_mode": {
    "name": "ipython",
    "version": 3
   },
   "file_extension": ".py",
   "mimetype": "text/x-python",
   "name": "python",
   "nbconvert_exporter": "python",
   "pygments_lexer": "ipython3",
   "version": "3.6.8"
  },
  "orig_nbformat": 4
 },
 "nbformat": 4,
 "nbformat_minor": 2
}
