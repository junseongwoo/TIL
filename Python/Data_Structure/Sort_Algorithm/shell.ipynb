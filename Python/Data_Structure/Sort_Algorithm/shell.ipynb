{
 "cells": [
  {
   "cell_type": "markdown",
   "metadata": {},
   "source": [
    "# 셸 정렬\n",
    "- 인접한 이웃끼리의 값을 비교하여 교체하는 방식(버블)에 의문을 가져 도널드 셸이 제안 \n",
    "- 고정된 거리만큼 서로 떨어진 데이터 포인터끼리 묶어 정렬 \n",
    "- 첫 번째 패스 : 두 데이터 포인트 비교하여 정렬 \n",
    "- 두 번째 패스 : 네 개의 데이터 포인트로 구성된 하위 리스트 정렬\n",
    "- 세,네 번째 패스 : 하위 리스트에 담긴 데이터 포인트 개수 증가 \n",
    "- 하나의 리스트에 모든 데이터 포인트가 들어갈 때까지 반복하다가 정렬 종료"
   ]
  },
  {
   "cell_type": "code",
   "execution_count": 2,
   "metadata": {},
   "outputs": [
    {
     "name": "stdout",
     "output_type": "stream",
     "text": [
      "[11, 12, 13, 14, 15, 16, 17, 18, 19, 20, 21, 22, 23, 24, 25, 26]\n"
     ]
    }
   ],
   "source": [
    "def ShellSort(list) :\n",
    "    distance = len(list) // 2\n",
    "    while distance > 0:\n",
    "        for i in range(distance, len(list)):\n",
    "            temp = list[i]\n",
    "            j = i\n",
    "\n",
    "            # 하위 리스트 안에 든 요소들을 정렬 \n",
    "            while j >= distance and list[j - distance] > temp :\n",
    "                list[j] = list[j - distance]\n",
    "                j = j - distance \n",
    "            list[j] = temp \n",
    "\n",
    "        # 다음 패스를 위해 거리를 반으로 줄인다.\n",
    "        distance = distance // 2 \n",
    "    return list\n",
    "\n",
    "list = [26, 17, 20, 11, 23, 21, 13, 18, 24, 14, 12, 22, 16, 15, 19, 25]\n",
    "ShellSort(list)\n",
    "print(list)"
   ]
  },
  {
   "cell_type": "markdown",
   "metadata": {},
   "source": [
    "### 셸 정렬 성능 분석 \n",
    "- 빅데이터 보다는 중간 규모의 데이터 셋에 적합 : 최대 6000개 \n",
    "- 리스트가 어느 정도 정렬된 상태라면 셸 정렬의 성능은 더 올라감 \n",
    "- 이미 정렬된 최상의 경우 O(N)"
   ]
  },
  {
   "cell_type": "code",
   "execution_count": null,
   "metadata": {},
   "outputs": [],
   "source": []
  }
 ],
 "metadata": {
  "kernelspec": {
   "display_name": "Python 3.6.8 ('venv': venv)",
   "language": "python",
   "name": "python3"
  },
  "language_info": {
   "codemirror_mode": {
    "name": "ipython",
    "version": 3
   },
   "file_extension": ".py",
   "mimetype": "text/x-python",
   "name": "python",
   "nbconvert_exporter": "python",
   "pygments_lexer": "ipython3",
   "version": "3.6.8"
  },
  "orig_nbformat": 4,
  "vscode": {
   "interpreter": {
    "hash": "9a10d58684a97c7ef9814f8d1e63a748a9b86fa1df8aba50abb871f223b28850"
   }
  }
 },
 "nbformat": 4,
 "nbformat_minor": 2
}
