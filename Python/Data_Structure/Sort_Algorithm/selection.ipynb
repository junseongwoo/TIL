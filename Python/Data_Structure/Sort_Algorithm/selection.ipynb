{
 "cells": [
  {
   "cell_type": "markdown",
   "metadata": {},
   "source": [
    "# 선택 정렬 \n",
    "- 필요한 교환 횟수를 최소화한 버블 정렬의 개량 버전! \n",
    "- 각 패스 마다 가장 큰 값을 찾아내 맨 오른쪽으로 바로 이동시킴 \n",
    "- 첫 번째 패스가 끝나면 가장 큰 값이 맨 오른쪽 위치 \n",
    "- 두 번째 패스가 끝나면 두 번째로 큰 값이 오른쪽 두 번째 위치 \n",
    "- 마지막 값은 N-1번째 패스가 끝난 후 제 위치 "
   ]
  },
  {
   "cell_type": "code",
   "execution_count": 1,
   "metadata": {},
   "outputs": [
    {
     "name": "stdout",
     "output_type": "stream",
     "text": [
      "[15, 19, 25, 34, 44, 70]\n"
     ]
    }
   ],
   "source": [
    "def SelectionSort(list):\n",
    "    for fill_slot in range(len(list) - 1, 0, -1):\n",
    "        max_index = 0 \n",
    "        for location in range(1, fill_slot + 1):\n",
    "            if list[location] > list[max_index]:\n",
    "                max_index = location \n",
    "        list[fill_slot], list[max_index] = list[max_index], list[fill_slot]\n",
    "    return list \n",
    "\n",
    "list = [70, 15, 25, 19, 34, 44]\n",
    "SelectionSort(list)\n",
    "print(list)"
   ]
  },
  {
   "cell_type": "markdown",
   "metadata": {},
   "source": [
    "### 선택 정렬의 성능 분석\n",
    "- 최악의 경우 O(N^2) \n",
    "- 큰 데이터 셋에 사용하지 않는게 좋음 \n",
    "- 버블 정렬 보다는 평균 성능이 뛰어남 "
   ]
  },
  {
   "cell_type": "code",
   "execution_count": null,
   "metadata": {},
   "outputs": [],
   "source": []
  }
 ],
 "metadata": {
  "kernelspec": {
   "display_name": "Python 3.6.8 ('venv': venv)",
   "language": "python",
   "name": "python3"
  },
  "language_info": {
   "codemirror_mode": {
    "name": "ipython",
    "version": 3
   },
   "file_extension": ".py",
   "mimetype": "text/x-python",
   "name": "python",
   "nbconvert_exporter": "python",
   "pygments_lexer": "ipython3",
   "version": "3.6.8"
  },
  "orig_nbformat": 4,
  "vscode": {
   "interpreter": {
    "hash": "9a10d58684a97c7ef9814f8d1e63a748a9b86fa1df8aba50abb871f223b28850"
   }
  }
 },
 "nbformat": 4,
 "nbformat_minor": 2
}
