{
 "cells": [
  {
   "cell_type": "markdown",
   "metadata": {},
   "source": [
    "# 삽입 정렬(insertion sort)\n",
    "- 자료 구조에서 데이터 포인트를 하나씩 빼내어 올바른 위치에 집어넣는 과정 반복하는 것\n",
    "- 진행 과정\n",
    "    1. 맨 왼쪽에 위치한 두 데이터 포인트를 서로 비교하여 크기에 따라 정렬\n",
    "    2. 범위를 한 칸 확장하여 세 번째 데이터 포인트를 가져옴 \n",
    "    3. 정렬한 두 개의 값을 이용해 세 번째 데이터 포인트의 적절한 위치 결정\n",
    "    4. 모든 데이터 포인트가 제 위치에 삽입 될 때까지 반복"
   ]
  },
  {
   "cell_type": "code",
   "execution_count": 1,
   "metadata": {},
   "outputs": [
    {
     "name": "stdout",
     "output_type": "stream",
     "text": [
      "[21, 22, 24, 25, 26, 27, 32]\n"
     ]
    }
   ],
   "source": [
    "def InsertionSort(list):\n",
    "    for i in range(1, len(list)):\n",
    "        j = i - 1\n",
    "        element_next = list[i]\n",
    "        while (list[j] > element_next) and (j >= 0):\n",
    "            list[j+1] = list[j]\n",
    "            j = j - 1\n",
    "        list[j+1] = element_next\n",
    "    return list\n",
    "\n",
    "list = [25, 26, 22, 24, 27, 32, 21]\n",
    "InsertionSort(list)\n",
    "print(list)"
   ]
  },
  {
   "cell_type": "markdown",
   "metadata": {},
   "source": [
    "### 삽입 정렬의 성능 분석\n",
    "- 대상 리스트가 이미 정렬된 상태라면 빠르게 동작 = O(n)\n",
    "- 리스트를 순회할 때마다 요소를 옮겨하는 경우 = O(n^2)\n",
    "- 평균적으로 O(n^2)이므로 데이터가 큰 경우 사용하지 않는게 좋음 "
   ]
  }
 ],
 "metadata": {
  "kernelspec": {
   "display_name": "Python 3.6.8 ('venv': venv)",
   "language": "python",
   "name": "python3"
  },
  "language_info": {
   "codemirror_mode": {
    "name": "ipython",
    "version": 3
   },
   "file_extension": ".py",
   "mimetype": "text/x-python",
   "name": "python",
   "nbconvert_exporter": "python",
   "pygments_lexer": "ipython3",
   "version": "3.6.8"
  },
  "orig_nbformat": 4,
  "vscode": {
   "interpreter": {
    "hash": "9a10d58684a97c7ef9814f8d1e63a748a9b86fa1df8aba50abb871f223b28850"
   }
  }
 },
 "nbformat": 4,
 "nbformat_minor": 2
}
