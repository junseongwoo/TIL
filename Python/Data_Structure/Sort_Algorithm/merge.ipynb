{
 "cells": [
  {
   "cell_type": "markdown",
   "metadata": {},
   "source": [
    "# 병합 정렬(merge sort)\n",
    "- 입력 데이터의 정렬 여부와는 관계가 없음 \n",
    "- 분리(splitting) 단계 : 데이터를 재귀적으로 둘로 나눔 \n",
    "    - 나뉜 부분의 크기가 미리 정한 기준보다 작아질 때까지 반복\n",
    "- 병합(merging) 단계 : 최종 결과를 얻을 때까지 처리 반복 \n",
    "- 세 가지 단계로 구성\n",
    "1. 입력된 리스트를 크기가 같은 두 부분으로 나눔 \n",
    "2. 나뉜 부분의 크기가 1이 될 때까지 반복 분리\n",
    "3. 각 부분을 정렬한 뒤 병합하여 최종적으로 정렬된 리스트 반환"
   ]
  },
  {
   "cell_type": "code",
   "execution_count": 1,
   "metadata": {},
   "outputs": [
    {
     "name": "stdout",
     "output_type": "stream",
     "text": [
      "[7, 10, 16, 21, 34, 44, 45, 67, 83]\n"
     ]
    }
   ],
   "source": [
    "def MergeSort(list):\n",
    "    if len(list) > 1:\n",
    "        mid = len(list)//2\n",
    "        left = list[:mid]\n",
    "        right = list[mid:]\n",
    "\n",
    "        MergeSort(left)\n",
    "        MergeSort(right)\n",
    "\n",
    "        a = 0 \n",
    "        b = 0 \n",
    "        c = 0\n",
    "\n",
    "        while a < len(left) and b < len(right):\n",
    "            if left[a] < right[b]:\n",
    "                list[c] = left[a]\n",
    "                a = a + 1\n",
    "            \n",
    "            else:\n",
    "                list[c] = right[b]\n",
    "                b = b + 1\n",
    "            c = c + 1\n",
    "\n",
    "        while a < len(left):\n",
    "            list[c] = left[a]\n",
    "            a = a + 1\n",
    "            c = c + 1\n",
    "\n",
    "        while b < len(right):\n",
    "            list[c] = right[b]\n",
    "            b = b + 1\n",
    "            c = c + 1 \n",
    "\n",
    "    return list \n",
    "\n",
    "list = [44, 16, 83, 7, 67, 21, 34, 45, 10]\n",
    "MergeSort(list)\n",
    "print(list)"
   ]
  },
  {
   "cell_type": "code",
   "execution_count": null,
   "metadata": {},
   "outputs": [],
   "source": []
  }
 ],
 "metadata": {
  "kernelspec": {
   "display_name": "Python 3.6.8 ('venv': venv)",
   "language": "python",
   "name": "python3"
  },
  "language_info": {
   "codemirror_mode": {
    "name": "ipython",
    "version": 3
   },
   "file_extension": ".py",
   "mimetype": "text/x-python",
   "name": "python",
   "nbconvert_exporter": "python",
   "pygments_lexer": "ipython3",
   "version": "3.6.8"
  },
  "orig_nbformat": 4,
  "vscode": {
   "interpreter": {
    "hash": "9a10d58684a97c7ef9814f8d1e63a748a9b86fa1df8aba50abb871f223b28850"
   }
  }
 },
 "nbformat": 4,
 "nbformat_minor": 2
}
