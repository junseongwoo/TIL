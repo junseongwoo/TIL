{
 "cells": [
  {
   "cell_type": "markdown",
   "metadata": {},
   "source": [
    "# 버블 정렬(bubble sort)\n",
    "- 가장 간편하지만 속도가 가장 느린 정렬 알고리즘\n",
    "- 비눗방울이 공중에 서서히 떠오르듯 리스트 안에서 가장 큰 값을 반복적으로 옮김\n",
    "- 최악의 경우 시간 복잡도는 O(N^2) -> 작은 데이터셋에만 사용\n",
    "\n",
    "### 버블 정렬의 작동 원리 \n",
    "- pass라는 과정을 반복\n",
    "- ex) 리스트에 든 요소들을 작은 값 부터 정렬\n",
    "- 첫 번째 pass 목표 : 리스트의 가장 큰 값을 오른쪽으로 보냄 \n",
    "- pass가 진행됨에 따라 가장 큰 값이 오른쪽으로 보내짐 \n",
    "- 버블 정렬은 이웃끼리 값을 비교 "
   ]
  },
  {
   "cell_type": "code",
   "execution_count": 1,
   "metadata": {},
   "outputs": [
    {
     "name": "stdout",
     "output_type": "stream",
     "text": [
      "0 [25, 21, 22, 24, 23, 27, 26]\n",
      "1 [21, 25, 22, 24, 23, 27, 26]\n",
      "2 [21, 22, 25, 24, 23, 27, 26]\n",
      "3 [21, 22, 24, 25, 23, 27, 26]\n",
      "4 [21, 22, 24, 23, 25, 27, 26]\n",
      "5 [21, 22, 24, 23, 25, 27, 26]\n",
      "6 [21, 22, 24, 23, 25, 26, 27]\n"
     ]
    }
   ],
   "source": [
    "# 버블 정렬의 첫번째 패스 \n",
    "list = [25, 21, 22, 24, 23, 27, 26]\n",
    "lastElementIndex = len(list) - 1\n",
    "print(0, list)\n",
    "for idx in range(lastElementIndex):\n",
    "    if list[idx] > list[idx + 1]:\n",
    "        list[idx], list[idx+1] = list[idx + 1], list[idx]\n",
    "    print(idx + 1, list)"
   ]
  },
  {
   "cell_type": "markdown",
   "metadata": {},
   "source": [
    "### 버블 정렬 성능 분석\n",
    "- 버블 정렬은 두 개의 루프로 구성 \n",
    "1. 외부 루프 : 패스를 의미, 첫 번째 패스는 외부 루프를 1회 실행하는 것과 같음\n",
    "2. 내부 루프 : 패스 내에서 가장 높은 값을 오른쪽으로 이동시킬 때까지 값들을 반복적으로 비교하는 과정, 첫 번째 패스는 N-1번, 두 번째 패스는 N-2번을 반복하는 식 \n",
    "    - 패스 횟수가 올라감에 따라 값을 비교하는 횟수가 하나씩 줄어듬 \n",
    "- 따라서 두 개의 루프가 중첩되어 있기 때문에 최악의 경우 O(N^2) "
   ]
  }
 ],
 "metadata": {
  "kernelspec": {
   "display_name": "Python 3.6.8 ('venv': venv)",
   "language": "python",
   "name": "python3"
  },
  "language_info": {
   "codemirror_mode": {
    "name": "ipython",
    "version": 3
   },
   "file_extension": ".py",
   "mimetype": "text/x-python",
   "name": "python",
   "nbconvert_exporter": "python",
   "pygments_lexer": "ipython3",
   "version": "3.6.8"
  },
  "orig_nbformat": 4,
  "vscode": {
   "interpreter": {
    "hash": "9a10d58684a97c7ef9814f8d1e63a748a9b86fa1df8aba50abb871f223b28850"
   }
  }
 },
 "nbformat": 4,
 "nbformat_minor": 2
}
