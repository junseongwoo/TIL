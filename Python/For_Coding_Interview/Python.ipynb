{
 "cells": [
  {
   "cell_type": "markdown",
   "metadata": {},
   "source": [
    "# 1. List Comprehension\n",
    "- 파이썬은 map, filter와 같은 Functional 기능을 지원 \n",
    "- Lambda Expression도 지원"
   ]
  },
  {
   "cell_type": "code",
   "execution_count": 1,
   "metadata": {},
   "outputs": [
    {
     "data": {
      "text/plain": [
       "[11, 12, 13]"
      ]
     },
     "execution_count": 1,
     "metadata": {},
     "output_type": "execute_result"
    }
   ],
   "source": [
    "list(map(lambda x : x +10, [1,2,3]))"
   ]
  },
  {
   "cell_type": "code",
   "execution_count": 4,
   "metadata": {},
   "outputs": [
    {
     "name": "stdout",
     "output_type": "stream",
     "text": [
      "[2, 6, 10, 14, 18]\n",
      "<class 'list'>\n"
     ]
    }
   ],
   "source": [
    "x = [n * 2 for n in range(1, 11) if n % 2 == 1]\n",
    "print(x)\n",
    "print(type(x))"
   ]
  },
  {
   "cell_type": "code",
   "execution_count": 5,
   "metadata": {},
   "outputs": [
    {
     "name": "stdout",
     "output_type": "stream",
     "text": [
      "[2, 6, 10, 14, 18]\n"
     ]
    }
   ],
   "source": [
    "# 리스트 컴프리헨션을 사용하지 않는 경우\n",
    "a = [] \n",
    "for n in range(1, 11):\n",
    "    if n % 2 == 1:\n",
    "        a.append(n*2)\n",
    "\n",
    "print(a)"
   ]
  },
  {
   "cell_type": "markdown",
   "metadata": {},
   "source": [
    "# 2. Generator \n",
    "- 루프의 반복 동작을 제어할 수 있는 루틴 형태 \n",
    "- yield 구문을 사용하여 제네레이터 리턴 : 실행 중이던 값을 내보냄 \n",
    "    - 중간값을 리턴한 다음, 함수는 종료하지 않고 끝까지 실행\n",
    "- return 구문은 함수의 모든 동작 중지 후 값 리턴"
   ]
  },
  {
   "cell_type": "code",
   "execution_count": 6,
   "metadata": {},
   "outputs": [
    {
     "data": {
      "text/plain": [
       "<generator object get_natural_number at 0x000001CB9FB5A518>"
      ]
     },
     "execution_count": 6,
     "metadata": {},
     "output_type": "execute_result"
    }
   ],
   "source": [
    "def get_natural_number(): \n",
    "    n = 0 \n",
    "    while True:\n",
    "        n += 1\n",
    "        yield n  \n",
    "\n",
    "get_natural_number()"
   ]
  },
  {
   "cell_type": "code",
   "execution_count": 7,
   "metadata": {},
   "outputs": [
    {
     "name": "stdout",
     "output_type": "stream",
     "text": [
      "1\n",
      "2\n",
      "3\n",
      "4\n",
      "5\n",
      "6\n",
      "7\n",
      "8\n",
      "9\n",
      "10\n",
      "11\n",
      "12\n",
      "13\n",
      "14\n",
      "15\n",
      "16\n",
      "17\n",
      "18\n",
      "19\n",
      "20\n",
      "21\n",
      "22\n",
      "23\n",
      "24\n",
      "25\n",
      "26\n",
      "27\n",
      "28\n",
      "29\n",
      "30\n",
      "31\n",
      "32\n",
      "33\n",
      "34\n",
      "35\n",
      "36\n",
      "37\n",
      "38\n",
      "39\n",
      "40\n",
      "41\n",
      "42\n",
      "43\n",
      "44\n",
      "45\n",
      "46\n",
      "47\n",
      "48\n",
      "49\n",
      "50\n",
      "51\n",
      "52\n",
      "53\n",
      "54\n",
      "55\n",
      "56\n",
      "57\n",
      "58\n",
      "59\n",
      "60\n",
      "61\n",
      "62\n",
      "63\n",
      "64\n",
      "65\n",
      "66\n",
      "67\n",
      "68\n",
      "69\n",
      "70\n",
      "71\n",
      "72\n",
      "73\n",
      "74\n",
      "75\n",
      "76\n",
      "77\n",
      "78\n",
      "79\n",
      "80\n",
      "81\n",
      "82\n",
      "83\n",
      "84\n",
      "85\n",
      "86\n",
      "87\n",
      "88\n",
      "89\n",
      "90\n",
      "91\n",
      "92\n",
      "93\n",
      "94\n",
      "95\n",
      "96\n",
      "97\n",
      "98\n",
      "99\n",
      "100\n"
     ]
    }
   ],
   "source": [
    "# 값을 생성하려면 next()로 추출 \n",
    "g = get_natural_number() \n",
    "for _ in range(100):\n",
    "    print(next(g))"
   ]
  },
  {
   "cell_type": "code",
   "execution_count": 8,
   "metadata": {},
   "outputs": [
    {
     "data": {
      "text/plain": [
       "<generator object generator at 0x000001CBA04F2FC0>"
      ]
     },
     "execution_count": 8,
     "metadata": {},
     "output_type": "execute_result"
    }
   ],
   "source": [
    "# 제네레이터는 여러 타입의 값을 하나의 함수에서 생성하는 것도 가능 \n",
    "def generator():\n",
    "    yield 1 \n",
    "    yield 'string'\n",
    "    yield True \n",
    "\n",
    "g = generator() \n",
    "g"
   ]
  },
  {
   "cell_type": "code",
   "execution_count": 9,
   "metadata": {},
   "outputs": [
    {
     "name": "stdout",
     "output_type": "stream",
     "text": [
      "1\n",
      "string\n",
      "True\n"
     ]
    }
   ],
   "source": [
    "print(next(g))\n",
    "print(next(g))\n",
    "print(next(g))"
   ]
  },
  {
   "cell_type": "markdown",
   "metadata": {},
   "source": [
    "# 3. range \n",
    "- 제네레이터의 방식을 활용하는 대표적인 함수로 range()가 있음\n",
    "- range()는 range를 리턴\n",
    "- for문에서 사용할 경우 내부적으로는 제네레이터의 next()를 호출하듯 매번 다음 숫자를 생성 "
   ]
  },
  {
   "cell_type": "code",
   "execution_count": 10,
   "metadata": {},
   "outputs": [
    {
     "data": {
      "text/plain": [
       "[0, 1, 2, 3, 4]"
      ]
     },
     "execution_count": 10,
     "metadata": {},
     "output_type": "execute_result"
    }
   ],
   "source": [
    "list(range(5))"
   ]
  },
  {
   "cell_type": "code",
   "execution_count": 11,
   "metadata": {},
   "outputs": [
    {
     "data": {
      "text/plain": [
       "range(0, 5)"
      ]
     },
     "execution_count": 11,
     "metadata": {},
     "output_type": "execute_result"
    }
   ],
   "source": [
    "range(5)"
   ]
  },
  {
   "cell_type": "code",
   "execution_count": 12,
   "metadata": {},
   "outputs": [
    {
     "data": {
      "text/plain": [
       "range"
      ]
     },
     "execution_count": 12,
     "metadata": {},
     "output_type": "execute_result"
    }
   ],
   "source": [
    "type(range(5))"
   ]
  },
  {
   "cell_type": "code",
   "execution_count": 14,
   "metadata": {},
   "outputs": [
    {
     "name": "stdout",
     "output_type": "stream",
     "text": [
      "0 1 2 3 4 "
     ]
    }
   ],
   "source": [
    "for i in range(5):\n",
    "    print(i, end=\" \")"
   ]
  },
  {
   "cell_type": "code",
   "execution_count": 15,
   "metadata": {},
   "outputs": [
    {
     "name": "stdout",
     "output_type": "stream",
     "text": [
      "10000000\n",
      "10000000\n",
      "True\n"
     ]
    }
   ],
   "source": [
    "a = [n for n in range(10000000)]\n",
    "b = range(10000000)\n",
    "\n",
    "print(len(a))\n",
    "print(len(b))\n",
    "print(len(a) == len(b))"
   ]
  },
  {
   "cell_type": "code",
   "execution_count": 16,
   "metadata": {},
   "outputs": [
    {
     "name": "stdout",
     "output_type": "stream",
     "text": [
      "range(0, 10000000)\n",
      "<class 'range'>\n"
     ]
    }
   ],
   "source": [
    "# a에는 이미 생성된 값이 담겨 있고 \n",
    "# b에는 생성해야 한다는 조건만 존재 \n",
    "print(b)\n",
    "print(type(b))"
   ]
  },
  {
   "cell_type": "code",
   "execution_count": 17,
   "metadata": {},
   "outputs": [
    {
     "name": "stdout",
     "output_type": "stream",
     "text": [
      "81528056\n",
      "48\n"
     ]
    }
   ],
   "source": [
    "import sys  \n",
    "print(sys.getsizeof(a))\n",
    "print(sys.getsizeof(b))"
   ]
  },
  {
   "cell_type": "code",
   "execution_count": 18,
   "metadata": {},
   "outputs": [
    {
     "data": {
      "text/plain": [
       "999"
      ]
     },
     "execution_count": 18,
     "metadata": {},
     "output_type": "execute_result"
    }
   ],
   "source": [
    "# 게다가 b는 값이 생성되지 않았지만 인덱스로 접근 시에는 바로 생성하도록 구현되어 있음 \n",
    "b[999]"
   ]
  },
  {
   "cell_type": "markdown",
   "metadata": {},
   "source": [
    "# 4. enumerate \n",
    "- enumerate()는 열거하다는 뜻의 함수 \n",
    "- 순서가 있는 자료형을 인덱스를 포함한 enumerate 객체로 리턴 "
   ]
  },
  {
   "cell_type": "code",
   "execution_count": 19,
   "metadata": {},
   "outputs": [
    {
     "name": "stdout",
     "output_type": "stream",
     "text": [
      "[1, 2, 3, 2, 45, 2, 5]\n"
     ]
    }
   ],
   "source": [
    "a = [1,2,3,2,45,2,5]\n",
    "print(a)"
   ]
  },
  {
   "cell_type": "code",
   "execution_count": 20,
   "metadata": {},
   "outputs": [
    {
     "data": {
      "text/plain": [
       "<enumerate at 0x1cba0505cf0>"
      ]
     },
     "execution_count": 20,
     "metadata": {},
     "output_type": "execute_result"
    }
   ],
   "source": [
    "enumerate(a)"
   ]
  },
  {
   "cell_type": "code",
   "execution_count": 21,
   "metadata": {},
   "outputs": [
    {
     "data": {
      "text/plain": [
       "[(0, 1), (1, 2), (2, 3), (3, 2), (4, 45), (5, 2), (6, 5)]"
      ]
     },
     "execution_count": 21,
     "metadata": {},
     "output_type": "execute_result"
    }
   ],
   "source": [
    "list(enumerate(a))"
   ]
  },
  {
   "cell_type": "code",
   "execution_count": 23,
   "metadata": {},
   "outputs": [
    {
     "name": "stdout",
     "output_type": "stream",
     "text": [
      "0 1\n",
      "1 2\n",
      "2 3\n",
      "3 2\n",
      "4 45\n",
      "5 2\n",
      "6 5\n"
     ]
    }
   ],
   "source": [
    "for index, value in enumerate(a):\n",
    "    print(index, value)"
   ]
  },
  {
   "cell_type": "markdown",
   "metadata": {},
   "source": [
    "# 5. // (몫) 연산자\n",
    "- 정수형을 나눗셈할 때 동일한 정수형을 결과로 리턴하면서 내림 연산자의 역할을 함 \n",
    "- 몫을 구하는 연산자 "
   ]
  },
  {
   "cell_type": "code",
   "execution_count": 24,
   "metadata": {},
   "outputs": [
    {
     "name": "stdout",
     "output_type": "stream",
     "text": [
      "1.6666666666666667\n",
      "<class 'float'>\n",
      "1\n",
      "<class 'int'>\n",
      "1\n",
      "<class 'int'>\n"
     ]
    }
   ],
   "source": [
    "print(5/3)\n",
    "print(type(5/3))\n",
    "print(5//3)\n",
    "print(type(5//3))\n",
    "print(int(5/3))\n",
    "print(type(int(5/3)))"
   ]
  },
  {
   "cell_type": "markdown",
   "metadata": {},
   "source": [
    "### % (나머지) 연산자"
   ]
  },
  {
   "cell_type": "code",
   "execution_count": 25,
   "metadata": {},
   "outputs": [
    {
     "name": "stdout",
     "output_type": "stream",
     "text": [
      "2\n"
     ]
    }
   ],
   "source": [
    "print(5%3)"
   ]
  },
  {
   "cell_type": "code",
   "execution_count": 26,
   "metadata": {},
   "outputs": [
    {
     "data": {
      "text/plain": [
       "(1, 2)"
      ]
     },
     "execution_count": 26,
     "metadata": {},
     "output_type": "execute_result"
    }
   ],
   "source": [
    "# 몫과 나머지를 한 번에 구할 때 \n",
    "divmod(5, 3)"
   ]
  },
  {
   "cell_type": "markdown",
   "metadata": {},
   "source": [
    "# 6. print\n",
    "- 디버깅 때 유용"
   ]
  },
  {
   "cell_type": "code",
   "execution_count": 27,
   "metadata": {},
   "outputs": [
    {
     "name": "stdout",
     "output_type": "stream",
     "text": [
      "A B\n"
     ]
    }
   ],
   "source": [
    "print('A', 'B')"
   ]
  },
  {
   "cell_type": "code",
   "execution_count": 28,
   "metadata": {},
   "outputs": [
    {
     "name": "stdout",
     "output_type": "stream",
     "text": [
      "A,B\n"
     ]
    }
   ],
   "source": [
    "print('A', 'B', sep=',')"
   ]
  },
  {
   "cell_type": "code",
   "execution_count": 29,
   "metadata": {},
   "outputs": [
    {
     "name": "stdout",
     "output_type": "stream",
     "text": [
      "aa bb\n"
     ]
    }
   ],
   "source": [
    "print('aa', end = ' ')\n",
    "print('bb')"
   ]
  },
  {
   "cell_type": "code",
   "execution_count": 32,
   "metadata": {},
   "outputs": [
    {
     "name": "stdout",
     "output_type": "stream",
     "text": [
      "A B\n"
     ]
    }
   ],
   "source": [
    "a = ['A', 'B'] \n",
    "print(' '.join(a))"
   ]
  },
  {
   "cell_type": "code",
   "execution_count": 34,
   "metadata": {},
   "outputs": [
    {
     "name": "stdout",
     "output_type": "stream",
     "text": [
      "1: Apple\n",
      "1: Apple\n"
     ]
    }
   ],
   "source": [
    "idx = 1 \n",
    "fruit = 'Apple' \n",
    "\n",
    "print('{0}: {1}'.format(idx, fruit))\n",
    "print('{}: {}'.format(idx, fruit))"
   ]
  },
  {
   "cell_type": "code",
   "execution_count": 35,
   "metadata": {},
   "outputs": [
    {
     "name": "stdout",
     "output_type": "stream",
     "text": [
      "1: Apple\n"
     ]
    }
   ],
   "source": [
    "# fstirng \n",
    "print(f'{idx}: {fruit}')"
   ]
  },
  {
   "cell_type": "markdown",
   "metadata": {},
   "source": [
    "# 7. pass\n",
    "- pass는 null 연산으로 아무것도 하지 않는 기능 "
   ]
  },
  {
   "cell_type": "code",
   "execution_count": 38,
   "metadata": {},
   "outputs": [
    {
     "name": "stdout",
     "output_type": "stream",
     "text": [
      "Method B\n"
     ]
    }
   ],
   "source": [
    "class MyClass(object):\n",
    "    def method_a(self):\n",
    "        pass\n",
    "\n",
    "    def method_b(self):\n",
    "        print(\"Method B\")\n",
    "    \n",
    "c = MyClass() \n",
    "c.method_b()"
   ]
  },
  {
   "cell_type": "markdown",
   "metadata": {},
   "source": [
    "# 8. locals\n",
    "- locals()는 로컬 심볼 테이블 딕셔너리를 가져오는 메소드 "
   ]
  },
  {
   "cell_type": "code",
   "execution_count": 39,
   "metadata": {},
   "outputs": [
    {
     "name": "stdout",
     "output_type": "stream",
     "text": [
      "{'In': ['',\n",
      "        'list(map(lambda x : x +10, [1,2,3]))',\n",
      "        '[n * 2 for n in range(1, 10 + 1) if n % 2 == 1]',\n",
      "        '[n * 2 for n in range(1, 11) if n % 2 == 1]',\n",
      "        'x = [n * 2 for n in range(1, 11) if n % 2 == 1]\\n'\n",
      "        'print(x)\\n'\n",
      "        'print(type(x))',\n",
      "        '# 리스트 컴프리헨션을 사용하지 않는 경우\\n'\n",
      "        'a = [] \\n'\n",
      "        'for n in range(1, 11):\\n'\n",
      "        '    if n % 2 == 1:\\n'\n",
      "        '        a.append(n*2)\\n'\n",
      "        '\\n'\n",
      "        'print(a)',\n",
      "        'def get_natural_number(): \\n'\n",
      "        '    n = 0 \\n'\n",
      "        '    while True:\\n'\n",
      "        '        n += 1\\n'\n",
      "        '        yield n  \\n'\n",
      "        '\\n'\n",
      "        'get_natural_number()',\n",
      "        '# 값을 생성하려면 next()로 추출 \\n'\n",
      "        'g = get_natural_number() \\n'\n",
      "        'for _ in range(100):\\n'\n",
      "        '    print(next(g))',\n",
      "        '# 제네레이터는 여러 타입의 값을 하나의 함수에서 생성하는 것도 가능 \\n'\n",
      "        'def generator():\\n'\n",
      "        '    yield 1 \\n'\n",
      "        \"    yield 'string'\\n\"\n",
      "        '    yield True \\n'\n",
      "        '\\n'\n",
      "        'g = generator() \\n'\n",
      "        'g',\n",
      "        'print(next(g))\\nprint(next(g))\\nprint(next(g))',\n",
      "        'list(range(5))',\n",
      "        'range(5)',\n",
      "        'type(range(5))',\n",
      "        'for i in range(5):\\n    print(i, end=\"\")',\n",
      "        'for i in range(5):\\n    print(i, end=\" \")',\n",
      "        'a = [n for n in range(10000000)]\\n'\n",
      "        'b = range(10000000)\\n'\n",
      "        '\\n'\n",
      "        'print(len(a))\\n'\n",
      "        'print(len(b))\\n'\n",
      "        'print(len(a) == len(b))',\n",
      "        '# a에는 이미 생성된 값이 담겨 있고 \\n'\n",
      "        '# b에는 생성해야 한다는 조건만 존재 \\n'\n",
      "        'print(b)\\n'\n",
      "        'print(type(b))',\n",
      "        'import sys  \\nprint(sys.getsizeof(a))\\nprint(sys.getsizeof(b))',\n",
      "        '# 게다가 b는 값이 생성되지 않았지만 인덱스로 접근 시에는 바로 생성하도록 구현되어 있음 \\nb[999]',\n",
      "        'a = [1,2,3,2,45,2,5]\\nprint(a)',\n",
      "        'enumerate(a)',\n",
      "        'list(enumerate(a))',\n",
      "        'for index, value in enumerate(a):\\n    print(i, v)',\n",
      "        'for index, value in enumerate(a):\\n    print(index, value)',\n",
      "        'print(5/3)\\n'\n",
      "        'print(type(5/3))\\n'\n",
      "        'print(5//3)\\n'\n",
      "        'print(type(5//3))\\n'\n",
      "        'print(int(5/3))\\n'\n",
      "        'print(type(int(5/3)))',\n",
      "        'print(5%3)',\n",
      "        '# 몫과 나머지를 한 번에 구할 때 \\ndivmod(5, 3)',\n",
      "        \"print('A', 'B')\",\n",
      "        \"print('A', 'B', sep=',')\",\n",
      "        \"print('aa', end = ' ')\\nprint('bb')\",\n",
      "        \"a = ['A', 'B'] \\nprint(''.join(a))\",\n",
      "        \"a = ['A', 'B'] \\nprint(' |'.join(a))\",\n",
      "        \"a = ['A', 'B'] \\nprint(' '.join(a))\",\n",
      "        \"idx = 1 \\nfruit = 'Apple' \\n\\nprint('{0}: {1}'.format(idx, fruit))\",\n",
      "        'idx = 1 \\n'\n",
      "        \"fruit = 'Apple' \\n\"\n",
      "        '\\n'\n",
      "        \"print('{0}: {1}'.format(idx, fruit))\\n\"\n",
      "        \"print('{}: {}'.format(idx, fruit))\",\n",
      "        \"# fstirng \\nprint(f'{idx}: {fruit}')\",\n",
      "        'class MyClass(object):\\n'\n",
      "        '    def method_a(self):\\n'\n",
      "        '        pass\\n'\n",
      "        '\\n'\n",
      "        '    def method_b(self):\\n'\n",
      "        '        print(\"Method B\")\\n'\n",
      "        '    \\n'\n",
      "        'c = MyClass() ',\n",
      "        'class MyClass(object):\\n'\n",
      "        '    def method_a(self):\\n'\n",
      "        '        pass\\n'\n",
      "        '\\n'\n",
      "        '    def method_b(self):\\n'\n",
      "        '        print(\"Method B\")\\n'\n",
      "        '    \\n'\n",
      "        'c = MyClass() \\n'\n",
      "        'c.method_b',\n",
      "        'class MyClass(object):\\n'\n",
      "        '    def method_a(self):\\n'\n",
      "        '        pass\\n'\n",
      "        '\\n'\n",
      "        '    def method_b(self):\\n'\n",
      "        '        print(\"Method B\")\\n'\n",
      "        '    \\n'\n",
      "        'c = MyClass() \\n'\n",
      "        'c.method_b()',\n",
      "        'import pprint \\npprint.pprint(locals())'],\n",
      " 'MyClass': <class '__main__.MyClass'>,\n",
      " 'Out': {1: [11, 12, 13],\n",
      "         2: [2, 6, 10, 14, 18],\n",
      "         3: [2, 6, 10, 14, 18],\n",
      "         6: <generator object get_natural_number at 0x000001CB9FB5A518>,\n",
      "         8: <generator object generator at 0x000001CBA04F2FC0>,\n",
      "         10: [0, 1, 2, 3, 4],\n",
      "         11: range(0, 5),\n",
      "         12: <class 'range'>,\n",
      "         18: 999,\n",
      "         20: <enumerate object at 0x000001CBA0505CF0>,\n",
      "         21: [(0, 1), (1, 2), (2, 3), (3, 2), (4, 45), (5, 2), (6, 5)],\n",
      "         26: (1, 2),\n",
      "         37: <bound method MyClass.method_b of <__main__.MyClass object at 0x000001CBA0580048>>},\n",
      " '_': 99,\n",
      " '_1': [11, 12, 13],\n",
      " '_10': [0, 1, 2, 3, 4],\n",
      " '_11': range(0, 5),\n",
      " '_12': <class 'range'>,\n",
      " '_18': 999,\n",
      " '_2': [2, 6, 10, 14, 18],\n",
      " '_20': <enumerate object at 0x000001CBA0505CF0>,\n",
      " '_21': [(0, 1), (1, 2), (2, 3), (3, 2), (4, 45), (5, 2), (6, 5)],\n",
      " '_26': (1, 2),\n",
      " '_3': [2, 6, 10, 14, 18],\n",
      " '_37': <bound method MyClass.method_b of <__main__.MyClass object at 0x000001CBA0580048>>,\n",
      " '_6': <generator object get_natural_number at 0x000001CB9FB5A518>,\n",
      " '_8': <generator object generator at 0x000001CBA04F2FC0>,\n",
      " '__': [2, 6, 10, 14, 18],\n",
      " '___': [2, 6, 10, 14, 18],\n",
      " '__builtin__': <module 'builtins' (built-in)>,\n",
      " '__builtins__': <module 'builtins' (built-in)>,\n",
      " '__doc__': 'Automatically created module for IPython interactive environment',\n",
      " '__loader__': None,\n",
      " '__name__': '__main__',\n",
      " '__package__': None,\n",
      " '__spec__': None,\n",
      " '__vsc_ipynb_file__': 'c:\\\\Users\\\\jswoo\\\\Desktop\\\\Repository\\\\Study_Python\\\\For_Coding_Interview\\\\Python.ipynb',\n",
      " '_dh': ['c:\\\\Users\\\\jswoo\\\\Desktop\\\\Repository\\\\Study_Python\\\\For_Coding_Interview'],\n",
      " '_i': 'class MyClass(object):\\n'\n",
      "       '    def method_a(self):\\n'\n",
      "       '        pass\\n'\n",
      "       '\\n'\n",
      "       '    def method_b(self):\\n'\n",
      "       '        print(\"Method B\")\\n'\n",
      "       '    \\n'\n",
      "       'c = MyClass() \\n'\n",
      "       'c.method_b()',\n",
      " '_i1': 'list(map(lambda x : x +10, [1,2,3]))',\n",
      " '_i10': 'list(range(5))',\n",
      " '_i11': 'range(5)',\n",
      " '_i12': 'type(range(5))',\n",
      " '_i13': 'for i in range(5):\\n    print(i, end=\"\")',\n",
      " '_i14': 'for i in range(5):\\n    print(i, end=\" \")',\n",
      " '_i15': 'a = [n for n in range(10000000)]\\n'\n",
      "         'b = range(10000000)\\n'\n",
      "         '\\n'\n",
      "         'print(len(a))\\n'\n",
      "         'print(len(b))\\n'\n",
      "         'print(len(a) == len(b))',\n",
      " '_i16': '# a에는 이미 생성된 값이 담겨 있고 \\n'\n",
      "         '# b에는 생성해야 한다는 조건만 존재 \\n'\n",
      "         'print(b)\\n'\n",
      "         'print(type(b))',\n",
      " '_i17': 'import sys  \\nprint(sys.getsizeof(a))\\nprint(sys.getsizeof(b))',\n",
      " '_i18': '# 게다가 b는 값이 생성되지 않았지만 인덱스로 접근 시에는 바로 생성하도록 구현되어 있음 \\nb[999]',\n",
      " '_i19': 'a = [1,2,3,2,45,2,5]\\nprint(a)',\n",
      " '_i2': '[n * 2 for n in range(1, 10 + 1) if n % 2 == 1]',\n",
      " '_i20': 'enumerate(a)',\n",
      " '_i21': 'list(enumerate(a))',\n",
      " '_i22': 'for index, value in enumerate(a):\\n    print(i, v)',\n",
      " '_i23': 'for index, value in enumerate(a):\\n    print(index, value)',\n",
      " '_i24': 'print(5/3)\\n'\n",
      "         'print(type(5/3))\\n'\n",
      "         'print(5//3)\\n'\n",
      "         'print(type(5//3))\\n'\n",
      "         'print(int(5/3))\\n'\n",
      "         'print(type(int(5/3)))',\n",
      " '_i25': 'print(5%3)',\n",
      " '_i26': '# 몫과 나머지를 한 번에 구할 때 \\ndivmod(5, 3)',\n",
      " '_i27': \"print('A', 'B')\",\n",
      " '_i28': \"print('A', 'B', sep=',')\",\n",
      " '_i29': \"print('aa', end = ' ')\\nprint('bb')\",\n",
      " '_i3': '[n * 2 for n in range(1, 11) if n % 2 == 1]',\n",
      " '_i30': \"a = ['A', 'B'] \\nprint(''.join(a))\",\n",
      " '_i31': \"a = ['A', 'B'] \\nprint(' |'.join(a))\",\n",
      " '_i32': \"a = ['A', 'B'] \\nprint(' '.join(a))\",\n",
      " '_i33': \"idx = 1 \\nfruit = 'Apple' \\n\\nprint('{0}: {1}'.format(idx, fruit))\",\n",
      " '_i34': 'idx = 1 \\n'\n",
      "         \"fruit = 'Apple' \\n\"\n",
      "         '\\n'\n",
      "         \"print('{0}: {1}'.format(idx, fruit))\\n\"\n",
      "         \"print('{}: {}'.format(idx, fruit))\",\n",
      " '_i35': \"# fstirng \\nprint(f'{idx}: {fruit}')\",\n",
      " '_i36': 'class MyClass(object):\\n'\n",
      "         '    def method_a(self):\\n'\n",
      "         '        pass\\n'\n",
      "         '\\n'\n",
      "         '    def method_b(self):\\n'\n",
      "         '        print(\"Method B\")\\n'\n",
      "         '    \\n'\n",
      "         'c = MyClass() ',\n",
      " '_i37': 'class MyClass(object):\\n'\n",
      "         '    def method_a(self):\\n'\n",
      "         '        pass\\n'\n",
      "         '\\n'\n",
      "         '    def method_b(self):\\n'\n",
      "         '        print(\"Method B\")\\n'\n",
      "         '    \\n'\n",
      "         'c = MyClass() \\n'\n",
      "         'c.method_b',\n",
      " '_i38': 'class MyClass(object):\\n'\n",
      "         '    def method_a(self):\\n'\n",
      "         '        pass\\n'\n",
      "         '\\n'\n",
      "         '    def method_b(self):\\n'\n",
      "         '        print(\"Method B\")\\n'\n",
      "         '    \\n'\n",
      "         'c = MyClass() \\n'\n",
      "         'c.method_b()',\n",
      " '_i39': 'import pprint \\npprint.pprint(locals())',\n",
      " '_i4': 'x = [n * 2 for n in range(1, 11) if n % 2 == 1]\\n'\n",
      "        'print(x)\\n'\n",
      "        'print(type(x))',\n",
      " '_i5': '# 리스트 컴프리헨션을 사용하지 않는 경우\\n'\n",
      "        'a = [] \\n'\n",
      "        'for n in range(1, 11):\\n'\n",
      "        '    if n % 2 == 1:\\n'\n",
      "        '        a.append(n*2)\\n'\n",
      "        '\\n'\n",
      "        'print(a)',\n",
      " '_i6': 'def get_natural_number(): \\n'\n",
      "        '    n = 0 \\n'\n",
      "        '    while True:\\n'\n",
      "        '        n += 1\\n'\n",
      "        '        yield n  \\n'\n",
      "        '\\n'\n",
      "        'get_natural_number()',\n",
      " '_i7': '# 값을 생성하려면 next()로 추출 \\n'\n",
      "        'g = get_natural_number() \\n'\n",
      "        'for _ in range(100):\\n'\n",
      "        '    print(next(g))',\n",
      " '_i8': '# 제네레이터는 여러 타입의 값을 하나의 함수에서 생성하는 것도 가능 \\n'\n",
      "        'def generator():\\n'\n",
      "        '    yield 1 \\n'\n",
      "        \"    yield 'string'\\n\"\n",
      "        '    yield True \\n'\n",
      "        '\\n'\n",
      "        'g = generator() \\n'\n",
      "        'g',\n",
      " '_i9': 'print(next(g))\\nprint(next(g))\\nprint(next(g))',\n",
      " '_ih': ['',\n",
      "         'list(map(lambda x : x +10, [1,2,3]))',\n",
      "         '[n * 2 for n in range(1, 10 + 1) if n % 2 == 1]',\n",
      "         '[n * 2 for n in range(1, 11) if n % 2 == 1]',\n",
      "         'x = [n * 2 for n in range(1, 11) if n % 2 == 1]\\n'\n",
      "         'print(x)\\n'\n",
      "         'print(type(x))',\n",
      "         '# 리스트 컴프리헨션을 사용하지 않는 경우\\n'\n",
      "         'a = [] \\n'\n",
      "         'for n in range(1, 11):\\n'\n",
      "         '    if n % 2 == 1:\\n'\n",
      "         '        a.append(n*2)\\n'\n",
      "         '\\n'\n",
      "         'print(a)',\n",
      "         'def get_natural_number(): \\n'\n",
      "         '    n = 0 \\n'\n",
      "         '    while True:\\n'\n",
      "         '        n += 1\\n'\n",
      "         '        yield n  \\n'\n",
      "         '\\n'\n",
      "         'get_natural_number()',\n",
      "         '# 값을 생성하려면 next()로 추출 \\n'\n",
      "         'g = get_natural_number() \\n'\n",
      "         'for _ in range(100):\\n'\n",
      "         '    print(next(g))',\n",
      "         '# 제네레이터는 여러 타입의 값을 하나의 함수에서 생성하는 것도 가능 \\n'\n",
      "         'def generator():\\n'\n",
      "         '    yield 1 \\n'\n",
      "         \"    yield 'string'\\n\"\n",
      "         '    yield True \\n'\n",
      "         '\\n'\n",
      "         'g = generator() \\n'\n",
      "         'g',\n",
      "         'print(next(g))\\nprint(next(g))\\nprint(next(g))',\n",
      "         'list(range(5))',\n",
      "         'range(5)',\n",
      "         'type(range(5))',\n",
      "         'for i in range(5):\\n    print(i, end=\"\")',\n",
      "         'for i in range(5):\\n    print(i, end=\" \")',\n",
      "         'a = [n for n in range(10000000)]\\n'\n",
      "         'b = range(10000000)\\n'\n",
      "         '\\n'\n",
      "         'print(len(a))\\n'\n",
      "         'print(len(b))\\n'\n",
      "         'print(len(a) == len(b))',\n",
      "         '# a에는 이미 생성된 값이 담겨 있고 \\n'\n",
      "         '# b에는 생성해야 한다는 조건만 존재 \\n'\n",
      "         'print(b)\\n'\n",
      "         'print(type(b))',\n",
      "         'import sys  \\nprint(sys.getsizeof(a))\\nprint(sys.getsizeof(b))',\n",
      "         '# 게다가 b는 값이 생성되지 않았지만 인덱스로 접근 시에는 바로 생성하도록 구현되어 있음 \\nb[999]',\n",
      "         'a = [1,2,3,2,45,2,5]\\nprint(a)',\n",
      "         'enumerate(a)',\n",
      "         'list(enumerate(a))',\n",
      "         'for index, value in enumerate(a):\\n    print(i, v)',\n",
      "         'for index, value in enumerate(a):\\n    print(index, value)',\n",
      "         'print(5/3)\\n'\n",
      "         'print(type(5/3))\\n'\n",
      "         'print(5//3)\\n'\n",
      "         'print(type(5//3))\\n'\n",
      "         'print(int(5/3))\\n'\n",
      "         'print(type(int(5/3)))',\n",
      "         'print(5%3)',\n",
      "         '# 몫과 나머지를 한 번에 구할 때 \\ndivmod(5, 3)',\n",
      "         \"print('A', 'B')\",\n",
      "         \"print('A', 'B', sep=',')\",\n",
      "         \"print('aa', end = ' ')\\nprint('bb')\",\n",
      "         \"a = ['A', 'B'] \\nprint(''.join(a))\",\n",
      "         \"a = ['A', 'B'] \\nprint(' |'.join(a))\",\n",
      "         \"a = ['A', 'B'] \\nprint(' '.join(a))\",\n",
      "         \"idx = 1 \\nfruit = 'Apple' \\n\\nprint('{0}: {1}'.format(idx, fruit))\",\n",
      "         'idx = 1 \\n'\n",
      "         \"fruit = 'Apple' \\n\"\n",
      "         '\\n'\n",
      "         \"print('{0}: {1}'.format(idx, fruit))\\n\"\n",
      "         \"print('{}: {}'.format(idx, fruit))\",\n",
      "         \"# fstirng \\nprint(f'{idx}: {fruit}')\",\n",
      "         'class MyClass(object):\\n'\n",
      "         '    def method_a(self):\\n'\n",
      "         '        pass\\n'\n",
      "         '\\n'\n",
      "         '    def method_b(self):\\n'\n",
      "         '        print(\"Method B\")\\n'\n",
      "         '    \\n'\n",
      "         'c = MyClass() ',\n",
      "         'class MyClass(object):\\n'\n",
      "         '    def method_a(self):\\n'\n",
      "         '        pass\\n'\n",
      "         '\\n'\n",
      "         '    def method_b(self):\\n'\n",
      "         '        print(\"Method B\")\\n'\n",
      "         '    \\n'\n",
      "         'c = MyClass() \\n'\n",
      "         'c.method_b',\n",
      "         'class MyClass(object):\\n'\n",
      "         '    def method_a(self):\\n'\n",
      "         '        pass\\n'\n",
      "         '\\n'\n",
      "         '    def method_b(self):\\n'\n",
      "         '        print(\"Method B\")\\n'\n",
      "         '    \\n'\n",
      "         'c = MyClass() \\n'\n",
      "         'c.method_b()',\n",
      "         'import pprint \\npprint.pprint(locals())'],\n",
      " '_ii': 'class MyClass(object):\\n'\n",
      "        '    def method_a(self):\\n'\n",
      "        '        pass\\n'\n",
      "        '\\n'\n",
      "        '    def method_b(self):\\n'\n",
      "        '        print(\"Method B\")\\n'\n",
      "        '    \\n'\n",
      "        'c = MyClass() \\n'\n",
      "        'c.method_b',\n",
      " '_iii': 'class MyClass(object):\\n'\n",
      "         '    def method_a(self):\\n'\n",
      "         '        pass\\n'\n",
      "         '\\n'\n",
      "         '    def method_b(self):\\n'\n",
      "         '        print(\"Method B\")\\n'\n",
      "         '    \\n'\n",
      "         'c = MyClass() ',\n",
      " '_oh': {1: [11, 12, 13],\n",
      "         2: [2, 6, 10, 14, 18],\n",
      "         3: [2, 6, 10, 14, 18],\n",
      "         6: <generator object get_natural_number at 0x000001CB9FB5A518>,\n",
      "         8: <generator object generator at 0x000001CBA04F2FC0>,\n",
      "         10: [0, 1, 2, 3, 4],\n",
      "         11: range(0, 5),\n",
      "         12: <class 'range'>,\n",
      "         18: 999,\n",
      "         20: <enumerate object at 0x000001CBA0505CF0>,\n",
      "         21: [(0, 1), (1, 2), (2, 3), (3, 2), (4, 45), (5, 2), (6, 5)],\n",
      "         26: (1, 2),\n",
      "         37: <bound method MyClass.method_b of <__main__.MyClass object at 0x000001CBA0580048>>},\n",
      " 'a': ['A', 'B'],\n",
      " 'b': range(0, 10000000),\n",
      " 'c': <__main__.MyClass object at 0x000001CBA0580668>,\n",
      " 'exit': <IPython.core.autocall.ZMQExitAutocall object at 0x000001CB9FB0D128>,\n",
      " 'fruit': 'Apple',\n",
      " 'g': <generator object generator at 0x000001CBA04F2FC0>,\n",
      " 'generator': <function generator at 0x000001CBA050C048>,\n",
      " 'get_ipython': <bound method InteractiveShell.get_ipython of <ipykernel.zmqshell.ZMQInteractiveShell object at 0x000001CB9FAE75C0>>,\n",
      " 'get_natural_number': <function get_natural_number at 0x000001CB9FB27F28>,\n",
      " 'i': 4,\n",
      " 'idx': 1,\n",
      " 'index': 6,\n",
      " 'n': 10,\n",
      " 'os': <module 'os' from 'C:\\\\Users\\\\jswoo\\\\AppData\\\\Local\\\\Programs\\\\Python\\\\Python36\\\\lib\\\\os.py'>,\n",
      " 'pprint': <module 'pprint' from 'C:\\\\Users\\\\jswoo\\\\AppData\\\\Local\\\\Programs\\\\Python\\\\Python36\\\\lib\\\\pprint.py'>,\n",
      " 'quit': <IPython.core.autocall.ZMQExitAutocall object at 0x000001CB9FB0D128>,\n",
      " 'sys': <module 'sys' (built-in)>,\n",
      " 'value': 5,\n",
      " 'x': [2, 6, 10, 14, 18]}\n"
     ]
    }
   ],
   "source": [
    "import pprint \n",
    "pprint.pprint(locals())"
   ]
  },
  {
   "cell_type": "code",
   "execution_count": null,
   "metadata": {},
   "outputs": [],
   "source": []
  }
 ],
 "metadata": {
  "kernelspec": {
   "display_name": "Python 3.6.8 ('venv': venv)",
   "language": "python",
   "name": "python3"
  },
  "language_info": {
   "codemirror_mode": {
    "name": "ipython",
    "version": 3
   },
   "file_extension": ".py",
   "mimetype": "text/x-python",
   "name": "python",
   "nbconvert_exporter": "python",
   "pygments_lexer": "ipython3",
   "version": "3.6.8"
  },
  "orig_nbformat": 4,
  "vscode": {
   "interpreter": {
    "hash": "9a10d58684a97c7ef9814f8d1e63a748a9b86fa1df8aba50abb871f223b28850"
   }
  }
 },
 "nbformat": 4,
 "nbformat_minor": 2
}
