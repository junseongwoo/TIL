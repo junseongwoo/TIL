{
 "cells": [
  {
   "cell_type": "markdown",
   "metadata": {},
   "source": [
    "## 서울이 가장 더웠던 날은 언제였을까?\n",
    "1. 가장 더웠던 날에 대한 기준 확립\n",
    "    - '서울의 최고 기온이 가장 높았던 날'로 질문을 수정\n",
    "\n",
    "2. 문제 해결 방법 구상\n",
    "    - CSV 파일에 저장된 서울의 기온 데이터를 읽어옴 \n",
    "    - 필요한 데이터 선택 : '날짜', '최고기온'\n",
    "    - 순서대로 읽고 가장 높았던 날짜의 데이터를 저장\n",
    "    - 최종 저장된 데이터 출력"
   ]
  },
  {
   "cell_type": "code",
   "execution_count": 3,
   "metadata": {},
   "outputs": [
    {
     "name": "stdout",
     "output_type": "stream",
     "text": [
      "2018-08-01\n",
      "39.6\n"
     ]
    },
    {
     "data": {
      "text/plain": [
       "<function TextIOWrapper.close()>"
      ]
     },
     "execution_count": 3,
     "metadata": {},
     "output_type": "execute_result"
    }
   ],
   "source": [
    "## 최고 기온 및 날짜 \n",
    "import csv\n",
    "\n",
    "max_temp = -999\n",
    "max_date = ''\n",
    "\n",
    "path = '../Data_Analysis_for_Everyone/data/seoul.csv'\n",
    "f = open(path, mode= 'r', encoding='cp949')\n",
    "\n",
    "data = csv.reader(f)\n",
    "\n",
    "header = next(data)\n",
    "\n",
    "for row in data : \n",
    "    if row[-1] == '' : \n",
    "        row[-1] = -999\n",
    "\n",
    "    row[-1] = float(row[-1])\n",
    "\n",
    "    if row[-1] > max_temp : \n",
    "        max_temp = row[-1]\n",
    "        max_date = row[0]\n",
    "\n",
    "print(max_date)\n",
    "print(max_temp)\n",
    "\n",
    "f.close"
   ]
  },
  {
   "cell_type": "code",
   "execution_count": 4,
   "metadata": {},
   "outputs": [
    {
     "name": "stdout",
     "output_type": "stream",
     "text": [
      "['2017-10-12', '108', '11.4', '8.8', '']\n"
     ]
    },
    {
     "data": {
      "text/plain": [
       "<function TextIOWrapper.close()>"
      ]
     },
     "execution_count": 4,
     "metadata": {},
     "output_type": "execute_result"
    }
   ],
   "source": [
    "path = '../Data_Analysis_for_Everyone/data/seoul.csv'\n",
    "f = open(path)\n",
    "\n",
    "data = csv.reader(f)\n",
    "\n",
    "for x in data  :\n",
    "    #if x[-2] == '' and x[-1] == '' : \n",
    "        # print(x)\n",
    "\n",
    "    #if x[-2] == '' and x[-1] != '' : \n",
    "        #print(x)\n",
    "\n",
    "    if x[-2] != '' and x[-1] == '' : \n",
    "        print(x)\n",
    "f.close"
   ]
  },
  {
   "cell_type": "code",
   "execution_count": 5,
   "metadata": {},
   "outputs": [
    {
     "name": "stdout",
     "output_type": "stream",
     "text": [
      "1927-12-31\n",
      "-23.1\n"
     ]
    },
    {
     "data": {
      "text/plain": [
       "<function TextIOWrapper.close()>"
      ]
     },
     "execution_count": 5,
     "metadata": {},
     "output_type": "execute_result"
    }
   ],
   "source": [
    "# 1. 서울 최저기온의 날짜와 온도를 구하기 \n",
    "import csv\n",
    "\n",
    "min_temp = 100\n",
    "min_date = ''\n",
    "\n",
    "path = '../Data_Analysis_for_Everyone/data/seoul.csv'\n",
    "f = open(path)\n",
    "\n",
    "data = csv.reader(f)\n",
    "\n",
    "header = next(data)\n",
    "\n",
    "for row in data : \n",
    "    if row[-2] == '' : \n",
    "        row[-2] = 100\n",
    "\n",
    "    row[-2] = float(row[-2])\n",
    "\n",
    "    if row[-2] < min_temp : \n",
    "        min_temp = row[-2]\n",
    "        min_date = row[0]\n",
    "\n",
    "print(min_date)\n",
    "print(min_temp)\n",
    "\n",
    "f.close"
   ]
  },
  {
   "cell_type": "code",
   "execution_count": 10,
   "metadata": {},
   "outputs": [
    {
     "name": "stdout",
     "output_type": "stream",
     "text": [
      "일교차가 가장 큰 날짜 : 1942-04-19\n",
      "일교차가 가장 큰 기온 : 21.8\n",
      "일교차가 가장 큰 날짜의 최고 기온 : 24.3\n",
      "일교차가 가장 큰 날짜의 최저 기온 : 2.5\n"
     ]
    },
    {
     "data": {
      "text/plain": [
       "<function TextIOWrapper.close()>"
      ]
     },
     "execution_count": 10,
     "metadata": {},
     "output_type": "execute_result"
    }
   ],
   "source": [
    "# 2. 서울의 일교차 가장 큰 날짜와 기온 구하기 (최고, 최저기온)\n",
    "import csv \n",
    "\n",
    "max_temp = 0 \n",
    "min_temp = 0\n",
    "sub_temp = -100\n",
    "sub_date = ''\n",
    "sub = 0\n",
    "\n",
    "path = '../Data_Analysis_for_Everyone/data/seoul.csv'\n",
    "f = open(path)\n",
    "\n",
    "data = csv.reader(f)\n",
    "\n",
    "next(data)\n",
    "\n",
    "for row in data : \n",
    "    if row[-1] == '' or row[-2] == '' : \n",
    "        continue\n",
    "\n",
    "    sub = float(row[-1]) - float(row[-2])\n",
    "    if sub_temp < sub : \n",
    "        sub_temp = sub\n",
    "        sub_date = row[0] \n",
    "        max_temp = row[-1]\n",
    "        min_temp = row[-2]\n",
    "\n",
    "print(f\"일교차가 가장 큰 날짜 : {sub_date}\")\n",
    "print(f\"일교차가 가장 큰 기온 : {sub_temp}\")\n",
    "print(f\"일교차가 가장 큰 날짜의 최고 기온 : {max_temp}\")\n",
    "print(f\"일교차가 가장 큰 날짜의 최저 기온 : {min_temp}\")\n",
    "\n",
    "f.close"
   ]
  },
  {
   "cell_type": "code",
   "execution_count": null,
   "metadata": {},
   "outputs": [],
   "source": []
  }
 ],
 "metadata": {
  "interpreter": {
   "hash": "efddc2e8d2dadd0ba13ae7128c02d630b24f1fdb7d9bd6bad5a6da54781ea1ce"
  },
  "kernelspec": {
   "display_name": "Python 3.6.8 ('venv': venv)",
   "language": "python",
   "name": "python3"
  },
  "language_info": {
   "codemirror_mode": {
    "name": "ipython",
    "version": 3
   },
   "file_extension": ".py",
   "mimetype": "text/x-python",
   "name": "python",
   "nbconvert_exporter": "python",
   "pygments_lexer": "ipython3",
   "version": "3.6.8"
  },
  "orig_nbformat": 4
 },
 "nbformat": 4,
 "nbformat_minor": 2
}
