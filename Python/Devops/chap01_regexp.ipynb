{
 "cells": [
  {
   "cell_type": "markdown",
   "metadata": {},
   "source": [
    "### 정규 표현식 사용 \n",
    "- 문자열의 패턴 매칭이 필요한 상황은 자주 발생 \n",
    "    - 로그 파일의 식별자 찾기\n",
    "    - 사용자의 입력에서 키워드 체크\n",
    "- 정규 표현식은 문자열을 사용해 검색 패턴을 정의 \n",
    "- 파이썬의 re 패키지는 Perl과 유사한 정규식 연산을 제공\n",
    "- re 모듈은 \\ 를 사용해 매칭에 사용되는 특수 문자 기술 \n",
    "- 이스케이프 시퀀스와의 혼동을 방지하기 위해 정규 표현식을 사용할 때 원시 문자열을 사용하는게 좋음\n",
    "- 원시 문자열이란 첫 번째 따옴표 앞에 'r'이 붙는다."
   ]
  },
  {
   "cell_type": "markdown",
   "metadata": {},
   "source": [
    "### 검색\n",
    "- 텍스트로 된 이메일의 참조 리스트가 있는데 이 리스트에 누가 있는지 알고 싶다고 가정 "
   ]
  },
  {
   "cell_type": "code",
   "execution_count": 1,
   "metadata": {},
   "outputs": [],
   "source": [
    "cc_list = '''\n",
    "Ezra Koenig <ekoenig@vpwk.com>,\n",
    "Rostam Batmanglij <rostam@vpwk.com>,\n",
    "Chris Tomson <comson@vpwk.com>,\n",
    "Bobbi Baio <bbaio@vpwk.com>\n",
    "'''"
   ]
  },
  {
   "cell_type": "code",
   "execution_count": 2,
   "metadata": {},
   "outputs": [
    {
     "data": {
      "text/plain": [
       "True"
      ]
     },
     "execution_count": 2,
     "metadata": {},
     "output_type": "execute_result"
    }
   ],
   "source": [
    "# 리스트에 특정 이름이 있는지 알고 싶다면 in 시퀀스 멤버십 구문을 사용\n",
    "'Rostam' in cc_list"
   ]
  },
  {
   "cell_type": "code",
   "execution_count": 3,
   "metadata": {},
   "outputs": [
    {
     "data": {
      "text/plain": [
       "<_sre.SRE_Match object; span=(33, 39), match='Rostam'>"
      ]
     },
     "execution_count": 3,
     "metadata": {},
     "output_type": "execute_result"
    }
   ],
   "source": [
    "# 일치하는 항목이 있을 경우에만 re.Match 객체를 반환해주는 re.search 함수 사용\n",
    "import re\n",
    "\n",
    "re.search(r'Rostam', cc_list)"
   ]
  },
  {
   "cell_type": "code",
   "execution_count": 4,
   "metadata": {},
   "outputs": [
    {
     "name": "stdout",
     "output_type": "stream",
     "text": [
      "Found Rostam\n"
     ]
    }
   ],
   "source": [
    "# 특정 항목이 존재하는지 확인하기 위한 조건으로 사용할 수 있음 \n",
    "if re.search(r'Rostam', cc_list):\n",
    "    print('Found Rostam')"
   ]
  },
  {
   "cell_type": "markdown",
   "metadata": {},
   "source": [
    "### 캐릭터 세트 \n",
    "- 정규 표현식을 사용하면 문자 그룹을 사용할 수 있으며 1개라도 나타날 수 있음 \n",
    "- 이를 캐릭터 세트 (character set)라 한다. \n",
    "- 선택적으로 일치할 수 있는 문자는 정규 표현식의 정의에서 대괄호로 묶어서 나타냄 "
   ]
  },
  {
   "cell_type": "code",
   "execution_count": 7,
   "metadata": {},
   "outputs": [
    {
     "data": {
      "text/plain": [
       "<_sre.SRE_Match object; span=(102, 107), match='Bobbi'>"
      ]
     },
     "execution_count": 7,
     "metadata": {},
     "output_type": "execute_result"
    }
   ],
   "source": [
    "# B 또는 R로 시작하면서 obb가 이어지고 i 혹은 y로 |끝나는 이름을 찾는 것\n",
    "re.search(r'[RB]obb[i,y]', cc_list)"
   ]
  },
  {
   "cell_type": "code",
   "execution_count": 9,
   "metadata": {},
   "outputs": [
    {
     "data": {
      "text/plain": [
       "<_sre.SRE_Match object; span=(70, 75), match='Chris'>"
      ]
     },
     "execution_count": 9,
     "metadata": {},
     "output_type": "execute_result"
    }
   ],
   "source": [
    "# 콤마로 구분된 개별 문자를 입력하거나 범위를 사용할 수 도 있음 \n",
    "# A-Z는 대문자 모두를 포함, 0-9는 0~9까지의 모든 숫자 포함 \n",
    "re.search(r'Chr[a-z][a-z]', cc_list)"
   ]
  },
  {
   "cell_type": "code",
   "execution_count": 10,
   "metadata": {},
   "outputs": [
    {
     "data": {
      "text/plain": [
       "<_sre.SRE_Match object; span=(1, 5), match='Ezra'>"
      ]
     },
     "execution_count": 10,
     "metadata": {},
     "output_type": "execute_result"
    }
   ],
   "source": [
    "# 정규 표현식에서 어떤 항목 뒤에 있는 +는 해당 하목이 한 번 이상 나타나는 것을 찾아줌\n",
    "re.search(r'[A-Za-z]+', cc_list)"
   ]
  },
  {
   "cell_type": "code",
   "execution_count": 11,
   "metadata": {},
   "outputs": [
    {
     "data": {
      "text/plain": [
       "<_sre.SRE_Match object; span=(6, 12), match='Koenig'>"
      ]
     },
     "execution_count": 11,
     "metadata": {},
     "output_type": "execute_result"
    }
   ],
   "source": [
    "# 대괄호 안의 숫자는 문자의 개수가 정확히 일치하는 것을 찾음 \n",
    "re.search(r'[A-Za-z]{6}', cc_list)"
   ]
  },
  {
   "cell_type": "code",
   "execution_count": 12,
   "metadata": {},
   "outputs": [
    {
     "data": {
      "text/plain": [
       "<_sre.SRE_Match object; span=(14, 30), match='ekoenig@vpwk.com'>"
      ]
     },
     "execution_count": 12,
     "metadata": {},
     "output_type": "execute_result"
    }
   ],
   "source": [
    "# '.' 문자는 어떤 문자와도 매칭할 수 있는 와일드카드\n",
    "# 실제 '.' 문자와 일치하는 것을 찾으려면 백슬래시를 사용해 이스케이프 처리를 해야함 \n",
    "re.search(r'[A-Za-z]+@[a-z]+\\.[a-z]+', cc_list)"
   ]
  },
  {
   "cell_type": "markdown",
   "metadata": {},
   "source": [
    "### 캐릭터 클래스\n",
    "- 일반적으로 사용되는 것은 \\w로 이는 [a-zA-Z0-9_]에 해당 \n",
    "- \\d는 [0-9]dp goekd \n",
    "- 다중 문자의 일치는 +를 사용해 처리"
   ]
  },
  {
   "cell_type": "code",
   "execution_count": 13,
   "metadata": {},
   "outputs": [
    {
     "data": {
      "text/plain": [
       "<_sre.SRE_Match object; span=(1, 5), match='Ezra'>"
      ]
     },
     "execution_count": 13,
     "metadata": {},
     "output_type": "execute_result"
    }
   ],
   "source": [
    "re.search(r'\\w+', cc_list)"
   ]
  },
  {
   "cell_type": "code",
   "execution_count": 14,
   "metadata": {},
   "outputs": [
    {
     "data": {
      "text/plain": [
       "<_sre.SRE_Match object; span=(14, 30), match='ekoenig@vpwk.com'>"
      ]
     },
     "execution_count": 14,
     "metadata": {},
     "output_type": "execute_result"
    }
   ],
   "source": [
    "# 기본적인 이메일 처리 \n",
    "re.search(r'\\w+@\\w+\\.\\w+', cc_list)"
   ]
  },
  {
   "cell_type": "markdown",
   "metadata": {},
   "source": [
    "### 그룹\n",
    "- 괄호를 사용해 일치한 대상에서 그룹을 정의 가능 \n",
    "- 그룹은 일치한 객체에서 접근할 수 있는데, 나타난 순서대로 번호가 매겨짐\n",
    "- 0 그룹은 전체 일치를 의미"
   ]
  },
  {
   "cell_type": "code",
   "execution_count": 15,
   "metadata": {},
   "outputs": [
    {
     "data": {
      "text/plain": [
       "<_sre.SRE_Match object; span=(14, 30), match='ekoenig@vpwk.com'>"
      ]
     },
     "execution_count": 15,
     "metadata": {},
     "output_type": "execute_result"
    }
   ],
   "source": [
    "re.search(r'(\\w+)\\@(\\w+)\\.(\\w+)', cc_list)"
   ]
  },
  {
   "cell_type": "code",
   "execution_count": 16,
   "metadata": {},
   "outputs": [
    {
     "data": {
      "text/plain": [
       "'ekoenig@vpwk.com'"
      ]
     },
     "execution_count": 16,
     "metadata": {},
     "output_type": "execute_result"
    }
   ],
   "source": [
    "matched = re.search(r'(\\w+)\\@(\\w+)\\.(\\w+)', cc_list)\n",
    "matched.group(0)"
   ]
  },
  {
   "cell_type": "code",
   "execution_count": 18,
   "metadata": {},
   "outputs": [
    {
     "name": "stdout",
     "output_type": "stream",
     "text": [
      "ekoenig\n",
      "vpwk\n",
      "com\n"
     ]
    }
   ],
   "source": [
    "print(matched.group(1))\n",
    "print(matched.group(2))\n",
    "print(matched.group(3))\n"
   ]
  },
  {
   "cell_type": "markdown",
   "metadata": {},
   "source": [
    "### 네임드 그룹\n",
    "- 그룹 정의에 ?P<NAME>을 추가해 해당 그룹에 이름을 부여할 수 있다.\n",
    "- 이후부터는 번호 대신에 이름을 통해 그룹에 접근 가능"
   ]
  },
  {
   "cell_type": "code",
   "execution_count": 22,
   "metadata": {},
   "outputs": [
    {
     "name": "stdout",
     "output_type": "stream",
     "text": [
      "ekoenig\n",
      "vpwk\n",
      "com\n",
      "\n",
      "name : ekoenig,\n",
      "Secondary Level Domain : vpwk,\n",
      "Top Level Domain : com\n",
      "\n"
     ]
    }
   ],
   "source": [
    "matched = re.search(r'(?P<name>\\w+)\\@(?P<SLD>\\w+)\\.(?P<TLD>\\w+)', cc_list)\n",
    "print(matched.group('name'))\n",
    "print(matched.group('SLD'))\n",
    "print(matched.group('TLD'))\n",
    "print(f'''\n",
    "name : {matched.group('name')},\n",
    "Secondary Level Domain : {matched.group('SLD')},\n",
    "Top Level Domain : {matched.group('TLD')}\n",
    "''')"
   ]
  },
  {
   "cell_type": "markdown",
   "metadata": {},
   "source": [
    "### 모두 찾기 \n",
    "- findall을 사용하면 일치하는 모든 항목을 문자열 리스트로 받을 수 있음"
   ]
  },
  {
   "cell_type": "code",
   "execution_count": 26,
   "metadata": {},
   "outputs": [
    {
     "name": "stdout",
     "output_type": "stream",
     "text": [
      "['ekoenig@vpwk.com', 'rostam@vpwk.com', 'comson@vpwk.com', 'bbaio@vpwk.com']\n",
      "[('ekoenig', 'vpwk', 'com'), ('rostam', 'vpwk', 'com'), ('comson', 'vpwk', 'com'), ('bbaio', 'vpwk', 'com')]\n",
      "['ekoenig', 'rostam', 'comson', 'bbaio']\n"
     ]
    }
   ],
   "source": [
    "matched = re.findall(r'\\w+\\@\\w+\\.\\w+', cc_list)\n",
    "print(matched) \n",
    "\n",
    "matched = re.findall(r'(\\w+)\\@(\\w+)\\.(\\w+)', cc_list)\n",
    "print(matched)\n",
    "\n",
    "names = [x[0] for x in matched] \n",
    "print(names) "
   ]
  },
  {
   "cell_type": "markdown",
   "metadata": {},
   "source": [
    "### 찾기 반복자\n",
    "- finditer 메서드를 사용해 반복자 (iterator) 객체 생성\n",
    "- 반복자 객체는 텍스트를 처리하다가 일치하는 항목을 찾으면 멈춤 \n",
    "- 현재 찾은 내용을 next 함수를 통해 반환하고 다음 일치하는 항목을 찾을 때까지 이어서 처리 \n",
    "- 모든 입력을 한 번에 처리하느라 리소스를 쏟지 않고도 일치하는 항목을 1개씩 찾을 수 있음 "
   ]
  },
  {
   "cell_type": "code",
   "execution_count": 31,
   "metadata": {},
   "outputs": [
    {
     "name": "stdout",
     "output_type": "stream",
     "text": [
      "<callable_iterator object at 0x0000024FEBF4D668>\n",
      "<_sre.SRE_Match object; span=(14, 30), match='ekoenig@vpwk.com'>\n",
      "<_sre.SRE_Match object; span=(52, 67), match='rostam@vpwk.com'>\n",
      "<_sre.SRE_Match object; span=(84, 99), match='comson@vpwk.com'>\n"
     ]
    }
   ],
   "source": [
    "matched = re.finditer(r'\\w+\\@\\w+\\.\\w+', cc_list)\n",
    "print(matched)\n",
    "print(next(matched))\n",
    "print(next(matched))\n",
    "print(next(matched))"
   ]
  },
  {
   "cell_type": "code",
   "execution_count": 36,
   "metadata": {},
   "outputs": [
    {
     "name": "stdout",
     "output_type": "stream",
     "text": [
      "{'name': 'ekoenig', 'SLD': 'vpwk', 'TLD': 'com'}\n",
      "{'name': 'rostam', 'SLD': 'vpwk', 'TLD': 'com'}\n",
      "{'name': 'comson', 'SLD': 'vpwk', 'TLD': 'com'}\n",
      "{'name': 'bbaio', 'SLD': 'vpwk', 'TLD': 'com'}\n"
     ]
    }
   ],
   "source": [
    "matched = re.finditer(r'(?P<name>\\w+)\\@(?P<SLD>\\w+)\\.(?P<TLD>\\w+)', cc_list)\n",
    "for m in matched : \n",
    "    print(m.groupdict())"
   ]
  },
  {
   "cell_type": "markdown",
   "metadata": {},
   "source": [
    "### 치환 \n",
    "- 정규 표현식을 사용하면 검색과 매칭 이외에도 문자열의 일부 또는 전체를 치환 가능 "
   ]
  },
  {
   "cell_type": "code",
   "execution_count": 39,
   "metadata": {},
   "outputs": [
    {
     "name": "stdout",
     "output_type": "stream",
     "text": [
      "The passcode you entered was #####\n"
     ]
    }
   ],
   "source": [
    "print(re.sub(\"\\d\", \"#\", \"The passcode you entered was 09876\"))"
   ]
  },
  {
   "cell_type": "code",
   "execution_count": 41,
   "metadata": {},
   "outputs": [
    {
     "name": "stdout",
     "output_type": "stream",
     "text": [
      "\n",
      "Ezra Koenig <com.vpwk.ekoenig>,\n",
      "Rostam Batmanglij <com.vpwk.rostam>,\n",
      "Chris Tomson <com.vpwk.comson>,\n",
      "Bobbi Baio <com.vpwk.bbaio>\n",
      "\n"
     ]
    }
   ],
   "source": [
    "users = re.sub(\"(?P<name>\\w+)\\@(?P<SLD>\\w+)\\.(?P<TLD>\\w+)\", \n",
    "                \"\\g<TLD>.\\g<SLD>.\\g<name>\", cc_list)\n",
    "print(users)"
   ]
  },
  {
   "cell_type": "markdown",
   "metadata": {},
   "source": [
    "### 컴파일러\n",
    "- 동일한 일치 항목이 많이 발생하는 경우에는 정규 표현식을 하나의 객체로 컴파일해 성능상의 이점 얻음\n",
    "- 이 객체는 재컴파일 없이 재사용 가능"
   ]
  },
  {
   "cell_type": "code",
   "execution_count": 43,
   "metadata": {},
   "outputs": [
    {
     "data": {
      "text/plain": [
       "<_sre.SRE_Match object; span=(14, 30), match='ekoenig@vpwk.com'>"
      ]
     },
     "execution_count": 43,
     "metadata": {},
     "output_type": "execute_result"
    }
   ],
   "source": [
    "regex = re.compile(r'\\w+\\@\\w+\\.\\w+')\n",
    "regex.search(cc_list)"
   ]
  },
  {
   "cell_type": "markdown",
   "metadata": {},
   "source": [
    "### 지연 평가\n",
    "- 지연 평가 (lazy evaluation)는 대량의 데이터를 다룰 때 사용 \n",
    "- 결과를 사용하기 전에 모든 데이터를 처리하지 않고자 하는 것 \n",
    "\n",
    "### 제네레이터 \n",
    "- range 객체와 유사한 방식으로 generator를 사용 가능 \n",
    "- 요청에 따라 데이터 통째로 연산을 수행\n",
    "- 제네레이터는 호출 사이에서 자신의 상태를 일시 정지 시킴 \n",
    "- 이는 출력을 계산하는데 필요한 변수를 저장할 수 있고 변수들은 호출할 때마다 접근이 이뤄지는 것을 의미\n",
    "- 제네레이터 함수를 작성하기 위해서는 return 구문보다 yield 키워드를 사용 \n",
    "- 매번 제네레이터가 호출되면 yield에서 지정한 값을 반환하고 호출이 있을 때까지 자신의 상태를 정지시킴"
   ]
  },
  {
   "cell_type": "code",
   "execution_count": 1,
   "metadata": {},
   "outputs": [
    {
     "name": "stdout",
     "output_type": "stream",
     "text": [
      "<generator object count at 0x000001D911D506D0>\n",
      "1\n",
      "2\n",
      "3\n"
     ]
    }
   ],
   "source": [
    "def count() : \n",
    "    n = 0\n",
    "    while True : \n",
    "        n += 1\n",
    "        yield n\n",
    "\n",
    "counter = count() \n",
    "print(counter)\n",
    "print(next(counter))\n",
    "print(next(counter))\n",
    "print(next(counter))"
   ]
  },
  {
   "cell_type": "code",
   "execution_count": 5,
   "metadata": {},
   "outputs": [
    {
     "name": "stdout",
     "output_type": "stream",
     "text": [
      "1\n",
      "1\n",
      "2\n",
      "3\n",
      "5\n",
      "8\n",
      "13\n"
     ]
    }
   ],
   "source": [
    "# 피보나치 제네레이터 구현 \n",
    "def fib() :\n",
    "    first = 0 \n",
    "    last = 1 \n",
    "    while True : \n",
    "        first, last = last, first + last \n",
    "        yield first \n",
    "\n",
    "f = fib() \n",
    "print(next(f))\n",
    "print(next(f))\n",
    "print(next(f))\n",
    "print(next(f))\n",
    "\n",
    "for x in f : \n",
    "    print(x)\n",
    "    if x > 12 : \n",
    "        break"
   ]
  },
  {
   "cell_type": "markdown",
   "metadata": {},
   "source": [
    "### 제네레이터 내포\n",
    "- 내포를 사용해 한 줄 제네레이터를 만들 수 있음 \n",
    "- 리스트 내포와 유사한 문법으로 만들지만 대괄호 대신 괄호를 사용"
   ]
  },
  {
   "cell_type": "code",
   "execution_count": 6,
   "metadata": {},
   "outputs": [
    {
     "name": "stdout",
     "output_type": "stream",
     "text": [
      "[0, 1, 2, 3, 4, 5, 6, 7, 8, 9, 10, 11, 12, 13, 14, 15, 16, 17, 18, 19, 20, 21, 22, 23, 24, 25, 26, 27, 28, 29, 30, 31, 32, 33, 34, 35, 36, 37, 38, 39, 40, 41, 42, 43, 44, 45, 46, 47, 48, 49, 50, 51, 52, 53, 54, 55, 56, 57, 58, 59, 60, 61, 62, 63, 64, 65, 66, 67, 68, 69, 70, 71, 72, 73, 74, 75, 76, 77, 78, 79, 80, 81, 82, 83, 84, 85, 86, 87, 88, 89, 90, 91, 92, 93, 94, 95, 96, 97, 98, 99]\n",
      "<generator object <genexpr> at 0x000001D911D50B48>\n"
     ]
    }
   ],
   "source": [
    "list_o_nums = [x for x in range(100)]\n",
    "gen_o_nuks = (x for x in range(100))\n",
    "print(list_o_nums)\n",
    "print(gen_o_nuks)"
   ]
  },
  {
   "cell_type": "code",
   "execution_count": 8,
   "metadata": {},
   "outputs": [
    {
     "name": "stdout",
     "output_type": "stream",
     "text": [
      "912\n",
      "88\n"
     ]
    }
   ],
   "source": [
    "# 객체의 크기를 바이트로 반환해주는 sys.getsizeof 메소드 \n",
    "import sys\n",
    "print(sys.getsizeof(list_o_nums))\n",
    "print(sys.getsizeof(gen_o_nuks))"
   ]
  },
  {
   "cell_type": "code",
   "execution_count": null,
   "metadata": {},
   "outputs": [],
   "source": []
  }
 ],
 "metadata": {
  "interpreter": {
   "hash": "4459356141ce19d7e64a5c15cd50d19a86f80eba2907a16b31fb063ee3e30237"
  },
  "kernelspec": {
   "display_name": "Python 3.6.8 ('devops_venv': venv)",
   "language": "python",
   "name": "python3"
  },
  "language_info": {
   "codemirror_mode": {
    "name": "ipython",
    "version": 3
   },
   "file_extension": ".py",
   "mimetype": "text/x-python",
   "name": "python",
   "nbconvert_exporter": "python",
   "pygments_lexer": "ipython3",
   "version": "3.6.8"
  },
  "orig_nbformat": 4
 },
 "nbformat": 4,
 "nbformat_minor": 2
}
