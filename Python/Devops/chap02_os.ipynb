{
 "cells": [
  {
   "cell_type": "markdown",
   "metadata": {},
   "source": [
    "# OS 모듈 \n",
    "- 상당 수의 로우 레벨 OS 시스템 콜을 처리 \n",
    "- 여러 OS에서 일관된 인터페이스를 제공 "
   ]
  },
  {
   "cell_type": "code",
   "execution_count": 1,
   "metadata": {},
   "outputs": [
    {
     "data": {
      "text/plain": [
       "['book.txt',\n",
       " 'book2.txt',\n",
       " 'Chap01.py',\n",
       " 'chap01_regexp.ipynb',\n",
       " 'Chap02_file.py',\n",
       " 'chap02_os.ipynb',\n",
       " 'Chap02_textSearch.py']"
      ]
     },
     "execution_count": 1,
     "metadata": {},
     "output_type": "execute_result"
    }
   ],
   "source": [
    "import os \n",
    "\n",
    "# 현재 디렉토리에 있는 파일 리스트 출력 \n",
    "os.listdir('.')"
   ]
  },
  {
   "cell_type": "code",
   "execution_count": 2,
   "metadata": {},
   "outputs": [],
   "source": [
    "os.rename('_os_test', 'os_test')"
   ]
  },
  {
   "cell_type": "code",
   "execution_count": 3,
   "metadata": {},
   "outputs": [],
   "source": [
    "# 파일 또는 디렉터리 권한 설정 변경\n",
    "os.chmod('my_os_test.py', 0o777)"
   ]
  },
  {
   "cell_type": "code",
   "execution_count": null,
   "metadata": {},
   "outputs": [],
   "source": [
    "# 디렉터리 생성\n",
    "os.mkdir('/Devops/make_dirs_test')\n",
    "os.mkdir('/Devops/make_dirs_test/test2')\n",
    "os.mkdir('/Devops/make_dirs_test/test2/test3')"
   ]
  },
  {
   "cell_type": "code",
   "execution_count": 10,
   "metadata": {},
   "outputs": [],
   "source": [
    "# 재귀적으로 디렉터리 경로 생성\n",
    "#os.makedirs('/Users/jswoo/Desktop/Repository/Study_Python/Devops/make_dirs_test')\n",
    "#os.makedirs('/Users/jswoo/Desktop/Repository/Study_Python/Devops/make_dirs_test/test2')\n",
    "os.makedirs('/Users/jswoo/Desktop/Repository/Study_Python/Devops/make_dirs_test/test2/test3')\n"
   ]
  },
  {
   "cell_type": "code",
   "execution_count": 8,
   "metadata": {},
   "outputs": [],
   "source": [
    "# 파일 삭제 \n",
    "os.remove('my_os_test.py')"
   ]
  },
  {
   "cell_type": "code",
   "execution_count": 19,
   "metadata": {},
   "outputs": [],
   "source": [
    "# 단일 디렉터리 삭제\n",
    "#os.rmdir('/Users/jswoo/Desktop/Repository/Study_Python/Devops/make_dirs_test/test2/test3')\n",
    "#os.rmdir('/Users/jswoo/Desktop/Repository/Study_Python/Devops/make_dirs_test/test2')\n",
    "os.rmdir('/Users/jswoo/Desktop/Repository/Study_Python/Devops/make_dirs_test')"
   ]
  },
  {
   "cell_type": "code",
   "execution_count": null,
   "metadata": {},
   "outputs": [],
   "source": [
    "# 최하위 경로에서부터 시작해 디렉터리 트리 삭제 - 비어 있지 않은 디렉터리가 나타나면 멈춤\n",
    "os.removedirs('') "
   ]
  },
  {
   "cell_type": "code",
   "execution_count": 21,
   "metadata": {},
   "outputs": [
    {
     "data": {
      "text/plain": [
       "os.stat_result(st_mode=33206, st_ino=3377699720813198, st_dev=2154043917, st_nlink=1, st_uid=0, st_gid=0, st_size=62, st_atime=1651450407, st_mtime=1651450407, st_ctime=1651450407)"
      ]
     },
     "execution_count": 21,
     "metadata": {},
     "output_type": "execute_result"
    }
   ],
   "source": [
    "# 파일 또는 디렉터리의 상탯값 구하기\n",
    "# st_mode : 파일 타입과 권한 \n",
    "# st_atime : 마지막으로 접급한 시간\n",
    "os.stat('Chap01.py')"
   ]
  },
  {
   "cell_type": "markdown",
   "metadata": {},
   "source": [
    "### os.path를 활용한 파일 및 디렉터리 관리\n",
    "- os.path 모듈은 문자열로 경로를 생성하고 다루는 데 필요한 경로 관련 메서드를 제공 \n",
    "- 현재 OS 기반으로 정보를 해석"
   ]
  },
  {
   "cell_type": "code",
   "execution_count": 33,
   "metadata": {},
   "outputs": [
    {
     "data": {
      "text/plain": [
       "'c:\\\\Users\\\\jswoo\\\\Desktop\\\\Repository\\\\Study_Python\\\\Devops'"
      ]
     },
     "execution_count": 33,
     "metadata": {},
     "output_type": "execute_result"
    }
   ],
   "source": [
    "# 현재 작업 중인 디렉터리 구하기\n",
    "cur_dir = os.getcwd()\n",
    "cur_dir"
   ]
  },
  {
   "cell_type": "code",
   "execution_count": 25,
   "metadata": {},
   "outputs": [
    {
     "name": "stdout",
     "output_type": "stream",
     "text": [
      "c:\\Users\\jswoo\\Desktop\\Repository\\Study_Python\n",
      "Devops\n"
     ]
    }
   ],
   "source": [
    "# 최하위 경로와 상위 경로 나누기 \n",
    "split_cur_dir = os.path.split(cur_dir)\n",
    "print(split_cur_dir[0])\n",
    "print(split_cur_dir[1])"
   ]
  },
  {
   "cell_type": "code",
   "execution_count": 26,
   "metadata": {},
   "outputs": [
    {
     "data": {
      "text/plain": [
       "'c:\\\\Users\\\\jswoo\\\\Desktop\\\\Repository\\\\Study_Python'"
      ]
     },
     "execution_count": 26,
     "metadata": {},
     "output_type": "execute_result"
    }
   ],
   "source": [
    "# 상위 경로 반환 \n",
    "os.path.dirname(cur_dir)"
   ]
  },
  {
   "cell_type": "code",
   "execution_count": 27,
   "metadata": {},
   "outputs": [
    {
     "data": {
      "text/plain": [
       "'Devops'"
      ]
     },
     "execution_count": 27,
     "metadata": {},
     "output_type": "execute_result"
    }
   ],
   "source": [
    "# 최하위 경로 반환\n",
    "os.path.basename(cur_dir)"
   ]
  },
  {
   "cell_type": "code",
   "execution_count": 37,
   "metadata": {},
   "outputs": [
    {
     "name": "stdout",
     "output_type": "stream",
     "text": [
      "c:\\Users\\jswoo\\Desktop\\Repository\n",
      "c:\\Users\\jswoo\\Desktop\n",
      "c:\\Users\\jswoo\n",
      "c:\\Users\n",
      "c:\\\n"
     ]
    }
   ],
   "source": [
    "# os.path.dirname()을 사용하여 디렉터리 트리 올라가기\n",
    "while os.path.dirname(cur_dir):\n",
    "    cur_dir = os.path.dirname(cur_dir)\n",
    "    print(cur_dir)\n",
    "    if cur_dir == 'c:\\\\':\n",
    "        break"
   ]
  },
  {
   "cell_type": "code",
   "execution_count": 4,
   "metadata": {},
   "outputs": [],
   "source": [
    "# .jpg 파일을 찾는 메서드 \n",
    "def find_jpg(jpg_name = '.jpg'):\n",
    "    # Env 변수 확인 / 경로 구성\n",
    "    var_name = \"/Users/jswoo/Desktop/Repository/Study_Python/Devops\"\n",
    "    if var_name in os.environ : # 해당 환경 변수가 존재하는지 확인\n",
    "        var_path = os.path.join(f\"${var_name}\", jpg_name)  # join을 사용해 %var_name/.jpg 와 같은 형태가 되도록 경로 구성\n",
    "        config_path = os.path.expandvars(var_path) # 경로에 해당 값이 포함되도록 환경 변수 확장\n",
    "        print(f\"Checking {config_path}\")\n",
    "        if os.path.exists(config_path): # 파일 존재 여부 확인\n",
    "            return config_path\n",
    "\n",
    "    # 현재 작업 중인 디렉터리 확인\n",
    "    config_path = os.path.join(os.getcwd(), jpg_name) # 현재 작업 중인 디렉터리를 활용해 경로 구성 \n",
    "    print(f\"Checking {config_path}\")\n",
    "    if os.path.exists(config_path):\n",
    "        return config_path \n",
    "\n",
    "    # 사용자 홈 디렉터리 확인\n",
    "    home_dir = os.path.expanduser(\"~/\") # 사용자의 홈 디렉터리 경로 구하기\n",
    "    config_path = os.path.join(home_dir, jpg_name)\n",
    "    print(f\"Checking {config_path}\")\n",
    "    if os.path.exists(config_path):\n",
    "        return config_path \n",
    "\n",
    "    # 이 파일의 디렉터리 확인\n",
    "    file_path = os.path.abspath(__file__) # file에 저장되어 있는 상대 경로를 절대 경로로 확장\n",
    "    parent_path = os.path.dirname(file_path) # 사용해 현재 파일이 위치한 디렉터리 경로 구하기\n",
    "    config_path = os.path.join(file_path, jpg_name)\n",
    "    print(f\"Checking {config_path}\")\n",
    "    if os.path.exists(config_path):\n",
    "        return config_path \n",
    "\n",
    "    print(f\"File{jpg_name} has not been found\")"
   ]
  },
  {
   "cell_type": "code",
   "execution_count": null,
   "metadata": {},
   "outputs": [],
   "source": []
  }
 ],
 "metadata": {
  "kernelspec": {
   "display_name": "Python 3.6.8 ('venv': venv)",
   "language": "python",
   "name": "python3"
  },
  "language_info": {
   "codemirror_mode": {
    "name": "ipython",
    "version": 3
   },
   "file_extension": ".py",
   "mimetype": "text/x-python",
   "name": "python",
   "nbconvert_exporter": "python",
   "pygments_lexer": "ipython3",
   "version": "3.6.8"
  },
  "orig_nbformat": 4,
  "vscode": {
   "interpreter": {
    "hash": "9a10d58684a97c7ef9814f8d1e63a748a9b86fa1df8aba50abb871f223b28850"
   }
  }
 },
 "nbformat": 4,
 "nbformat_minor": 2
}
